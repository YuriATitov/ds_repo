{
 "cells": [
  {
   "cell_type": "markdown",
   "metadata": {
    "id": "bEqyY7GNakiV"
   },
   "source": [
    "# Занятие 4"
   ]
  },
  {
   "cell_type": "code",
   "execution_count": 1,
   "metadata": {
    "id": "zkyuEwIuai6q"
   },
   "outputs": [],
   "source": [
    "import pandas as pd\n",
    "import numpy as np\n",
    "import matplotlib.pyplot as plt\n",
    "import random\n",
    "import scipy.stats as sts\n",
    "%matplotlib inline\n",
    "\n",
    "import warnings\n",
    "warnings.filterwarnings('ignore')"
   ]
  },
  {
   "cell_type": "markdown",
   "metadata": {},
   "source": [
    "### Можно задать своё дискретное распределение\n",
    "Для этого нужно задать множество значений и соответсвующих вероятностей"
   ]
  },
  {
   "cell_type": "code",
   "execution_count": 2,
   "metadata": {},
   "outputs": [
    {
     "data": {
      "text/plain": [
       "array([ 5, 12, 12, 12, 12,  5, 12,  5,  5,  5])"
      ]
     },
     "execution_count": 2,
     "metadata": {},
     "output_type": "execute_result"
    }
   ],
   "source": [
    "elements = np.array([1,5,12])\n",
    "probabilities = [0.2, 0.45, 0.35]\n",
    "\n",
    "np.random.choice(elements, 10, p=probabilities)"
   ]
  },
  {
   "cell_type": "code",
   "execution_count": 3,
   "metadata": {},
   "outputs": [
    {
     "data": {
      "text/plain": [
       "array([(2, 4), (2, 4), (2, 4), (2, 4), (2, 4), (2, 4), {'sing': 'plus'},\n",
       "       'a', (2, 4), {'sing': 'plus'}], dtype=object)"
      ]
     },
     "execution_count": 3,
     "metadata": {},
     "output_type": "execute_result"
    }
   ],
   "source": [
    "a = {\"sing\":\"plus\"}\n",
    "elements = [\"a\", (2,4), a]\n",
    "probabilities = [0.2, 0.45, 0.35]\n",
    "\n",
    "np.random.choice(elements, 10, p=probabilities)"
   ]
  },
  {
   "cell_type": "markdown",
   "metadata": {},
   "source": [
    "## События  \n",
    "### Вложенность  A&subseteq;B\n",
    "событие A вложено в событие B  "
   ]
  },
  {
   "cell_type": "code",
   "execution_count": 4,
   "metadata": {},
   "outputs": [
    {
     "name": "stdout",
     "output_type": "stream",
     "text": [
      "\"B=\"[3 0 6 0 0 7 7 6 4 8]\n",
      "\"A=\"[6 5 3 6 6]\n"
     ]
    }
   ],
   "source": [
    "B = np.random.choice(range(10), 10)\n",
    "print(f'\"B=\"{B}')\n",
    "A = np.random.choice(range(3,7), 5)\n",
    "print(f'\"A=\"{A}')"
   ]
  },
  {
   "cell_type": "markdown",
   "metadata": {},
   "source": [
    "### Сумма и произведение событий\n",
    "AB – произведение\n",
    "\n",
    "A + B – сумма"
   ]
  },
  {
   "cell_type": "code",
   "execution_count": 5,
   "metadata": {},
   "outputs": [
    {
     "name": "stdout",
     "output_type": "stream",
     "text": [
      "\"A=\"[19 23 14  7  7 13 20 21 14  5 18 11 20 26 17]\n",
      "\"B=\"[2 4 7 9 5 9 6 2 3 8]\n",
      "\"Сумма AB\"[19, 23, 14, 7, 7, 13, 20, 21, 14, 5, 18, 11, 20, 26, 17, 2, 4, 7, 9, 5, 9, 6, 2, 3, 8]\n",
      "\"Произведение AB\"[7, 7, 5, 7, 5]\n"
     ]
    }
   ],
   "source": [
    "A = np.random.choice(range(4,27), 15)\n",
    "print(f'\"A=\"{A}')\n",
    "B = np.random.choice(range(10), 10)\n",
    "print(f'\"B=\"{B}')\n",
    "\n",
    "print(f'\"Сумма AB\"{A.tolist() + B.tolist()}')\n",
    "print(f'\"Произведение AB\"{[a for a in A if a in B] + [b for b in B if b in A]}')\n"
   ]
  },
  {
   "cell_type": "markdown",
   "metadata": {},
   "source": [
    "## Дополнение\n",
    "B \\ A – происходит событие B, но не происходит событие A"
   ]
  },
  {
   "cell_type": "code",
   "execution_count": 6,
   "metadata": {},
   "outputs": [
    {
     "name": "stdout",
     "output_type": "stream",
     "text": [
      "\"Дополнение AB\"[2, 4, 9, 9, 6, 2, 3, 8]\n"
     ]
    }
   ],
   "source": [
    "print(f'\"Дополнение AB\"{[b for b in B if b not in A]}')"
   ]
  },
  {
   "cell_type": "markdown",
   "metadata": {},
   "source": [
    "## Формула полной вероятности\n",
    "#### Задача\n",
    "_Имеются три одинаковые урны. В первой урне находятся 4 белых и 7 черных шаров, во второй – только белые и в третьей – только черные шары. Наудачу выбирается одна урна и из неё наугад извлекается шар. Какова вероятность того, что этот шар чёрный?_\n",
    "#### Решение: \n",
    "рассмотрим событие \\\\(A\\\\) – из наугад выбранной урны будет извлечён чёрный шар.  Данное событие может произойти или не произойти в результате осуществления одной из следующих гипотез:\n",
    "\n",
    "\\\\(B_1\\\\) – будет выбрана 1-я урна;\n",
    "\n",
    "\\\\(B_2\\\\) – будет выбрана 2-я урна;\n",
    "\n",
    "\\\\(B_3\\\\) – будет выбрана 3-я урна.\n",
    "\n",
    "Так как урна выбирается наугад, то выбор любой из трёх урн равновозможен, следовательно:\n",
    "\n",
    "$$P(B_1)=P(B_2)=P(B_3)=\\frac{1}{3}$$\n",
    "\n",
    "Обратите внимание, что перечисленные гипотезы образуют полную группу событий, то есть, по условию чёрный шар может появиться только из этих урн, а например, не прилететь с бильярдного стола. Проведём простую промежуточную проверку:\n",
    "$$P(B_1)+P(B_2)+P(B_3)=\\frac{1}{3}+\\frac{1}{3}+\\frac{1}{3}=1$$\n",
    "ОК, едем дальше:\n",
    "\n",
    "В первой урне 4 белых + 7 черных = 11 шаров, по классическому определению:\n",
    "\\\\(P_{B_1}(A)=\\frac{7}{11} \\\\) – вероятность извлечения чёрного шара при условии, что будет выбрана 1-я урна.\n",
    "\n",
    "Во второй урне только белые шары, поэтому в случае её выбора появление чёрного шара становится невозможным: \\\\(P_{B_2}(A)=0\\\\).\n",
    "\n",
    "И, наконец, в третьей урне одни чёрные шары, а значит, соответствующая условная вероятность извлечения чёрного шара составит \\\\(P_{B_3}(A)=1\\\\) (событие достоверно).\n",
    "\n",
    "По формуле полной вероятности:\n",
    "$$P(A)=P(B_1)*P_{B_1}(A)+P(B_2)*P_{B_2}(A)+ P(B_3)*P_{B_3}(A)=\\frac{1}{3}*\\frac{7}{11}+\\frac{1}{3}*0+\\frac{1}{3}*1=\\frac{18}{33}=\\frac{6}{11}$$\n",
    "\n",
    " – вероятность того, что из наугад выбранной урны будет извлечен чёрный шар.\n",
    "\n",
    "#### Ответ: \n",
    "$$\\frac{6}{11}\\   или   \\ 0.545454...$$\n",
    "\n",
    "#### Сложно? ... можно и изящней"
   ]
  },
  {
   "cell_type": "code",
   "execution_count": 7,
   "metadata": {},
   "outputs": [
    {
     "data": {
      "text/plain": [
       "0.5468"
      ]
     },
     "execution_count": 7,
     "metadata": {},
     "output_type": "execute_result"
    }
   ],
   "source": [
    "# заполняем урну B1\n",
    "B1 = [\"white\"]*4 + ['black']*7\n",
    "# просто использовать B2=\"white\" некорректно, т.к. по процессу выбирается шар из неизвестного числа шаров в урне\n",
    "# предпожим, что в урне до 11 шаров (как и в урне B1)\n",
    "B2 = [\"white\"]*random.choice(range(1,12)) \n",
    "# B3=\"black\" некорректно, т.к. по процессу выбирается шар из неизвестного числа шаров в урне\n",
    "# предпожим, что в урне до 11 шаров (как и в урне B1)\n",
    "B3 = [\"black\"]*random.choice(range(1,12))\n",
    "\n",
    "# задаем число экспериментов\n",
    "n = 100000\n",
    "# формируем выборку\n",
    "A = pd.DataFrame({\"A\":list(map(lambda a: random.choice([\n",
    "                           random.choice(B1),\n",
    "                           random.choice(B2),\n",
    "                           random.choice(B3)\n",
    "                           ]), range(n)\n",
    "                              ))\n",
    "                 })\n",
    "# считаем статистику выпадений черных шаров\n",
    "P_black = len(A[A.A=='black'])/A.shape[0]\n",
    "P_black"
   ]
  },
  {
   "cell_type": "markdown",
   "metadata": {},
   "source": [
    "### Формула Байеса\n",
    "##### Задача\n",
    "Имеются три урны; в первой 3 белых шара и 1 чёрный, во второй - 2 белых шара и 3 чёрных, в третьей - три белых шара. Некто подходит наугад к одной из урн и вынимает из неё один шар. Этот шар оказался белым. Найти послеопытные (апостериорные) вероятности того, что этот шар вынут из первой, второй, третьей урны.\n",
    "\n",
    "##### Решение. \n",
    "Гипотезы:\n",
    "\n",
    "\\\\(B_1\\\\) – будет выбрана 1-я урна;\n",
    "\n",
    "\\\\(B_2\\\\) – будет выбрана 2-я урна;\n",
    "\n",
    "\\\\(B_3\\\\) – будет выбрана 3-я урна.\n",
    "\n",
    "Так как урна выбирается наугад, то априорные вероятности гипотез раны:\n",
    "\n",
    "$$P(B_1)=P(B_2)=P(B_3)=\\frac{1}{3}$$\n",
    "\n",
    "В результате опыта появилось событие \\\\(A\\\\) - из выбранной урны вынут белый шар.\n",
    "\n",
    "Условные вероятности события \\\\(A\\\\) относительно каждой из гипотез:\n",
    "\n",
    "\\\\(P(A|B_1)=\\frac{3}{4}\\\\),\n",
    "\\\\(P(A|B_2)=\\frac{2}{5}\\\\), \n",
    "\\\\(P(A|B_3)=1\\\\).\n",
    "\n",
    "##### Ответ\n",
    "Применяя формулу Байеса, находим апостериорные вероятности гипотез:\n",
    "\n",
    "\\\\(P(A|B_1)=\\frac{\\frac{1}{3}*\\frac{1}{4}}{\\frac{1}{3}*\\frac{4}{4}+\\frac{1}{3}*\\frac{2}{5}+\\frac{1}{3}*1}=\\frac{15}{43}\\\\),\n",
    "\n",
    "\\\\(P(A|B_2)=\\frac{\\frac{1}{3}*\\frac{2}{5}}{\\frac{1}{3}*\\frac{4}{4}+\\frac{1}{3}*\\frac{2}{5}+\\frac{1}{3}*1}=\\frac{8}{43}\\\\), \n",
    "\n",
    "\\\\(P(A|B_3)=\\frac{\\frac{1}{3}*1}{\\frac{1}{3}*\\frac{4}{4}+\\frac{1}{3}*\\frac{2}{5}+\\frac{1}{3}*1}=\\frac{20}{43}\\\\).\n",
    "\n",
    "$$Python?$$"
   ]
  },
  {
   "cell_type": "code",
   "execution_count": 8,
   "metadata": {},
   "outputs": [
    {
     "name": "stdout",
     "output_type": "stream",
     "text": [
      "P(A|B1)=0.34798142690318634\t0.3488372093023256\n",
      "P(A|B2)=0.18481343491074903\t0.18604651162790697\n",
      "P(A|B3)=0.46720513818606463\t0.46511627906976744\n"
     ]
    }
   ],
   "source": [
    "# немного упростим - введем функцию наполнения урн\n",
    "def fill_urn (n_white, n_black=0):\n",
    "    return [\"white\"]*n_white + ['black']*n_black\n",
    "# заполняем урну B1\n",
    "B1 = fill_urn(n_white = 3,n_black=1)\n",
    "# заполняем урну B2\n",
    "B2 = fill_urn(2,3)\n",
    "# заполняем урну B3\n",
    "B3 = fill_urn(3)\n",
    "\n",
    "# задаем число экспериментов\n",
    "n = 100000\n",
    "# формируем выборку\n",
    "# счетчик выпадений белого по урнам\n",
    "A = {'B1':0, 'B2':0,'B3':0}\n",
    "# словарь соответсвий имен и урн\n",
    "B = {'B1':B1, 'B2':B2,'B3':B3}\n",
    "\n",
    "# генерируем выборку\n",
    "for i in range(n):\n",
    "    #подходим к урне\n",
    "    b = random.choice(['B1', 'B2', 'B3'])\n",
    "    #выбираем шар\n",
    "    ball = random.choice(B[b])\n",
    "    #запоминаем из какой урны белый шар\n",
    "    if ball == 'white':\n",
    "        A.update({b:A[b]+1})  \n",
    "        \n",
    "# считаем статистику выпадений белых шаров (используем число выпадений белого!)\n",
    "print (f'P(A|B1)={A[\"B1\"]/sum(A.values())}\\t{15/43}')\n",
    "print (f'P(A|B2)={A[\"B2\"]/sum(A.values())}\\t{8/43}')\n",
    "print (f'P(A|B3)={A[\"B3\"]/sum(A.values())}\\t{20/43}')"
   ]
  },
  {
   "cell_type": "markdown",
   "metadata": {},
   "source": [
    "## Дискретные случайные величины"
   ]
  },
  {
   "cell_type": "markdown",
   "metadata": {},
   "source": [
    "### Распределение Бернулли"
   ]
  },
  {
   "cell_type": "code",
   "execution_count": 9,
   "metadata": {},
   "outputs": [
    {
     "data": {
      "text/plain": [
       "array([1, 0, 1, 1, 1, 1, 1, 0, 0, 0])"
      ]
     },
     "execution_count": 9,
     "metadata": {},
     "output_type": "execute_result"
    }
   ],
   "source": [
    "bernoulli_rv = sts.bernoulli(0.7) # задаётся один параметр -- вероятность успеха\n",
    "\n",
    "bernoulli_rv.rvs(10)"
   ]
  },
  {
   "cell_type": "code",
   "execution_count": 10,
   "metadata": {},
   "outputs": [
    {
     "data": {
      "text/plain": [
       "[]"
      ]
     },
     "execution_count": 10,
     "metadata": {},
     "output_type": "execute_result"
    },
    {
     "data": {
      "image/png": "[encoded data removed]",
      "text/plain": [
       "<Figure size 432x288 with 1 Axes>"
      ]
     },
     "metadata": {
      "needs_background": "light"
     },
     "output_type": "display_data"
    }
   ],
   "source": [
    "x = np.linspace(0,2,20)\n",
    "cdf = bernoulli_rv.cdf(x) # вернёт массив из значений функции распределения\n",
    "plt.plot(x, cdf, color=\"darkblue\")\n",
    "plt.ylabel(\"$f(x)$\")\n",
    "plt.xlabel(\"$x$\")\n",
    "plt.plot()"
   ]
  },
  {
   "cell_type": "markdown",
   "metadata": {},
   "source": [
    "Функция вероятности pmf для дискретных случайных величин "
   ]
  },
  {
   "cell_type": "code",
   "execution_count": 11,
   "metadata": {},
   "outputs": [
    {
     "data": {
      "text/plain": [
       "[]"
      ]
     },
     "execution_count": 11,
     "metadata": {},
     "output_type": "execute_result"
    },
    {
     "data": {
      "image/png": "[encoded data removed]",
      "text/plain": [
       "<Figure size 432x288 with 1 Axes>"
      ]
     },
     "metadata": {
      "needs_background": "light"
     },
     "output_type": "display_data"
    }
   ],
   "source": [
    "x = np.linspace(0,1,2)\n",
    "pmf = bernoulli_rv.pmf(x) # вернёт массив из значений функции распределения\n",
    "plt.scatter(x, pmf, color=\"blue\" )\n",
    "plt.plot((0,0), (0,bernoulli_rv.pmf(0)), color=\"blue\")\n",
    "plt.plot((1,1), (0,bernoulli_rv.pmf(1)), color=\"blue\")\n",
    "plt.ylabel(\"$f(x)$\")\n",
    "plt.xlabel(\"$x$\")\n",
    "plt.plot()"
   ]
  },
  {
   "cell_type": "markdown",
   "metadata": {},
   "source": [
    "### Биномиальное распределение\n",
    "Кол-во успехов в серии n независимых испытаний бернулли"
   ]
  },
  {
   "cell_type": "code",
   "execution_count": 12,
   "metadata": {},
   "outputs": [
    {
     "data": {
      "text/plain": [
       "array([8, 7, 6, 5, 8, 4, 5, 8, 5, 7])"
      ]
     },
     "execution_count": 12,
     "metadata": {},
     "output_type": "execute_result"
    }
   ],
   "source": [
    "binomial_rv = sts.binom(20, 0.4) # 20 испытаний с вероятностью успеха 0.4\n",
    "\n",
    "binomial_rv.rvs(10)"
   ]
  },
  {
   "cell_type": "code",
   "execution_count": 13,
   "metadata": {},
   "outputs": [
    {
     "data": {
      "text/plain": [
       "[]"
      ]
     },
     "execution_count": 13,
     "metadata": {},
     "output_type": "execute_result"
    },
    {
     "data": {
      "image/png": "[encoded data removed]",
      "text/plain": [
       "<Figure size 432x288 with 1 Axes>"
      ]
     },
     "metadata": {
      "needs_background": "light"
     },
     "output_type": "display_data"
    }
   ],
   "source": [
    "# построим функцию распределения\n",
    "x = np.linspace(0,20,21)\n",
    "cdf = binomial_rv.cdf(x) # вернёт массив из значений функции распределения\n",
    "plt.step(x, cdf)\n",
    "plt.ylabel(\"$F(x)$\")\n",
    "plt.xlabel(\"$x$\")\n",
    "plt.plot()"
   ]
  },
  {
   "cell_type": "code",
   "execution_count": 14,
   "metadata": {},
   "outputs": [
    {
     "data": {
      "text/plain": [
       "[]"
      ]
     },
     "execution_count": 14,
     "metadata": {},
     "output_type": "execute_result"
    },
    {
     "data": {
      "image/png": "[encoded data removed]",
      "text/plain": [
       "<Figure size 432x288 with 1 Axes>"
      ]
     },
     "metadata": {
      "needs_background": "light"
     },
     "output_type": "display_data"
    }
   ],
   "source": [
    "x = np.linspace(0,20,21)\n",
    "pdf = binomial_rv.pmf(x) # вернёт массив из значений функции распределения\n",
    "plt.scatter(x, pdf)\n",
    "plt.ylabel(\"$f(x)$\")\n",
    "plt.xlabel(\"$x$\")\n",
    "plt.plot()"
   ]
  },
  {
   "cell_type": "markdown",
   "metadata": {},
   "source": [
    "Посмотрим как ведут себя биномиально распределенные величины при разных значениях параметров"
   ]
  },
  {
   "cell_type": "code",
   "execution_count": 15,
   "metadata": {},
   "outputs": [
    {
     "data": {
      "text/plain": [
       "[]"
      ]
     },
     "execution_count": 15,
     "metadata": {},
     "output_type": "execute_result"
    },
    {
     "data": {
      "image/png": "[encoded data removed]",
      "text/plain": [
       "<Figure size 432x288 with 1 Axes>"
      ]
     },
     "metadata": {
      "needs_background": "light"
     },
     "output_type": "display_data"
    }
   ],
   "source": [
    "x = np.linspace(0,45,46)\n",
    "for N in [20,30]:\n",
    "    for p in [0.3, 0.7]:\n",
    "        rv = sts.binom(N, p)\n",
    "        cdf = rv.cdf(x)\n",
    "        plt.step(x, cdf, label=\"$N=%s, p=%s$\" % (N,p))\n",
    "\n",
    "plt.legend()\n",
    "plt.title(\"CDF binomial distributions\")\n",
    "plt.ylabel(\"$F(x)$\")\n",
    "plt.xlabel(\"$x$\")\n",
    "plt.plot()"
   ]
  },
  {
   "cell_type": "code",
   "execution_count": 16,
   "metadata": {},
   "outputs": [
    {
     "data": {
      "text/plain": [
       "[]"
      ]
     },
     "execution_count": 16,
     "metadata": {},
     "output_type": "execute_result"
    },
    {
     "data": {
      "image/png": "[encoded data removed]",
      "text/plain": [
       "<Figure size 432x288 with 1 Axes>"
      ]
     },
     "metadata": {
      "needs_background": "light"
     },
     "output_type": "display_data"
    }
   ],
   "source": [
    "x = np.linspace(0,45,46)\n",
    "for N in [20,30]:\n",
    "    for p in [0.3, 0.7]:\n",
    "        rv = sts.binom(N, p)\n",
    "        pmf = rv.pmf(x)\n",
    "        plt.scatter(x, pmf, label=\"$N=%s, p=%s$\" % (N,p))\n",
    "\n",
    "plt.legend()\n",
    "plt.title(\"PMF binomial distributions\")\n",
    "plt.ylabel(\"$P(X=x)$\")\n",
    "plt.xlabel(\"$x$\")\n",
    "plt.plot()"
   ]
  },
  {
   "cell_type": "markdown",
   "metadata": {},
   "source": [
    "### Распределение Пуассона"
   ]
  },
  {
   "cell_type": "code",
   "execution_count": 17,
   "metadata": {},
   "outputs": [
    {
     "data": {
      "text/plain": [
       "array([ 7,  5,  5,  7,  7,  3,  9, 10,  5,  5])"
      ]
     },
     "execution_count": 17,
     "metadata": {},
     "output_type": "execute_result"
    }
   ],
   "source": [
    "poisson_rv = sts.poisson(5) # интенсивность 5\n",
    "poisson_rv.rvs(10)"
   ]
  },
  {
   "cell_type": "code",
   "execution_count": 18,
   "metadata": {},
   "outputs": [
    {
     "data": {
      "text/plain": [
       "[]"
      ]
     },
     "execution_count": 18,
     "metadata": {},
     "output_type": "execute_result"
    },
    {
     "data": {
      "image/png": "[encoded data removed]",
      "text/plain": [
       "<Figure size 432x288 with 1 Axes>"
      ]
     },
     "metadata": {
      "needs_background": "light"
     },
     "output_type": "display_data"
    }
   ],
   "source": [
    "x = np.linspace(0,25,46)\n",
    "for l in [1,2,3,4,5]:\n",
    "    rv = sts.poisson(l)\n",
    "    cdf = rv.cdf(x)\n",
    "    plt.step(x, cdf, label=\"$l=%s$\" % l)\n",
    "\n",
    "plt.legend()\n",
    "plt.title(\"CDF poisson distributions\")\n",
    "plt.ylabel(\"$F(x)$\")\n",
    "plt.xlabel(\"$x$\")\n",
    "plt.plot()"
   ]
  },
  {
   "cell_type": "code",
   "execution_count": 19,
   "metadata": {},
   "outputs": [
    {
     "data": {
      "text/plain": [
       "[]"
      ]
     },
     "execution_count": 19,
     "metadata": {},
     "output_type": "execute_result"
    },
    {
     "data": {
      "image/png": "[encoded data removed]",
      "text/plain": [
       "<Figure size 432x288 with 1 Axes>"
      ]
     },
     "metadata": {
      "needs_background": "light"
     },
     "output_type": "display_data"
    }
   ],
   "source": [
    "x = np.linspace(0,30,31)\n",
    "for l in [1,5,10,15]:\n",
    "    rv = sts.poisson(l)\n",
    "    pmf = rv.pmf(x)\n",
    "    plt.scatter(x, pmf, label=\"$l=%s$\" % l)\n",
    "\n",
    "plt.legend()\n",
    "plt.title(\"PMF poisson distributions\")\n",
    "plt.ylabel(\"$P(X=x)$\")\n",
    "plt.xlabel(\"$x$\")\n",
    "plt.plot()"
   ]
  },
  {
   "cell_type": "markdown",
   "metadata": {
    "id": "bkreYf_Sd24A"
   },
   "source": [
    "## Непрерывные случайные величины"
   ]
  },
  {
   "cell_type": "markdown",
   "metadata": {
    "id": "MNKeTNGXbC4o"
   },
   "source": [
    "### Нормальное распределение"
   ]
  },
  {
   "cell_type": "code",
   "execution_count": 20,
   "metadata": {
    "id": "t2LJmX2vbCEM"
   },
   "outputs": [
    {
     "data": {
      "text/plain": [
       "array([-1.62074432, -1.07230045,  4.45738553,  0.99371441,  3.23240987,\n",
       "       -0.65930298,  4.38804346,  4.21605999,  6.31071124,  5.91914318])"
      ]
     },
     "execution_count": 20,
     "metadata": {},
     "output_type": "execute_result"
    }
   ],
   "source": [
    "mu = 1\n",
    "sigma = 4\n",
    "\n",
    "norm_rv = sts.norm(loc=mu, scale=sigma)\n",
    "\n",
    "# сгенерировать 10 значений \n",
    "norm_rv.rvs(size=10)"
   ]
  },
  {
   "cell_type": "code",
   "execution_count": 21,
   "metadata": {
    "id": "IX9Sojh7bTg3"
   },
   "outputs": [],
   "source": [
    "# loc задаёт сдвиг (мат ожидание), scale - масштаб (среднеквадратичное отклонение), size - размер выборки"
   ]
  },
  {
   "cell_type": "code",
   "execution_count": 22,
   "metadata": {
    "id": "fdA0vcGMbwnD"
   },
   "outputs": [
    {
     "data": {
      "text/plain": [
       "0.6554217416103242"
      ]
     },
     "execution_count": 22,
     "metadata": {},
     "output_type": "execute_result"
    }
   ],
   "source": [
    "# вернём значение функции распределения нормальной случайной величины в точке\n",
    "norm_rv.cdf(2.6) # вероятность того, что случайная величина будет меньше либо равна переданного значения"
   ]
  },
  {
   "cell_type": "code",
   "execution_count": 23,
   "metadata": {
    "id": "S9JXn3htb87K"
   },
   "outputs": [
    {
     "data": {
      "text/plain": [
       "[]"
      ]
     },
     "execution_count": 23,
     "metadata": {},
     "output_type": "execute_result"
    },
    {
     "data": {
      "image/png": "[encoded data removed]",
      "text/plain": [
       "<Figure size 432x288 with 1 Axes>"
      ]
     },
     "metadata": {
      "needs_background": "light"
     },
     "output_type": "display_data"
    }
   ],
   "source": [
    "# построим график функции распределения\n",
    "x = np.linspace(-10,10,100)\n",
    "cdf = norm_rv.cdf(x) # вернёт массив из значений функции распределения\n",
    "plt.plot(x, cdf)\n",
    "plt.ylabel(\"$F(x)$\")\n",
    "plt.xlabel(\"$x$\")\n",
    "plt.plot()"
   ]
  },
  {
   "cell_type": "code",
   "execution_count": 24,
   "metadata": {
    "id": "E8nG90AKb3lu"
   },
   "outputs": [
    {
     "data": {
      "text/plain": [
       "0.09206753507583083"
      ]
     },
     "execution_count": 24,
     "metadata": {},
     "output_type": "execute_result"
    }
   ],
   "source": [
    "# возьмём теперь значение функции плотности вероятности в точке\n",
    "norm_rv.pdf(2.6)"
   ]
  },
  {
   "cell_type": "code",
   "execution_count": 25,
   "metadata": {
    "id": "6cVrqd7acWlI"
   },
   "outputs": [
    {
     "data": {
      "text/plain": [
       "[]"
      ]
     },
     "execution_count": 25,
     "metadata": {},
     "output_type": "execute_result"
    },
    {
     "data": {
      "image/png": "[encoded data removed]",
      "text/plain": [
       "<Figure size 432x288 with 1 Axes>"
      ]
     },
     "metadata": {
      "needs_background": "light"
     },
     "output_type": "display_data"
    }
   ],
   "source": [
    "# построим плотность вероятности\n",
    "x = np.linspace(-15,15,100)\n",
    "pdf = norm_rv.pdf(x) # вернёт массив из значений функции распределения\n",
    "plt.plot(x, pdf)\n",
    "plt.ylabel(\"$f(x)$\")\n",
    "plt.xlabel(\"$x$\")\n",
    "plt.plot()"
   ]
  },
  {
   "cell_type": "markdown",
   "metadata": {
    "id": "gjkIbMDuciG6"
   },
   "source": [
    "### Равномерное распределение на отрезке"
   ]
  },
  {
   "cell_type": "code",
   "execution_count": 26,
   "metadata": {
    "id": "jioI_1MZcdKP"
   },
   "outputs": [
    {
     "data": {
      "text/plain": [
       "array([3.97562402, 2.18245856, 2.87084223, 2.6991351 , 3.59884525,\n",
       "       2.43769397, 3.07585265, 2.90312146, 1.37519334, 3.40943813])"
      ]
     },
     "execution_count": 26,
     "metadata": {},
     "output_type": "execute_result"
    }
   ],
   "source": [
    "a = 1\n",
    "b = 4\n",
    "\n",
    "uniform_rv = sts.uniform(a, b-a) # левая граница, и размер отрезка\n",
    "\n",
    "uniform_rv.rvs(10)"
   ]
  },
  {
   "cell_type": "code",
   "execution_count": 27,
   "metadata": {
    "id": "KXlkKTStdQSB"
   },
   "outputs": [
    {
     "data": {
      "text/plain": [
       "[]"
      ]
     },
     "execution_count": 27,
     "metadata": {},
     "output_type": "execute_result"
    },
    {
     "data": {
      "image/png": "[encoded data removed]",
      "text/plain": [
       "<Figure size 432x288 with 1 Axes>"
      ]
     },
     "metadata": {
      "needs_background": "light"
     },
     "output_type": "display_data"
    }
   ],
   "source": [
    "x = np.linspace(0,5,100)\n",
    "cdf = uniform_rv.cdf(x) # вернёт массив из значений функции распределения\n",
    "plt.plot(x, cdf)\n",
    "plt.ylabel(\"$F(x)$\")\n",
    "plt.xlabel(\"$x$\")\n",
    "plt.plot()"
   ]
  },
  {
   "cell_type": "code",
   "execution_count": 28,
   "metadata": {
    "id": "jhEzp75jdT32"
   },
   "outputs": [
    {
     "data": {
      "text/plain": [
       "[]"
      ]
     },
     "execution_count": 28,
     "metadata": {},
     "output_type": "execute_result"
    },
    {
     "data": {
      "image/png": "[encoded data removed]",
      "text/plain": [
       "<Figure size 432x288 with 1 Axes>"
      ]
     },
     "metadata": {
      "needs_background": "light"
     },
     "output_type": "display_data"
    }
   ],
   "source": [
    "x = np.linspace(0,5,100)\n",
    "pdf = uniform_rv.pdf(x) # вернёт массив из значений функции распределения\n",
    "plt.plot(x, pdf)\n",
    "plt.ylabel(\"$f(x)$\")\n",
    "plt.xlabel(\"$x$\")\n",
    "plt.plot()"
   ]
  },
  {
   "cell_type": "markdown",
   "metadata": {
    "id": "UZ5zOlf4hQ8F"
   },
   "source": [
    "## список доступных распределений https://docs.scipy.org/doc/scipy/reference/stats.html"
   ]
  },
  {
   "cell_type": "code",
   "execution_count": null,
   "metadata": {},
   "outputs": [],
   "source": []
  }
 ],
 "metadata": {
  "colab": {
   "collapsed_sections": [],
   "name": "Копия блокнота \"master.ipynb\"",
   "provenance": []
  },
  "kernelspec": {
   "display_name": "Python 3 (ipykernel)",
   "language": "python",
   "name": "python3"
  },
  "language_info": {
   "codemirror_mode": {
    "name": "ipython",
    "version": 3
   },
   "file_extension": ".py",
   "mimetype": "text/x-python",
   "name": "python",
   "nbconvert_exporter": "python",
   "pygments_lexer": "ipython3",
   "version": "3.9.12"
  }
 },
 "nbformat": 4,
 "nbformat_minor": 1
}
