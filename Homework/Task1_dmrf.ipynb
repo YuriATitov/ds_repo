{
 "cells": [
  {
   "cell_type": "markdown",
   "metadata": {},
   "source": [
    "## Задание\n",
    "* Собрать информацию о всех строящихся объектах на сайте \"наш.дом.рф\"\n",
    "* Cохранить ее в pandas dataframe\n",
    "* Cохранить pandas dataframe в excel\n",
    "* Cохранить pandas dataframe в pickle\n",
    "* Cохранить pandas dataframe в БД\n",
    "## Задание *\n",
    "Написать скрипт, который скачивает фотографии всех строящихся объектов с сайта \"наш.дом.рф\""
   ]
  },
  {
   "cell_type": "code",
   "execution_count": 1,
   "metadata": {},
   "outputs": [],
   "source": [
    "# import all required libs\n",
    "import requests\n",
    "import time\n",
    "from pprint import pprint\n",
    "import pandas as pd"
   ]
  },
  {
   "cell_type": "code",
   "execution_count": 2,
   "metadata": {},
   "outputs": [
    {
     "name": "stdout",
     "output_type": "stream",
     "text": [
      "1000 <Response [200]>\n",
      "2000 <Response [200]>\n",
      "3000 <Response [200]>\n",
      "4000 <Response [200]>\n",
      "5000 <Response [200]>\n",
      "6000 <Response [200]>\n",
      "7000 <Response [200]>\n",
      "8000 <Response [200]>\n",
      "9000 <Response [200]>\n",
      "10000 <Response [200]>\n",
      "10544 <Response [200]>\n",
      "10544 <Response [200]>\n",
      "CPU times: user 440 ms, sys: 58.7 ms, total: 498 ms\n",
      "Wall time: 1min 56s\n"
     ]
    }
   ],
   "source": [
    "%%time\n",
    "# Делаем запрос через API\n",
    "# Проходим циклом пока в списке сайта есть объекты \n",
    "# Формируем список с объектами \n",
    "\n",
    "object_list = []\n",
    "offset = 0\n",
    "limit = 1000\n",
    "length = 1\n",
    "\n",
    "while length > 0:\n",
    "    url = f'https://xn--80az8a.xn--d1aqf.xn--p1ai/%D1%81%D0%B5%D1%80%D0%B2%D0%B8%D1%81%D1%8B/api/kn/object?offset={offset}&limit={limit}&sortField=devId.devShortCleanNm&sortType=asc&objStatus=0'\n",
    "    res = requests.get(url)\n",
    "    res_json = res.json()\n",
    "    [object_list.append(i) for i in res_json['data']['list']]\n",
    "    print(len(object_list), res)\n",
    "    offset += limit\n",
    "    length = len(res_json['data']['list'])\n",
    "    \n",
    "    "
   ]
  },
  {
   "cell_type": "code",
   "execution_count": 3,
   "metadata": {},
   "outputs": [
    {
     "data": {
      "text/plain": [
       "10544"
      ]
     },
     "execution_count": 3,
     "metadata": {},
     "output_type": "execute_result"
    }
   ],
   "source": [
    "# Выведем количество объектов недвижимости, которое у нас получилось в итоге\n",
    "len(object_list)"
   ]
  },
  {
   "cell_type": "code",
   "execution_count": 4,
   "metadata": {},
   "outputs": [
    {
     "data": {
      "text/html": [
       "<div>\n",
       "<style scoped>\n",
       "    .dataframe tbody tr th:only-of-type {\n",
       "        vertical-align: middle;\n",
       "    }\n",
       "\n",
       "    .dataframe tbody tr th {\n",
       "        vertical-align: top;\n",
       "    }\n",
       "\n",
       "    .dataframe thead th {\n",
       "        text-align: right;\n",
       "    }\n",
       "</style>\n",
       "<table border=\"1\" class=\"dataframe\">\n",
       "  <thead>\n",
       "    <tr style=\"text-align: right;\">\n",
       "      <th></th>\n",
       "      <th>objId</th>\n",
       "      <th>rpdRegionCd</th>\n",
       "      <th>objAddr</th>\n",
       "      <th>objElemLivingCnt</th>\n",
       "      <th>objReady100PercDt</th>\n",
       "      <th>objSquareLiving</th>\n",
       "      <th>objCompensFundFlg</th>\n",
       "      <th>objProblemFlg</th>\n",
       "      <th>latitude</th>\n",
       "      <th>longitude</th>\n",
       "      <th>...</th>\n",
       "      <th>objFloorMin</th>\n",
       "      <th>objFloorMax</th>\n",
       "      <th>developer.groupName</th>\n",
       "      <th>developer.companyGroup</th>\n",
       "      <th>objCommercNm</th>\n",
       "      <th>complexShortName</th>\n",
       "      <th>developer.bankruptStage.bankruptStageCd</th>\n",
       "      <th>developer.bankruptStage.bankruptStageDesc</th>\n",
       "      <th>developer.bankruptStage.bankruptLawUrl</th>\n",
       "      <th>developer.orgBankruptMsgDttm</th>\n",
       "    </tr>\n",
       "  </thead>\n",
       "  <tbody>\n",
       "    <tr>\n",
       "      <th>7907</th>\n",
       "      <td>43816</td>\n",
       "      <td>58</td>\n",
       "      <td>с Засечное, строение 70</td>\n",
       "      <td>494</td>\n",
       "      <td>2024-09-30</td>\n",
       "      <td>24783.70</td>\n",
       "      <td>0</td>\n",
       "      <td>0</td>\n",
       "      <td>53.1347</td>\n",
       "      <td>45.0442</td>\n",
       "      <td>...</td>\n",
       "      <td>14.0</td>\n",
       "      <td>18.0</td>\n",
       "      <td>ТермоДом</td>\n",
       "      <td>6394.0</td>\n",
       "      <td>Строение 70.Город Спутник.Жилой квартал \"Радуж...</td>\n",
       "      <td>ЖК\"Радужные дворы\"</td>\n",
       "      <td>NaN</td>\n",
       "      <td>NaN</td>\n",
       "      <td>NaN</td>\n",
       "      <td>NaN</td>\n",
       "    </tr>\n",
       "    <tr>\n",
       "      <th>6473</th>\n",
       "      <td>44306</td>\n",
       "      <td>34</td>\n",
       "      <td>г Волгоград, район Советский, ул Им.Иссы Плиев...</td>\n",
       "      <td>88</td>\n",
       "      <td>2022-12-31</td>\n",
       "      <td>3355.78</td>\n",
       "      <td>0</td>\n",
       "      <td>0</td>\n",
       "      <td>48.6632</td>\n",
       "      <td>44.3977</td>\n",
       "      <td>...</td>\n",
       "      <td>5.0</td>\n",
       "      <td>5.0</td>\n",
       "      <td>DARS Development</td>\n",
       "      <td>8582.0</td>\n",
       "      <td>NaN</td>\n",
       "      <td>NaN</td>\n",
       "      <td>NaN</td>\n",
       "      <td>NaN</td>\n",
       "      <td>NaN</td>\n",
       "      <td>NaN</td>\n",
       "    </tr>\n",
       "    <tr>\n",
       "      <th>8611</th>\n",
       "      <td>38121</td>\n",
       "      <td>63</td>\n",
       "      <td>с Черноречье, д. 45.3-5</td>\n",
       "      <td>150</td>\n",
       "      <td>2022-12-31</td>\n",
       "      <td>5879.70</td>\n",
       "      <td>0</td>\n",
       "      <td>0</td>\n",
       "      <td>53.1004</td>\n",
       "      <td>50.1731</td>\n",
       "      <td>...</td>\n",
       "      <td>18.0</td>\n",
       "      <td>18.0</td>\n",
       "      <td>Древо</td>\n",
       "      <td>6148.0</td>\n",
       "      <td>Южный Город</td>\n",
       "      <td>NaN</td>\n",
       "      <td>NaN</td>\n",
       "      <td>NaN</td>\n",
       "      <td>NaN</td>\n",
       "      <td>NaN</td>\n",
       "    </tr>\n",
       "    <tr>\n",
       "      <th>284</th>\n",
       "      <td>31399</td>\n",
       "      <td>1</td>\n",
       "      <td>аул Новая Адыгея, улица Бжегокайская, литера 13</td>\n",
       "      <td>100</td>\n",
       "      <td>2023-12-31</td>\n",
       "      <td>4067.00</td>\n",
       "      <td>1</td>\n",
       "      <td>0</td>\n",
       "      <td>45.0152</td>\n",
       "      <td>38.9086</td>\n",
       "      <td>...</td>\n",
       "      <td>5.0</td>\n",
       "      <td>5.0</td>\n",
       "      <td>Atlas Group</td>\n",
       "      <td>9169.0</td>\n",
       "      <td>ЖК \"Мега\"</td>\n",
       "      <td>NaN</td>\n",
       "      <td>NaN</td>\n",
       "      <td>NaN</td>\n",
       "      <td>NaN</td>\n",
       "      <td>NaN</td>\n",
       "    </tr>\n",
       "    <tr>\n",
       "      <th>8575</th>\n",
       "      <td>45244</td>\n",
       "      <td>55</td>\n",
       "      <td>г Омск, ул Волгоградская</td>\n",
       "      <td>128</td>\n",
       "      <td>2024-06-30</td>\n",
       "      <td>5940.60</td>\n",
       "      <td>0</td>\n",
       "      <td>0</td>\n",
       "      <td>54.9859</td>\n",
       "      <td>73.2386</td>\n",
       "      <td>...</td>\n",
       "      <td>12.0</td>\n",
       "      <td>16.0</td>\n",
       "      <td>Эталон</td>\n",
       "      <td>5904.0</td>\n",
       "      <td>Жилой квартал \"Зеленая река\" корпус 4</td>\n",
       "      <td>NaN</td>\n",
       "      <td>NaN</td>\n",
       "      <td>NaN</td>\n",
       "      <td>NaN</td>\n",
       "      <td>NaN</td>\n",
       "    </tr>\n",
       "  </tbody>\n",
       "</table>\n",
       "<p>5 rows × 35 columns</p>\n",
       "</div>"
      ],
      "text/plain": [
       "      objId  rpdRegionCd                                            objAddr  \\\n",
       "7907  43816           58                            с Засечное, строение 70   \n",
       "6473  44306           34  г Волгоград, район Советский, ул Им.Иссы Плиев...   \n",
       "8611  38121           63                            с Черноречье, д. 45.3-5   \n",
       "284   31399            1    аул Новая Адыгея, улица Бжегокайская, литера 13   \n",
       "8575  45244           55                           г Омск, ул Волгоградская   \n",
       "\n",
       "      objElemLivingCnt objReady100PercDt  objSquareLiving  objCompensFundFlg  \\\n",
       "7907               494        2024-09-30         24783.70                  0   \n",
       "6473                88        2022-12-31          3355.78                  0   \n",
       "8611               150        2022-12-31          5879.70                  0   \n",
       "284                100        2023-12-31          4067.00                  1   \n",
       "8575               128        2024-06-30          5940.60                  0   \n",
       "\n",
       "      objProblemFlg  latitude  longitude  ... objFloorMin objFloorMax  \\\n",
       "7907              0   53.1347    45.0442  ...        14.0        18.0   \n",
       "6473              0   48.6632    44.3977  ...         5.0         5.0   \n",
       "8611              0   53.1004    50.1731  ...        18.0        18.0   \n",
       "284               0   45.0152    38.9086  ...         5.0         5.0   \n",
       "8575              0   54.9859    73.2386  ...        12.0        16.0   \n",
       "\n",
       "      developer.groupName  developer.companyGroup  \\\n",
       "7907             ТермоДом                  6394.0   \n",
       "6473     DARS Development                  8582.0   \n",
       "8611                Древо                  6148.0   \n",
       "284           Atlas Group                  9169.0   \n",
       "8575               Эталон                  5904.0   \n",
       "\n",
       "                                           objCommercNm    complexShortName  \\\n",
       "7907  Строение 70.Город Спутник.Жилой квартал \"Радуж...  ЖК\"Радужные дворы\"   \n",
       "6473                                                NaN                 NaN   \n",
       "8611                                        Южный Город                 NaN   \n",
       "284                                           ЖК \"Мега\"                 NaN   \n",
       "8575              Жилой квартал \"Зеленая река\" корпус 4                 NaN   \n",
       "\n",
       "     developer.bankruptStage.bankruptStageCd  \\\n",
       "7907                                     NaN   \n",
       "6473                                     NaN   \n",
       "8611                                     NaN   \n",
       "284                                      NaN   \n",
       "8575                                     NaN   \n",
       "\n",
       "      developer.bankruptStage.bankruptStageDesc  \\\n",
       "7907                                        NaN   \n",
       "6473                                        NaN   \n",
       "8611                                        NaN   \n",
       "284                                         NaN   \n",
       "8575                                        NaN   \n",
       "\n",
       "      developer.bankruptStage.bankruptLawUrl developer.orgBankruptMsgDttm  \n",
       "7907                                     NaN                          NaN  \n",
       "6473                                     NaN                          NaN  \n",
       "8611                                     NaN                          NaN  \n",
       "284                                      NaN                          NaN  \n",
       "8575                                     NaN                          NaN  \n",
       "\n",
       "[5 rows x 35 columns]"
      ]
     },
     "execution_count": 4,
     "metadata": {},
     "output_type": "execute_result"
    }
   ],
   "source": [
    "# Формируем датафрейм с помощью json_normalize и выведем 5 случайных строк\n",
    "df = pd.json_normalize(object_list)\n",
    "df.sample(5)"
   ]
  },
  {
   "cell_type": "code",
   "execution_count": 5,
   "metadata": {},
   "outputs": [
    {
     "name": "stdout",
     "output_type": "stream",
     "text": [
      "<class 'pandas.core.frame.DataFrame'>\n",
      "RangeIndex: 10544 entries, 0 to 10543\n",
      "Data columns (total 35 columns):\n",
      " #   Column                                     Non-Null Count  Dtype  \n",
      "---  ------                                     --------------  -----  \n",
      " 0   objId                                      10544 non-null  int64  \n",
      " 1   rpdRegionCd                                10544 non-null  int64  \n",
      " 2   objAddr                                    10518 non-null  object \n",
      " 3   objElemLivingCnt                           10544 non-null  int64  \n",
      " 4   objReady100PercDt                          10544 non-null  object \n",
      " 5   objSquareLiving                            10544 non-null  float64\n",
      " 6   objCompensFundFlg                          10544 non-null  int64  \n",
      " 7   objProblemFlg                              10544 non-null  int64  \n",
      " 8   latitude                                   10535 non-null  float64\n",
      " 9   longitude                                  10535 non-null  float64\n",
      " 10  problemFlag                                10544 non-null  object \n",
      " 11  siteStatus                                 10544 non-null  object \n",
      " 12  objGuarantyEscrowFlg                       10544 non-null  int64  \n",
      " 13  residentialBuildings                       10544 non-null  int64  \n",
      " 14  rpdNum                                     10544 non-null  object \n",
      " 15  pdId                                       10544 non-null  int64  \n",
      " 16  buildType                                  10544 non-null  object \n",
      " 17  objStatus                                  10544 non-null  int64  \n",
      " 18  developer.devId                            10544 non-null  int64  \n",
      " 19  developer.shortName                        10544 non-null  object \n",
      " 20  developer.fullName                         10544 non-null  object \n",
      " 21  developer.orgForm.id                       10544 non-null  int64  \n",
      " 22  developer.orgForm.fullForm                 10544 non-null  object \n",
      " 23  developer.orgForm.shortForm                10544 non-null  object \n",
      " 24  developer.devInn                           10544 non-null  object \n",
      " 25  objFloorMin                                10540 non-null  float64\n",
      " 26  objFloorMax                                10542 non-null  float64\n",
      " 27  developer.groupName                        7763 non-null   object \n",
      " 28  developer.companyGroup                     7763 non-null   float64\n",
      " 29  objCommercNm                               8140 non-null   object \n",
      " 30  complexShortName                           915 non-null    object \n",
      " 31  developer.bankruptStage.bankruptStageCd    103 non-null    float64\n",
      " 32  developer.bankruptStage.bankruptStageDesc  103 non-null    object \n",
      " 33  developer.bankruptStage.bankruptLawUrl     103 non-null    object \n",
      " 34  developer.orgBankruptMsgDttm               103 non-null    object \n",
      "dtypes: float64(7), int64(11), object(17)\n",
      "memory usage: 2.8+ MB\n"
     ]
    }
   ],
   "source": [
    "# Выведем информацию о датафрейме\n",
    "df.info()"
   ]
  },
  {
   "cell_type": "markdown",
   "metadata": {},
   "source": [
    "По части колонок у нас есть очень много пропусков. Необходимо будет их обработать заполнив пропуски"
   ]
  },
  {
   "cell_type": "markdown",
   "metadata": {},
   "source": [
    "### **Сохраняем полученный датафрейм в различные форматы**"
   ]
  },
  {
   "cell_type": "markdown",
   "metadata": {},
   "source": [
    "### *Сохраняем в Excel*"
   ]
  },
  {
   "cell_type": "code",
   "execution_count": 6,
   "metadata": {},
   "outputs": [],
   "source": [
    "df.to_excel('df_dmrf.xlsx')"
   ]
  },
  {
   "cell_type": "markdown",
   "metadata": {},
   "source": [
    "### *Сохраняем в Pickle*"
   ]
  },
  {
   "cell_type": "code",
   "execution_count": 7,
   "metadata": {},
   "outputs": [],
   "source": [
    "df.to_pickle('df_dmrf.pkl')"
   ]
  },
  {
   "cell_type": "markdown",
   "metadata": {},
   "source": [
    "### *Сохраняем в БД*"
   ]
  },
  {
   "cell_type": "code",
   "execution_count": 8,
   "metadata": {},
   "outputs": [],
   "source": [
    "import sqlite3\n",
    "con = sqlite3.connect('ds_repo.db')"
   ]
  },
  {
   "cell_type": "code",
   "execution_count": 9,
   "metadata": {},
   "outputs": [],
   "source": [
    "df.to_sql('df_dmrf', con, if_exists = 'replace')"
   ]
  }
 ],
 "metadata": {
  "kernelspec": {
   "display_name": "Python 3",
   "language": "python",
   "name": "python3"
  },
  "language_info": {
   "codemirror_mode": {
    "name": "ipython",
    "version": 3
   },
   "file_extension": ".py",
   "mimetype": "text/x-python",
   "name": "python",
   "nbconvert_exporter": "python",
   "pygments_lexer": "ipython3",
   "version": "3.8.5"
  }
 },
 "nbformat": 4,
 "nbformat_minor": 4
}
