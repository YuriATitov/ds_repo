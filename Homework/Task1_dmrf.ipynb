{
 "cells": [
  {
   "cell_type": "markdown",
   "metadata": {},
   "source": [
    "## Задание\n",
    "* Собрать информацию о всех строящихся объектах на сайте \"наш.дом.рф\"\n",
    "* Cохранить ее в pandas dataframe\n",
    "* Cохранить pandas dataframe в excel\n",
    "* Cохранить pandas dataframe в pickle\n",
    "* Cохранить pandas dataframe в БД\n",
    "## Задание *\n",
    "Написать скрипт, который скачивает фотографии всех строящихся объектов с сайта \"наш.дом.рф\""
   ]
  },
  {
   "cell_type": "code",
   "execution_count": 1,
   "metadata": {},
   "outputs": [],
   "source": [
    "# import all required libs\n",
    "import requests\n",
    "import time\n",
    "from datetime import datetime\n",
    "from pprint import pprint\n",
    "import pandas as pd\n",
    "from requests.adapters import HTTPAdapter\n",
    "from urllib3.util.retry import Retry\n",
    "import sqlite3\n"
   ]
  },
  {
   "cell_type": "code",
   "execution_count": 2,
   "metadata": {},
   "outputs": [
    {
     "name": "stdout",
     "output_type": "stream",
     "text": [
      "Кол-во выгруженных домов в датасет - 1000 время выполнения прохода - 0:01:46.733117\n",
      "Кол-во выгруженных домов в датасет - 2000 время выполнения прохода - 0:01:49.085027\n",
      "Кол-во выгруженных домов в датасет - 3000 время выполнения прохода - 0:01:33.647245\n",
      "Кол-во выгруженных домов в датасет - 4000 время выполнения прохода - 0:01:29.215200\n",
      "Кол-во выгруженных домов в датасет - 5000 время выполнения прохода - 0:01:34.490351\n",
      "Кол-во выгруженных домов в датасет - 6000 время выполнения прохода - 0:01:29.021178\n",
      "Кол-во выгруженных домов в датасет - 7000 время выполнения прохода - 0:01:44.628539\n",
      "Кол-во выгруженных домов в датасет - 8000 время выполнения прохода - 0:01:31.522136\n",
      "Кол-во выгруженных домов в датасет - 9000 время выполнения прохода - 0:01:33.677934\n",
      "Кол-во выгруженных домов в датасет - 10000 время выполнения прохода - 0:01:39.016033\n",
      "Кол-во выгруженных домов в датасет - 10535 время выполнения прохода - 0:00:51.576663\n",
      "Кол-во выгруженных домов в датасет - 10535 время выполнения прохода - 0:00:00.029722\n",
      "CPU times: user 33.1 s, sys: 3.71 s, total: 36.8 s\n",
      "Wall time: 17min 2s\n"
     ]
    }
   ],
   "source": [
    "%%time\n",
    "# Делаем запрос через API\n",
    "# Проходим циклом пока в списке сайта есть объекты \n",
    "# Формируем список с объектами и далее по нему проходим циклом и записываем информацию по объектам в buildings\n",
    "\n",
    "\n",
    "session = requests.Session()\n",
    "retry = Retry(connect=3, backoff_factor=0.5)\n",
    "adapter = HTTPAdapter(max_retries=retry)\n",
    "session.mount('http://', adapter)\n",
    "session.mount('https://', adapter)\n",
    "\n",
    "buildings = []\n",
    "offset = 0\n",
    "limit = 1000\n",
    "length = 1\n",
    "\n",
    "\n",
    "while length > 0:\n",
    "    start = datetime.now()\n",
    "    object_list = []\n",
    "    url = f'https://xn--80az8a.xn--d1aqf.xn--p1ai/%D1%81%D0%B5%D1%80%D0%B2%D0%B8%D1%81%D1%8B/api/kn/object?offset={offset}&limit={limit}&sortField=devId.devShortCleanNm&sortType=asc&objStatus=0'\n",
    "    res = session.get(url)\n",
    "    res_json = res.json()\n",
    "    for i in res_json['data']['list']:\n",
    "        object_list.append(i['objId'])\n",
    "    offset += limit\n",
    "    length = len(res_json['data']['list'])\n",
    "    for i in object_list:\n",
    "        url = f'https://xn--80az8a.xn--d1aqf.xn--p1ai/%D1%81%D0%B5%D1%80%D0%B2%D0%B8%D1%81%D1%8B/api/object/{i}'\n",
    "        res = session.get(url)\n",
    "        res_json = res.json()\n",
    "        buildings.append(res_json)\n",
    "    finish = datetime.now()\n",
    "    print(f'Кол-во выгруженных домов в датасет - {len(buildings)}', f'время выполнения прохода - {finish - start}')\n",
    "    "
   ]
  },
  {
   "cell_type": "code",
   "execution_count": 3,
   "metadata": {},
   "outputs": [
    {
     "data": {
      "text/plain": [
       "10535"
      ]
     },
     "execution_count": 3,
     "metadata": {},
     "output_type": "execute_result"
    }
   ],
   "source": [
    "# Выведем количество объектов недвижимости, которое у нас получилось в итоге\n",
    "len(buildings)"
   ]
  },
  {
   "cell_type": "code",
   "execution_count": 4,
   "metadata": {},
   "outputs": [
    {
     "data": {
      "text/html": [
       "<div>\n",
       "<style scoped>\n",
       "    .dataframe tbody tr th:only-of-type {\n",
       "        vertical-align: middle;\n",
       "    }\n",
       "\n",
       "    .dataframe tbody tr th {\n",
       "        vertical-align: top;\n",
       "    }\n",
       "\n",
       "    .dataframe thead th {\n",
       "        text-align: right;\n",
       "    }\n",
       "</style>\n",
       "<table border=\"1\" class=\"dataframe\">\n",
       "  <thead>\n",
       "    <tr style=\"text-align: right;\">\n",
       "      <th></th>\n",
       "      <th>errcode</th>\n",
       "      <th>data.id</th>\n",
       "      <th>data.pdId</th>\n",
       "      <th>data.developer.devId</th>\n",
       "      <th>data.developer.devShortCleanNm</th>\n",
       "      <th>data.developer.devShortNm</th>\n",
       "      <th>data.developer.devFullCleanNm</th>\n",
       "      <th>data.developer.problObjCnt</th>\n",
       "      <th>data.developer.buildObjCnt</th>\n",
       "      <th>data.developer.comissObjCnt</th>\n",
       "      <th>...</th>\n",
       "      <th>data.developer.bankruptStage.bankruptStageDesc</th>\n",
       "      <th>data.developer.bankruptStage.bankruptLawUrl</th>\n",
       "      <th>data.developer.orgBankruptMsgDttm</th>\n",
       "      <th>data.metro.id</th>\n",
       "      <th>data.metro.name</th>\n",
       "      <th>data.metro.line</th>\n",
       "      <th>data.metro.color</th>\n",
       "      <th>data.metro.time</th>\n",
       "      <th>data.metro.isWalk</th>\n",
       "      <th>data.metro.colors</th>\n",
       "    </tr>\n",
       "  </thead>\n",
       "  <tbody>\n",
       "    <tr>\n",
       "      <th>60</th>\n",
       "      <td>0</td>\n",
       "      <td>41620</td>\n",
       "      <td>472265</td>\n",
       "      <td>7040</td>\n",
       "      <td>АЛЬФА</td>\n",
       "      <td>АЛЬФА</td>\n",
       "      <td>АЛЬФА</td>\n",
       "      <td>0</td>\n",
       "      <td>14</td>\n",
       "      <td>9</td>\n",
       "      <td>...</td>\n",
       "      <td>NaN</td>\n",
       "      <td>NaN</td>\n",
       "      <td>NaN</td>\n",
       "      <td>NaN</td>\n",
       "      <td>NaN</td>\n",
       "      <td>NaN</td>\n",
       "      <td>NaN</td>\n",
       "      <td>NaN</td>\n",
       "      <td>NaN</td>\n",
       "      <td>NaN</td>\n",
       "    </tr>\n",
       "    <tr>\n",
       "      <th>5178</th>\n",
       "      <td>0</td>\n",
       "      <td>27397</td>\n",
       "      <td>91029</td>\n",
       "      <td>6336</td>\n",
       "      <td>СЗ МЕГАСТРОЙ</td>\n",
       "      <td>СЗ МЕГАСТРОЙ</td>\n",
       "      <td>СПЕЦИАЛИЗИРОВАННЫЙ ЗАСТРОЙЩИК МЕГАСТРОЙ</td>\n",
       "      <td>0</td>\n",
       "      <td>1</td>\n",
       "      <td>0</td>\n",
       "      <td>...</td>\n",
       "      <td>NaN</td>\n",
       "      <td>NaN</td>\n",
       "      <td>NaN</td>\n",
       "      <td>NaN</td>\n",
       "      <td>NaN</td>\n",
       "      <td>NaN</td>\n",
       "      <td>NaN</td>\n",
       "      <td>NaN</td>\n",
       "      <td>NaN</td>\n",
       "      <td>NaN</td>\n",
       "    </tr>\n",
       "    <tr>\n",
       "      <th>9835</th>\n",
       "      <td>0</td>\n",
       "      <td>38296</td>\n",
       "      <td>380276</td>\n",
       "      <td>10395</td>\n",
       "      <td>СПЕЦЗАСТРОЙЩИК ЮИТ ГРИН</td>\n",
       "      <td>СПЕЦЗАСТРОЙЩИК ЮИТ ГРИН</td>\n",
       "      <td>СПЕЦИАЛИЗИРОВАННЫЙ ЗАСТРОЙЩИК ЮИТ ГРИН</td>\n",
       "      <td>0</td>\n",
       "      <td>2</td>\n",
       "      <td>2</td>\n",
       "      <td>...</td>\n",
       "      <td>NaN</td>\n",
       "      <td>NaN</td>\n",
       "      <td>NaN</td>\n",
       "      <td>NaN</td>\n",
       "      <td>NaN</td>\n",
       "      <td>NaN</td>\n",
       "      <td>NaN</td>\n",
       "      <td>NaN</td>\n",
       "      <td>NaN</td>\n",
       "      <td>NaN</td>\n",
       "    </tr>\n",
       "    <tr>\n",
       "      <th>8879</th>\n",
       "      <td>0</td>\n",
       "      <td>40339</td>\n",
       "      <td>461353</td>\n",
       "      <td>11098</td>\n",
       "      <td>СЗ-КОНСТРУКТОР</td>\n",
       "      <td>СЗ-КОНСТРУКТОР</td>\n",
       "      <td>СПЕЦИАЛИЗИРОВАННЫЙ ЗАСТРОЙЩИК-КОНСТРУКТОР</td>\n",
       "      <td>0</td>\n",
       "      <td>1</td>\n",
       "      <td>0</td>\n",
       "      <td>...</td>\n",
       "      <td>NaN</td>\n",
       "      <td>NaN</td>\n",
       "      <td>NaN</td>\n",
       "      <td>NaN</td>\n",
       "      <td>NaN</td>\n",
       "      <td>NaN</td>\n",
       "      <td>NaN</td>\n",
       "      <td>NaN</td>\n",
       "      <td>NaN</td>\n",
       "      <td>NaN</td>\n",
       "    </tr>\n",
       "    <tr>\n",
       "      <th>3603</th>\n",
       "      <td>0</td>\n",
       "      <td>41054</td>\n",
       "      <td>449238</td>\n",
       "      <td>11823</td>\n",
       "      <td>СЗ ДОМИР</td>\n",
       "      <td>СЗ ДОМИР</td>\n",
       "      <td>СПЕЦИАЛИЗИРОВАННЫЙ ЗАСТРОЙЩИК ДОМА ИРКУТСКА</td>\n",
       "      <td>0</td>\n",
       "      <td>5</td>\n",
       "      <td>0</td>\n",
       "      <td>...</td>\n",
       "      <td>NaN</td>\n",
       "      <td>NaN</td>\n",
       "      <td>NaN</td>\n",
       "      <td>NaN</td>\n",
       "      <td>NaN</td>\n",
       "      <td>NaN</td>\n",
       "      <td>NaN</td>\n",
       "      <td>NaN</td>\n",
       "      <td>NaN</td>\n",
       "      <td>NaN</td>\n",
       "    </tr>\n",
       "  </tbody>\n",
       "</table>\n",
       "<p>5 rows × 109 columns</p>\n",
       "</div>"
      ],
      "text/plain": [
       "     errcode  data.id  data.pdId  data.developer.devId  \\\n",
       "60         0    41620     472265                  7040   \n",
       "5178       0    27397      91029                  6336   \n",
       "9835       0    38296     380276                 10395   \n",
       "8879       0    40339     461353                 11098   \n",
       "3603       0    41054     449238                 11823   \n",
       "\n",
       "     data.developer.devShortCleanNm data.developer.devShortNm  \\\n",
       "60                            АЛЬФА                     АЛЬФА   \n",
       "5178                   СЗ МЕГАСТРОЙ              СЗ МЕГАСТРОЙ   \n",
       "9835        СПЕЦЗАСТРОЙЩИК ЮИТ ГРИН   СПЕЦЗАСТРОЙЩИК ЮИТ ГРИН   \n",
       "8879                 СЗ-КОНСТРУКТОР            СЗ-КОНСТРУКТОР   \n",
       "3603                       СЗ ДОМИР                  СЗ ДОМИР   \n",
       "\n",
       "                    data.developer.devFullCleanNm  data.developer.problObjCnt  \\\n",
       "60                                          АЛЬФА                           0   \n",
       "5178      СПЕЦИАЛИЗИРОВАННЫЙ ЗАСТРОЙЩИК МЕГАСТРОЙ                           0   \n",
       "9835       СПЕЦИАЛИЗИРОВАННЫЙ ЗАСТРОЙЩИК ЮИТ ГРИН                           0   \n",
       "8879    СПЕЦИАЛИЗИРОВАННЫЙ ЗАСТРОЙЩИК-КОНСТРУКТОР                           0   \n",
       "3603  СПЕЦИАЛИЗИРОВАННЫЙ ЗАСТРОЙЩИК ДОМА ИРКУТСКА                           0   \n",
       "\n",
       "      data.developer.buildObjCnt  data.developer.comissObjCnt  ...  \\\n",
       "60                            14                            9  ...   \n",
       "5178                           1                            0  ...   \n",
       "9835                           2                            2  ...   \n",
       "8879                           1                            0  ...   \n",
       "3603                           5                            0  ...   \n",
       "\n",
       "     data.developer.bankruptStage.bankruptStageDesc  \\\n",
       "60                                              NaN   \n",
       "5178                                            NaN   \n",
       "9835                                            NaN   \n",
       "8879                                            NaN   \n",
       "3603                                            NaN   \n",
       "\n",
       "     data.developer.bankruptStage.bankruptLawUrl  \\\n",
       "60                                           NaN   \n",
       "5178                                         NaN   \n",
       "9835                                         NaN   \n",
       "8879                                         NaN   \n",
       "3603                                         NaN   \n",
       "\n",
       "     data.developer.orgBankruptMsgDttm data.metro.id data.metro.name  \\\n",
       "60                                 NaN           NaN             NaN   \n",
       "5178                               NaN           NaN             NaN   \n",
       "9835                               NaN           NaN             NaN   \n",
       "8879                               NaN           NaN             NaN   \n",
       "3603                               NaN           NaN             NaN   \n",
       "\n",
       "     data.metro.line data.metro.color data.metro.time data.metro.isWalk  \\\n",
       "60               NaN              NaN             NaN               NaN   \n",
       "5178             NaN              NaN             NaN               NaN   \n",
       "9835             NaN              NaN             NaN               NaN   \n",
       "8879             NaN              NaN             NaN               NaN   \n",
       "3603             NaN              NaN             NaN               NaN   \n",
       "\n",
       "      data.metro.colors  \n",
       "60                  NaN  \n",
       "5178                NaN  \n",
       "9835                NaN  \n",
       "8879                NaN  \n",
       "3603                NaN  \n",
       "\n",
       "[5 rows x 109 columns]"
      ]
     },
     "execution_count": 4,
     "metadata": {},
     "output_type": "execute_result"
    }
   ],
   "source": [
    "# Формируем датафрейм с помощью json_normalize и выведем 5 случайных строк\n",
    "df = pd.json_normalize(buildings)\n",
    "df.sample(5)"
   ]
  },
  {
   "cell_type": "markdown",
   "metadata": {},
   "source": [
    "По части колонок у нас есть пропуски. Необходимо будет их обработать заполнив пропуски"
   ]
  },
  {
   "cell_type": "markdown",
   "metadata": {},
   "source": [
    "### **Сохраняем полученный датафрейм в различные форматы**"
   ]
  },
  {
   "cell_type": "markdown",
   "metadata": {},
   "source": [
    "### *Сохраняем в Excel*"
   ]
  },
  {
   "cell_type": "code",
   "execution_count": 5,
   "metadata": {},
   "outputs": [],
   "source": [
    "df.to_excel('df_dmrf.xlsx')"
   ]
  },
  {
   "cell_type": "markdown",
   "metadata": {},
   "source": [
    "### *Сохраняем в Pickle*"
   ]
  },
  {
   "cell_type": "code",
   "execution_count": 6,
   "metadata": {},
   "outputs": [],
   "source": [
    "df.to_pickle('df_dmrf.pkl')"
   ]
  },
  {
   "cell_type": "markdown",
   "metadata": {},
   "source": [
    "### *Сохраняем в БД*"
   ]
  },
  {
   "cell_type": "code",
   "execution_count": 7,
   "metadata": {},
   "outputs": [],
   "source": [
    "con = sqlite3.connect('ds_repo.db')"
   ]
  },
  {
   "cell_type": "code",
   "execution_count": 8,
   "metadata": {},
   "outputs": [],
   "source": [
    "df = df.applymap(str)\n",
    "df.to_sql('df_dmrf', con, if_exists = 'replace')"
   ]
  },
  {
   "cell_type": "code",
   "execution_count": 9,
   "metadata": {},
   "outputs": [],
   "source": [
    "con.commit()\n",
    "con.close()"
   ]
  }
 ],
 "metadata": {
  "kernelspec": {
   "display_name": "Python 3",
   "language": "python",
   "name": "python3"
  },
  "language_info": {
   "codemirror_mode": {
    "name": "ipython",
    "version": 3
   },
   "file_extension": ".py",
   "mimetype": "text/x-python",
   "name": "python",
   "nbconvert_exporter": "python",
   "pygments_lexer": "ipython3",
   "version": "3.8.5"
  }
 },
 "nbformat": 4,
 "nbformat_minor": 4
}
