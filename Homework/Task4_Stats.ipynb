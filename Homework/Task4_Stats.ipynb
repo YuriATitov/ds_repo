{
 "cells": [
  {
   "cell_type": "markdown",
   "metadata": {},
   "source": [
    "## Практика"
   ]
  },
  {
   "cell_type": "code",
   "execution_count": 1,
   "metadata": {},
   "outputs": [],
   "source": [
    "import pandas as pd\n",
    "import random\n",
    "import warnings\n",
    "warnings.filterwarnings('ignore')"
   ]
  },
  {
   "cell_type": "markdown",
   "metadata": {},
   "source": [
    "### Задача 1"
   ]
  },
  {
   "cell_type": "markdown",
   "metadata": {},
   "source": [
    "На основании данных портала \"Открытые данные России\" о результатах Химического анализа родника в Нескучном саду https://data.gov.ru/opendata/7708660670-rodnik-neskuchniy-sad средствами библиотеки Pandas сформируйте поле выводов по каждому анализирумомому параметру. Например, по показателю pH получен результат 8.4 единицы pH при нормативе от 6 до 9 единиц pH. Т.о. по данному показателю результат анализа в норме. Для решения задачи необходимо программно \"прочитать и понять\" значение столбца \"Норматив\" и выделенное численное значение сравнить с нормативом согласно логике норматива. Например, 6 >= pH >= 9. В итоговом DataFrame столбец \"Показатель\" сделайте индексным.\n",
    "\n",
    "Загзрузка DataFrame выполняется непосредственно c сайта \"Открытые данные России\" https://data.gov.ru/opendata/7708660670-rodnik-neskuchniy-sad/data-20160608T1215-structure-20160608T1215.csv (см. код ниже)."
   ]
  },
  {
   "cell_type": "code",
   "execution_count": 2,
   "metadata": {},
   "outputs": [
    {
     "data": {
      "text/html": [
       "<div>\n",
       "<style scoped>\n",
       "    .dataframe tbody tr th:only-of-type {\n",
       "        vertical-align: middle;\n",
       "    }\n",
       "\n",
       "    .dataframe tbody tr th {\n",
       "        vertical-align: top;\n",
       "    }\n",
       "\n",
       "    .dataframe thead th {\n",
       "        text-align: right;\n",
       "    }\n",
       "</style>\n",
       "<table border=\"1\" class=\"dataframe\">\n",
       "  <thead>\n",
       "    <tr style=\"text-align: right;\">\n",
       "      <th></th>\n",
       "      <th>Показатель</th>\n",
       "      <th>Единица измерений</th>\n",
       "      <th>Результат анализа</th>\n",
       "      <th>Норматив</th>\n",
       "    </tr>\n",
       "  </thead>\n",
       "  <tbody>\n",
       "    <tr>\n",
       "      <th>0</th>\n",
       "      <td>pH</td>\n",
       "      <td>единицы pH</td>\n",
       "      <td>8.4</td>\n",
       "      <td>в пределах 6-9</td>\n",
       "    </tr>\n",
       "    <tr>\n",
       "      <th>1</th>\n",
       "      <td>Запах</td>\n",
       "      <td>баллы</td>\n",
       "      <td>1</td>\n",
       "      <td>не более 2-3</td>\n",
       "    </tr>\n",
       "    <tr>\n",
       "      <th>2</th>\n",
       "      <td>Цветность</td>\n",
       "      <td>градусы</td>\n",
       "      <td>б/цвета</td>\n",
       "      <td>не более 30</td>\n",
       "    </tr>\n",
       "    <tr>\n",
       "      <th>3</th>\n",
       "      <td>Жёсткость</td>\n",
       "      <td>мг-эквл/дм3</td>\n",
       "      <td>9.199999999999999</td>\n",
       "      <td>в пределах 7-10</td>\n",
       "    </tr>\n",
       "    <tr>\n",
       "      <th>4</th>\n",
       "      <td>Аммиак и аммоний-ион (по азоту)</td>\n",
       "      <td>мг/дм3</td>\n",
       "      <td>0.42</td>\n",
       "      <td>не более 1,5</td>\n",
       "    </tr>\n",
       "    <tr>\n",
       "      <th>5</th>\n",
       "      <td>Нитриты (по NO2)</td>\n",
       "      <td>мг/дм3</td>\n",
       "      <td>0.017</td>\n",
       "      <td>не более 3,3</td>\n",
       "    </tr>\n",
       "    <tr>\n",
       "      <th>6</th>\n",
       "      <td>Нитраты (по NO3)</td>\n",
       "      <td>мг/дм3</td>\n",
       "      <td>24</td>\n",
       "      <td>не более 45</td>\n",
       "    </tr>\n",
       "    <tr>\n",
       "      <th>7</th>\n",
       "      <td>Фосфаты (P)</td>\n",
       "      <td>мг/дм3</td>\n",
       "      <td>0.36</td>\n",
       "      <td>не более 3,5</td>\n",
       "    </tr>\n",
       "    <tr>\n",
       "      <th>8</th>\n",
       "      <td>Хлориды (Cl)</td>\n",
       "      <td>мг/дм3</td>\n",
       "      <td>200</td>\n",
       "      <td>не более 350</td>\n",
       "    </tr>\n",
       "    <tr>\n",
       "      <th>9</th>\n",
       "      <td>Сульфаты (SO4)</td>\n",
       "      <td>мг/дм3</td>\n",
       "      <td>189.5</td>\n",
       "      <td>не более 500</td>\n",
       "    </tr>\n",
       "    <tr>\n",
       "      <th>10</th>\n",
       "      <td>Железо (включая хлорное железо) по Fe</td>\n",
       "      <td>мг/дм3</td>\n",
       "      <td>0.019</td>\n",
       "      <td>не более 0,3</td>\n",
       "    </tr>\n",
       "    <tr>\n",
       "      <th>11</th>\n",
       "      <td>Нефть</td>\n",
       "      <td>мг/дм3</td>\n",
       "      <td>0.55</td>\n",
       "      <td>не более 0,3</td>\n",
       "    </tr>\n",
       "    <tr>\n",
       "      <th>12</th>\n",
       "      <td>Общая минерализация (сухой остаток)</td>\n",
       "      <td>мг/дм3</td>\n",
       "      <td>590</td>\n",
       "      <td>не более 1000</td>\n",
       "    </tr>\n",
       "    <tr>\n",
       "      <th>13</th>\n",
       "      <td>Окисляемость перманганатная</td>\n",
       "      <td>мг/дм3</td>\n",
       "      <td>2</td>\n",
       "      <td>не более 0,5</td>\n",
       "    </tr>\n",
       "  </tbody>\n",
       "</table>\n",
       "</div>"
      ],
      "text/plain": [
       "                               Показатель Единица измерений  \\\n",
       "0                                      pH        единицы pH   \n",
       "1                                   Запах             баллы   \n",
       "2                               Цветность           градусы   \n",
       "3                               Жёсткость       мг-эквл/дм3   \n",
       "4         Аммиак и аммоний-ион (по азоту)            мг/дм3   \n",
       "5                        Нитриты (по NO2)            мг/дм3   \n",
       "6                        Нитраты (по NO3)            мг/дм3   \n",
       "7                             Фосфаты (P)            мг/дм3   \n",
       "8                            Хлориды (Cl)            мг/дм3   \n",
       "9                          Сульфаты (SO4)            мг/дм3   \n",
       "10  Железо (включая хлорное железо) по Fe            мг/дм3   \n",
       "11                                  Нефть            мг/дм3   \n",
       "12    Общая минерализация (сухой остаток)            мг/дм3   \n",
       "13            Окисляемость перманганатная            мг/дм3   \n",
       "\n",
       "    Результат анализа         Норматив  \n",
       "0                 8.4   в пределах 6-9  \n",
       "1                   1     не более 2-3  \n",
       "2             б/цвета      не более 30  \n",
       "3   9.199999999999999  в пределах 7-10  \n",
       "4                0.42     не более 1,5  \n",
       "5               0.017     не более 3,3  \n",
       "6                  24      не более 45  \n",
       "7                0.36     не более 3,5  \n",
       "8                 200     не более 350  \n",
       "9               189.5     не более 500  \n",
       "10              0.019     не более 0,3  \n",
       "11               0.55     не более 0,3  \n",
       "12                590    не более 1000  \n",
       "13                  2     не более 0,5  "
      ]
     },
     "metadata": {},
     "output_type": "display_data"
    }
   ],
   "source": [
    "# Зачитываем файл с данными в наш датафрейм\n",
    "df=pd.read_csv(\"Химический анализ родника в Нескучном саду.csv\", sep=',')\n",
    "display(df)"
   ]
  },
  {
   "cell_type": "markdown",
   "metadata": {},
   "source": [
    "Напишем функцию, которая на основе двух колонок \"Результат анализа\" и \"Норматив\" создает колонку \"Выводы\" с расшифровкой результата анализа"
   ]
  },
  {
   "cell_type": "code",
   "execution_count": 3,
   "metadata": {},
   "outputs": [],
   "source": [
    "def translate_results(df):\n",
    "    for i in range(len(df)):\n",
    "        if df['Результат анализа'].iloc[i] == 'б/цвета':\n",
    "            df['Результат анализа'].iloc[i] = '0'\n",
    "        result = float(df['Результат анализа'].iloc[i])\n",
    "        normativ = df['Норматив'].iloc[i].replace(',', '.')\n",
    "        splitlist = normativ.split(' ')\n",
    "        if splitlist[0] == 'в' and splitlist[1] == 'пределах':\n",
    "            ranges = splitlist[2].split('-')\n",
    "            if result >= float(ranges[0]) and result <= float(ranges[1]):\n",
    "                df['Выводы'] = 'Норма'\n",
    "            else: \n",
    "                df['Выводы'] = 'НЕ НОРМА'\n",
    "        elif splitlist[0] == 'не' and splitlist[1] == 'более':\n",
    "            if '-' in splitlist[2]:\n",
    "                ranges = splitlist[2].split('-')\n",
    "                if result <= float(ranges[-1]):\n",
    "                    df['Выводы'].iloc[i] = 'Норма'\n",
    "                else: \n",
    "                    df['Выводы'].iloc[i] = 'НЕ НОРМА'\n",
    "            else:\n",
    "                if result <= float(splitlist[2]):\n",
    "                    df['Выводы'].iloc[i] = 'Норма'\n",
    "                else: \n",
    "                    df['Выводы'].iloc[i] = 'НЕ НОРМА'\n",
    "        else:\n",
    "            df['Выводы'].iloc[i] = 'NA'"
   ]
  },
  {
   "cell_type": "code",
   "execution_count": 4,
   "metadata": {},
   "outputs": [],
   "source": [
    "# Применим функцию к нашему датафрейму\n",
    "translate_results(df)"
   ]
  },
  {
   "cell_type": "code",
   "execution_count": 5,
   "metadata": {},
   "outputs": [],
   "source": [
    "# Назначим колонку \"Показатель\" как колонку с индексом\n",
    "df = df.set_index('Показатель')"
   ]
  },
  {
   "cell_type": "code",
   "execution_count": 6,
   "metadata": {},
   "outputs": [
    {
     "data": {
      "text/html": [
       "<div>\n",
       "<style scoped>\n",
       "    .dataframe tbody tr th:only-of-type {\n",
       "        vertical-align: middle;\n",
       "    }\n",
       "\n",
       "    .dataframe tbody tr th {\n",
       "        vertical-align: top;\n",
       "    }\n",
       "\n",
       "    .dataframe thead th {\n",
       "        text-align: right;\n",
       "    }\n",
       "</style>\n",
       "<table border=\"1\" class=\"dataframe\">\n",
       "  <thead>\n",
       "    <tr style=\"text-align: right;\">\n",
       "      <th></th>\n",
       "      <th>Единица измерений</th>\n",
       "      <th>Результат анализа</th>\n",
       "      <th>Норматив</th>\n",
       "      <th>Выводы</th>\n",
       "    </tr>\n",
       "    <tr>\n",
       "      <th>Показатель</th>\n",
       "      <th></th>\n",
       "      <th></th>\n",
       "      <th></th>\n",
       "      <th></th>\n",
       "    </tr>\n",
       "  </thead>\n",
       "  <tbody>\n",
       "    <tr>\n",
       "      <th>pH</th>\n",
       "      <td>единицы pH</td>\n",
       "      <td>8.4</td>\n",
       "      <td>в пределах 6-9</td>\n",
       "      <td>Норма</td>\n",
       "    </tr>\n",
       "    <tr>\n",
       "      <th>Запах</th>\n",
       "      <td>баллы</td>\n",
       "      <td>1</td>\n",
       "      <td>не более 2-3</td>\n",
       "      <td>Норма</td>\n",
       "    </tr>\n",
       "    <tr>\n",
       "      <th>Цветность</th>\n",
       "      <td>градусы</td>\n",
       "      <td>0</td>\n",
       "      <td>не более 30</td>\n",
       "      <td>Норма</td>\n",
       "    </tr>\n",
       "    <tr>\n",
       "      <th>Жёсткость</th>\n",
       "      <td>мг-эквл/дм3</td>\n",
       "      <td>9.199999999999999</td>\n",
       "      <td>в пределах 7-10</td>\n",
       "      <td>Норма</td>\n",
       "    </tr>\n",
       "    <tr>\n",
       "      <th>Аммиак и аммоний-ион (по азоту)</th>\n",
       "      <td>мг/дм3</td>\n",
       "      <td>0.42</td>\n",
       "      <td>не более 1,5</td>\n",
       "      <td>Норма</td>\n",
       "    </tr>\n",
       "    <tr>\n",
       "      <th>Нитриты (по NO2)</th>\n",
       "      <td>мг/дм3</td>\n",
       "      <td>0.017</td>\n",
       "      <td>не более 3,3</td>\n",
       "      <td>Норма</td>\n",
       "    </tr>\n",
       "    <tr>\n",
       "      <th>Нитраты (по NO3)</th>\n",
       "      <td>мг/дм3</td>\n",
       "      <td>24</td>\n",
       "      <td>не более 45</td>\n",
       "      <td>Норма</td>\n",
       "    </tr>\n",
       "    <tr>\n",
       "      <th>Фосфаты (P)</th>\n",
       "      <td>мг/дм3</td>\n",
       "      <td>0.36</td>\n",
       "      <td>не более 3,5</td>\n",
       "      <td>Норма</td>\n",
       "    </tr>\n",
       "    <tr>\n",
       "      <th>Хлориды (Cl)</th>\n",
       "      <td>мг/дм3</td>\n",
       "      <td>200</td>\n",
       "      <td>не более 350</td>\n",
       "      <td>Норма</td>\n",
       "    </tr>\n",
       "    <tr>\n",
       "      <th>Сульфаты (SO4)</th>\n",
       "      <td>мг/дм3</td>\n",
       "      <td>189.5</td>\n",
       "      <td>не более 500</td>\n",
       "      <td>Норма</td>\n",
       "    </tr>\n",
       "    <tr>\n",
       "      <th>Железо (включая хлорное железо) по Fe</th>\n",
       "      <td>мг/дм3</td>\n",
       "      <td>0.019</td>\n",
       "      <td>не более 0,3</td>\n",
       "      <td>Норма</td>\n",
       "    </tr>\n",
       "    <tr>\n",
       "      <th>Нефть</th>\n",
       "      <td>мг/дм3</td>\n",
       "      <td>0.55</td>\n",
       "      <td>не более 0,3</td>\n",
       "      <td>НЕ НОРМА</td>\n",
       "    </tr>\n",
       "    <tr>\n",
       "      <th>Общая минерализация (сухой остаток)</th>\n",
       "      <td>мг/дм3</td>\n",
       "      <td>590</td>\n",
       "      <td>не более 1000</td>\n",
       "      <td>Норма</td>\n",
       "    </tr>\n",
       "    <tr>\n",
       "      <th>Окисляемость перманганатная</th>\n",
       "      <td>мг/дм3</td>\n",
       "      <td>2</td>\n",
       "      <td>не более 0,5</td>\n",
       "      <td>НЕ НОРМА</td>\n",
       "    </tr>\n",
       "  </tbody>\n",
       "</table>\n",
       "</div>"
      ],
      "text/plain": [
       "                                      Единица измерений  Результат анализа  \\\n",
       "Показатель                                                                   \n",
       "pH                                           единицы pH                8.4   \n",
       "Запах                                             баллы                  1   \n",
       "Цветность                                       градусы                  0   \n",
       "Жёсткость                                   мг-эквл/дм3  9.199999999999999   \n",
       "Аммиак и аммоний-ион (по азоту)                  мг/дм3               0.42   \n",
       "Нитриты (по NO2)                                 мг/дм3              0.017   \n",
       "Нитраты (по NO3)                                 мг/дм3                 24   \n",
       "Фосфаты (P)                                      мг/дм3               0.36   \n",
       "Хлориды (Cl)                                     мг/дм3                200   \n",
       "Сульфаты (SO4)                                   мг/дм3              189.5   \n",
       "Железо (включая хлорное железо) по Fe            мг/дм3              0.019   \n",
       "Нефть                                            мг/дм3               0.55   \n",
       "Общая минерализация (сухой остаток)              мг/дм3                590   \n",
       "Окисляемость перманганатная                      мг/дм3                  2   \n",
       "\n",
       "                                              Норматив    Выводы  \n",
       "Показатель                                                        \n",
       "pH                                      в пределах 6-9     Норма  \n",
       "Запах                                     не более 2-3     Норма  \n",
       "Цветность                                  не более 30     Норма  \n",
       "Жёсткость                              в пределах 7-10     Норма  \n",
       "Аммиак и аммоний-ион (по азоту)           не более 1,5     Норма  \n",
       "Нитриты (по NO2)                          не более 3,3     Норма  \n",
       "Нитраты (по NO3)                           не более 45     Норма  \n",
       "Фосфаты (P)                               не более 3,5     Норма  \n",
       "Хлориды (Cl)                              не более 350     Норма  \n",
       "Сульфаты (SO4)                            не более 500     Норма  \n",
       "Железо (включая хлорное железо) по Fe     не более 0,3     Норма  \n",
       "Нефть                                     не более 0,3  НЕ НОРМА  \n",
       "Общая минерализация (сухой остаток)      не более 1000     Норма  \n",
       "Окисляемость перманганатная               не более 0,5  НЕ НОРМА  "
      ]
     },
     "execution_count": 6,
     "metadata": {},
     "output_type": "execute_result"
    }
   ],
   "source": [
    "# Выведем получившийся датафрейм\n",
    "df"
   ]
  },
  {
   "cell_type": "markdown",
   "metadata": {},
   "source": [
    "#### Вывод: Только для двух показателей вода не соответствует норме: \"Нефть\" и \"Окисляемость перманганатная\""
   ]
  },
  {
   "cell_type": "markdown",
   "metadata": {},
   "source": [
    "## Теория вероятности. События\n"
   ]
  },
  {
   "cell_type": "markdown",
   "metadata": {},
   "source": [
    "Требуется сгенерировать необходимые выборки и произвести по ним расчеты"
   ]
  },
  {
   "cell_type": "markdown",
   "metadata": {},
   "source": [
    "### Задача 2"
   ]
  },
  {
   "cell_type": "markdown",
   "metadata": {},
   "source": [
    "В ящике 5 апельсинов и 4 яблока. Наудачу выбираются 3 фрукта. Какова вероятность, что все три фрукта – апельсины?\n",
    "\n",
    "В интернете полученный аналитически ответ 0.119. Подтверждается ли он эксперементально?"
   ]
  },
  {
   "cell_type": "code",
   "execution_count": 7,
   "metadata": {},
   "outputs": [],
   "source": [
    "# Напишем функцию, которая возвращает кортеж из 3 взятых последовательно фруктов\n",
    "# В функции реализуем цикл из трех фруктов извлекаемых из ящика. Важно, что количество отсавшихся будет уменьшаться\n",
    "def fruits_take():\n",
    "    taken = []\n",
    "    box = ['orange']*5 + ['apple']*4\n",
    "    for i in range(3):\n",
    "        #print(i, box)\n",
    "        take_one = random.choice(box)\n",
    "        taken.append(take_one)\n",
    "        box.remove(take_one)\n",
    "    return tuple(taken)"
   ]
  },
  {
   "cell_type": "code",
   "execution_count": 8,
   "metadata": {},
   "outputs": [
    {
     "name": "stdout",
     "output_type": "stream",
     "text": [
      "0.114\n"
     ]
    }
   ],
   "source": [
    "# Задаем количество экспериментов = 1000\n",
    "n = 1000\n",
    "\n",
    "# Формируем выборку\n",
    "sample = pd.DataFrame({\"fruits\": list(map(lambda item: fruits_take(), range(n)))\n",
    "})\n",
    "\n",
    "# Считаем статистику по выборке\n",
    "\n",
    "P_oranges = len(sample[sample['fruits'] == ('orange', 'orange', 'orange')])/sample.shape[0]\n",
    "print(P_oranges)"
   ]
  },
  {
   "cell_type": "markdown",
   "metadata": {},
   "source": [
    "Увеличим выборку до 10к"
   ]
  },
  {
   "cell_type": "code",
   "execution_count": 9,
   "metadata": {},
   "outputs": [
    {
     "name": "stdout",
     "output_type": "stream",
     "text": [
      "0.1177\n"
     ]
    }
   ],
   "source": [
    "# Задаем количество экспериментов = 10000\n",
    "n = 10000\n",
    "\n",
    "# Формируем выборку\n",
    "sample = pd.DataFrame({\"fruits\": list(map(lambda item: fruits_take(), range(n)))\n",
    "})\n",
    "\n",
    "# Считаем статистику по выборке\n",
    "\n",
    "P_oranges = len(sample[sample['fruits'] == ('orange', 'orange', 'orange')])/sample.shape[0]\n",
    "print(P_oranges)"
   ]
  },
  {
   "cell_type": "markdown",
   "metadata": {},
   "source": [
    "Увеличим выборку до 1 млн"
   ]
  },
  {
   "cell_type": "code",
   "execution_count": 10,
   "metadata": {},
   "outputs": [
    {
     "name": "stdout",
     "output_type": "stream",
     "text": [
      "0.119181\n"
     ]
    }
   ],
   "source": [
    "# Задаем количество экспериментов = 10000\n",
    "n = 1000000\n",
    "\n",
    "# Формируем выборку\n",
    "sample = pd.DataFrame({\"fruits\": list(map(lambda item: fruits_take(), range(n)))\n",
    "})\n",
    "\n",
    "# Считаем статистику по выборке\n",
    "\n",
    "P_oranges = len(sample[sample['fruits'] == ('orange', 'orange', 'orange')])/sample.shape[0]\n",
    "print(P_oranges)"
   ]
  },
  {
   "cell_type": "markdown",
   "metadata": {},
   "source": [
    "#### Вывод: При достаточно большом количестве экспериментов мы получаем ответ близкий к теоретическому 0.119"
   ]
  },
  {
   "cell_type": "markdown",
   "metadata": {},
   "source": [
    "### Задача 3"
   ]
  },
  {
   "cell_type": "markdown",
   "metadata": {},
   "source": [
    "Мастер, имея 10 деталей, из которых 3 – нестандартных, проверяет детали одну за другой, пока ему не попадется стандартная. Какова вероятность, что он проверит ровно две детали?\n",
    "\n",
    "В интернете полученный аналитически ответ 7/30 или 0.23333. Подтверждается ли он эксперементально?"
   ]
  },
  {
   "cell_type": "code",
   "execution_count": 11,
   "metadata": {},
   "outputs": [],
   "source": [
    "# Напишем функцию, которая возвращает реализует проверку деталей\n",
    "# Будем использовать цикл while, который пополняет список деталями пока не попадется стандартная деталь. Далее переведем список в кортеж\n",
    "def details():\n",
    "    taken = []\n",
    "    box = ['standard']*7 + ['non-standard']*3\n",
    "    while 'standard' not in taken:\n",
    "        take_one = random.choice(box)\n",
    "        taken.append(take_one)\n",
    "        box.remove(take_one)\n",
    "    return tuple(taken)"
   ]
  },
  {
   "cell_type": "code",
   "execution_count": 12,
   "metadata": {},
   "outputs": [
    {
     "name": "stdout",
     "output_type": "stream",
     "text": [
      "0.227\n"
     ]
    }
   ],
   "source": [
    "# Задаем количество экспериментов = 1000\n",
    "n = 1000\n",
    "\n",
    "# Формируем выборку\n",
    "sample = pd.DataFrame({\"details\": list(map(lambda item: details(), range(n)))\n",
    "})\n",
    "\n",
    "# Считаем статистику по выборке\n",
    "\n",
    "P_two = len(sample[sample['details'] == ('non-standard', 'standard')])/sample.shape[0]\n",
    "print(P_two)"
   ]
  },
  {
   "cell_type": "markdown",
   "metadata": {},
   "source": [
    "Увеличим выборку до 10к"
   ]
  },
  {
   "cell_type": "code",
   "execution_count": 13,
   "metadata": {},
   "outputs": [
    {
     "name": "stdout",
     "output_type": "stream",
     "text": [
      "0.2303\n"
     ]
    }
   ],
   "source": [
    "# Задаем количество экспериментов = 10000\n",
    "n = 10000\n",
    "\n",
    "# Формируем выборку\n",
    "sample = pd.DataFrame({\"details\": list(map(lambda item: details(), range(n)))\n",
    "})\n",
    "\n",
    "# Считаем статистику по выборке\n",
    "\n",
    "P_two = len(sample[sample['details'] == ('non-standard', 'standard')])/sample.shape[0]\n",
    "print(P_two)"
   ]
  },
  {
   "cell_type": "markdown",
   "metadata": {},
   "source": [
    "Увеличим выборку до 1 млн"
   ]
  },
  {
   "cell_type": "code",
   "execution_count": 14,
   "metadata": {},
   "outputs": [
    {
     "name": "stdout",
     "output_type": "stream",
     "text": [
      "0.232916\n"
     ]
    }
   ],
   "source": [
    "# Задаем количество экспериментов = 100000\n",
    "n = 1000000\n",
    "\n",
    "# Формируем выборку\n",
    "sample = pd.DataFrame({\"details\": list(map(lambda item: details(), range(n)))\n",
    "})\n",
    "\n",
    "# Считаем статистику по выборке\n",
    "\n",
    "P_two = len(sample[sample['details'] == ('non-standard', 'standard')])/sample.shape[0]\n",
    "print(P_two)"
   ]
  },
  {
   "cell_type": "markdown",
   "metadata": {},
   "source": [
    "#### Вывод: При достаточно большом количестве экспериментов мы получаем ответ близкий к теоретическому 0.23333"
   ]
  },
  {
   "cell_type": "code",
   "execution_count": null,
   "metadata": {},
   "outputs": [],
   "source": []
  }
 ],
 "metadata": {
  "kernelspec": {
   "display_name": "Python 3",
   "language": "python",
   "name": "python3"
  },
  "language_info": {
   "codemirror_mode": {
    "name": "ipython",
    "version": 3
   },
   "file_extension": ".py",
   "mimetype": "text/x-python",
   "name": "python",
   "nbconvert_exporter": "python",
   "pygments_lexer": "ipython3",
   "version": "3.8.5"
  }
 },
 "nbformat": 4,
 "nbformat_minor": 4
}
