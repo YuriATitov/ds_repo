{
 "cells": [
  {
   "cell_type": "code",
   "execution_count": 174,
   "metadata": {},
   "outputs": [],
   "source": [
    "import pandas as pd\n",
    "import numpy as np\n",
    "from matplotlib import pyplot as plt\n",
    "from sklearn.model_selection import KFold, cross_val_score, train_test_split, cross_validate, GridSearchCV\n",
    "from sklearn.metrics import mean_squared_error, r2_score, accuracy_score, f1_score, precision_score, recall_score\n",
    "from sklearn.preprocessing import LabelEncoder\n",
    "from sklearn.pipeline import Pipeline\n",
    "\n",
    "from sklearn.tree import DecisionTreeRegressor, DecisionTreeClassifier\n",
    "from sklearn.ensemble import RandomForestRegressor, RandomForestClassifier, BaggingClassifier, GradientBoostingClassifier, BaggingRegressor,GradientBoostingRegressor\n",
    "from sklearn.ensemble import StackingClassifier\n",
    "import xgboost as xgb\n",
    "import lightgbm as lgm\n",
    "import catboost as ctb"
   ]
  },
  {
   "cell_type": "markdown",
   "metadata": {},
   "source": [
    "https://archive.ics.uci.edu/ml/datasets/wine+quality"
   ]
  },
  {
   "cell_type": "code",
   "execution_count": 6,
   "metadata": {},
   "outputs": [],
   "source": [
    "link = 'https://archive.ics.uci.edu/ml/machine-learning-databases/wine-quality/winequality-red.csv'\n",
    "data = pd.read_csv(link, sep=';')"
   ]
  },
  {
   "cell_type": "code",
   "execution_count": 7,
   "metadata": {},
   "outputs": [
    {
     "data": {
      "text/html": [
       "<div>\n",
       "<style scoped>\n",
       "    .dataframe tbody tr th:only-of-type {\n",
       "        vertical-align: middle;\n",
       "    }\n",
       "\n",
       "    .dataframe tbody tr th {\n",
       "        vertical-align: top;\n",
       "    }\n",
       "\n",
       "    .dataframe thead th {\n",
       "        text-align: right;\n",
       "    }\n",
       "</style>\n",
       "<table border=\"1\" class=\"dataframe\">\n",
       "  <thead>\n",
       "    <tr style=\"text-align: right;\">\n",
       "      <th></th>\n",
       "      <th>fixed acidity</th>\n",
       "      <th>volatile acidity</th>\n",
       "      <th>citric acid</th>\n",
       "      <th>residual sugar</th>\n",
       "      <th>chlorides</th>\n",
       "      <th>free sulfur dioxide</th>\n",
       "      <th>total sulfur dioxide</th>\n",
       "      <th>density</th>\n",
       "      <th>pH</th>\n",
       "      <th>sulphates</th>\n",
       "      <th>alcohol</th>\n",
       "      <th>quality</th>\n",
       "    </tr>\n",
       "  </thead>\n",
       "  <tbody>\n",
       "    <tr>\n",
       "      <th>0</th>\n",
       "      <td>7.4</td>\n",
       "      <td>0.700</td>\n",
       "      <td>0.00</td>\n",
       "      <td>1.9</td>\n",
       "      <td>0.076</td>\n",
       "      <td>11.0</td>\n",
       "      <td>34.0</td>\n",
       "      <td>0.99780</td>\n",
       "      <td>3.51</td>\n",
       "      <td>0.56</td>\n",
       "      <td>9.4</td>\n",
       "      <td>5</td>\n",
       "    </tr>\n",
       "    <tr>\n",
       "      <th>1</th>\n",
       "      <td>7.8</td>\n",
       "      <td>0.880</td>\n",
       "      <td>0.00</td>\n",
       "      <td>2.6</td>\n",
       "      <td>0.098</td>\n",
       "      <td>25.0</td>\n",
       "      <td>67.0</td>\n",
       "      <td>0.99680</td>\n",
       "      <td>3.20</td>\n",
       "      <td>0.68</td>\n",
       "      <td>9.8</td>\n",
       "      <td>5</td>\n",
       "    </tr>\n",
       "    <tr>\n",
       "      <th>2</th>\n",
       "      <td>7.8</td>\n",
       "      <td>0.760</td>\n",
       "      <td>0.04</td>\n",
       "      <td>2.3</td>\n",
       "      <td>0.092</td>\n",
       "      <td>15.0</td>\n",
       "      <td>54.0</td>\n",
       "      <td>0.99700</td>\n",
       "      <td>3.26</td>\n",
       "      <td>0.65</td>\n",
       "      <td>9.8</td>\n",
       "      <td>5</td>\n",
       "    </tr>\n",
       "    <tr>\n",
       "      <th>3</th>\n",
       "      <td>11.2</td>\n",
       "      <td>0.280</td>\n",
       "      <td>0.56</td>\n",
       "      <td>1.9</td>\n",
       "      <td>0.075</td>\n",
       "      <td>17.0</td>\n",
       "      <td>60.0</td>\n",
       "      <td>0.99800</td>\n",
       "      <td>3.16</td>\n",
       "      <td>0.58</td>\n",
       "      <td>9.8</td>\n",
       "      <td>6</td>\n",
       "    </tr>\n",
       "    <tr>\n",
       "      <th>4</th>\n",
       "      <td>7.4</td>\n",
       "      <td>0.700</td>\n",
       "      <td>0.00</td>\n",
       "      <td>1.9</td>\n",
       "      <td>0.076</td>\n",
       "      <td>11.0</td>\n",
       "      <td>34.0</td>\n",
       "      <td>0.99780</td>\n",
       "      <td>3.51</td>\n",
       "      <td>0.56</td>\n",
       "      <td>9.4</td>\n",
       "      <td>5</td>\n",
       "    </tr>\n",
       "    <tr>\n",
       "      <th>...</th>\n",
       "      <td>...</td>\n",
       "      <td>...</td>\n",
       "      <td>...</td>\n",
       "      <td>...</td>\n",
       "      <td>...</td>\n",
       "      <td>...</td>\n",
       "      <td>...</td>\n",
       "      <td>...</td>\n",
       "      <td>...</td>\n",
       "      <td>...</td>\n",
       "      <td>...</td>\n",
       "      <td>...</td>\n",
       "    </tr>\n",
       "    <tr>\n",
       "      <th>1594</th>\n",
       "      <td>6.2</td>\n",
       "      <td>0.600</td>\n",
       "      <td>0.08</td>\n",
       "      <td>2.0</td>\n",
       "      <td>0.090</td>\n",
       "      <td>32.0</td>\n",
       "      <td>44.0</td>\n",
       "      <td>0.99490</td>\n",
       "      <td>3.45</td>\n",
       "      <td>0.58</td>\n",
       "      <td>10.5</td>\n",
       "      <td>5</td>\n",
       "    </tr>\n",
       "    <tr>\n",
       "      <th>1595</th>\n",
       "      <td>5.9</td>\n",
       "      <td>0.550</td>\n",
       "      <td>0.10</td>\n",
       "      <td>2.2</td>\n",
       "      <td>0.062</td>\n",
       "      <td>39.0</td>\n",
       "      <td>51.0</td>\n",
       "      <td>0.99512</td>\n",
       "      <td>3.52</td>\n",
       "      <td>0.76</td>\n",
       "      <td>11.2</td>\n",
       "      <td>6</td>\n",
       "    </tr>\n",
       "    <tr>\n",
       "      <th>1596</th>\n",
       "      <td>6.3</td>\n",
       "      <td>0.510</td>\n",
       "      <td>0.13</td>\n",
       "      <td>2.3</td>\n",
       "      <td>0.076</td>\n",
       "      <td>29.0</td>\n",
       "      <td>40.0</td>\n",
       "      <td>0.99574</td>\n",
       "      <td>3.42</td>\n",
       "      <td>0.75</td>\n",
       "      <td>11.0</td>\n",
       "      <td>6</td>\n",
       "    </tr>\n",
       "    <tr>\n",
       "      <th>1597</th>\n",
       "      <td>5.9</td>\n",
       "      <td>0.645</td>\n",
       "      <td>0.12</td>\n",
       "      <td>2.0</td>\n",
       "      <td>0.075</td>\n",
       "      <td>32.0</td>\n",
       "      <td>44.0</td>\n",
       "      <td>0.99547</td>\n",
       "      <td>3.57</td>\n",
       "      <td>0.71</td>\n",
       "      <td>10.2</td>\n",
       "      <td>5</td>\n",
       "    </tr>\n",
       "    <tr>\n",
       "      <th>1598</th>\n",
       "      <td>6.0</td>\n",
       "      <td>0.310</td>\n",
       "      <td>0.47</td>\n",
       "      <td>3.6</td>\n",
       "      <td>0.067</td>\n",
       "      <td>18.0</td>\n",
       "      <td>42.0</td>\n",
       "      <td>0.99549</td>\n",
       "      <td>3.39</td>\n",
       "      <td>0.66</td>\n",
       "      <td>11.0</td>\n",
       "      <td>6</td>\n",
       "    </tr>\n",
       "  </tbody>\n",
       "</table>\n",
       "<p>1599 rows × 12 columns</p>\n",
       "</div>"
      ],
      "text/plain": [
       "      fixed acidity  volatile acidity  citric acid  residual sugar  chlorides  \\\n",
       "0               7.4             0.700         0.00             1.9      0.076   \n",
       "1               7.8             0.880         0.00             2.6      0.098   \n",
       "2               7.8             0.760         0.04             2.3      0.092   \n",
       "3              11.2             0.280         0.56             1.9      0.075   \n",
       "4               7.4             0.700         0.00             1.9      0.076   \n",
       "...             ...               ...          ...             ...        ...   \n",
       "1594            6.2             0.600         0.08             2.0      0.090   \n",
       "1595            5.9             0.550         0.10             2.2      0.062   \n",
       "1596            6.3             0.510         0.13             2.3      0.076   \n",
       "1597            5.9             0.645         0.12             2.0      0.075   \n",
       "1598            6.0             0.310         0.47             3.6      0.067   \n",
       "\n",
       "      free sulfur dioxide  total sulfur dioxide  density    pH  sulphates  \\\n",
       "0                    11.0                  34.0  0.99780  3.51       0.56   \n",
       "1                    25.0                  67.0  0.99680  3.20       0.68   \n",
       "2                    15.0                  54.0  0.99700  3.26       0.65   \n",
       "3                    17.0                  60.0  0.99800  3.16       0.58   \n",
       "4                    11.0                  34.0  0.99780  3.51       0.56   \n",
       "...                   ...                   ...      ...   ...        ...   \n",
       "1594                 32.0                  44.0  0.99490  3.45       0.58   \n",
       "1595                 39.0                  51.0  0.99512  3.52       0.76   \n",
       "1596                 29.0                  40.0  0.99574  3.42       0.75   \n",
       "1597                 32.0                  44.0  0.99547  3.57       0.71   \n",
       "1598                 18.0                  42.0  0.99549  3.39       0.66   \n",
       "\n",
       "      alcohol  quality  \n",
       "0         9.4        5  \n",
       "1         9.8        5  \n",
       "2         9.8        5  \n",
       "3         9.8        6  \n",
       "4         9.4        5  \n",
       "...       ...      ...  \n",
       "1594     10.5        5  \n",
       "1595     11.2        6  \n",
       "1596     11.0        6  \n",
       "1597     10.2        5  \n",
       "1598     11.0        6  \n",
       "\n",
       "[1599 rows x 12 columns]"
      ]
     },
     "execution_count": 7,
     "metadata": {},
     "output_type": "execute_result"
    }
   ],
   "source": [
    "data"
   ]
  },
  {
   "cell_type": "code",
   "execution_count": 49,
   "metadata": {},
   "outputs": [
    {
     "name": "stdout",
     "output_type": "stream",
     "text": [
      "<class 'pandas.core.frame.DataFrame'>\n",
      "RangeIndex: 1599 entries, 0 to 1598\n",
      "Data columns (total 12 columns):\n",
      " #   Column                Non-Null Count  Dtype  \n",
      "---  ------                --------------  -----  \n",
      " 0   fixed acidity         1599 non-null   float64\n",
      " 1   volatile acidity      1599 non-null   float64\n",
      " 2   citric acid           1599 non-null   float64\n",
      " 3   residual sugar        1599 non-null   float64\n",
      " 4   chlorides             1599 non-null   float64\n",
      " 5   free sulfur dioxide   1599 non-null   float64\n",
      " 6   total sulfur dioxide  1599 non-null   float64\n",
      " 7   density               1599 non-null   float64\n",
      " 8   pH                    1599 non-null   float64\n",
      " 9   sulphates             1599 non-null   float64\n",
      " 10  alcohol               1599 non-null   float64\n",
      " 11  quality               1599 non-null   int64  \n",
      "dtypes: float64(11), int64(1)\n",
      "memory usage: 150.0 KB\n"
     ]
    }
   ],
   "source": [
    "data.info()"
   ]
  },
  {
   "cell_type": "code",
   "execution_count": 14,
   "metadata": {},
   "outputs": [],
   "source": [
    "X = data.drop(columns = 'quality')\n",
    "y = data.quality"
   ]
  },
  {
   "cell_type": "markdown",
   "metadata": {},
   "source": [
    "1.Оцените качество по метрике accuracy для классификаторов:\n",
    "\n",
    "DecisionTreeClassifier\n",
    "\n",
    "BaggingClassifier со 100 деревьями\n",
    "\n",
    "RandomForestClassifier со 100 деревьями\n",
    "\n",
    "Сравните результаты и напишите какой вывод можно сделать."
   ]
  },
  {
   "cell_type": "code",
   "execution_count": 16,
   "metadata": {},
   "outputs": [
    {
     "name": "stdout",
     "output_type": "stream",
     "text": [
      "Model: DecisionTreeClassifier()\n",
      "Score: 0.6172884012539186\n",
      "Model: BaggingClassifier(n_estimators=100)\n",
      "Score: 0.68921434169279\n",
      "Model: RandomForestClassifier()\n",
      "Score: 0.706712382445141\n"
     ]
    }
   ],
   "source": [
    "classifiers = [DecisionTreeClassifier(), BaggingClassifier(n_estimators= 100), RandomForestClassifier(n_estimators=100)]\n",
    "cv = KFold(5, shuffle=True, random_state= 42)\n",
    "for model in classifiers:\n",
    "    score = cross_val_score(model, X, y, cv = cv, scoring='accuracy').mean()\n",
    "\n",
    "    print(f'Model: {model}')\n",
    "    print(f'Score: {score}')"
   ]
  },
  {
   "attachments": {},
   "cell_type": "markdown",
   "metadata": {},
   "source": [
    "Случайные леса показывают высокую точность"
   ]
  },
  {
   "cell_type": "markdown",
   "metadata": {},
   "source": [
    "2.Разделите выборку на обучающую и тестовую в отношении 70%/30%"
   ]
  },
  {
   "cell_type": "code",
   "execution_count": 18,
   "metadata": {},
   "outputs": [],
   "source": [
    "X_train, X_test, y_train, y_test = train_test_split(X, y, test_size= 0.3, random_state= 42)"
   ]
  },
  {
   "cell_type": "markdown",
   "metadata": {},
   "source": [
    "3.Посчитайте качество на тестовой выборке по метрике accuracy для классификатора RandomForestClassifier, используя значения деревьев:\n",
    "    \n",
    "10, 50, 100, 200, далее с шагом 200 до 5000 деревьев.\n",
    "Постройте график зависимости качества от числа деревьев.\n",
    "\n"
   ]
  },
  {
   "cell_type": "code",
   "execution_count": 28,
   "metadata": {},
   "outputs": [],
   "source": [
    "range_size = [x for x in range(400, 5200, 200)]\n",
    "init_size = [10, 50, 100, 200]\n",
    "size = init_size + range_size"
   ]
  },
  {
   "cell_type": "code",
   "execution_count": 30,
   "metadata": {},
   "outputs": [
    {
     "name": "stdout",
     "output_type": "stream",
     "text": [
      "0.6666666666666666\n"
     ]
    }
   ],
   "source": [
    "metrics = []\n",
    "for n in size:\n",
    "    model = RandomForestClassifier(n_estimators= n)\n",
    "    model.fit(X_train, y_train)\n",
    "    score = accuracy_score(y_test, model.predict(X_test))\n",
    "    metrics.append(score)\n",
    "\n",
    "print(score)"
   ]
  },
  {
   "cell_type": "code",
   "execution_count": 39,
   "metadata": {},
   "outputs": [
    {
     "data": {
      "text/plain": [
       "Text(0.5, 1.0, 'Accuracy vs. number of trees')"
      ]
     },
     "execution_count": 39,
     "metadata": {},
     "output_type": "execute_result"
    },
    {
     "data": {
      "image/png": "[encoded data removed]",
      "text/plain": [
       "<Figure size 640x480 with 1 Axes>"
      ]
     },
     "metadata": {},
     "output_type": "display_data"
    }
   ],
   "source": [
    "plt.plot(size, metrics)\n",
    "plt.title('Accuracy vs. number of trees')"
   ]
  },
  {
   "cell_type": "markdown",
   "metadata": {},
   "source": [
    "4.Обучите реализации градиентного бустинга с параметрами по умолчанию из библиотек sklearn и xgboost. Сравните значение метрики accuracy по cross_val_score"
   ]
  },
  {
   "cell_type": "code",
   "execution_count": 67,
   "metadata": {},
   "outputs": [
    {
     "name": "stdout",
     "output_type": "stream",
     "text": [
      "Model: GradientBoostingClassifier(random_state=42)\n",
      "Score: 0.5653467868338558\n"
     ]
    }
   ],
   "source": [
    "model = GradientBoostingClassifier(random_state=42)\n",
    "score = cross_val_score(model, X, y, cv = 5, scoring= 'accuracy').mean()\n",
    "print(f'Model: {model}')\n",
    "print(f'Score: {score}')"
   ]
  },
  {
   "cell_type": "code",
   "execution_count": 54,
   "metadata": {},
   "outputs": [
    {
     "name": "stdout",
     "output_type": "stream",
     "text": [
      "Model: XGBClassifier(base_score=None, booster=None, callbacks=None,\n",
      "              colsample_bylevel=None, colsample_bynode=None,\n",
      "              colsample_bytree=None, early_stopping_rounds=None,\n",
      "              enable_categorical=False, eval_metric=None, feature_types=None,\n",
      "              gamma=None, gpu_id=None, grow_policy=None, importance_type=None,\n",
      "              interaction_constraints=None, learning_rate=None, max_bin=None,\n",
      "              max_cat_threshold=None, max_cat_to_onehot=None,\n",
      "              max_delta_step=None, max_depth=None, max_leaves=None,\n",
      "              min_child_weight=None, missing=nan, monotone_constraints=None,\n",
      "              n_estimators=100, n_jobs=None, num_parallel_tree=None,\n",
      "              predictor=None, random_state=None, ...)\n",
      "Score: 0.5472335423197492\n"
     ]
    }
   ],
   "source": [
    "le = LabelEncoder()\n",
    "y_le = le.fit_transform(y)\n",
    "model = xgb.XGBClassifier()\n",
    "\n",
    "score = cross_val_score(model, X, y_le, cv = 5, scoring= 'accuracy').mean()\n",
    "print(f'Model: {model}')\n",
    "print(f'Score: {score}')"
   ]
  },
  {
   "cell_type": "code",
   "execution_count": 64,
   "metadata": {},
   "outputs": [],
   "source": [
    "le = LabelEncoder()\n",
    "y_le = le.fit_transform(y)\n",
    "model = xgb.XGBClassifier()\n",
    "\n",
    "score = cross_validate(model, X, y_le, cv = 5, scoring= ('accuracy', 'r2', 'f1_macro'), return_train_score= True)\n"
   ]
  },
  {
   "cell_type": "code",
   "execution_count": 65,
   "metadata": {},
   "outputs": [
    {
     "data": {
      "text/plain": [
       "{'fit_time': array([0.61974192, 0.86156702, 0.60851002, 0.62672687, 0.59676123]),\n",
       " 'score_time': array([0.01005316, 0.00338101, 0.00393391, 0.00413013, 0.0039649 ]),\n",
       " 'test_accuracy': array([0.509375  , 0.534375  , 0.53125   , 0.5875    , 0.57366771]),\n",
       " 'train_accuracy': array([1., 1., 1., 1., 1.]),\n",
       " 'test_r2': array([0.05681767, 0.05916065, 0.01617814, 0.15327556, 0.15193085]),\n",
       " 'train_r2': array([1., 1., 1., 1., 1.]),\n",
       " 'test_f1_macro': array([0.21819002, 0.32716763, 0.32327626, 0.35025974, 0.2807866 ]),\n",
       " 'train_f1_macro': array([1., 1., 1., 1., 1.])}"
      ]
     },
     "execution_count": 65,
     "metadata": {},
     "output_type": "execute_result"
    }
   ],
   "source": [
    "score"
   ]
  },
  {
   "cell_type": "markdown",
   "metadata": {},
   "source": [
    "5.Подберите оптимальные параметры этих алгоритмов с помощью GridSearchCV(cv=3).\n",
    "Параметры для оптимизации:\n",
    "\n",
    "оптимизируемый функционал\n",
    "\n",
    "скорость обучения\n",
    "\n",
    "количество деревьев\n",
    "\n",
    "глубина деревьев\n",
    "\n",
    "Сравните значение метрики accuracy и скорость работы. Выведите лучшие параметры алгоритмов."
   ]
  },
  {
   "cell_type": "code",
   "execution_count": 120,
   "metadata": {},
   "outputs": [],
   "source": [
    "def gs_cv_model(model, X, y, cv, grid_param):\n",
    "    le = LabelEncoder()\n",
    "    y_le = le.fit_transform(y)\n",
    "\n",
    "    grid_search = GridSearchCV(model, param_grid = grid_param, cv = cv)\n",
    "    grid_search.fit(X, y_le)\n",
    "    opt_model = grid_search.best_estimator_\n",
    "    print(grid_search.best_params_)\n",
    "    print(grid_search.best_estimator_)\n",
    "    scores = {'accuracy': 'accuracy', 'f1': 'f1_macro'}\n",
    "    cval = cross_validate(opt_model, X, y_le, cv = cv, scoring= scores)\n",
    "    \n",
    "    print(f'Model: {opt_model}')\n",
    "    print('Fit time (max): ', round(np.max(cval['fit_time']), 3))\n",
    "    print('Fit time (avg): ', round(np.average(cval['fit_time']), 3))\n",
    "    print('Accuracy score (max): ', round(np.max(cval['test_accuracy']), 3))\n",
    "    print('Accuracy score (avg): ', round(np.average(cval['test_accuracy']), 3))\n",
    "    #return cval"
   ]
  },
  {
   "cell_type": "code",
   "execution_count": 142,
   "metadata": {},
   "outputs": [],
   "source": [
    "gs_params = {\n",
    "    'learning_rate' : [1, 0.5, 0.25, 0.1, 0.05, 0.01],\n",
    "    'max_depth': [2, 3, 4, 5, 6],\n",
    "    'n_estimators': [100, 200, 300]\n",
    "    }"
   ]
  },
  {
   "cell_type": "code",
   "execution_count": 143,
   "metadata": {},
   "outputs": [
    {
     "name": "stdout",
     "output_type": "stream",
     "text": [
      "{'learning_rate': 0.05, 'max_depth': 2, 'n_estimators': 100}\n",
      "GradientBoostingClassifier(learning_rate=0.05, max_depth=2)\n",
      "Model: GradientBoostingClassifier(learning_rate=0.05, max_depth=2)\n",
      "Fit time (max):  0.855\n",
      "Fit time (avg):  0.804\n",
      "Accuracy score (max):  0.604\n",
      "Accuracy score (avg):  0.575\n"
     ]
    }
   ],
   "source": [
    "gs_cv_model(GradientBoostingClassifier(), X, y, cv = 3, grid_param=gs_params)"
   ]
  },
  {
   "cell_type": "code",
   "execution_count": 144,
   "metadata": {},
   "outputs": [
    {
     "name": "stdout",
     "output_type": "stream",
     "text": [
      "{'learning_rate': 0.01, 'max_depth': 5, 'n_estimators': 100}\n",
      "XGBClassifier(base_score=None, booster=None, callbacks=None,\n",
      "              colsample_bylevel=None, colsample_bynode=None,\n",
      "              colsample_bytree=None, early_stopping_rounds=None,\n",
      "              enable_categorical=False, eval_metric=None, feature_types=None,\n",
      "              gamma=None, gpu_id=None, grow_policy=None, importance_type=None,\n",
      "              interaction_constraints=None, learning_rate=0.01, max_bin=None,\n",
      "              max_cat_threshold=None, max_cat_to_onehot=None,\n",
      "              max_delta_step=None, max_depth=5, max_leaves=None,\n",
      "              min_child_weight=None, missing=nan, monotone_constraints=None,\n",
      "              n_estimators=100, n_jobs=None, num_parallel_tree=None,\n",
      "              objective='multi:softprob', predictor=None, ...)\n",
      "Model: XGBClassifier(base_score=None, booster=None, callbacks=None,\n",
      "              colsample_bylevel=None, colsample_bynode=None,\n",
      "              colsample_bytree=None, early_stopping_rounds=None,\n",
      "              enable_categorical=False, eval_metric=None, feature_types=None,\n",
      "              gamma=None, gpu_id=None, grow_policy=None, importance_type=None,\n",
      "              interaction_constraints=None, learning_rate=0.01, max_bin=None,\n",
      "              max_cat_threshold=None, max_cat_to_onehot=None,\n",
      "              max_delta_step=None, max_depth=5, max_leaves=None,\n",
      "              min_child_weight=None, missing=nan, monotone_constraints=None,\n",
      "              n_estimators=100, n_jobs=None, num_parallel_tree=None,\n",
      "              objective='multi:softprob', predictor=None, ...)\n",
      "Fit time (max):  0.382\n",
      "Fit time (avg):  0.365\n",
      "Accuracy score (max):  0.6\n",
      "Accuracy score (avg):  0.581\n"
     ]
    }
   ],
   "source": [
    "gs_cv_model(xgb.XGBClassifier(), X, y, cv = 3, grid_param=gs_params)"
   ]
  },
  {
   "cell_type": "markdown",
   "metadata": {},
   "source": [
    "6.Обучите реализации градиентного бустинга с параметрами по умолчанию из библиотек lightgbm и catboost. Сравните значение метрики accuracy по cross_val_score по всем четырем реализациям."
   ]
  },
  {
   "cell_type": "code",
   "execution_count": 145,
   "metadata": {},
   "outputs": [],
   "source": [
    "le = LabelEncoder()\n",
    "y_le = le.fit_transform(y)"
   ]
  },
  {
   "cell_type": "code",
   "execution_count": 146,
   "metadata": {},
   "outputs": [
    {
     "name": "stdout",
     "output_type": "stream",
     "text": [
      "Model: LGBMClassifier()\n",
      "Score: 0.5572472570532915\n"
     ]
    }
   ],
   "source": [
    "model = lgm.LGBMClassifier()\n",
    "\n",
    "score = cross_val_score(model, X, y_le, cv = 5, scoring = 'accuracy').mean()\n",
    "print(f'Model: {model}')\n",
    "print(f'Score: {score}')"
   ]
  },
  {
   "cell_type": "code",
   "execution_count": 147,
   "metadata": {},
   "outputs": [
    {
     "name": "stdout",
     "output_type": "stream",
     "text": [
      "Model: <catboost.core.CatBoostClassifier object at 0x7f9621a8d370>\n",
      "Score: 0.5459757053291535\n"
     ]
    }
   ],
   "source": [
    "model = ctb.CatBoostClassifier(verbose=False)\n",
    "score = cross_val_score(model, X, y_le, cv = 5, scoring= 'accuracy').mean()\n",
    "print(f'Model: {model}')\n",
    "print(f'Score: {score}')"
   ]
  },
  {
   "cell_type": "code",
   "execution_count": 148,
   "metadata": {},
   "outputs": [
    {
     "name": "stdout",
     "output_type": "stream",
     "text": [
      "Model: GradientBoostingClassifier()\n",
      "Score: 0.5572237460815048\n",
      "Model: XGBClassifier(base_score=None, booster=None, callbacks=None,\n",
      "              colsample_bylevel=None, colsample_bynode=None,\n",
      "              colsample_bytree=None, early_stopping_rounds=None,\n",
      "              enable_categorical=False, eval_metric=None, feature_types=None,\n",
      "              gamma=None, gpu_id=None, grow_policy=None, importance_type=None,\n",
      "              interaction_constraints=None, learning_rate=None, max_bin=None,\n",
      "              max_cat_threshold=None, max_cat_to_onehot=None,\n",
      "              max_delta_step=None, max_depth=None, max_leaves=None,\n",
      "              min_child_weight=None, missing=nan, monotone_constraints=None,\n",
      "              n_estimators=100, n_jobs=None, num_parallel_tree=None,\n",
      "              predictor=None, random_state=None, ...)\n",
      "Score: 0.5472335423197492\n",
      "Model: LGBMClassifier()\n",
      "Score: 0.5572472570532915\n",
      "Model: <catboost.core.CatBoostClassifier object at 0x7f9621a8d970>\n",
      "Score: 0.5459757053291535\n"
     ]
    }
   ],
   "source": [
    "classifiers = [GradientBoostingClassifier(), xgb.XGBClassifier(), lgm.LGBMClassifier(), ctb.CatBoostClassifier(verbose=False)]\n",
    "\n",
    "for model in classifiers:\n",
    "    score = cross_val_score(model, X, y_le, cv= 5, scoring= 'accuracy').mean()\n",
    "    print(f'Model: {model}')\n",
    "    print(f'Score: {score}')"
   ]
  },
  {
   "cell_type": "markdown",
   "metadata": {},
   "source": [
    "7.Подберите оптимальные параметры для алгоритмов градиентного бустинга из библиотек lightgbm и catboost с теми же условиями. Выведите лучшие параметры алгоритмов.\n",
    "Сравните значение метрики accuracy и скорость по этим четырем реализациям."
   ]
  },
  {
   "cell_type": "code",
   "execution_count": 150,
   "metadata": {},
   "outputs": [
    {
     "name": "stdout",
     "output_type": "stream",
     "text": [
      "{'learning_rate': 0.01, 'max_depth': 3, 'n_estimators': 200}\n",
      "LGBMClassifier(learning_rate=0.01, max_depth=3, n_estimators=200)\n",
      "Model: LGBMClassifier(learning_rate=0.01, max_depth=3, n_estimators=200)\n",
      "Fit time (max):  0.289\n",
      "Fit time (avg):  0.262\n",
      "Accuracy score (max):  0.597\n",
      "Accuracy score (avg):  0.574\n"
     ]
    }
   ],
   "source": [
    "gs_cv_model(lgm.LGBMClassifier(), X, y, cv = 3, grid_param=gs_params)"
   ]
  },
  {
   "cell_type": "code",
   "execution_count": 151,
   "metadata": {},
   "outputs": [
    {
     "name": "stdout",
     "output_type": "stream",
     "text": [
      "{'learning_rate': 0.05, 'max_depth': 4, 'n_estimators': 100}\n",
      "<catboost.core.CatBoostClassifier object at 0x7f96015a18b0>\n",
      "Model: <catboost.core.CatBoostClassifier object at 0x7f96015a18b0>\n",
      "Fit time (max):  0.108\n",
      "Fit time (avg):  0.106\n",
      "Accuracy score (max):  0.627\n",
      "Accuracy score (avg):  0.592\n"
     ]
    }
   ],
   "source": [
    "gs_cv_model(ctb.CatBoostClassifier(verbose=False), X, y, cv = 3, grid_param=gs_params)"
   ]
  },
  {
   "cell_type": "markdown",
   "metadata": {},
   "source": [
    "8.Подберите оптимальные параметры алгоритма из библиотеки xgbost с помощью [hyperopt](https://github.com/hyperopt/hyperopt) . Параметры для оптимизации:\n",
    "\n",
    "оптимизируемый функционал\n",
    "\n",
    "скорость обучения\n",
    "\n",
    "количество деревьев\n",
    "\n",
    "глубина деревьев\n",
    "\n",
    "Сравните результат с поиском по сетке из sklearn. Выведите лучшие параметры алгоритма, найденные даным способом."
   ]
  },
  {
   "cell_type": "code",
   "execution_count": 152,
   "metadata": {},
   "outputs": [
    {
     "data": {
      "text/plain": [
       "{'learning_rate': [1, 0.5, 0.25, 0.1, 0.05, 0.01],\n",
       " 'max_depth': [2, 3, 4, 5, 6],\n",
       " 'n_estimators': [100, 200, 300]}"
      ]
     },
     "execution_count": 152,
     "metadata": {},
     "output_type": "execute_result"
    }
   ],
   "source": [
    "gs_params"
   ]
  },
  {
   "cell_type": "code",
   "execution_count": 155,
   "metadata": {},
   "outputs": [],
   "source": [
    "from hyperopt import tpe, hp, fmin, STATUS_OK,Trials"
   ]
  },
  {
   "cell_type": "code",
   "execution_count": 158,
   "metadata": {},
   "outputs": [],
   "source": [
    "le = LabelEncoder()\n",
    "y_le = le.fit_transform(y)\n",
    "\n",
    "kfold = KFold(5, shuffle=True, random_state=42)\n"
   ]
  },
  {
   "cell_type": "code",
   "execution_count": 171,
   "metadata": {},
   "outputs": [],
   "source": [
    "space = {\n",
    "    'learning_rate': hp.choice(\"learning_rate\", [1.0, 0.5, 0.25, 0.1, 0.05, 0.01]),\n",
    "    'max_depth': hp.choice('max_depth', [2, 3, 4, 5, 6]),\n",
    "    'n_estimators': hp.choice(\"n_estimators\", [100, 200, 300])\n",
    "}"
   ]
  },
  {
   "cell_type": "code",
   "execution_count": 168,
   "metadata": {},
   "outputs": [],
   "source": [
    "def hyperparameters_tuning(params):\n",
    "    clf = xgb.XGBClassifier(**params)\n",
    "    acc = cross_val_score(clf, X, y_le, scoring='accuracy', cv = kfold).mean()\n",
    "    return {'loss': -acc, 'status': STATUS_OK}"
   ]
  },
  {
   "cell_type": "code",
   "execution_count": 173,
   "metadata": {},
   "outputs": [
    {
     "name": "stdout",
     "output_type": "stream",
     "text": [
      "100%|██████████| 100/100 [06:46<00:00,  4.07s/trial, best loss: -0.6985932601880878]\n",
      "Best: {'learning_rate': 3, 'max_depth': 4, 'n_estimators': 1}\n"
     ]
    }
   ],
   "source": [
    "best = fmin(\n",
    "    fn = hyperparameters_tuning,\n",
    "    space = space,\n",
    "    algo = tpe.suggest,\n",
    "    max_evals = 100,\n",
    "    trials = Trials()\n",
    ")\n",
    "print(\"Best: {}\".format(best))\n"
   ]
  },
  {
   "cell_type": "markdown",
   "metadata": {},
   "source": [
    "9.Выведите качество по метрике accuracy стэкинга (StackingClassifier) 4-х алгоритмов с базовыми параметрами градиентного бустинга."
   ]
  },
  {
   "cell_type": "code",
   "execution_count": null,
   "metadata": {},
   "outputs": [],
   "source": [
    "estimators = [\n",
    "    ('gbc', GradientBoostingClassifier()),\n",
    "    ('xgb', xgb.XGBClassifier()),\n",
    "    ('lgb', lgm.LGBMClassifier()),\n",
    "    ('cat', ctb.CatBoostClassifier(verbose= False))\n",
    "]\n",
    "\n",
    "stackmodel = StackingClassifier(estimators=estimators)\n",
    "\n",
    "le = LabelEncoder()\n",
    "le_y = le.fit_transform(y)\n",
    "\n",
    "score = cross_val_score(stackmodel, X, le_y, cv = kfold, scoring='accuracy', n_jobs= -1).mean()\n",
    "print(score)"
   ]
  },
  {
   "cell_type": "code",
   "execution_count": 179,
   "metadata": {},
   "outputs": [
    {
     "name": "stdout",
     "output_type": "stream",
     "text": [
      "0.6729545454545456\n"
     ]
    }
   ],
   "source": [
    "print(score)"
   ]
  },
  {
   "cell_type": "markdown",
   "metadata": {},
   "source": [
    "10.Выведите качество по метрике accuracy стэкинга 4-х алгоритмов с оптимальными параметрами градиентного бустинга. Сравните результаты с предыдущим шагом и напишите какой вывод можно из этого сделать."
   ]
  },
  {
   "cell_type": "code",
   "execution_count": 182,
   "metadata": {},
   "outputs": [
    {
     "name": "stderr",
     "output_type": "stream",
     "text": [
      "/Users/yurititov/opt/anaconda3/lib/python3.9/site-packages/sklearn/linear_model/_logistic.py:458: ConvergenceWarning: lbfgs failed to converge (status=1):\n",
      "STOP: TOTAL NO. of ITERATIONS REACHED LIMIT.\n",
      "\n",
      "Increase the number of iterations (max_iter) or scale the data as shown in:\n",
      "    https://scikit-learn.org/stable/modules/preprocessing.html\n",
      "Please also refer to the documentation for alternative solver options:\n",
      "    https://scikit-learn.org/stable/modules/linear_model.html#logistic-regression\n",
      "  n_iter_i = _check_optimize_result(\n"
     ]
    }
   ],
   "source": [
    "estimators = [\n",
    "    ('gbc', GradientBoostingClassifier(**{'learning_rate': 0.05, 'max_depth': 2, 'n_estimators': 100})),\n",
    "    ('xgb', xgb.XGBClassifier(**{'learning_rate': 0.1, 'max_depth': 5, 'n_estimators': 200})),\n",
    "    ('lgb', lgm.LGBMClassifier(**{'learning_rate': 0.01, 'max_depth': 3, 'n_estimators': 200}) ),\n",
    "    ('cat', ctb.CatBoostClassifier(**{'learning_rate': 0.05, 'max_depth': 4, 'n_estimators': 100},verbose=False))\n",
    "]\n",
    "\n",
    "stackmodel = StackingClassifier(estimators=estimators)\n",
    "le = LabelEncoder()\n",
    "\n",
    "le_y = le.fit_transform(y)\n",
    "\n",
    "score = cross_val_score(stackmodel, X, le_y, cv = kfold, scoring= 'accuracy', n_jobs= -1).mean()"
   ]
  },
  {
   "cell_type": "code",
   "execution_count": 183,
   "metadata": {},
   "outputs": [
    {
     "name": "stdout",
     "output_type": "stream",
     "text": [
      "0.6191869122257053\n"
     ]
    }
   ],
   "source": [
    "print(score)"
   ]
  },
  {
   "attachments": {},
   "cell_type": "markdown",
   "metadata": {},
   "source": [
    "С параметрами полученными GridSearchCV результаты получились хуже.\n",
    "Попробуем с помощью hyperopt получить оптимальные параметры и их использовать в качестве параметров в стекинге"
   ]
  },
  {
   "cell_type": "code",
   "execution_count": 211,
   "metadata": {},
   "outputs": [],
   "source": [
    "gs_params = {\n",
    "    'learning_rate': [1.0, 0.5, 0.25, 0.1, 0.05, 0.01],\n",
    "    'max_depth': [2, 3, 4, 5, 6, 7, 8],\n",
    "    'n_estimators': [100, 200, 300, 400, 500, 600, 700, 800]\n",
    "}"
   ]
  },
  {
   "cell_type": "code",
   "execution_count": 212,
   "metadata": {},
   "outputs": [],
   "source": [
    "space = {\n",
    "    'learning_rate': hp.choice(\"learning_rate\", [1.0, 0.5, 0.25, 0.1, 0.05, 0.01]),\n",
    "    'max_depth': hp.choice('max_depth', [2, 3, 4, 5, 6, 7, 8]),\n",
    "    'n_estimators': hp.choice(\"n_estimators\", [100, 200, 300, 400, 500, 600, 700, 800])\n",
    "}"
   ]
  },
  {
   "cell_type": "code",
   "execution_count": 213,
   "metadata": {},
   "outputs": [
    {
     "name": "stdout",
     "output_type": "stream",
     "text": [
      "100%|██████████| 5/5 [00:39<00:00,  7.95s/trial, best loss: -0.694837382445141] \n",
      "Best: {'learning_rate': 3, 'max_depth': 3, 'n_estimators': 2}\n",
      "{'learning_rate': 0.1, 'max_depth': 5, 'n_estimators': 300}\n"
     ]
    }
   ],
   "source": [
    "def hyperparameters_tuning(params):\n",
    "    clf = xgb.XGBClassifier(**params)\n",
    "    acc = cross_val_score(clf, X, y_le, scoring='accuracy', cv = kfold).mean()\n",
    "    return {'loss': -acc, 'status': STATUS_OK}\n",
    "\n",
    "best = fmin(\n",
    "    fn = hyperparameters_tuning,\n",
    "    space = space,\n",
    "    algo = tpe.suggest,\n",
    "    max_evals = 5,\n",
    "    trials = Trials()\n",
    ")\n",
    "print(\"Best: {}\".format(best))\n",
    "best_xgb = {i: gs_params[i][j] for i, j in best.items()}\n",
    "print(best_xgb)"
   ]
  },
  {
   "cell_type": "code",
   "execution_count": 214,
   "metadata": {},
   "outputs": [
    {
     "name": "stdout",
     "output_type": "stream",
     "text": [
      "100%|██████████| 5/5 [02:51<00:00, 34.24s/trial, best loss: -0.688567789968652]\n",
      "Best: {'learning_rate': 3, 'max_depth': 1, 'n_estimators': 2}\n",
      "{'learning_rate': 0.1, 'max_depth': 3, 'n_estimators': 300}\n"
     ]
    }
   ],
   "source": [
    "def hyperparameters_tuning(params):\n",
    "    clf = GradientBoostingClassifier(**params)\n",
    "    acc = cross_val_score(clf, X, y_le, scoring='accuracy', cv = kfold).mean()\n",
    "    return {'loss': -acc, 'status': STATUS_OK}\n",
    "\n",
    "best = fmin(\n",
    "    fn = hyperparameters_tuning,\n",
    "    space = space,\n",
    "    algo = tpe.suggest,\n",
    "    max_evals = 5,\n",
    "    trials = Trials()\n",
    ")\n",
    "print(\"Best: {}\".format(best))\n",
    "best_gbc = {i: gs_params[i][j] for i, j in best.items()}\n",
    "print(best_gbc)"
   ]
  },
  {
   "cell_type": "code",
   "execution_count": 215,
   "metadata": {},
   "outputs": [
    {
     "name": "stdout",
     "output_type": "stream",
     "text": [
      "100%|██████████| 5/5 [00:13<00:00,  2.74s/trial, best loss: -0.67482170846395]   \n",
      "Best: {'learning_rate': 3, 'max_depth': 5, 'n_estimators': 3}\n",
      "{'learning_rate': 0.1, 'max_depth': 7, 'n_estimators': 400}\n"
     ]
    }
   ],
   "source": [
    "def hyperparameters_tuning(params):\n",
    "    clf = lgm.LGBMClassifier(**params)\n",
    "    acc = cross_val_score(clf, X, y_le, scoring='accuracy', cv = kfold).mean()\n",
    "    return {'loss': -acc, 'status': STATUS_OK}\n",
    "\n",
    "best = fmin(\n",
    "    fn = hyperparameters_tuning,\n",
    "    space = space,\n",
    "    algo = tpe.suggest,\n",
    "    max_evals = 5,\n",
    "    trials = Trials()\n",
    ")\n",
    "print(\"Best: {}\".format(best))\n",
    "best_lgm = {i: gs_params[i][j] for i, j in best.items()}\n",
    "print(best_lgm)"
   ]
  },
  {
   "cell_type": "code",
   "execution_count": 219,
   "metadata": {},
   "outputs": [
    {
     "name": "stdout",
     "output_type": "stream",
     "text": [
      "100%|██████████| 5/5 [00:18<00:00,  3.64s/trial, best loss: -0.69733934169279]  \n",
      "Best: {'learning_rate': 3, 'max_depth': 5, 'n_estimators': 7}\n",
      "{'learning_rate': 0.1, 'max_depth': 7, 'n_estimators': 800}\n"
     ]
    }
   ],
   "source": [
    "def hyperparameters_tuning(params):\n",
    "    clf = ctb.CatBoostClassifier(**params, verbose=False)\n",
    "    acc = cross_val_score(clf, X, y_le, scoring='accuracy', cv = kfold).mean()\n",
    "    return {'loss': -acc, 'status': STATUS_OK}\n",
    "\n",
    "best = fmin(\n",
    "    fn = hyperparameters_tuning,\n",
    "    space = space,\n",
    "    algo = tpe.suggest,\n",
    "    max_evals = 5,\n",
    "    trials = Trials()\n",
    ")\n",
    "print(\"Best: {}\".format(best))\n",
    "best_cat = {i: gs_params[i][j] for i, j in best.items()}\n",
    "print(best_cat)"
   ]
  },
  {
   "cell_type": "code",
   "execution_count": 222,
   "metadata": {},
   "outputs": [
    {
     "name": "stderr",
     "output_type": "stream",
     "text": [
      "/Users/yurititov/opt/anaconda3/lib/python3.9/site-packages/sklearn/linear_model/_logistic.py:458: ConvergenceWarning: lbfgs failed to converge (status=1):\n",
      "STOP: TOTAL NO. of ITERATIONS REACHED LIMIT.\n",
      "\n",
      "Increase the number of iterations (max_iter) or scale the data as shown in:\n",
      "    https://scikit-learn.org/stable/modules/preprocessing.html\n",
      "Please also refer to the documentation for alternative solver options:\n",
      "    https://scikit-learn.org/stable/modules/linear_model.html#logistic-regression\n",
      "  n_iter_i = _check_optimize_result(\n",
      "/Users/yurititov/opt/anaconda3/lib/python3.9/site-packages/sklearn/linear_model/_logistic.py:458: ConvergenceWarning: lbfgs failed to converge (status=1):\n",
      "STOP: TOTAL NO. of ITERATIONS REACHED LIMIT.\n",
      "\n",
      "Increase the number of iterations (max_iter) or scale the data as shown in:\n",
      "    https://scikit-learn.org/stable/modules/preprocessing.html\n",
      "Please also refer to the documentation for alternative solver options:\n",
      "    https://scikit-learn.org/stable/modules/linear_model.html#logistic-regression\n",
      "  n_iter_i = _check_optimize_result(\n",
      "/Users/yurititov/opt/anaconda3/lib/python3.9/site-packages/sklearn/linear_model/_logistic.py:458: ConvergenceWarning: lbfgs failed to converge (status=1):\n",
      "STOP: TOTAL NO. of ITERATIONS REACHED LIMIT.\n",
      "\n",
      "Increase the number of iterations (max_iter) or scale the data as shown in:\n",
      "    https://scikit-learn.org/stable/modules/preprocessing.html\n",
      "Please also refer to the documentation for alternative solver options:\n",
      "    https://scikit-learn.org/stable/modules/linear_model.html#logistic-regression\n",
      "  n_iter_i = _check_optimize_result(\n",
      "/Users/yurititov/opt/anaconda3/lib/python3.9/site-packages/sklearn/linear_model/_logistic.py:458: ConvergenceWarning: lbfgs failed to converge (status=1):\n",
      "STOP: TOTAL NO. of ITERATIONS REACHED LIMIT.\n",
      "\n",
      "Increase the number of iterations (max_iter) or scale the data as shown in:\n",
      "    https://scikit-learn.org/stable/modules/preprocessing.html\n",
      "Please also refer to the documentation for alternative solver options:\n",
      "    https://scikit-learn.org/stable/modules/linear_model.html#logistic-regression\n",
      "  n_iter_i = _check_optimize_result(\n"
     ]
    }
   ],
   "source": [
    "estimators = [\n",
    "    ('gbc', GradientBoostingClassifier(**best_gbc)),\n",
    "    ('xgb', xgb.XGBClassifier(**best_xgb)),\n",
    "    ('lgb', lgm.LGBMClassifier(**best_lgm) ),\n",
    "    ('cat', ctb.CatBoostClassifier(**best_cat,verbose=False))\n",
    "]\n",
    "\n",
    "stackmodel = StackingClassifier(estimators=estimators)\n",
    "le = LabelEncoder()\n",
    "\n",
    "le_y = le.fit_transform(y)\n",
    "\n",
    "score = cross_val_score(stackmodel, X, le_y, cv = kfold, scoring= 'accuracy', n_jobs= -1).mean()"
   ]
  },
  {
   "cell_type": "code",
   "execution_count": 223,
   "metadata": {},
   "outputs": [
    {
     "name": "stdout",
     "output_type": "stream",
     "text": [
      "0.7004486677115987\n"
     ]
    }
   ],
   "source": [
    "print(score)"
   ]
  },
  {
   "attachments": {},
   "cell_type": "markdown",
   "metadata": {},
   "source": [
    "Стекинг с гиперпараметрами, найденными с помощью hyperopt, показывает лучшую метрику accuracy"
   ]
  }
 ],
 "metadata": {
  "kernelspec": {
   "display_name": "Python 3",
   "language": "python",
   "name": "python3"
  },
  "language_info": {
   "codemirror_mode": {
    "name": "ipython",
    "version": 3
   },
   "file_extension": ".py",
   "mimetype": "text/x-python",
   "name": "python",
   "nbconvert_exporter": "python",
   "pygments_lexer": "ipython3",
   "version": "3.9.13"
  }
 },
 "nbformat": 4,
 "nbformat_minor": 2
}
