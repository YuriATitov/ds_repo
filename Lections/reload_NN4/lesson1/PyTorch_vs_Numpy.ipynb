{
 "nbformat": 4,
 "nbformat_minor": 0,
 "metadata": {
  "colab": {
   "name": "PyTorch_vs_Numpy.ipynb",
   "private_outputs": true,
   "provenance": [],
   "collapsed_sections": []
  },
  "kernelspec": {
   "name": "python3",
   "display_name": "Python 3"
  },
  "language_info": {
   "name": "python"
  },
  "pycharm": {
   "stem_cell": {
    "cell_type": "raw",
    "source": [],
    "metadata": {
     "collapsed": false
    }
   }
  }
 },
 "cells": [
  {
   "cell_type": "code",
   "metadata": {
    "id": "EDcYDdXLSqc7"
   },
   "source": [
    "import torch"
   ],
   "execution_count": null,
   "outputs": []
  },
  {
   "cell_type": "code",
   "metadata": {
    "id": "ygeQQ46TTAyF"
   },
   "source": [
    "import numpy as np"
   ],
   "execution_count": null,
   "outputs": []
  },
  {
   "cell_type": "code",
   "metadata": {
    "id": "8Srf7oOCTD2I"
   },
   "source": [
    "zeros_np  = np.zeros((4, 4))\n",
    "ones_np   = np.ones((4, 4))\n",
    "random_np = np.random.random((4, 4))"
   ],
   "execution_count": null,
   "outputs": []
  },
  {
   "cell_type": "code",
   "metadata": {
    "id": "oc-dUzgHTEgc"
   },
   "source": [
    "zeros_t  = torch.zeros(4, 4)\n",
    "ones_t   = torch.ones(4, 4)\n",
    "random_t = torch.rand(4, 4)"
   ],
   "execution_count": null,
   "outputs": []
  },
  {
   "cell_type": "code",
   "metadata": {
    "id": "apEJfsttTBXZ"
   },
   "source": [
    "# Numpy -> PyTorch\n",
    "tensor = torch.from_numpy(random_np)\n",
    "\n",
    "# PyTorch -> Numpy\n",
    "random_np = tensor.numpy()\n",
    "#отсоединение графа градиентов\n",
    "random_np = tensor.detach().cpu().numpy()"
   ],
   "execution_count": null,
   "outputs": []
  },
  {
   "cell_type": "markdown",
   "metadata": {
    "id": "EBcFaoYMTsB0"
   },
   "source": [
    "Индексация"
   ]
  },
  {
   "cell_type": "code",
   "metadata": {
    "id": "5soVuOkUTUZP"
   },
   "source": [
    "# Index item\n",
    "print(random_np[0, 0]) # returns a float\n",
    "\n",
    "# Index row\n",
    "print(random_np[0, :]) # returns an array"
   ],
   "execution_count": null,
   "outputs": []
  },
  {
   "cell_type": "code",
   "metadata": {
    "id": "OGx06gJdTd7W"
   },
   "source": [
    "# Index item\n",
    "print(random_t[0, 0]) # returns a float\n",
    "\n",
    "# Index row\n",
    "print(random_t[0, :]) # returns an array"
   ],
   "execution_count": null,
   "outputs": []
  },
  {
   "cell_type": "markdown",
   "metadata": {
    "id": "LpeOKkLUTvu-"
   },
   "source": [
    "Поэлементное сложение и вычитание\n"
   ]
  },
  {
   "cell_type": "code",
   "metadata": {
    "id": "8O-tyoLiTy-x"
   },
   "source": [
    "print(random_np-ones_np)\n",
    "print(random_np+ones_np)"
   ],
   "execution_count": null,
   "outputs": []
  },
  {
   "cell_type": "code",
   "metadata": {
    "id": "JVQElzdXT6ax"
   },
   "source": [
    "print(random_t-ones_t)\n",
    "print(random_t+ones_t)"
   ],
   "execution_count": null,
   "outputs": []
  },
  {
   "cell_type": "markdown",
   "metadata": {
    "id": "jaGLsEmtUJxy"
   },
   "source": [
    "Умножение"
   ]
  },
  {
   "cell_type": "code",
   "metadata": {
    "id": "HsqURqvqUYMk"
   },
   "source": [
    "print(random_np*ones_np) ##Elementwise\n",
    "print(random_np@ones_np) ## Matrix"
   ],
   "execution_count": null,
   "outputs": []
  },
  {
   "cell_type": "code",
   "metadata": {
    "id": "zVyY2X9cUAES"
   },
   "source": [
    "print(random_t*ones_t) ##Elementwise\n",
    "print(random_t@ones_t) ## Matrix"
   ],
   "execution_count": null,
   "outputs": []
  },
  {
   "cell_type": "markdown",
   "metadata": {
    "id": "ZietDgKRUeLu"
   },
   "source": [
    "Размерность"
   ]
  },
  {
   "cell_type": "code",
   "metadata": {
    "id": "r5JRJUszUWxf"
   },
   "source": [
    "print(random_np.shape)\n",
    "print(random_np.ndim)"
   ],
   "execution_count": null,
   "outputs": []
  },
  {
   "cell_type": "code",
   "metadata": {
    "id": "YQQat3m6Umrt"
   },
   "source": [
    "print(random_t.shape)\n",
    "print(random_t.size()) \n",
    "assert random_t.shape==random_t.size()\n",
    "print(random_t.dim())"
   ],
   "execution_count": null,
   "outputs": []
  },
  {
   "cell_type": "markdown",
   "metadata": {
    "id": "1iw9NbKRU6SS"
   },
   "source": [
    "Решейпинг"
   ]
  },
  {
   "cell_type": "code",
   "metadata": {
    "id": "q37nfaPdU5jz"
   },
   "source": [
    "print(random_np.shape, (random_np.reshape((8,2)).shape))"
   ],
   "execution_count": null,
   "outputs": []
  },
  {
   "cell_type": "code",
   "metadata": {
    "id": "LxRlPlxIUwAE"
   },
   "source": [
    "print(random_t.shape, (random_t.view(8, 2).shape))"
   ],
   "execution_count": null,
   "outputs": []
  },
  {
   "cell_type": "markdown",
   "metadata": {
    "id": "M82HWXbcVcrc"
   },
   "source": [
    "Детерминанта"
   ]
  },
  {
   "cell_type": "code",
   "metadata": {
    "id": "1IrcoQUZVa1o"
   },
   "source": [
    "np.linalg.det(ones_np)"
   ],
   "execution_count": null,
   "outputs": []
  },
  {
   "cell_type": "code",
   "metadata": {
    "id": "seCsjl3NViLv"
   },
   "source": [
    "#Не поддерживается "
   ],
   "execution_count": null,
   "outputs": []
  },
  {
   "cell_type": "markdown",
   "metadata": {
    "id": "YZc9QkoLVs-g"
   },
   "source": [
    "Sum/mean/std"
   ]
  },
  {
   "cell_type": "code",
   "metadata": {
    "id": "EChAC6BLVw32"
   },
   "source": [
    "print(ones_np.sum(), ones_np.mean(), ones_np.std())\n",
    "print(ones_t.sum(), ones_t.mean(), ones_t.std())"
   ],
   "execution_count": null,
   "outputs": []
  },
  {
   "cell_type": "markdown",
   "metadata": {
    "id": "lbJeFJjlWLW-"
   },
   "source": [
    "Транспонирование"
   ]
  },
  {
   "cell_type": "code",
   "metadata": {
    "id": "ncSCaiq8WIBY"
   },
   "source": [
    "print(random_np)\n",
    "print(random_np.T)"
   ],
   "execution_count": null,
   "outputs": []
  },
  {
   "cell_type": "code",
   "metadata": {
    "id": "VkGISD-MWCPM"
   },
   "source": [
    "print(random_t)\n",
    "print(random_t.t())"
   ],
   "execution_count": null,
   "outputs": []
  },
  {
   "cell_type": "markdown",
   "metadata": {
    "id": "lrwlxZ4JWsuo"
   },
   "source": [
    "Сохранение данных"
   ]
  },
  {
   "cell_type": "code",
   "metadata": {
    "id": "tMXB4OMhWiBA"
   },
   "source": [
    "np.save('file.npy', random_np)\n",
    "np.load('file.npy')"
   ],
   "execution_count": null,
   "outputs": []
  },
  {
   "cell_type": "code",
   "metadata": {
    "id": "AMAB-pW1WzAX"
   },
   "source": [
    "torch.save(random_t, 'file')\n",
    "torch.load('file')"
   ],
   "execution_count": null,
   "outputs": []
  },
  {
   "cell_type": "code",
   "metadata": {
    "id": "URytu91BW4gt"
   },
   "source": [
    ""
   ],
   "execution_count": null,
   "outputs": []
  }
 ]
}