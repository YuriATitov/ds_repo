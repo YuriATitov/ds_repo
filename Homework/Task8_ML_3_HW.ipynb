{
 "cells": [
  {
   "cell_type": "code",
   "execution_count": 1,
   "metadata": {},
   "outputs": [],
   "source": [
    "import pandas as pd\n",
    "import numpy as np\n",
    "import matplotlib.pyplot as plt\n",
    "import time\n",
    "\n",
    "\n",
    "#from sklearn.datasets import load_boston\n",
    "from sklearn.datasets import load_diabetes\n",
    "from sklearn.datasets import fetch_california_housing\n",
    "\n",
    "\n",
    "from sklearn.model_selection import train_test_split, GridSearchCV, cross_val_score\n",
    "from sklearn.linear_model import LinearRegression, Ridge, Lasso, LassoCV, RidgeCV\n",
    "from sklearn.metrics import mean_squared_error, r2_score, accuracy_score, f1_score, precision_score, recall_score\n",
    "from sklearn.compose import ColumnTransformer\n",
    "from sklearn.impute import SimpleImputer\n",
    "\n",
    "from sklearn.preprocessing import MinMaxScaler, StandardScaler, PolynomialFeatures, OneHotEncoder, LabelEncoder, MaxAbsScaler\n",
    "from sklearn.pipeline import Pipeline\n",
    "\n",
    "#classification\n",
    "from sklearn.linear_model import LogisticRegression\n",
    "from sklearn.svm import SVC, LinearSVC\n",
    "from sklearn.ensemble import RandomForestClassifier, GradientBoostingClassifier\n"
   ]
  },
  {
   "cell_type": "code",
   "execution_count": 67,
   "metadata": {},
   "outputs": [],
   "source": [
    "import warnings\n",
    "warnings.filterwarnings(\"ignore\")"
   ]
  },
  {
   "cell_type": "code",
   "execution_count": 2,
   "metadata": {},
   "outputs": [],
   "source": [
    "dataset = fetch_california_housing()\n",
    "X = pd.DataFrame(dataset.data)\n",
    "X.columns = dataset.feature_names\n",
    "y = dataset.target"
   ]
  },
  {
   "cell_type": "code",
   "execution_count": 3,
   "metadata": {},
   "outputs": [],
   "source": [
    "RANDOM_STATE = 42"
   ]
  },
  {
   "cell_type": "code",
   "execution_count": 4,
   "metadata": {},
   "outputs": [],
   "source": [
    "# dataset = load_diabetes()\n",
    "# X = pd.DataFrame(dataset.data)\n",
    "# X.columns = dataset.feature_names\n",
    "# y = dataset.target"
   ]
  },
  {
   "cell_type": "code",
   "execution_count": 5,
   "metadata": {},
   "outputs": [
    {
     "data": {
      "text/plain": [
       "Index(['MedInc', 'HouseAge', 'AveRooms', 'AveBedrms', 'Population', 'AveOccup',\n",
       "       'Latitude', 'Longitude'],\n",
       "      dtype='object')"
      ]
     },
     "execution_count": 5,
     "metadata": {},
     "output_type": "execute_result"
    }
   ],
   "source": [
    "X.columns"
   ]
  },
  {
   "cell_type": "code",
   "execution_count": 6,
   "metadata": {},
   "outputs": [],
   "source": [
    "X.drop(columns = ['Latitude', 'Longitude'], inplace = True)"
   ]
  },
  {
   "cell_type": "code",
   "execution_count": 7,
   "metadata": {},
   "outputs": [
    {
     "data": {
      "text/html": [
       "<div>\n",
       "<style scoped>\n",
       "    .dataframe tbody tr th:only-of-type {\n",
       "        vertical-align: middle;\n",
       "    }\n",
       "\n",
       "    .dataframe tbody tr th {\n",
       "        vertical-align: top;\n",
       "    }\n",
       "\n",
       "    .dataframe thead th {\n",
       "        text-align: right;\n",
       "    }\n",
       "</style>\n",
       "<table border=\"1\" class=\"dataframe\">\n",
       "  <thead>\n",
       "    <tr style=\"text-align: right;\">\n",
       "      <th></th>\n",
       "      <th>MedInc</th>\n",
       "      <th>HouseAge</th>\n",
       "      <th>AveRooms</th>\n",
       "      <th>AveBedrms</th>\n",
       "      <th>Population</th>\n",
       "      <th>AveOccup</th>\n",
       "    </tr>\n",
       "  </thead>\n",
       "  <tbody>\n",
       "    <tr>\n",
       "      <th>0</th>\n",
       "      <td>8.3252</td>\n",
       "      <td>41.0</td>\n",
       "      <td>6.984127</td>\n",
       "      <td>1.023810</td>\n",
       "      <td>322.0</td>\n",
       "      <td>2.555556</td>\n",
       "    </tr>\n",
       "    <tr>\n",
       "      <th>1</th>\n",
       "      <td>8.3014</td>\n",
       "      <td>21.0</td>\n",
       "      <td>6.238137</td>\n",
       "      <td>0.971880</td>\n",
       "      <td>2401.0</td>\n",
       "      <td>2.109842</td>\n",
       "    </tr>\n",
       "    <tr>\n",
       "      <th>2</th>\n",
       "      <td>7.2574</td>\n",
       "      <td>52.0</td>\n",
       "      <td>8.288136</td>\n",
       "      <td>1.073446</td>\n",
       "      <td>496.0</td>\n",
       "      <td>2.802260</td>\n",
       "    </tr>\n",
       "    <tr>\n",
       "      <th>3</th>\n",
       "      <td>5.6431</td>\n",
       "      <td>52.0</td>\n",
       "      <td>5.817352</td>\n",
       "      <td>1.073059</td>\n",
       "      <td>558.0</td>\n",
       "      <td>2.547945</td>\n",
       "    </tr>\n",
       "    <tr>\n",
       "      <th>4</th>\n",
       "      <td>3.8462</td>\n",
       "      <td>52.0</td>\n",
       "      <td>6.281853</td>\n",
       "      <td>1.081081</td>\n",
       "      <td>565.0</td>\n",
       "      <td>2.181467</td>\n",
       "    </tr>\n",
       "  </tbody>\n",
       "</table>\n",
       "</div>"
      ],
      "text/plain": [
       "   MedInc  HouseAge  AveRooms  AveBedrms  Population  AveOccup\n",
       "0  8.3252      41.0  6.984127   1.023810       322.0  2.555556\n",
       "1  8.3014      21.0  6.238137   0.971880      2401.0  2.109842\n",
       "2  7.2574      52.0  8.288136   1.073446       496.0  2.802260\n",
       "3  5.6431      52.0  5.817352   1.073059       558.0  2.547945\n",
       "4  3.8462      52.0  6.281853   1.081081       565.0  2.181467"
      ]
     },
     "execution_count": 7,
     "metadata": {},
     "output_type": "execute_result"
    }
   ],
   "source": [
    "X.head()"
   ]
  },
  {
   "cell_type": "markdown",
   "metadata": {},
   "source": [
    "1. Разделите выборку на обучающую и тестовую в отношении 80%/20%"
   ]
  },
  {
   "cell_type": "code",
   "execution_count": 8,
   "metadata": {},
   "outputs": [],
   "source": [
    "X_train, X_test, y_train, y_test = train_test_split(X, y, test_size=0.2, random_state = RANDOM_STATE)"
   ]
  },
  {
   "cell_type": "code",
   "execution_count": 9,
   "metadata": {},
   "outputs": [
    {
     "data": {
      "text/plain": [
       "((16512, 6), (4128, 6), (16512,), (4128,))"
      ]
     },
     "execution_count": 9,
     "metadata": {},
     "output_type": "execute_result"
    }
   ],
   "source": [
    "X_train.shape, X_test.shape, y_train.shape, y_test.shape"
   ]
  },
  {
   "cell_type": "markdown",
   "metadata": {},
   "source": [
    "2. Обучите стандартную регрессию, а также Ridge и  Lasso и параметрами по умолчанию и выведите их R2 на тестовой выборке"
   ]
  },
  {
   "cell_type": "code",
   "execution_count": 10,
   "metadata": {},
   "outputs": [
    {
     "name": "stdout",
     "output_type": "stream",
     "text": [
      "Model: LinearRegression()\n",
      "MSE: 0.64\n",
      "R2: 0.51\n",
      "Model: Ridge()\n",
      "MSE: 0.64\n",
      "R2: 0.51\n",
      "Model: Lasso()\n",
      "MSE: 0.94\n",
      "R2: 0.28\n"
     ]
    }
   ],
   "source": [
    "models  = [LinearRegression(), Ridge(), Lasso()]\n",
    "\n",
    "scores = {}\n",
    "for model in models:\n",
    "    model.fit(X_train, y_train)\n",
    "    y_pred = model.predict(X_test)\n",
    "    mse = mean_squared_error(y_test, y_pred)\n",
    "    r2 = r2_score(y_test, y_pred)\n",
    "    scores[str(model)] = r2\n",
    "    print(f\"Model: {model}\\nMSE: {mse:.2f}\\nR2: {r2:.2f}\")"
   ]
  },
  {
   "cell_type": "code",
   "execution_count": 11,
   "metadata": {},
   "outputs": [
    {
     "data": {
      "text/plain": [
       "{'LinearRegression()': 0.5099337366296416,\n",
       " 'Ridge()': 0.510019673206934,\n",
       " 'Lasso()': 0.2841671821008396}"
      ]
     },
     "execution_count": 11,
     "metadata": {},
     "output_type": "execute_result"
    }
   ],
   "source": [
    "scores"
   ]
  },
  {
   "cell_type": "markdown",
   "metadata": {},
   "source": [
    "3. Для Ridge и Lasso подберите коэффициент регуляризации(используйте GridSearchCV, RidgeCV, LassoCV) в пределах от $10^{-5}$ до $10^5$ (по степеням 10). Посчитайте R2 на тестовой выборке по лучшим моделям и сравните с предыдущими результатами. Напишите как изменился результат"
   ]
  },
  {
   "attachments": {},
   "cell_type": "markdown",
   "metadata": {},
   "source": [
    "##### Ridge GridSearchCV"
   ]
  },
  {
   "cell_type": "code",
   "execution_count": 12,
   "metadata": {},
   "outputs": [
    {
     "data": {
      "text/plain": [
       "{'alpha': [1e-05, 0.0001, 0.001, 0.01, 0.1, 1, 10, 100, 1000, 10000, 100000]}"
      ]
     },
     "execution_count": 12,
     "metadata": {},
     "output_type": "execute_result"
    }
   ],
   "source": [
    "params = {'alpha': [10 ** level for level in range(-5, 6)]}\n",
    "params"
   ]
  },
  {
   "cell_type": "code",
   "execution_count": 13,
   "metadata": {},
   "outputs": [
    {
     "data": {
      "text/plain": [
       "{'alpha': 10}"
      ]
     },
     "execution_count": 13,
     "metadata": {},
     "output_type": "execute_result"
    }
   ],
   "source": [
    "ridge = Ridge()\n",
    "ridge_gcv = GridSearchCV(ridge, params)\n",
    "ridge_gcv.fit(X_train, y_train)\n",
    "ridge_gcv.best_params_"
   ]
  },
  {
   "cell_type": "code",
   "execution_count": 14,
   "metadata": {},
   "outputs": [
    {
     "name": "stdout",
     "output_type": "stream",
     "text": [
      "R2: 0.5107565001975987\n"
     ]
    }
   ],
   "source": [
    "ridge_gcv = ridge_gcv.best_estimator_\n",
    "ridge_gcv.fit(X_train, y_train)\n",
    "r2_ridge_gcv = r2_score(y_test, ridge_gcv.predict(X_test))\n",
    "print(f'R2: {r2_ridge_gcv}')"
   ]
  },
  {
   "attachments": {},
   "cell_type": "markdown",
   "metadata": {},
   "source": [
    "##### Ridge CV"
   ]
  },
  {
   "cell_type": "code",
   "execution_count": 15,
   "metadata": {},
   "outputs": [
    {
     "data": {
      "text/plain": [
       "10.0"
      ]
     },
     "execution_count": 15,
     "metadata": {},
     "output_type": "execute_result"
    }
   ],
   "source": [
    "ridge_cv = RidgeCV(alphas= params['alpha'])\n",
    "ridge_cv.fit(X_train, y_train)\n",
    "ridge_cv.alpha_"
   ]
  },
  {
   "cell_type": "code",
   "execution_count": 16,
   "metadata": {},
   "outputs": [
    {
     "name": "stdout",
     "output_type": "stream",
     "text": [
      "R2: 0.5107565001975987\n"
     ]
    }
   ],
   "source": [
    "ridge_cv = Ridge(alpha = ridge_cv.alpha_)\n",
    "ridge_cv.fit(X_train, y_train)\n",
    "r2_ridge_cv = r2_score(y_test, ridge_cv.predict(X_test))\n",
    "print(f'R2: {r2_ridge_cv}')"
   ]
  },
  {
   "attachments": {},
   "cell_type": "markdown",
   "metadata": {},
   "source": [
    "##### Lasso GridSearchCV"
   ]
  },
  {
   "cell_type": "code",
   "execution_count": 17,
   "metadata": {},
   "outputs": [
    {
     "data": {
      "text/plain": [
       "{'alpha': 0.001}"
      ]
     },
     "execution_count": 17,
     "metadata": {},
     "output_type": "execute_result"
    }
   ],
   "source": [
    "lasso = Lasso()\n",
    "lasso_gcv = GridSearchCV(lasso, params)\n",
    "lasso_gcv.fit(X_train, y_train)\n",
    "lasso_gcv.best_params_"
   ]
  },
  {
   "cell_type": "code",
   "execution_count": 18,
   "metadata": {},
   "outputs": [
    {
     "name": "stdout",
     "output_type": "stream",
     "text": [
      "R2: 0.511292888365978\n"
     ]
    }
   ],
   "source": [
    "lasso_gcv = lasso_gcv.best_estimator_\n",
    "lasso_gcv.fit(X_train, y_train)\n",
    "r2_lasso_gcv = r2_score(y_test, lasso_gcv.predict(X_test))\n",
    "print(f'R2: {r2_lasso_gcv}')\n"
   ]
  },
  {
   "attachments": {},
   "cell_type": "markdown",
   "metadata": {},
   "source": [
    "##### Lasso CV"
   ]
  },
  {
   "cell_type": "code",
   "execution_count": 19,
   "metadata": {},
   "outputs": [
    {
     "data": {
      "text/plain": [
       "0.001"
      ]
     },
     "execution_count": 19,
     "metadata": {},
     "output_type": "execute_result"
    }
   ],
   "source": [
    "lasso_cv = LassoCV(alphas = params['alpha'])\n",
    "lasso_cv.fit(X_train, y_train)\n",
    "lasso_cv.alpha_"
   ]
  },
  {
   "cell_type": "code",
   "execution_count": 20,
   "metadata": {},
   "outputs": [
    {
     "name": "stdout",
     "output_type": "stream",
     "text": [
      "R2: 0.511292888365978\n"
     ]
    }
   ],
   "source": [
    "lasso_cv = Lasso(alpha= lasso_cv.alpha_)\n",
    "lasso_cv.fit(X_train, y_train)\n",
    "r2_lasso_cv = r2_score(y_test, lasso_cv.predict(X_test))\n",
    "print(f'R2: {r2_lasso_cv}')"
   ]
  },
  {
   "cell_type": "code",
   "execution_count": 21,
   "metadata": {},
   "outputs": [
    {
     "data": {
      "text/plain": [
       "array([[0.51001967, 0.5107565 , 0.5107565 ],\n",
       "       [0.28416718, 0.51129289, 0.51129289]])"
      ]
     },
     "execution_count": 21,
     "metadata": {},
     "output_type": "execute_result"
    }
   ],
   "source": [
    "np.array([[scores['Ridge()'], r2_ridge_gcv, r2_ridge_cv],\n",
    "                                       [scores['Lasso()'], r2_lasso_gcv, r2_lasso_cv]])"
   ]
  },
  {
   "cell_type": "code",
   "execution_count": 22,
   "metadata": {},
   "outputs": [],
   "source": [
    "results = pd.DataFrame(data = np.array([[scores['Ridge()'], r2_ridge_gcv, r2_ridge_cv],\n",
    "                                       [scores['Lasso()'], r2_lasso_gcv, r2_lasso_cv]]),\n",
    "                        index= ['Ridge', 'Lasso'],\n",
    "                        columns= ['Original', 'GridSearchCV', 'CV'])"
   ]
  },
  {
   "cell_type": "code",
   "execution_count": 23,
   "metadata": {},
   "outputs": [
    {
     "data": {
      "text/html": [
       "<div>\n",
       "<style scoped>\n",
       "    .dataframe tbody tr th:only-of-type {\n",
       "        vertical-align: middle;\n",
       "    }\n",
       "\n",
       "    .dataframe tbody tr th {\n",
       "        vertical-align: top;\n",
       "    }\n",
       "\n",
       "    .dataframe thead th {\n",
       "        text-align: right;\n",
       "    }\n",
       "</style>\n",
       "<table border=\"1\" class=\"dataframe\">\n",
       "  <thead>\n",
       "    <tr style=\"text-align: right;\">\n",
       "      <th></th>\n",
       "      <th>Original</th>\n",
       "      <th>GridSearchCV</th>\n",
       "      <th>CV</th>\n",
       "    </tr>\n",
       "  </thead>\n",
       "  <tbody>\n",
       "    <tr>\n",
       "      <th>Ridge</th>\n",
       "      <td>0.510020</td>\n",
       "      <td>0.510757</td>\n",
       "      <td>0.510757</td>\n",
       "    </tr>\n",
       "    <tr>\n",
       "      <th>Lasso</th>\n",
       "      <td>0.284167</td>\n",
       "      <td>0.511293</td>\n",
       "      <td>0.511293</td>\n",
       "    </tr>\n",
       "  </tbody>\n",
       "</table>\n",
       "</div>"
      ],
      "text/plain": [
       "       Original  GridSearchCV        CV\n",
       "Ridge  0.510020      0.510757  0.510757\n",
       "Lasso  0.284167      0.511293  0.511293"
      ]
     },
     "execution_count": 23,
     "metadata": {},
     "output_type": "execute_result"
    }
   ],
   "source": [
    "results"
   ]
  },
  {
   "cell_type": "markdown",
   "metadata": {},
   "source": [
    "4. Проведите масштабирование выборки(используйте Pipeline, StandardScaler, MinMaxScaler), посчитайте R2 и сравните с предыдущими результатами. Напишите как изменился результат"
   ]
  },
  {
   "attachments": {},
   "cell_type": "markdown",
   "metadata": {},
   "source": [
    "##### Lasso"
   ]
  },
  {
   "cell_type": "code",
   "execution_count": 24,
   "metadata": {},
   "outputs": [
    {
     "name": "stdout",
     "output_type": "stream",
     "text": [
      "R2: -0.00021908714592466794\n"
     ]
    }
   ],
   "source": [
    "lasso_pipe = Pipeline(steps = [\n",
    "    ('scaling', MinMaxScaler()),\n",
    "    ('model', Lasso())\n",
    "])\n",
    "\n",
    "lasso_pipe.fit(X_train, y_train)\n",
    "r2_lasso_pipe_mms = r2_score(y_test, lasso_pipe.predict(X_test))\n",
    "print(f\"R2: {r2_lasso_pipe_mms}\")"
   ]
  },
  {
   "cell_type": "code",
   "execution_count": 25,
   "metadata": {},
   "outputs": [
    {
     "name": "stdout",
     "output_type": "stream",
     "text": [
      "R2: -0.00021908714592466794\n"
     ]
    }
   ],
   "source": [
    "lasso_pipe_ss = Pipeline(steps = [\n",
    "    ('scaler', StandardScaler()),\n",
    "    ('model', Lasso())]\n",
    ")\n",
    "lasso_pipe_ss.fit(X_train, y_train)\n",
    "r2_lasso_pipe_ss = r2_score(y_test, lasso_pipe_ss.predict(X_test))\n",
    "print(f'R2: {r2_lasso_pipe_ss}')\n"
   ]
  },
  {
   "attachments": {},
   "cell_type": "markdown",
   "metadata": {},
   "source": [
    "##### Ridge"
   ]
  },
  {
   "cell_type": "code",
   "execution_count": 26,
   "metadata": {},
   "outputs": [
    {
     "name": "stdout",
     "output_type": "stream",
     "text": [
      "R2: 0.5087674245872261\n"
     ]
    }
   ],
   "source": [
    "ridge_pipe = Pipeline(steps = [\n",
    "    ('scaler', MinMaxScaler()),\n",
    "    ('model', Ridge())\n",
    "])\n",
    "ridge_pipe.fit(X_train, y_train)\n",
    "r2_ridge_pipe = r2_score(y_test, ridge_pipe.predict(X_test))\n",
    "print(f'R2: {r2_ridge_pipe}')"
   ]
  },
  {
   "cell_type": "code",
   "execution_count": 27,
   "metadata": {},
   "outputs": [
    {
     "name": "stdout",
     "output_type": "stream",
     "text": [
      "R2: 0.5099698613970367\n"
     ]
    }
   ],
   "source": [
    "ridge_pipe_ss = Pipeline(steps = [\n",
    "    ('scale', StandardScaler()),\n",
    "    ('model', Ridge())\n",
    "])\n",
    "\n",
    "ridge_pipe_ss.fit(X_train, y_train)\n",
    "r2_ridge_pipe_ss = r2_score(y_test, ridge_pipe_ss.predict(X_test))\n",
    "print(f'R2: {r2_ridge_pipe_ss}')"
   ]
  },
  {
   "attachments": {},
   "cell_type": "markdown",
   "metadata": {},
   "source": [
    "Для обеих моделей результат улучшился по сравнению с обучением без скейлинга параметров"
   ]
  },
  {
   "cell_type": "markdown",
   "metadata": {},
   "source": [
    "5. Подберите коэффициент регуляризации для Ridge и Lasso на масштабированных данных, посчитайте R2 и сравните с предыдущими результатами. Напишите как изменился результат"
   ]
  },
  {
   "attachments": {},
   "cell_type": "markdown",
   "metadata": {},
   "source": [
    "##### Lasso"
   ]
  },
  {
   "cell_type": "code",
   "execution_count": 28,
   "metadata": {},
   "outputs": [
    {
     "name": "stdout",
     "output_type": "stream",
     "text": [
      "R2: 0.5104079606412832\n"
     ]
    }
   ],
   "source": [
    "lassocv_pipe = Pipeline(steps = [\n",
    "    ('scaler', MinMaxScaler()),\n",
    "    ('model', LassoCV(alphas = params['alpha']))\n",
    "])\n",
    "lassocv_pipe.fit(X_train, y_train)\n",
    "r2_lassocv_pipe = r2_score(y_test, lassocv_pipe.predict(X_test))\n",
    "print(f'R2: {r2_lassocv_pipe}')"
   ]
  },
  {
   "cell_type": "code",
   "execution_count": 29,
   "metadata": {},
   "outputs": [
    {
     "name": "stdout",
     "output_type": "stream",
     "text": [
      "R2: 0.5109187671982021\n"
     ]
    }
   ],
   "source": [
    "lassocv_pipe_ss = Pipeline(steps = [\n",
    "    ('scaler', StandardScaler()),\n",
    "    ('model', LassoCV(alphas=params['alpha']))\n",
    "])\n",
    "lassocv_pipe_ss.fit(X_train, y_train)\n",
    "r2_lassocv_pipe_ss = r2_score(y_test, lassocv_pipe_ss.predict(X_test))\n",
    "print(f'R2: {r2_lassocv_pipe_ss}')\n"
   ]
  },
  {
   "attachments": {},
   "cell_type": "markdown",
   "metadata": {},
   "source": [
    "##### Ridge"
   ]
  },
  {
   "cell_type": "code",
   "execution_count": 30,
   "metadata": {},
   "outputs": [
    {
     "name": "stdout",
     "output_type": "stream",
     "text": [
      "R2: 0.5107423426750731\n"
     ]
    }
   ],
   "source": [
    "ridgecv_pipe = Pipeline(steps = [\n",
    "    ('scaler', MinMaxScaler()),\n",
    "    ('model', RidgeCV(alphas = params['alpha']))\n",
    "])\n",
    "\n",
    "ridgecv_pipe.fit(X_train, y_train)\n",
    "r2_ridgecv_pipe = r2_score(y_test, ridgecv_pipe.predict(X_test))\n",
    "print(f'R2: {r2_ridgecv_pipe}')"
   ]
  },
  {
   "cell_type": "code",
   "execution_count": 31,
   "metadata": {},
   "outputs": [
    {
     "name": "stdout",
     "output_type": "stream",
     "text": [
      "R2: 0.5102872116247683\n"
     ]
    }
   ],
   "source": [
    "ridgecv_pipe_ss = Pipeline(steps = [\n",
    "    ('scaler', StandardScaler()),\n",
    "    ('model', RidgeCV(alphas = params['alpha']))\n",
    "])\n",
    "ridgecv_pipe_ss.fit(X_train, y_train)\n",
    "r2_ridgecv_pipe_ss = r2_score(y_test, ridgecv_pipe_ss.predict(X_test))\n",
    "print(f'R2: {r2_ridgecv_pipe_ss}')"
   ]
  },
  {
   "cell_type": "markdown",
   "metadata": {},
   "source": [
    "6. Добавьте попарные произведения признаков и их квадраты (используйте PolynomialFeatures) на масштабированных признаках, посчитайте R2 и сравните с предыдущими результатами. Напишите как изменился результат"
   ]
  },
  {
   "attachments": {},
   "cell_type": "markdown",
   "metadata": {},
   "source": [
    "##### Lasso"
   ]
  },
  {
   "cell_type": "code",
   "execution_count": 32,
   "metadata": {},
   "outputs": [
    {
     "name": "stdout",
     "output_type": "stream",
     "text": [
      "R2: -0.00021908714592466794\n"
     ]
    }
   ],
   "source": [
    "lasso_poly = Pipeline(steps = [\n",
    "    ('scaler', MinMaxScaler()),\n",
    "    ('preprocessor', PolynomialFeatures()),\n",
    "    ('model', Lasso())   \n",
    "])\n",
    "lasso_poly.fit(X_train, y_train)\n",
    "r2_lasso_poly = r2_score(y_test, lasso_poly.predict(X_test))\n",
    "print(f'R2: {r2_lasso_poly}')"
   ]
  },
  {
   "cell_type": "code",
   "execution_count": 33,
   "metadata": {},
   "outputs": [
    {
     "name": "stdout",
     "output_type": "stream",
     "text": [
      "R2: 0.03213255153849037\n"
     ]
    }
   ],
   "source": [
    "lasso_poly_ss = Pipeline(steps = [\n",
    "    ('scaler', StandardScaler()),\n",
    "    ('preprocessor', PolynomialFeatures()),\n",
    "    ('model', Lasso())\n",
    "])\n",
    "lasso_poly_ss.fit(X_train, y_train)\n",
    "r2_lasso_poly_ss = r2_score(y_test, lasso_poly_ss.predict(X_test))\n",
    "print(f'R2: {r2_lasso_poly_ss}')"
   ]
  },
  {
   "attachments": {},
   "cell_type": "markdown",
   "metadata": {},
   "source": [
    "##### Ridge"
   ]
  },
  {
   "cell_type": "code",
   "execution_count": 34,
   "metadata": {},
   "outputs": [
    {
     "name": "stdout",
     "output_type": "stream",
     "text": [
      "R2: 0.5146641340135979\n"
     ]
    }
   ],
   "source": [
    "ridge_poly = Pipeline(steps = [\n",
    "    ('scaler', MinMaxScaler()),\n",
    "    ('preprocessor', PolynomialFeatures()),\n",
    "    ('model', Ridge())\n",
    "])\n",
    "ridge_poly.fit(X_train, y_train)\n",
    "r2_ridge_poly = r2_score(y_test, ridge_poly.predict(X_test))\n",
    "print(f'R2: {r2_ridge_poly}')"
   ]
  },
  {
   "cell_type": "code",
   "execution_count": 35,
   "metadata": {},
   "outputs": [
    {
     "name": "stdout",
     "output_type": "stream",
     "text": [
      "R2: 0.5736702844678224\n"
     ]
    }
   ],
   "source": [
    "ridge_poly_ss = Pipeline(steps = [\n",
    "    ('scaler', StandardScaler()),\n",
    "    ('preprocessor', PolynomialFeatures()),\n",
    "    ('model', Ridge())\n",
    "])\n",
    "ridge_poly_ss.fit(X_train, y_train)\n",
    "r2_ridge_poly_ss = r2_score(y_test, ridge_poly_ss.predict(X_test))\n",
    "print(f'R2: {r2_ridge_poly_ss}')"
   ]
  },
  {
   "attachments": {},
   "cell_type": "markdown",
   "metadata": {},
   "source": [
    "Полином улучшает модель особенно заметно для ridge"
   ]
  },
  {
   "cell_type": "markdown",
   "metadata": {},
   "source": [
    "7. Подберите наилучшую модель (используйте Pipeline, GridSearchSCV) подбирая тип регуляризации (L1,L2), коэффициент регуляризации, метод масштабирования и степень полинома в PolynomialFeatures. Выведите итоговые параметры и результат R2. Напишите как изменился R2 по сравнению с предыдущими экспериментами"
   ]
  },
  {
   "cell_type": "code",
   "execution_count": 68,
   "metadata": {},
   "outputs": [
    {
     "ename": "ValueError",
     "evalue": "\nAll the 660 fits failed.\nIt is very likely that your model is misconfigured.\nYou can try to debug the error by setting error_score='raise'.\n\nBelow are more details about the failures:\n--------------------------------------------------------------------------------\n330 fits failed with the following error:\nTraceback (most recent call last):\n  File \"/Users/yurititov/opt/anaconda3/lib/python3.9/site-packages/sklearn/model_selection/_validation.py\", line 686, in _fit_and_score\n    estimator.fit(X_train, y_train, **fit_params)\n  File \"/Users/yurititov/opt/anaconda3/lib/python3.9/site-packages/sklearn/pipeline.py\", line 401, in fit\n    Xt = self._fit(X, y, **fit_params_steps)\n  File \"/Users/yurititov/opt/anaconda3/lib/python3.9/site-packages/sklearn/pipeline.py\", line 359, in _fit\n    X, fitted_transformer = fit_transform_one_cached(\n  File \"/Users/yurititov/opt/anaconda3/lib/python3.9/site-packages/joblib/memory.py\", line 349, in __call__\n    return self.func(*args, **kwargs)\n  File \"/Users/yurititov/opt/anaconda3/lib/python3.9/site-packages/sklearn/pipeline.py\", line 893, in _fit_transform_one\n    res = transformer.fit_transform(X, y, **fit_params)\n  File \"/Users/yurititov/opt/anaconda3/lib/python3.9/site-packages/sklearn/utils/_set_output.py\", line 142, in wrapped\n    data_to_wrap = f(self, X, *args, **kwargs)\n  File \"/Users/yurititov/opt/anaconda3/lib/python3.9/site-packages/sklearn/base.py\", line 862, in fit_transform\n    return self.fit(X, y, **fit_params).transform(X)\n  File \"/Users/yurititov/opt/anaconda3/lib/python3.9/site-packages/sklearn/preprocessing/_data.py\", line 427, in fit\n    return self.partial_fit(X, y)\n  File \"/Users/yurititov/opt/anaconda3/lib/python3.9/site-packages/sklearn/preprocessing/_data.py\", line 466, in partial_fit\n    X = self._validate_data(\n  File \"/Users/yurititov/opt/anaconda3/lib/python3.9/site-packages/sklearn/base.py\", line 546, in _validate_data\n    X = check_array(X, input_name=\"X\", **check_params)\n  File \"/Users/yurititov/opt/anaconda3/lib/python3.9/site-packages/sklearn/utils/validation.py\", line 879, in check_array\n    array = _asarray_with_order(array, order=order, dtype=dtype, xp=xp)\n  File \"/Users/yurititov/opt/anaconda3/lib/python3.9/site-packages/sklearn/utils/_array_api.py\", line 185, in _asarray_with_order\n    array = numpy.asarray(array, order=order, dtype=dtype)\n  File \"/Users/yurititov/opt/anaconda3/lib/python3.9/site-packages/pandas/core/generic.py\", line 2064, in __array__\n    return np.asarray(self._values, dtype=dtype)\nValueError: could not convert string to float: 'Private'\n\n--------------------------------------------------------------------------------\n330 fits failed with the following error:\nTraceback (most recent call last):\n  File \"/Users/yurititov/opt/anaconda3/lib/python3.9/site-packages/sklearn/model_selection/_validation.py\", line 686, in _fit_and_score\n    estimator.fit(X_train, y_train, **fit_params)\n  File \"/Users/yurititov/opt/anaconda3/lib/python3.9/site-packages/sklearn/pipeline.py\", line 401, in fit\n    Xt = self._fit(X, y, **fit_params_steps)\n  File \"/Users/yurititov/opt/anaconda3/lib/python3.9/site-packages/sklearn/pipeline.py\", line 359, in _fit\n    X, fitted_transformer = fit_transform_one_cached(\n  File \"/Users/yurititov/opt/anaconda3/lib/python3.9/site-packages/joblib/memory.py\", line 349, in __call__\n    return self.func(*args, **kwargs)\n  File \"/Users/yurititov/opt/anaconda3/lib/python3.9/site-packages/sklearn/pipeline.py\", line 893, in _fit_transform_one\n    res = transformer.fit_transform(X, y, **fit_params)\n  File \"/Users/yurititov/opt/anaconda3/lib/python3.9/site-packages/sklearn/utils/_set_output.py\", line 142, in wrapped\n    data_to_wrap = f(self, X, *args, **kwargs)\n  File \"/Users/yurititov/opt/anaconda3/lib/python3.9/site-packages/sklearn/base.py\", line 862, in fit_transform\n    return self.fit(X, y, **fit_params).transform(X)\n  File \"/Users/yurititov/opt/anaconda3/lib/python3.9/site-packages/sklearn/preprocessing/_data.py\", line 824, in fit\n    return self.partial_fit(X, y, sample_weight)\n  File \"/Users/yurititov/opt/anaconda3/lib/python3.9/site-packages/sklearn/preprocessing/_data.py\", line 861, in partial_fit\n    X = self._validate_data(\n  File \"/Users/yurititov/opt/anaconda3/lib/python3.9/site-packages/sklearn/base.py\", line 546, in _validate_data\n    X = check_array(X, input_name=\"X\", **check_params)\n  File \"/Users/yurititov/opt/anaconda3/lib/python3.9/site-packages/sklearn/utils/validation.py\", line 879, in check_array\n    array = _asarray_with_order(array, order=order, dtype=dtype, xp=xp)\n  File \"/Users/yurititov/opt/anaconda3/lib/python3.9/site-packages/sklearn/utils/_array_api.py\", line 185, in _asarray_with_order\n    array = numpy.asarray(array, order=order, dtype=dtype)\n  File \"/Users/yurititov/opt/anaconda3/lib/python3.9/site-packages/pandas/core/generic.py\", line 2064, in __array__\n    return np.asarray(self._values, dtype=dtype)\nValueError: could not convert string to float: 'Private'\n",
     "output_type": "error",
     "traceback": [
      "\u001b[0;31m---------------------------------------------------------------------------\u001b[0m",
      "\u001b[0;31mValueError\u001b[0m                                Traceback (most recent call last)",
      "\u001b[0;32m/var/folders/2v/qmffsm854kvfl5p84_81x86c0000gn/T/ipykernel_14681/2631086580.py\u001b[0m in \u001b[0;36m<module>\u001b[0;34m\u001b[0m\n\u001b[1;32m     13\u001b[0m \u001b[0;34m\u001b[0m\u001b[0m\n\u001b[1;32m     14\u001b[0m \u001b[0mgrid_search\u001b[0m \u001b[0;34m=\u001b[0m \u001b[0mGridSearchCV\u001b[0m\u001b[0;34m(\u001b[0m\u001b[0mfinal_pipe\u001b[0m\u001b[0;34m,\u001b[0m \u001b[0mparam_grid\u001b[0m\u001b[0;34m,\u001b[0m \u001b[0mcv\u001b[0m \u001b[0;34m=\u001b[0m \u001b[0;36m5\u001b[0m\u001b[0;34m)\u001b[0m\u001b[0;34m\u001b[0m\u001b[0;34m\u001b[0m\u001b[0m\n\u001b[0;32m---> 15\u001b[0;31m \u001b[0mgrid_search\u001b[0m\u001b[0;34m.\u001b[0m\u001b[0mfit\u001b[0m\u001b[0;34m(\u001b[0m\u001b[0mX_train\u001b[0m\u001b[0;34m,\u001b[0m \u001b[0my_train\u001b[0m\u001b[0;34m)\u001b[0m\u001b[0;34m\u001b[0m\u001b[0;34m\u001b[0m\u001b[0m\n\u001b[0m",
      "\u001b[0;32m~/opt/anaconda3/lib/python3.9/site-packages/sklearn/model_selection/_search.py\u001b[0m in \u001b[0;36mfit\u001b[0;34m(self, X, y, groups, **fit_params)\u001b[0m\n\u001b[1;32m    872\u001b[0m                 \u001b[0;32mreturn\u001b[0m \u001b[0mresults\u001b[0m\u001b[0;34m\u001b[0m\u001b[0;34m\u001b[0m\u001b[0m\n\u001b[1;32m    873\u001b[0m \u001b[0;34m\u001b[0m\u001b[0m\n\u001b[0;32m--> 874\u001b[0;31m             \u001b[0mself\u001b[0m\u001b[0;34m.\u001b[0m\u001b[0m_run_search\u001b[0m\u001b[0;34m(\u001b[0m\u001b[0mevaluate_candidates\u001b[0m\u001b[0;34m)\u001b[0m\u001b[0;34m\u001b[0m\u001b[0;34m\u001b[0m\u001b[0m\n\u001b[0m\u001b[1;32m    875\u001b[0m \u001b[0;34m\u001b[0m\u001b[0m\n\u001b[1;32m    876\u001b[0m             \u001b[0;31m# multimetric is determined here because in the case of a callable\u001b[0m\u001b[0;34m\u001b[0m\u001b[0;34m\u001b[0m\u001b[0m\n",
      "\u001b[0;32m~/opt/anaconda3/lib/python3.9/site-packages/sklearn/model_selection/_search.py\u001b[0m in \u001b[0;36m_run_search\u001b[0;34m(self, evaluate_candidates)\u001b[0m\n\u001b[1;32m   1386\u001b[0m     \u001b[0;32mdef\u001b[0m \u001b[0m_run_search\u001b[0m\u001b[0;34m(\u001b[0m\u001b[0mself\u001b[0m\u001b[0;34m,\u001b[0m \u001b[0mevaluate_candidates\u001b[0m\u001b[0;34m)\u001b[0m\u001b[0;34m:\u001b[0m\u001b[0;34m\u001b[0m\u001b[0;34m\u001b[0m\u001b[0m\n\u001b[1;32m   1387\u001b[0m         \u001b[0;34m\"\"\"Search all candidates in param_grid\"\"\"\u001b[0m\u001b[0;34m\u001b[0m\u001b[0;34m\u001b[0m\u001b[0m\n\u001b[0;32m-> 1388\u001b[0;31m         \u001b[0mevaluate_candidates\u001b[0m\u001b[0;34m(\u001b[0m\u001b[0mParameterGrid\u001b[0m\u001b[0;34m(\u001b[0m\u001b[0mself\u001b[0m\u001b[0;34m.\u001b[0m\u001b[0mparam_grid\u001b[0m\u001b[0;34m)\u001b[0m\u001b[0;34m)\u001b[0m\u001b[0;34m\u001b[0m\u001b[0;34m\u001b[0m\u001b[0m\n\u001b[0m\u001b[1;32m   1389\u001b[0m \u001b[0;34m\u001b[0m\u001b[0m\n\u001b[1;32m   1390\u001b[0m \u001b[0;34m\u001b[0m\u001b[0m\n",
      "\u001b[0;32m~/opt/anaconda3/lib/python3.9/site-packages/sklearn/model_selection/_search.py\u001b[0m in \u001b[0;36mevaluate_candidates\u001b[0;34m(candidate_params, cv, more_results)\u001b[0m\n\u001b[1;32m    849\u001b[0m                     )\n\u001b[1;32m    850\u001b[0m \u001b[0;34m\u001b[0m\u001b[0m\n\u001b[0;32m--> 851\u001b[0;31m                 \u001b[0m_warn_or_raise_about_fit_failures\u001b[0m\u001b[0;34m(\u001b[0m\u001b[0mout\u001b[0m\u001b[0;34m,\u001b[0m \u001b[0mself\u001b[0m\u001b[0;34m.\u001b[0m\u001b[0merror_score\u001b[0m\u001b[0;34m)\u001b[0m\u001b[0;34m\u001b[0m\u001b[0;34m\u001b[0m\u001b[0m\n\u001b[0m\u001b[1;32m    852\u001b[0m \u001b[0;34m\u001b[0m\u001b[0m\n\u001b[1;32m    853\u001b[0m                 \u001b[0;31m# For callable self.scoring, the return type is only know after\u001b[0m\u001b[0;34m\u001b[0m\u001b[0;34m\u001b[0m\u001b[0m\n",
      "\u001b[0;32m~/opt/anaconda3/lib/python3.9/site-packages/sklearn/model_selection/_validation.py\u001b[0m in \u001b[0;36m_warn_or_raise_about_fit_failures\u001b[0;34m(results, error_score)\u001b[0m\n\u001b[1;32m    365\u001b[0m                 \u001b[0;34mf\"Below are more details about the failures:\\n{fit_errors_summary}\"\u001b[0m\u001b[0;34m\u001b[0m\u001b[0;34m\u001b[0m\u001b[0m\n\u001b[1;32m    366\u001b[0m             )\n\u001b[0;32m--> 367\u001b[0;31m             \u001b[0;32mraise\u001b[0m \u001b[0mValueError\u001b[0m\u001b[0;34m(\u001b[0m\u001b[0mall_fits_failed_message\u001b[0m\u001b[0;34m)\u001b[0m\u001b[0;34m\u001b[0m\u001b[0;34m\u001b[0m\u001b[0m\n\u001b[0m\u001b[1;32m    368\u001b[0m \u001b[0;34m\u001b[0m\u001b[0m\n\u001b[1;32m    369\u001b[0m         \u001b[0;32melse\u001b[0m\u001b[0;34m:\u001b[0m\u001b[0;34m\u001b[0m\u001b[0;34m\u001b[0m\u001b[0m\n",
      "\u001b[0;31mValueError\u001b[0m: \nAll the 660 fits failed.\nIt is very likely that your model is misconfigured.\nYou can try to debug the error by setting error_score='raise'.\n\nBelow are more details about the failures:\n--------------------------------------------------------------------------------\n330 fits failed with the following error:\nTraceback (most recent call last):\n  File \"/Users/yurititov/opt/anaconda3/lib/python3.9/site-packages/sklearn/model_selection/_validation.py\", line 686, in _fit_and_score\n    estimator.fit(X_train, y_train, **fit_params)\n  File \"/Users/yurititov/opt/anaconda3/lib/python3.9/site-packages/sklearn/pipeline.py\", line 401, in fit\n    Xt = self._fit(X, y, **fit_params_steps)\n  File \"/Users/yurititov/opt/anaconda3/lib/python3.9/site-packages/sklearn/pipeline.py\", line 359, in _fit\n    X, fitted_transformer = fit_transform_one_cached(\n  File \"/Users/yurititov/opt/anaconda3/lib/python3.9/site-packages/joblib/memory.py\", line 349, in __call__\n    return self.func(*args, **kwargs)\n  File \"/Users/yurititov/opt/anaconda3/lib/python3.9/site-packages/sklearn/pipeline.py\", line 893, in _fit_transform_one\n    res = transformer.fit_transform(X, y, **fit_params)\n  File \"/Users/yurititov/opt/anaconda3/lib/python3.9/site-packages/sklearn/utils/_set_output.py\", line 142, in wrapped\n    data_to_wrap = f(self, X, *args, **kwargs)\n  File \"/Users/yurititov/opt/anaconda3/lib/python3.9/site-packages/sklearn/base.py\", line 862, in fit_transform\n    return self.fit(X, y, **fit_params).transform(X)\n  File \"/Users/yurititov/opt/anaconda3/lib/python3.9/site-packages/sklearn/preprocessing/_data.py\", line 427, in fit\n    return self.partial_fit(X, y)\n  File \"/Users/yurititov/opt/anaconda3/lib/python3.9/site-packages/sklearn/preprocessing/_data.py\", line 466, in partial_fit\n    X = self._validate_data(\n  File \"/Users/yurititov/opt/anaconda3/lib/python3.9/site-packages/sklearn/base.py\", line 546, in _validate_data\n    X = check_array(X, input_name=\"X\", **check_params)\n  File \"/Users/yurititov/opt/anaconda3/lib/python3.9/site-packages/sklearn/utils/validation.py\", line 879, in check_array\n    array = _asarray_with_order(array, order=order, dtype=dtype, xp=xp)\n  File \"/Users/yurititov/opt/anaconda3/lib/python3.9/site-packages/sklearn/utils/_array_api.py\", line 185, in _asarray_with_order\n    array = numpy.asarray(array, order=order, dtype=dtype)\n  File \"/Users/yurititov/opt/anaconda3/lib/python3.9/site-packages/pandas/core/generic.py\", line 2064, in __array__\n    return np.asarray(self._values, dtype=dtype)\nValueError: could not convert string to float: 'Private'\n\n--------------------------------------------------------------------------------\n330 fits failed with the following error:\nTraceback (most recent call last):\n  File \"/Users/yurititov/opt/anaconda3/lib/python3.9/site-packages/sklearn/model_selection/_validation.py\", line 686, in _fit_and_score\n    estimator.fit(X_train, y_train, **fit_params)\n  File \"/Users/yurititov/opt/anaconda3/lib/python3.9/site-packages/sklearn/pipeline.py\", line 401, in fit\n    Xt = self._fit(X, y, **fit_params_steps)\n  File \"/Users/yurititov/opt/anaconda3/lib/python3.9/site-packages/sklearn/pipeline.py\", line 359, in _fit\n    X, fitted_transformer = fit_transform_one_cached(\n  File \"/Users/yurititov/opt/anaconda3/lib/python3.9/site-packages/joblib/memory.py\", line 349, in __call__\n    return self.func(*args, **kwargs)\n  File \"/Users/yurititov/opt/anaconda3/lib/python3.9/site-packages/sklearn/pipeline.py\", line 893, in _fit_transform_one\n    res = transformer.fit_transform(X, y, **fit_params)\n  File \"/Users/yurititov/opt/anaconda3/lib/python3.9/site-packages/sklearn/utils/_set_output.py\", line 142, in wrapped\n    data_to_wrap = f(self, X, *args, **kwargs)\n  File \"/Users/yurititov/opt/anaconda3/lib/python3.9/site-packages/sklearn/base.py\", line 862, in fit_transform\n    return self.fit(X, y, **fit_params).transform(X)\n  File \"/Users/yurititov/opt/anaconda3/lib/python3.9/site-packages/sklearn/preprocessing/_data.py\", line 824, in fit\n    return self.partial_fit(X, y, sample_weight)\n  File \"/Users/yurititov/opt/anaconda3/lib/python3.9/site-packages/sklearn/preprocessing/_data.py\", line 861, in partial_fit\n    X = self._validate_data(\n  File \"/Users/yurititov/opt/anaconda3/lib/python3.9/site-packages/sklearn/base.py\", line 546, in _validate_data\n    X = check_array(X, input_name=\"X\", **check_params)\n  File \"/Users/yurititov/opt/anaconda3/lib/python3.9/site-packages/sklearn/utils/validation.py\", line 879, in check_array\n    array = _asarray_with_order(array, order=order, dtype=dtype, xp=xp)\n  File \"/Users/yurititov/opt/anaconda3/lib/python3.9/site-packages/sklearn/utils/_array_api.py\", line 185, in _asarray_with_order\n    array = numpy.asarray(array, order=order, dtype=dtype)\n  File \"/Users/yurititov/opt/anaconda3/lib/python3.9/site-packages/pandas/core/generic.py\", line 2064, in __array__\n    return np.asarray(self._values, dtype=dtype)\nValueError: could not convert string to float: 'Private'\n"
     ]
    }
   ],
   "source": [
    "final_pipe = Pipeline(steps = [\n",
    "    ('scaler', MinMaxScaler()),\n",
    "    ('preprocessor', PolynomialFeatures()),\n",
    "    ('model', Lasso())\n",
    "])\n",
    "\n",
    "param_grid = {\n",
    "    'scaler': [MinMaxScaler(), StandardScaler()],\n",
    "    'preprocessor__degree': [2, 3, 4],\n",
    "    'model': [Lasso(), Ridge()],\n",
    "    'model__alpha': [10 ** level for level in range(-5, 6)]\n",
    "}\n",
    "\n",
    "grid_search = GridSearchCV(final_pipe, param_grid, cv = 5)\n",
    "grid_search.fit(X_train, y_train)\n"
   ]
  },
  {
   "cell_type": "code",
   "execution_count": 37,
   "metadata": {},
   "outputs": [
    {
     "name": "stdout",
     "output_type": "stream",
     "text": [
      "{'model': Lasso(alpha=0.01), 'model__alpha': 0.01, 'preprocessor__degree': 3, 'scaler': StandardScaler()}\n",
      "0.5765927067516305\n"
     ]
    }
   ],
   "source": [
    "print(grid_search.best_params_)\n",
    "print(grid_search.best_score_)"
   ]
  },
  {
   "cell_type": "code",
   "execution_count": 38,
   "metadata": {},
   "outputs": [
    {
     "name": "stdout",
     "output_type": "stream",
     "text": [
      "R2: 0.16751805961152688\n"
     ]
    },
    {
     "name": "stderr",
     "output_type": "stream",
     "text": [
      "/Users/yurititov/opt/anaconda3/lib/python3.9/site-packages/sklearn/linear_model/_coordinate_descent.py:631: ConvergenceWarning: Objective did not converge. You might want to increase the number of iterations, check the scale of the features or consider increasing regularisation. Duality gap: 4.727e+03, tolerance: 2.207e+00\n",
      "  model = cd_fast.enet_coordinate_descent(\n"
     ]
    }
   ],
   "source": [
    "pipe_tuned = Pipeline(steps = [\n",
    "    ('scaler', StandardScaler()),\n",
    "    ('preprocessor', PolynomialFeatures(degree=3)),\n",
    "    ('model', Lasso(alpha = 0.01))\n",
    "])\n",
    "pipe_tuned.fit(X_train, y_train)\n",
    "r2_pipe_tuned = r2_score(y_test, pipe_tuned.predict(X_test))\n",
    "print(f'R2: {r2_pipe_tuned}')"
   ]
  },
  {
   "cell_type": "markdown",
   "metadata": {},
   "source": [
    "http://archive.ics.uci.edu/ml/datasets/Adult"
   ]
  },
  {
   "cell_type": "code",
   "execution_count": 39,
   "metadata": {},
   "outputs": [],
   "source": [
    "link = 'https://raw.githubusercontent.com/jbrownlee/Datasets/master/adult-all.csv'\n",
    "data = pd.read_csv(link, header=None)\n",
    "#data = pd.read_csv(link)"
   ]
  },
  {
   "cell_type": "code",
   "execution_count": 40,
   "metadata": {},
   "outputs": [
    {
     "data": {
      "text/html": [
       "<div>\n",
       "<style scoped>\n",
       "    .dataframe tbody tr th:only-of-type {\n",
       "        vertical-align: middle;\n",
       "    }\n",
       "\n",
       "    .dataframe tbody tr th {\n",
       "        vertical-align: top;\n",
       "    }\n",
       "\n",
       "    .dataframe thead th {\n",
       "        text-align: right;\n",
       "    }\n",
       "</style>\n",
       "<table border=\"1\" class=\"dataframe\">\n",
       "  <thead>\n",
       "    <tr style=\"text-align: right;\">\n",
       "      <th></th>\n",
       "      <th>0</th>\n",
       "      <th>1</th>\n",
       "      <th>2</th>\n",
       "      <th>3</th>\n",
       "      <th>4</th>\n",
       "      <th>5</th>\n",
       "      <th>6</th>\n",
       "      <th>7</th>\n",
       "      <th>8</th>\n",
       "      <th>9</th>\n",
       "      <th>10</th>\n",
       "      <th>11</th>\n",
       "      <th>12</th>\n",
       "      <th>13</th>\n",
       "      <th>14</th>\n",
       "    </tr>\n",
       "  </thead>\n",
       "  <tbody>\n",
       "    <tr>\n",
       "      <th>0</th>\n",
       "      <td>39</td>\n",
       "      <td>State-gov</td>\n",
       "      <td>77516</td>\n",
       "      <td>Bachelors</td>\n",
       "      <td>13</td>\n",
       "      <td>Never-married</td>\n",
       "      <td>Adm-clerical</td>\n",
       "      <td>Not-in-family</td>\n",
       "      <td>White</td>\n",
       "      <td>Male</td>\n",
       "      <td>2174</td>\n",
       "      <td>0</td>\n",
       "      <td>40</td>\n",
       "      <td>United-States</td>\n",
       "      <td>&lt;=50K</td>\n",
       "    </tr>\n",
       "    <tr>\n",
       "      <th>1</th>\n",
       "      <td>50</td>\n",
       "      <td>Self-emp-not-inc</td>\n",
       "      <td>83311</td>\n",
       "      <td>Bachelors</td>\n",
       "      <td>13</td>\n",
       "      <td>Married-civ-spouse</td>\n",
       "      <td>Exec-managerial</td>\n",
       "      <td>Husband</td>\n",
       "      <td>White</td>\n",
       "      <td>Male</td>\n",
       "      <td>0</td>\n",
       "      <td>0</td>\n",
       "      <td>13</td>\n",
       "      <td>United-States</td>\n",
       "      <td>&lt;=50K</td>\n",
       "    </tr>\n",
       "    <tr>\n",
       "      <th>2</th>\n",
       "      <td>38</td>\n",
       "      <td>Private</td>\n",
       "      <td>215646</td>\n",
       "      <td>HS-grad</td>\n",
       "      <td>9</td>\n",
       "      <td>Divorced</td>\n",
       "      <td>Handlers-cleaners</td>\n",
       "      <td>Not-in-family</td>\n",
       "      <td>White</td>\n",
       "      <td>Male</td>\n",
       "      <td>0</td>\n",
       "      <td>0</td>\n",
       "      <td>40</td>\n",
       "      <td>United-States</td>\n",
       "      <td>&lt;=50K</td>\n",
       "    </tr>\n",
       "    <tr>\n",
       "      <th>3</th>\n",
       "      <td>53</td>\n",
       "      <td>Private</td>\n",
       "      <td>234721</td>\n",
       "      <td>11th</td>\n",
       "      <td>7</td>\n",
       "      <td>Married-civ-spouse</td>\n",
       "      <td>Handlers-cleaners</td>\n",
       "      <td>Husband</td>\n",
       "      <td>Black</td>\n",
       "      <td>Male</td>\n",
       "      <td>0</td>\n",
       "      <td>0</td>\n",
       "      <td>40</td>\n",
       "      <td>United-States</td>\n",
       "      <td>&lt;=50K</td>\n",
       "    </tr>\n",
       "    <tr>\n",
       "      <th>4</th>\n",
       "      <td>28</td>\n",
       "      <td>Private</td>\n",
       "      <td>338409</td>\n",
       "      <td>Bachelors</td>\n",
       "      <td>13</td>\n",
       "      <td>Married-civ-spouse</td>\n",
       "      <td>Prof-specialty</td>\n",
       "      <td>Wife</td>\n",
       "      <td>Black</td>\n",
       "      <td>Female</td>\n",
       "      <td>0</td>\n",
       "      <td>0</td>\n",
       "      <td>40</td>\n",
       "      <td>Cuba</td>\n",
       "      <td>&lt;=50K</td>\n",
       "    </tr>\n",
       "    <tr>\n",
       "      <th>...</th>\n",
       "      <td>...</td>\n",
       "      <td>...</td>\n",
       "      <td>...</td>\n",
       "      <td>...</td>\n",
       "      <td>...</td>\n",
       "      <td>...</td>\n",
       "      <td>...</td>\n",
       "      <td>...</td>\n",
       "      <td>...</td>\n",
       "      <td>...</td>\n",
       "      <td>...</td>\n",
       "      <td>...</td>\n",
       "      <td>...</td>\n",
       "      <td>...</td>\n",
       "      <td>...</td>\n",
       "    </tr>\n",
       "    <tr>\n",
       "      <th>48837</th>\n",
       "      <td>39</td>\n",
       "      <td>Private</td>\n",
       "      <td>215419</td>\n",
       "      <td>Bachelors</td>\n",
       "      <td>13</td>\n",
       "      <td>Divorced</td>\n",
       "      <td>Prof-specialty</td>\n",
       "      <td>Not-in-family</td>\n",
       "      <td>White</td>\n",
       "      <td>Female</td>\n",
       "      <td>0</td>\n",
       "      <td>0</td>\n",
       "      <td>36</td>\n",
       "      <td>United-States</td>\n",
       "      <td>&lt;=50K</td>\n",
       "    </tr>\n",
       "    <tr>\n",
       "      <th>48838</th>\n",
       "      <td>64</td>\n",
       "      <td>?</td>\n",
       "      <td>321403</td>\n",
       "      <td>HS-grad</td>\n",
       "      <td>9</td>\n",
       "      <td>Widowed</td>\n",
       "      <td>?</td>\n",
       "      <td>Other-relative</td>\n",
       "      <td>Black</td>\n",
       "      <td>Male</td>\n",
       "      <td>0</td>\n",
       "      <td>0</td>\n",
       "      <td>40</td>\n",
       "      <td>United-States</td>\n",
       "      <td>&lt;=50K</td>\n",
       "    </tr>\n",
       "    <tr>\n",
       "      <th>48839</th>\n",
       "      <td>38</td>\n",
       "      <td>Private</td>\n",
       "      <td>374983</td>\n",
       "      <td>Bachelors</td>\n",
       "      <td>13</td>\n",
       "      <td>Married-civ-spouse</td>\n",
       "      <td>Prof-specialty</td>\n",
       "      <td>Husband</td>\n",
       "      <td>White</td>\n",
       "      <td>Male</td>\n",
       "      <td>0</td>\n",
       "      <td>0</td>\n",
       "      <td>50</td>\n",
       "      <td>United-States</td>\n",
       "      <td>&lt;=50K</td>\n",
       "    </tr>\n",
       "    <tr>\n",
       "      <th>48840</th>\n",
       "      <td>44</td>\n",
       "      <td>Private</td>\n",
       "      <td>83891</td>\n",
       "      <td>Bachelors</td>\n",
       "      <td>13</td>\n",
       "      <td>Divorced</td>\n",
       "      <td>Adm-clerical</td>\n",
       "      <td>Own-child</td>\n",
       "      <td>Asian-Pac-Islander</td>\n",
       "      <td>Male</td>\n",
       "      <td>5455</td>\n",
       "      <td>0</td>\n",
       "      <td>40</td>\n",
       "      <td>United-States</td>\n",
       "      <td>&lt;=50K</td>\n",
       "    </tr>\n",
       "    <tr>\n",
       "      <th>48841</th>\n",
       "      <td>35</td>\n",
       "      <td>Self-emp-inc</td>\n",
       "      <td>182148</td>\n",
       "      <td>Bachelors</td>\n",
       "      <td>13</td>\n",
       "      <td>Married-civ-spouse</td>\n",
       "      <td>Exec-managerial</td>\n",
       "      <td>Husband</td>\n",
       "      <td>White</td>\n",
       "      <td>Male</td>\n",
       "      <td>0</td>\n",
       "      <td>0</td>\n",
       "      <td>60</td>\n",
       "      <td>United-States</td>\n",
       "      <td>&gt;50K</td>\n",
       "    </tr>\n",
       "  </tbody>\n",
       "</table>\n",
       "<p>48842 rows × 15 columns</p>\n",
       "</div>"
      ],
      "text/plain": [
       "       0                 1       2          3   4                   5   \\\n",
       "0      39         State-gov   77516  Bachelors  13       Never-married   \n",
       "1      50  Self-emp-not-inc   83311  Bachelors  13  Married-civ-spouse   \n",
       "2      38           Private  215646    HS-grad   9            Divorced   \n",
       "3      53           Private  234721       11th   7  Married-civ-spouse   \n",
       "4      28           Private  338409  Bachelors  13  Married-civ-spouse   \n",
       "...    ..               ...     ...        ...  ..                 ...   \n",
       "48837  39           Private  215419  Bachelors  13            Divorced   \n",
       "48838  64                 ?  321403    HS-grad   9             Widowed   \n",
       "48839  38           Private  374983  Bachelors  13  Married-civ-spouse   \n",
       "48840  44           Private   83891  Bachelors  13            Divorced   \n",
       "48841  35      Self-emp-inc  182148  Bachelors  13  Married-civ-spouse   \n",
       "\n",
       "                      6               7                   8       9     10  \\\n",
       "0           Adm-clerical   Not-in-family               White    Male  2174   \n",
       "1        Exec-managerial         Husband               White    Male     0   \n",
       "2      Handlers-cleaners   Not-in-family               White    Male     0   \n",
       "3      Handlers-cleaners         Husband               Black    Male     0   \n",
       "4         Prof-specialty            Wife               Black  Female     0   \n",
       "...                  ...             ...                 ...     ...   ...   \n",
       "48837     Prof-specialty   Not-in-family               White  Female     0   \n",
       "48838                  ?  Other-relative               Black    Male     0   \n",
       "48839     Prof-specialty         Husband               White    Male     0   \n",
       "48840       Adm-clerical       Own-child  Asian-Pac-Islander    Male  5455   \n",
       "48841    Exec-managerial         Husband               White    Male     0   \n",
       "\n",
       "       11  12             13     14  \n",
       "0       0  40  United-States  <=50K  \n",
       "1       0  13  United-States  <=50K  \n",
       "2       0  40  United-States  <=50K  \n",
       "3       0  40  United-States  <=50K  \n",
       "4       0  40           Cuba  <=50K  \n",
       "...    ..  ..            ...    ...  \n",
       "48837   0  36  United-States  <=50K  \n",
       "48838   0  40  United-States  <=50K  \n",
       "48839   0  50  United-States  <=50K  \n",
       "48840   0  40  United-States  <=50K  \n",
       "48841   0  60  United-States   >50K  \n",
       "\n",
       "[48842 rows x 15 columns]"
      ]
     },
     "execution_count": 40,
     "metadata": {},
     "output_type": "execute_result"
    }
   ],
   "source": [
    "data"
   ]
  },
  {
   "cell_type": "markdown",
   "metadata": {},
   "source": [
    "8. Разделите выборку на признаки и целевую переменную(колонка со зачениями {<=50K,>50K}). Замените целевую переменную на числовые значения."
   ]
  },
  {
   "cell_type": "code",
   "execution_count": 41,
   "metadata": {},
   "outputs": [],
   "source": [
    "X = data.drop(columns=14)\n",
    "y = data[14]"
   ]
  },
  {
   "cell_type": "code",
   "execution_count": 42,
   "metadata": {},
   "outputs": [],
   "source": [
    "y = y.map({'<=50K': 0, '>50K': 1})"
   ]
  },
  {
   "cell_type": "markdown",
   "metadata": {},
   "source": [
    "9. Выясните, присутствуют ли в данных пропуски. Заполните их самыми частыми значениями (испольуйте SimpleImputer)"
   ]
  },
  {
   "cell_type": "code",
   "execution_count": 43,
   "metadata": {},
   "outputs": [
    {
     "name": "stdout",
     "output_type": "stream",
     "text": [
      "<class 'pandas.core.frame.DataFrame'>\n",
      "RangeIndex: 48842 entries, 0 to 48841\n",
      "Data columns (total 14 columns):\n",
      " #   Column  Non-Null Count  Dtype \n",
      "---  ------  --------------  ----- \n",
      " 0   0       48842 non-null  int64 \n",
      " 1   1       48842 non-null  object\n",
      " 2   2       48842 non-null  int64 \n",
      " 3   3       48842 non-null  object\n",
      " 4   4       48842 non-null  int64 \n",
      " 5   5       48842 non-null  object\n",
      " 6   6       48842 non-null  object\n",
      " 7   7       48842 non-null  object\n",
      " 8   8       48842 non-null  object\n",
      " 9   9       48842 non-null  object\n",
      " 10  10      48842 non-null  int64 \n",
      " 11  11      48842 non-null  int64 \n",
      " 12  12      48842 non-null  int64 \n",
      " 13  13      48842 non-null  object\n",
      "dtypes: int64(6), object(8)\n",
      "memory usage: 5.2+ MB\n"
     ]
    }
   ],
   "source": [
    "X.info()"
   ]
  },
  {
   "cell_type": "code",
   "execution_count": 44,
   "metadata": {},
   "outputs": [
    {
     "data": {
      "text/plain": [
       "0     0\n",
       "1     0\n",
       "2     0\n",
       "3     0\n",
       "4     0\n",
       "5     0\n",
       "6     0\n",
       "7     0\n",
       "8     0\n",
       "9     0\n",
       "10    0\n",
       "11    0\n",
       "12    0\n",
       "13    0\n",
       "dtype: int64"
      ]
     },
     "execution_count": 44,
     "metadata": {},
     "output_type": "execute_result"
    }
   ],
   "source": [
    "X.isna().sum()"
   ]
  },
  {
   "attachments": {},
   "cell_type": "markdown",
   "metadata": {},
   "source": [
    "Пропущенных значений в численных признаках нет. Посмотрим какие значения у нас в категориальных признаках"
   ]
  },
  {
   "cell_type": "markdown",
   "metadata": {},
   "source": [
    "10. Выберите колонки с числовыми и категориальными переменными."
   ]
  },
  {
   "cell_type": "code",
   "execution_count": 45,
   "metadata": {},
   "outputs": [],
   "source": [
    "num_cols = X.select_dtypes(include='int64').columns.to_list()\n",
    "cat_cols = X.select_dtypes(include = 'object').columns.to_list()"
   ]
  },
  {
   "attachments": {},
   "cell_type": "markdown",
   "metadata": {},
   "source": [
    "11. Создайте пайплайн по обработке колонок(используйте OneHotEncoder,MinMaxScaler)."
   ]
  },
  {
   "cell_type": "code",
   "execution_count": 46,
   "metadata": {},
   "outputs": [],
   "source": [
    "num_transformer = Pipeline(steps = [\n",
    "    ('imputer', SimpleImputer(strategy= 'most_frequent')),\n",
    "    ('scaler', MinMaxScaler())\n",
    "    ])\n",
    "\n",
    "cat_transformer = Pipeline(steps = [\n",
    "    ('imputer', SimpleImputer(strategy= 'most_frequent')),\n",
    "    ('encoder', OneHotEncoder(handle_unknown=\"ignore\"))\n",
    "    ])\n",
    "\n",
    "preprocessor = ColumnTransformer(\n",
    "    transformers= [\n",
    "        ('num', num_transformer, num_cols),\n",
    "        ('cat', cat_transformer, cat_cols)\n",
    "    ])"
   ]
  },
  {
   "cell_type": "markdown",
   "metadata": {},
   "source": [
    "12. Посчитайте метрики accuracy и f1_score на предсказании только самого частого класса в целевой переменной."
   ]
  },
  {
   "cell_type": "code",
   "execution_count": 47,
   "metadata": {},
   "outputs": [
    {
     "data": {
      "text/plain": [
       "0    37155\n",
       "1    11687\n",
       "Name: 14, dtype: int64"
      ]
     },
     "execution_count": 47,
     "metadata": {},
     "output_type": "execute_result"
    }
   ],
   "source": [
    "y.value_counts()"
   ]
  },
  {
   "attachments": {},
   "cell_type": "markdown",
   "metadata": {},
   "source": [
    "The most frequent class is '0'"
   ]
  },
  {
   "cell_type": "code",
   "execution_count": 48,
   "metadata": {},
   "outputs": [],
   "source": [
    "X_train, X_test, y_train, y_test = train_test_split(X, y, test_size=0.2, random_state= RANDOM_STATE)"
   ]
  },
  {
   "cell_type": "code",
   "execution_count": 49,
   "metadata": {},
   "outputs": [
    {
     "name": "stdout",
     "output_type": "stream",
     "text": [
      "\n",
      "Model: LogisticRegression(max_iter=1000)\n",
      "F1 score: f1 = 0.648\n",
      "Accuracy: accuracy = 0.849\n",
      "Precision: precision = 0.737\n",
      "Recall: recall = 0.578\n",
      "F1 score for most frequent class: mf_f1 = 0.000\n",
      "Accuracy for most frequent class: mf_accuracy = 0.935\n",
      "Precision for most frequent class: mf_precision = 0.000\n",
      "Recall for most frequent class: mf_recall = 0.000\n",
      "\n"
     ]
    },
    {
     "name": "stderr",
     "output_type": "stream",
     "text": [
      "/Users/yurititov/opt/anaconda3/lib/python3.9/site-packages/sklearn/metrics/_classification.py:1344: UndefinedMetricWarning: Recall is ill-defined and being set to 0.0 due to no true samples. Use `zero_division` parameter to control this behavior.\n",
      "  _warn_prf(average, modifier, msg_start, len(result))\n"
     ]
    },
    {
     "name": "stdout",
     "output_type": "stream",
     "text": [
      "\n",
      "Model: SVC()\n",
      "F1 score: f1 = 0.614\n",
      "Accuracy: accuracy = 0.839\n",
      "Precision: precision = 0.729\n",
      "Recall: recall = 0.531\n",
      "F1 score for most frequent class: mf_f1 = 0.000\n",
      "Accuracy for most frequent class: mf_accuracy = 0.937\n",
      "Precision for most frequent class: mf_precision = 0.000\n",
      "Recall for most frequent class: mf_recall = 0.000\n",
      "\n"
     ]
    },
    {
     "name": "stderr",
     "output_type": "stream",
     "text": [
      "/Users/yurititov/opt/anaconda3/lib/python3.9/site-packages/sklearn/metrics/_classification.py:1344: UndefinedMetricWarning: Recall is ill-defined and being set to 0.0 due to no true samples. Use `zero_division` parameter to control this behavior.\n",
      "  _warn_prf(average, modifier, msg_start, len(result))\n"
     ]
    },
    {
     "name": "stdout",
     "output_type": "stream",
     "text": [
      "\n",
      "Model: LinearSVC()\n",
      "F1 score: f1 = 0.651\n",
      "Accuracy: accuracy = 0.851\n",
      "Precision: precision = 0.746\n",
      "Recall: recall = 0.577\n",
      "F1 score for most frequent class: mf_f1 = 0.000\n",
      "Accuracy for most frequent class: mf_accuracy = 0.938\n",
      "Precision for most frequent class: mf_precision = 0.000\n",
      "Recall for most frequent class: mf_recall = 0.000\n",
      "\n"
     ]
    },
    {
     "name": "stderr",
     "output_type": "stream",
     "text": [
      "/Users/yurititov/opt/anaconda3/lib/python3.9/site-packages/sklearn/metrics/_classification.py:1344: UndefinedMetricWarning: Recall is ill-defined and being set to 0.0 due to no true samples. Use `zero_division` parameter to control this behavior.\n",
      "  _warn_prf(average, modifier, msg_start, len(result))\n"
     ]
    }
   ],
   "source": [
    "classifiers = [\n",
    "    LogisticRegression(max_iter = 1000),\n",
    "    SVC(),\n",
    "    LinearSVC()\n",
    "]\n",
    "\n",
    "for classifier in classifiers:\n",
    "    pipe = Pipeline(steps= [\n",
    "        ('preprocessor', preprocessor),\n",
    "        ('model', classifier)\n",
    "    ])\n",
    "    pipe.fit(X_train, y_train)\n",
    "    y_pred = pipe.predict(X_test)\n",
    "    \n",
    "    y_pred_mf = []\n",
    "\n",
    "    for i, p in enumerate(y_pred):\n",
    "        if y_test.iloc[i] == 0:\n",
    "            y_pred_mf.append(p)\n",
    "\n",
    "    y_test_mf = [0] * len(y_pred_mf)\n",
    "    print()\n",
    "\n",
    "    accuracy = accuracy_score(y_test, y_pred)\n",
    "    mf_accuracy = accuracy_score(y_test_mf, y_pred_mf)\n",
    "    f1 = f1_score(y_test, y_pred)\n",
    "    precision = precision_score(y_test, y_pred)\n",
    "    mf_precision = precision_score(y_test_mf, y_pred_mf)\n",
    "    recall = recall_score(y_test, y_pred)\n",
    "    mf_recall = recall_score(y_test_mf, y_pred_mf)\n",
    "\n",
    "\n",
    "    mf_f1 = f1_score(y_test_mf, y_pred_mf)\n",
    "    print(f'Model: {classifier}')\n",
    "    print(f'F1 score: {f1 = :.3f}')\n",
    "    print(f'Accuracy: {accuracy = :.3f}')\n",
    "    print(f'Precision: {precision = :.3f}')\n",
    "    print(f'Recall: {recall = :.3f}')\n",
    "    \n",
    "    print(f'F1 score for most frequent class: {mf_f1 = :.3f}')\n",
    "    print(f'Accuracy for most frequent class: {mf_accuracy = :.3f}')\n",
    "    print(f'Precision for most frequent class: {mf_precision = :.3f}')\n",
    "    print(f'Recall for most frequent class: {mf_recall = :.3f}')\n",
    "    print()"
   ]
  },
  {
   "cell_type": "markdown",
   "metadata": {},
   "source": [
    "13. Посчитайте cross_val_score по алгоритмам LogisticRegression, SVC, LinearSVC по метрикам accuracy и f1_score.\n",
    "Напишите удалось ли превзойти предыдущий результат."
   ]
  },
  {
   "cell_type": "code",
   "execution_count": 50,
   "metadata": {},
   "outputs": [],
   "source": [
    "def crossval(model, X, y, cv = 5):\n",
    "    accuracy = cross_val_score(model, X, y, scoring= 'accuracy', cv = cv).mean()\n",
    "    f1 = cross_val_score(model, X, y, scoring= 'f1', cv = cv).mean()\n",
    "    print(f'F1 score: {f1 = :.3f}')\n",
    "    print(f'Accuracy: {accuracy = :.3f}')"
   ]
  },
  {
   "cell_type": "code",
   "execution_count": 51,
   "metadata": {},
   "outputs": [
    {
     "name": "stdout",
     "output_type": "stream",
     "text": [
      "Model: LogisticRegression(max_iter=1000)\n",
      "F1 score: f1 = 0.656\n",
      "Accuracy: accuracy = 0.851\n",
      "Model: SVC()\n",
      "F1 score: f1 = 0.620\n",
      "Accuracy: accuracy = 0.840\n",
      "Model: LinearSVC()\n",
      "F1 score: f1 = 0.658\n",
      "Accuracy: accuracy = 0.853\n"
     ]
    }
   ],
   "source": [
    "for classifier in classifiers:\n",
    "    print(f'Model: {classifier}')\n",
    "    pipe = Pipeline(steps= [\n",
    "            ('preprocessor', preprocessor),\n",
    "            ('model', classifier)\n",
    "        ])\n",
    "    crossval(pipe, X, y)"
   ]
  },
  {
   "cell_type": "markdown",
   "metadata": {},
   "source": [
    "14. Можно заметить что в данных присутствуют значения '?', замените их самыми частыми значениями (испольуйте SimpleImputer)"
   ]
  },
  {
   "cell_type": "code",
   "execution_count": 52,
   "metadata": {},
   "outputs": [
    {
     "data": {
      "text/plain": [
       "0        0\n",
       "1     2799\n",
       "2        0\n",
       "3        0\n",
       "4        0\n",
       "5        0\n",
       "6     2809\n",
       "7        0\n",
       "8        0\n",
       "9        0\n",
       "10       0\n",
       "11       0\n",
       "12       0\n",
       "13     857\n",
       "dtype: int64"
      ]
     },
     "execution_count": 52,
     "metadata": {},
     "output_type": "execute_result"
    }
   ],
   "source": [
    "X.replace('?', np.NaN, inplace=True)\n",
    "X.isna().sum()"
   ]
  },
  {
   "cell_type": "markdown",
   "metadata": {},
   "source": [
    "15. Посчитайте cross_val_score на новых данных. Напишите удалось ли улучшить результат."
   ]
  },
  {
   "cell_type": "code",
   "execution_count": 53,
   "metadata": {},
   "outputs": [
    {
     "name": "stdout",
     "output_type": "stream",
     "text": [
      "Model: LogisticRegression(max_iter=1000)\n",
      "F1 score: f1 = 0.654\n",
      "Accuracy: accuracy = 0.851\n",
      "Model: SVC()\n",
      "F1 score: f1 = 0.617\n",
      "Accuracy: accuracy = 0.840\n",
      "Model: LinearSVC()\n",
      "F1 score: f1 = 0.652\n",
      "Accuracy: accuracy = 0.851\n"
     ]
    }
   ],
   "source": [
    "for classifier in classifiers:\n",
    "    print(f'Model: {classifier}')\n",
    "    pipe = Pipeline(steps= [\n",
    "            ('preprocessor', preprocessor),\n",
    "            ('model', classifier)\n",
    "        ])\n",
    "    crossval(pipe, X, y)"
   ]
  },
  {
   "attachments": {},
   "cell_type": "markdown",
   "metadata": {},
   "source": [
    "Результат стал немного хуже"
   ]
  },
  {
   "cell_type": "markdown",
   "metadata": {},
   "source": [
    "16. Посчитайте cross_val_score, если просто удалить значения '?'. Напишите как изменился результат"
   ]
  },
  {
   "cell_type": "code",
   "execution_count": 54,
   "metadata": {},
   "outputs": [],
   "source": [
    "new_data = data.replace(\"?\", np.NaN)"
   ]
  },
  {
   "cell_type": "code",
   "execution_count": 55,
   "metadata": {},
   "outputs": [],
   "source": [
    "new_data.dropna(inplace= True)"
   ]
  },
  {
   "cell_type": "code",
   "execution_count": 56,
   "metadata": {},
   "outputs": [
    {
     "data": {
      "text/html": [
       "<div>\n",
       "<style scoped>\n",
       "    .dataframe tbody tr th:only-of-type {\n",
       "        vertical-align: middle;\n",
       "    }\n",
       "\n",
       "    .dataframe tbody tr th {\n",
       "        vertical-align: top;\n",
       "    }\n",
       "\n",
       "    .dataframe thead th {\n",
       "        text-align: right;\n",
       "    }\n",
       "</style>\n",
       "<table border=\"1\" class=\"dataframe\">\n",
       "  <thead>\n",
       "    <tr style=\"text-align: right;\">\n",
       "      <th></th>\n",
       "      <th>0</th>\n",
       "      <th>1</th>\n",
       "      <th>2</th>\n",
       "      <th>3</th>\n",
       "      <th>4</th>\n",
       "      <th>5</th>\n",
       "      <th>6</th>\n",
       "      <th>7</th>\n",
       "      <th>8</th>\n",
       "      <th>9</th>\n",
       "      <th>10</th>\n",
       "      <th>11</th>\n",
       "      <th>12</th>\n",
       "      <th>13</th>\n",
       "      <th>14</th>\n",
       "    </tr>\n",
       "  </thead>\n",
       "  <tbody>\n",
       "    <tr>\n",
       "      <th>0</th>\n",
       "      <td>39</td>\n",
       "      <td>State-gov</td>\n",
       "      <td>77516</td>\n",
       "      <td>Bachelors</td>\n",
       "      <td>13</td>\n",
       "      <td>Never-married</td>\n",
       "      <td>Adm-clerical</td>\n",
       "      <td>Not-in-family</td>\n",
       "      <td>White</td>\n",
       "      <td>Male</td>\n",
       "      <td>2174</td>\n",
       "      <td>0</td>\n",
       "      <td>40</td>\n",
       "      <td>United-States</td>\n",
       "      <td>&lt;=50K</td>\n",
       "    </tr>\n",
       "    <tr>\n",
       "      <th>1</th>\n",
       "      <td>50</td>\n",
       "      <td>Self-emp-not-inc</td>\n",
       "      <td>83311</td>\n",
       "      <td>Bachelors</td>\n",
       "      <td>13</td>\n",
       "      <td>Married-civ-spouse</td>\n",
       "      <td>Exec-managerial</td>\n",
       "      <td>Husband</td>\n",
       "      <td>White</td>\n",
       "      <td>Male</td>\n",
       "      <td>0</td>\n",
       "      <td>0</td>\n",
       "      <td>13</td>\n",
       "      <td>United-States</td>\n",
       "      <td>&lt;=50K</td>\n",
       "    </tr>\n",
       "    <tr>\n",
       "      <th>2</th>\n",
       "      <td>38</td>\n",
       "      <td>Private</td>\n",
       "      <td>215646</td>\n",
       "      <td>HS-grad</td>\n",
       "      <td>9</td>\n",
       "      <td>Divorced</td>\n",
       "      <td>Handlers-cleaners</td>\n",
       "      <td>Not-in-family</td>\n",
       "      <td>White</td>\n",
       "      <td>Male</td>\n",
       "      <td>0</td>\n",
       "      <td>0</td>\n",
       "      <td>40</td>\n",
       "      <td>United-States</td>\n",
       "      <td>&lt;=50K</td>\n",
       "    </tr>\n",
       "    <tr>\n",
       "      <th>3</th>\n",
       "      <td>53</td>\n",
       "      <td>Private</td>\n",
       "      <td>234721</td>\n",
       "      <td>11th</td>\n",
       "      <td>7</td>\n",
       "      <td>Married-civ-spouse</td>\n",
       "      <td>Handlers-cleaners</td>\n",
       "      <td>Husband</td>\n",
       "      <td>Black</td>\n",
       "      <td>Male</td>\n",
       "      <td>0</td>\n",
       "      <td>0</td>\n",
       "      <td>40</td>\n",
       "      <td>United-States</td>\n",
       "      <td>&lt;=50K</td>\n",
       "    </tr>\n",
       "    <tr>\n",
       "      <th>4</th>\n",
       "      <td>28</td>\n",
       "      <td>Private</td>\n",
       "      <td>338409</td>\n",
       "      <td>Bachelors</td>\n",
       "      <td>13</td>\n",
       "      <td>Married-civ-spouse</td>\n",
       "      <td>Prof-specialty</td>\n",
       "      <td>Wife</td>\n",
       "      <td>Black</td>\n",
       "      <td>Female</td>\n",
       "      <td>0</td>\n",
       "      <td>0</td>\n",
       "      <td>40</td>\n",
       "      <td>Cuba</td>\n",
       "      <td>&lt;=50K</td>\n",
       "    </tr>\n",
       "  </tbody>\n",
       "</table>\n",
       "</div>"
      ],
      "text/plain": [
       "   0                 1       2          3   4                   5   \\\n",
       "0  39         State-gov   77516  Bachelors  13       Never-married   \n",
       "1  50  Self-emp-not-inc   83311  Bachelors  13  Married-civ-spouse   \n",
       "2  38           Private  215646    HS-grad   9            Divorced   \n",
       "3  53           Private  234721       11th   7  Married-civ-spouse   \n",
       "4  28           Private  338409  Bachelors  13  Married-civ-spouse   \n",
       "\n",
       "                  6              7      8       9     10  11  12  \\\n",
       "0       Adm-clerical  Not-in-family  White    Male  2174   0  40   \n",
       "1    Exec-managerial        Husband  White    Male     0   0  13   \n",
       "2  Handlers-cleaners  Not-in-family  White    Male     0   0  40   \n",
       "3  Handlers-cleaners        Husband  Black    Male     0   0  40   \n",
       "4     Prof-specialty           Wife  Black  Female     0   0  40   \n",
       "\n",
       "              13     14  \n",
       "0  United-States  <=50K  \n",
       "1  United-States  <=50K  \n",
       "2  United-States  <=50K  \n",
       "3  United-States  <=50K  \n",
       "4           Cuba  <=50K  "
      ]
     },
     "execution_count": 56,
     "metadata": {},
     "output_type": "execute_result"
    }
   ],
   "source": [
    "new_data.head()"
   ]
  },
  {
   "cell_type": "code",
   "execution_count": 57,
   "metadata": {},
   "outputs": [],
   "source": [
    "X_new = new_data.drop(columns=[14])\n",
    "y_new = new_data[14]"
   ]
  },
  {
   "cell_type": "code",
   "execution_count": 58,
   "metadata": {},
   "outputs": [],
   "source": [
    "y_new = y_new.map({'<=50K': 0, '>50K': 1})"
   ]
  },
  {
   "cell_type": "code",
   "execution_count": 59,
   "metadata": {},
   "outputs": [
    {
     "name": "stdout",
     "output_type": "stream",
     "text": [
      "Model: LogisticRegression(max_iter=1000)\n",
      "F1 score: f1 = 0.660\n",
      "Accuracy: accuracy = 0.847\n",
      "Model: SVC()\n",
      "F1 score: f1 = 0.627\n",
      "Accuracy: accuracy = 0.836\n",
      "Model: LinearSVC()\n",
      "F1 score: f1 = 0.662\n",
      "Accuracy: accuracy = 0.849\n"
     ]
    }
   ],
   "source": [
    "for classifier in classifiers:\n",
    "    print(f'Model: {classifier}')\n",
    "    pipe = Pipeline(steps= [\n",
    "            ('preprocessor', preprocessor),\n",
    "            ('model', classifier)\n",
    "        ])\n",
    "    crossval(pipe, X_new, y_new)"
   ]
  },
  {
   "attachments": {},
   "cell_type": "markdown",
   "metadata": {},
   "source": [
    "Точность модели улучшилась, но при этом f1_score уменьшился"
   ]
  },
  {
   "cell_type": "markdown",
   "metadata": {},
   "source": [
    " 17. Посчитайте cross_val_score для RandomForestClassifier,GradientBoostingClassifier. Напишите как изменился результат и какой вывод можно из этого сделать."
   ]
  },
  {
   "cell_type": "code",
   "execution_count": 60,
   "metadata": {},
   "outputs": [],
   "source": [
    "new_classifiers = [RandomForestClassifier(), GradientBoostingClassifier()]"
   ]
  },
  {
   "cell_type": "code",
   "execution_count": 61,
   "metadata": {},
   "outputs": [
    {
     "name": "stdout",
     "output_type": "stream",
     "text": [
      "Model: RandomForestClassifier()\n",
      "F1 score: f1 = 0.671\n",
      "Accuracy: accuracy = 0.849\n",
      "Model: GradientBoostingClassifier()\n",
      "F1 score: f1 = 0.687\n",
      "Accuracy: accuracy = 0.863\n"
     ]
    }
   ],
   "source": [
    "for classifier in new_classifiers:\n",
    "    print(f'Model: {classifier}')\n",
    "    pipe = Pipeline(steps = [\n",
    "        ('preprocessor', preprocessor),\n",
    "        ('model', classifier)\n",
    "    ])\n",
    "    crossval(pipe, X_new, y_new)"
   ]
  },
  {
   "cell_type": "markdown",
   "metadata": {},
   "source": [
    "18. Подберите наилучшую модель, подбирая методы обработки колонок - масштабирование признаков, кодирование признаков и заполнение пропусков. Параметры алгоритмов оставьте по умолчанию. Выведите итоговые параметры и результат accuracy и f1_score."
   ]
  },
  {
   "cell_type": "code",
   "execution_count": 62,
   "metadata": {},
   "outputs": [],
   "source": [
    "num_transformer = Pipeline(steps= [\n",
    "    ('imputer', SimpleImputer(strategy= 'most_frequent')),\n",
    "    ('scaler', MinMaxScaler())\n",
    "])\n",
    "\n",
    "cat_transformer = Pipeline(steps= [\n",
    "    ('imputer', SimpleImputer(strategy= 'most_frequent')),\n",
    "    ('encoder', OneHotEncoder(handle_unknown=\"ignore\"))\n",
    "])\n",
    "\n",
    "preprocessor = ColumnTransformer(\n",
    "    transformers= [\n",
    "        ('num', num_transformer, num_cols),\n",
    "        ('cat', cat_transformer, cat_cols)\n",
    "    ]\n",
    ")\n",
    "final_pipe = Pipeline(steps = [\n",
    "    ('preprocessor', preprocessor),\n",
    "    ('model', LogisticRegression())\n",
    "])"
   ]
  },
  {
   "cell_type": "code",
   "execution_count": 63,
   "metadata": {},
   "outputs": [],
   "source": [
    "scores = {'accuracy': 'accuracy', 'F1 score': 'f1'}\n",
    "param_grid = {\n",
    "    'preprocessor__num__imputer__strategy': ['most_frequent', 'mean', 'median'],\n",
    "    'preprocessor__num__scaler': [MinMaxScaler(), StandardScaler(with_mean=False), MaxAbsScaler()],\n",
    "    'preprocessor__cat__encoder': [OneHotEncoder(handle_unknown=\"ignore\")],#, LabelEncoder()],\n",
    "    'model': [LogisticRegression(max_iter = 1000), SVC(), LinearSVC(), RandomForestClassifier(), GradientBoostingClassifier()]\n",
    "}"
   ]
  },
  {
   "cell_type": "code",
   "execution_count": 64,
   "metadata": {},
   "outputs": [
    {
     "name": "stderr",
     "output_type": "stream",
     "text": [
      "/Users/yurititov/opt/anaconda3/lib/python3.9/site-packages/sklearn/svm/_base.py:1244: ConvergenceWarning: Liblinear failed to converge, increase the number of iterations.\n",
      "  warnings.warn(\n",
      "/Users/yurititov/opt/anaconda3/lib/python3.9/site-packages/sklearn/svm/_base.py:1244: ConvergenceWarning: Liblinear failed to converge, increase the number of iterations.\n",
      "  warnings.warn(\n",
      "/Users/yurititov/opt/anaconda3/lib/python3.9/site-packages/sklearn/svm/_base.py:1244: ConvergenceWarning: Liblinear failed to converge, increase the number of iterations.\n",
      "  warnings.warn(\n",
      "/Users/yurititov/opt/anaconda3/lib/python3.9/site-packages/sklearn/svm/_base.py:1244: ConvergenceWarning: Liblinear failed to converge, increase the number of iterations.\n",
      "  warnings.warn(\n",
      "/Users/yurititov/opt/anaconda3/lib/python3.9/site-packages/sklearn/svm/_base.py:1244: ConvergenceWarning: Liblinear failed to converge, increase the number of iterations.\n",
      "  warnings.warn(\n",
      "/Users/yurititov/opt/anaconda3/lib/python3.9/site-packages/sklearn/svm/_base.py:1244: ConvergenceWarning: Liblinear failed to converge, increase the number of iterations.\n",
      "  warnings.warn(\n",
      "/Users/yurititov/opt/anaconda3/lib/python3.9/site-packages/sklearn/svm/_base.py:1244: ConvergenceWarning: Liblinear failed to converge, increase the number of iterations.\n",
      "  warnings.warn(\n",
      "/Users/yurititov/opt/anaconda3/lib/python3.9/site-packages/sklearn/svm/_base.py:1244: ConvergenceWarning: Liblinear failed to converge, increase the number of iterations.\n",
      "  warnings.warn(\n",
      "/Users/yurititov/opt/anaconda3/lib/python3.9/site-packages/sklearn/svm/_base.py:1244: ConvergenceWarning: Liblinear failed to converge, increase the number of iterations.\n",
      "  warnings.warn(\n",
      "/Users/yurititov/opt/anaconda3/lib/python3.9/site-packages/sklearn/svm/_base.py:1244: ConvergenceWarning: Liblinear failed to converge, increase the number of iterations.\n",
      "  warnings.warn(\n",
      "/Users/yurititov/opt/anaconda3/lib/python3.9/site-packages/sklearn/svm/_base.py:1244: ConvergenceWarning: Liblinear failed to converge, increase the number of iterations.\n",
      "  warnings.warn(\n",
      "/Users/yurititov/opt/anaconda3/lib/python3.9/site-packages/sklearn/svm/_base.py:1244: ConvergenceWarning: Liblinear failed to converge, increase the number of iterations.\n",
      "  warnings.warn(\n",
      "/Users/yurititov/opt/anaconda3/lib/python3.9/site-packages/sklearn/svm/_base.py:1244: ConvergenceWarning: Liblinear failed to converge, increase the number of iterations.\n",
      "  warnings.warn(\n",
      "/Users/yurititov/opt/anaconda3/lib/python3.9/site-packages/sklearn/svm/_base.py:1244: ConvergenceWarning: Liblinear failed to converge, increase the number of iterations.\n",
      "  warnings.warn(\n",
      "/Users/yurititov/opt/anaconda3/lib/python3.9/site-packages/sklearn/svm/_base.py:1244: ConvergenceWarning: Liblinear failed to converge, increase the number of iterations.\n",
      "  warnings.warn(\n"
     ]
    },
    {
     "name": "stdout",
     "output_type": "stream",
     "text": [
      "Best params:  {'model': GradientBoostingClassifier(), 'preprocessor__cat__encoder': OneHotEncoder(handle_unknown='ignore'), 'preprocessor__num__imputer__strategy': 'most_frequent', 'preprocessor__num__scaler': MinMaxScaler()}\n",
      "Best scores:  0.683188275892817\n"
     ]
    }
   ],
   "source": [
    "grid_search = GridSearchCV(final_pipe, param_grid, scoring=scores, refit= 'F1 score', cv=5)\n",
    "#grid_search = GridSearchCV(final_pipe, param_grid, scoring='accuracy', refit= False, cv=5)\n",
    "grid_search.fit(X, y)\n",
    "print(\"Best params: \", grid_search.best_params_)\n",
    "print(\"Best scores: \", grid_search.best_score_)"
   ]
  },
  {
   "cell_type": "code",
   "execution_count": 65,
   "metadata": {},
   "outputs": [],
   "source": [
    "num_transformer = Pipeline(steps= [\n",
    "    ('imputer', SimpleImputer(strategy= 'most_frequent')),\n",
    "    ('scaler', MinMaxScaler())\n",
    "])\n",
    "\n",
    "cat_transformer = Pipeline(steps= [\n",
    "    ('imputer', SimpleImputer(strategy= 'most_frequent')),\n",
    "    ('encoder', OneHotEncoder(handle_unknown=\"ignore\"))\n",
    "])\n",
    "\n",
    "preprocessor = ColumnTransformer(\n",
    "    transformers= [\n",
    "        ('num', num_transformer, num_cols),\n",
    "        ('cat', cat_transformer, cat_cols)\n",
    "    ]\n",
    ")\n",
    "final_pipe = Pipeline(steps = [\n",
    "    ('preprocessor', preprocessor),\n",
    "    ('model', GradientBoostingClassifier())\n",
    "])"
   ]
  },
  {
   "cell_type": "code",
   "execution_count": 66,
   "metadata": {},
   "outputs": [
    {
     "name": "stdout",
     "output_type": "stream",
     "text": [
      "R2: r2 = 0.272\n",
      "Accuracy: accuracy = 0.867\n",
      "F1 score: f1= 0.683\n"
     ]
    }
   ],
   "source": [
    "final_pipe.fit(X_train, y_train)\n",
    "r2 = r2_score(y_test, final_pipe.predict(X_test))\n",
    "accuracy = accuracy_score(y_test, final_pipe.predict(X_test))\n",
    "f1 = f1_score(y_test, final_pipe.predict(X_test))\n",
    "\n",
    "print(f'R2: {r2 = :.3f}')\n",
    "print(f'Accuracy: {accuracy = :.3f}')\n",
    "print(f'F1 score: {f1= :.3f}')"
   ]
  }
 ],
 "metadata": {
  "kernelspec": {
   "display_name": "base",
   "language": "python",
   "name": "python3"
  },
  "language_info": {
   "codemirror_mode": {
    "name": "ipython",
    "version": 3
   },
   "file_extension": ".py",
   "mimetype": "text/x-python",
   "name": "python",
   "nbconvert_exporter": "python",
   "pygments_lexer": "ipython3",
   "version": "3.9.13"
  },
  "vscode": {
   "interpreter": {
    "hash": "2c336b0b1b1c9c801f58897c5730023723846b84892fb4f38aeda3f6ade08e45"
   }
  }
 },
 "nbformat": 4,
 "nbformat_minor": 2
}
