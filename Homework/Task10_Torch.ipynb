{
 "cells": [
  {
   "attachments": {},
   "cell_type": "markdown",
   "metadata": {},
   "source": [
    "### Написать на PyTorch forward и backward полносвязного слоя без использования autograd"
   ]
  },
  {
   "cell_type": "code",
   "execution_count": 1,
   "metadata": {},
   "outputs": [],
   "source": [
    "import torch\n",
    "import torch.nn as nn\n",
    "import numpy as np"
   ]
  },
  {
   "cell_type": "code",
   "execution_count": 2,
   "metadata": {},
   "outputs": [],
   "source": [
    "class MyLayer(nn.Module):\n",
    "    def __init__(self, tensor):\n",
    "        super().__init__()\n",
    "        self.params = nn.Parameter(tensor, requires_grad=False)\n",
    "        \n",
    "    def forward(self, x):\n",
    "        return x * self.params\n",
    "    \n",
    "    def backward(self, grad):\n",
    "        return grad    "
   ]
  },
  {
   "attachments": {},
   "cell_type": "markdown",
   "metadata": {},
   "source": [
    "### Написать 1-2 адаптивных оптимизатора\n"
   ]
  },
  {
   "attachments": {},
   "cell_type": "markdown",
   "metadata": {},
   "source": [
    "#### SGD Momentum"
   ]
  },
  {
   "cell_type": "code",
   "execution_count": 3,
   "metadata": {},
   "outputs": [],
   "source": [
    "# SGD Momentum\n",
    "# velocity = momentum (0.9-0.99)* velocity - lr*gradient\n",
    "# w = w + velocity (скорость-вектор)\n",
    "\n",
    "class SGDMomentum:\n",
    "    def __init__(self, weights, momentum: float = 0.99, lr: float = 0.001):\n",
    "        self.momentum = momentum\n",
    "        self.lr = lr\n",
    "        self.velocity = torch.zeros_like(weights)\n",
    "        self.weights = weights\n",
    "        \n",
    "    def step(self, grad):\n",
    "        self.velocity = self.momentum * self.velocity - self.lr * grad\n",
    "        self.weights = self.weights + self.velocity"
   ]
  },
  {
   "attachments": {},
   "cell_type": "markdown",
   "metadata": {},
   "source": [
    "#### Adagrad"
   ]
  },
  {
   "cell_type": "code",
   "execution_count": 4,
   "metadata": {},
   "outputs": [],
   "source": [
    "# accumulated += gradient ** 2\n",
    "# adapt_lr = lr / sqrt (accumulated) \n",
    "# w = w - adapt_lr * gradient\n",
    "\n",
    "class Adagard:\n",
    "    def __init__(self, weights, lr: float = 0.001):\n",
    "        self.weights = weights\n",
    "        self.lr = lr\n",
    "        self.accumulated = torch.zeros_like(weights)\n",
    "        \n",
    "    def step(self, grad):\n",
    "        self.accumulated = self.accumulated + grad ** 2\n",
    "        self.adapt_lr = self.lr / torch.sqrt(self.accumulated)\n",
    "        self.weights = self.weights - self.adapt_lr * grad"
   ]
  },
  {
   "attachments": {},
   "cell_type": "markdown",
   "metadata": {},
   "source": [
    "#### RMSprop"
   ]
  },
  {
   "cell_type": "code",
   "execution_count": 15,
   "metadata": {},
   "outputs": [],
   "source": [
    "# accumulated += rho (0.9 - 0.99) * accumulated + (1- rho) * gradient ** 2\n",
    "# adapt_lr = lr / sqrt (accumulated) \n",
    "# w = w - adapt_lr * gradient\n",
    "\n",
    "class RMSprop:\n",
    "    def __init__(self, weights, rho: float = 0.9, lr: float = 0.01):\n",
    "        self.weights = weights\n",
    "        self.rho = rho\n",
    "        self.lr = lr\n",
    "        self.accumulated = torch.zeros_like(weights)\n",
    "        \n",
    "    def step(self, grad):\n",
    "        self.accumulated = self.accumulated + self.rho * self.accumulated + (1 - self.rho) * grad ** 2\n",
    "        self.adapt_lr = self.lr / torch.sqrt(self.accumulated)\n",
    "        self.weights = self.weights - self.adapt_lr * grad"
   ]
  },
  {
   "attachments": {},
   "cell_type": "markdown",
   "metadata": {},
   "source": [
    "#### Adam"
   ]
  },
  {
   "cell_type": "code",
   "execution_count": 6,
   "metadata": {},
   "outputs": [],
   "source": [
    "# velocity = beta1 * velocity + (1-beta1) * gradient\n",
    "# accumulated = beta2 * accumulated + (1-beta2) * gradient ** 2\n",
    "# adapt_lr = lr / sqrt (accumulated)\n",
    "# w = w - adapt_lr * velocity\n",
    "\n",
    "class Adam:\n",
    "    def __init__(self, weights, lr: float = 0.001, beta1: float = 0.9, beta2: float = 0.999):\n",
    "        self.weights = weights\n",
    "        self.lr = lr\n",
    "        self.beta1 = beta1\n",
    "        self.beta2 = beta2\n",
    "        self.velocity = torch.zeros_like(weights)\n",
    "        self.accumulated = torch.zeros_like(weights)\n",
    "        \n",
    "    def step(self, grad):\n",
    "        self.velocity = self.beta1 * self.velocity + (1 - self.beta1) * grad\n",
    "        self.accumulated = self.beta2 * self.accumulated + (1 - self.beta2) * grad ** 2\n",
    "        self.adapt_lr = self.lr / torch.sqrt(self.accumulated)\n",
    "        self.weights = self.weights - self.adapt_lr * self.velocity"
   ]
  },
  {
   "attachments": {},
   "cell_type": "markdown",
   "metadata": {},
   "source": [
    "### Решить задачу нахождения корней квадратного уравнения методом градиентного спуска"
   ]
  },
  {
   "cell_type": "code",
   "execution_count": 7,
   "metadata": {},
   "outputs": [],
   "source": [
    "# SGDMomentum(x, 0.9, 0.001), Adagard(x, 0.001), RMSprop(x, 0.9, 0.001), Adam(x, 0.001, 0.9, 0.99)"
   ]
  },
  {
   "cell_type": "code",
   "execution_count": 8,
   "metadata": {},
   "outputs": [],
   "source": [
    "a, b, c = 1, -7, 6\n",
    "\n",
    "func_m = lambda x: (a * x ** 2 + b * x + c) ** 2\n",
    "grad_f = lambda x: 2 * (a * x ** 2 + b * x + c) * (2 * a * x + b) \n"
   ]
  },
  {
   "cell_type": "code",
   "execution_count": 9,
   "metadata": {},
   "outputs": [
    {
     "name": "stdout",
     "output_type": "stream",
     "text": [
      "Root:  0.9935858\n",
      "Root:  5.995339\n"
     ]
    }
   ],
   "source": [
    "def solver(init_x):\n",
    "    x = torch.tensor(init_x).float()\n",
    "    g = grad_f(x)\n",
    "    optim = SGDMomentum(x, 0.9, 0.01)\n",
    "    prev = optim.weights\n",
    "    optim.step(g)\n",
    "    g = grad_f(optim.weights)\n",
    "    while abs(func_m(prev) - func_m(optim.weights)) > 0.001:\n",
    "        prev = optim.weights\n",
    "        optim.step(g)\n",
    "        g = grad_f(optim.weights)\n",
    "    print('Root: ', optim.weights.numpy())\n",
    "\n",
    "solver(-2)\n",
    "solver(5)"
   ]
  },
  {
   "cell_type": "code",
   "execution_count": 10,
   "metadata": {},
   "outputs": [
    {
     "name": "stdout",
     "output_type": "stream",
     "text": [
      "Root:  -1.4589084\n",
      "Root:  5.0463514\n"
     ]
    }
   ],
   "source": [
    "def solver(init_x):\n",
    "    x = torch.tensor(init_x).float()\n",
    "    g = grad_f(x)\n",
    "    optim = Adagard(x, 0.001)\n",
    "    prev = optim.weights\n",
    "    optim.step(g)\n",
    "    g = grad_f(optim.weights)\n",
    "    while abs(func_m(prev) - func_m(optim.weights)) > 0.001:\n",
    "        prev = optim.weights\n",
    "        optim.step(g)\n",
    "        g = grad_f(optim.weights)\n",
    "    print('Root: ', optim.weights.numpy())\n",
    "\n",
    "solver(-2)\n",
    "solver(5)"
   ]
  },
  {
   "cell_type": "code",
   "execution_count": 11,
   "metadata": {},
   "outputs": [
    {
     "name": "stdout",
     "output_type": "stream",
     "text": [
      "Root:  0.8734324\n",
      "Root:  5.9438243\n"
     ]
    }
   ],
   "source": [
    "def solver(init_x):\n",
    "    x = torch.tensor(init_x).float()\n",
    "    g = grad_f(x)\n",
    "    optim = Adam(x, 0.001)\n",
    "    prev = optim.weights\n",
    "    optim.step(g)\n",
    "    g = grad_f(optim.weights)\n",
    "    while abs(func_m(prev) - func_m(optim.weights)) > 0.001:\n",
    "        prev = optim.weights\n",
    "        optim.step(g)\n",
    "        g = grad_f(optim.weights)\n",
    "    print('Root: ', optim.weights.numpy())\n",
    "\n",
    "solver(-2)\n",
    "solver(5)"
   ]
  },
  {
   "cell_type": "code",
   "execution_count": 12,
   "metadata": {},
   "outputs": [
    {
     "name": "stdout",
     "output_type": "stream",
     "text": [
      "Root:  0.8734324\n",
      "Root:  5.9438243\n"
     ]
    }
   ],
   "source": [
    "def solver(init_x):\n",
    "    x = torch.tensor(init_x).float()\n",
    "    g = grad_f(x)\n",
    "    optim = Adam(x, 0.001)\n",
    "    prev = optim.weights\n",
    "    optim.step(g)\n",
    "    g = grad_f(optim.weights)\n",
    "    while abs(func_m(prev) - func_m(optim.weights)) > 0.001:\n",
    "        prev = optim.weights\n",
    "        optim.step(g)\n",
    "        g = grad_f(optim.weights)\n",
    "    print('Root: ', optim.weights.numpy())\n",
    "\n",
    "solver(-2)\n",
    "solver(5)"
   ]
  },
  {
   "cell_type": "code",
   "execution_count": 22,
   "metadata": {},
   "outputs": [
    {
     "name": "stdout",
     "output_type": "stream",
     "text": [
      "Root:  0.0092803\n",
      "Root:  5.009249\n"
     ]
    }
   ],
   "source": [
    "def solver(init_x):\n",
    "    x = torch.tensor(init_x).float()\n",
    "    g = grad_f(x)\n",
    "    optim = RMSprop(x, 0.9, 0.001)\n",
    "    prev = optim.weights\n",
    "    optim.step(g)\n",
    "    g = grad_f(optim.weights)\n",
    "    while abs(func_m(prev) - func_m(optim.weights)) > 0.001:\n",
    "        prev = optim.weights\n",
    "        optim.step(g)\n",
    "        g = grad_f(optim.weights)\n",
    "    print('Root: ', optim.weights.numpy())\n",
    "\n",
    "solver(0)\n",
    "solver(5)"
   ]
  },
  {
   "cell_type": "code",
   "execution_count": null,
   "metadata": {},
   "outputs": [],
   "source": []
  }
 ],
 "metadata": {
  "kernelspec": {
   "display_name": "base",
   "language": "python",
   "name": "python3"
  },
  "language_info": {
   "codemirror_mode": {
    "name": "ipython",
    "version": 3
   },
   "file_extension": ".py",
   "mimetype": "text/x-python",
   "name": "python",
   "nbconvert_exporter": "python",
   "pygments_lexer": "ipython3",
   "version": "3.10.10"
  },
  "orig_nbformat": 4
 },
 "nbformat": 4,
 "nbformat_minor": 2
}
