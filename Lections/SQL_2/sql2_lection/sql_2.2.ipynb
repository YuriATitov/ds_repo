{
 "cells": [
  {
   "cell_type": "code",
   "execution_count": 1,
   "metadata": {
    "ExecuteTime": {
     "end_time": "2022-09-12T18:03:53.337125Z",
     "start_time": "2022-09-12T18:03:51.883665Z"
    }
   },
   "outputs": [],
   "source": [
    "import sqlite3\n",
    "import pandas as pd"
   ]
  },
  {
   "cell_type": "code",
   "execution_count": 2,
   "metadata": {
    "ExecuteTime": {
     "end_time": "2022-09-12T18:03:54.806137Z",
     "start_time": "2022-09-12T18:03:54.803611Z"
    }
   },
   "outputs": [],
   "source": [
    "con = sqlite3.connect(\":memory:\")\n",
    "cur = con.cursor()"
   ]
  },
  {
   "cell_type": "code",
   "execution_count": 3,
   "metadata": {
    "ExecuteTime": {
     "end_time": "2022-09-12T18:04:12.951158Z",
     "start_time": "2022-09-12T18:04:12.948724Z"
    }
   },
   "outputs": [],
   "source": [
    "link = 'https://raw.githubusercontent.com/plotly/datasets/master/dash-sample-apps/dash-web-trader/data/EURUSD.csv'"
   ]
  },
  {
   "cell_type": "code",
   "execution_count": 4,
   "metadata": {
    "ExecuteTime": {
     "end_time": "2022-09-12T18:04:36.232423Z",
     "start_time": "2022-09-12T18:04:21.070501Z"
    }
   },
   "outputs": [],
   "source": [
    "data = pd.read_csv(link)"
   ]
  },
  {
   "cell_type": "code",
   "execution_count": 5,
   "metadata": {
    "ExecuteTime": {
     "end_time": "2022-09-12T18:04:36.256250Z",
     "start_time": "2022-09-12T18:04:36.234593Z"
    }
   },
   "outputs": [
    {
     "data": {
      "text/html": [
       "<div>\n",
       "<style scoped>\n",
       "    .dataframe tbody tr th:only-of-type {\n",
       "        vertical-align: middle;\n",
       "    }\n",
       "\n",
       "    .dataframe tbody tr th {\n",
       "        vertical-align: top;\n",
       "    }\n",
       "\n",
       "    .dataframe thead th {\n",
       "        text-align: right;\n",
       "    }\n",
       "</style>\n",
       "<table border=\"1\" class=\"dataframe\">\n",
       "  <thead>\n",
       "    <tr style=\"text-align: right;\">\n",
       "      <th></th>\n",
       "      <th>Symbol</th>\n",
       "      <th>Date</th>\n",
       "      <th>Bid</th>\n",
       "      <th>Ask</th>\n",
       "    </tr>\n",
       "  </thead>\n",
       "  <tbody>\n",
       "    <tr>\n",
       "      <th>0</th>\n",
       "      <td>EURUSD</td>\n",
       "      <td>2016-01-04 18:00:40.420</td>\n",
       "      <td>1.08196</td>\n",
       "      <td>1.08200</td>\n",
       "    </tr>\n",
       "    <tr>\n",
       "      <th>1</th>\n",
       "      <td>EURUSD</td>\n",
       "      <td>2016-01-04 18:00:40.442</td>\n",
       "      <td>1.08194</td>\n",
       "      <td>1.08200</td>\n",
       "    </tr>\n",
       "    <tr>\n",
       "      <th>2</th>\n",
       "      <td>EURUSD</td>\n",
       "      <td>2016-01-04 18:00:40.528</td>\n",
       "      <td>1.08196</td>\n",
       "      <td>1.08200</td>\n",
       "    </tr>\n",
       "    <tr>\n",
       "      <th>3</th>\n",
       "      <td>EURUSD</td>\n",
       "      <td>2016-01-04 18:00:40.554</td>\n",
       "      <td>1.08194</td>\n",
       "      <td>1.08200</td>\n",
       "    </tr>\n",
       "    <tr>\n",
       "      <th>4</th>\n",
       "      <td>EURUSD</td>\n",
       "      <td>2016-01-04 18:00:40.651</td>\n",
       "      <td>1.08194</td>\n",
       "      <td>1.08198</td>\n",
       "    </tr>\n",
       "  </tbody>\n",
       "</table>\n",
       "</div>"
      ],
      "text/plain": [
       "   Symbol                     Date      Bid      Ask\n",
       "0  EURUSD  2016-01-04 18:00:40.420  1.08196  1.08200\n",
       "1  EURUSD  2016-01-04 18:00:40.442  1.08194  1.08200\n",
       "2  EURUSD  2016-01-04 18:00:40.528  1.08196  1.08200\n",
       "3  EURUSD  2016-01-04 18:00:40.554  1.08194  1.08200\n",
       "4  EURUSD  2016-01-04 18:00:40.651  1.08194  1.08198"
      ]
     },
     "execution_count": 5,
     "metadata": {},
     "output_type": "execute_result"
    }
   ],
   "source": [
    "data.shape"
   ]
  },
  {
   "cell_type": "code",
   "execution_count": 6,
   "metadata": {
    "ExecuteTime": {
     "end_time": "2022-09-12T18:04:48.309875Z",
     "start_time": "2022-09-12T18:04:47.928740Z"
    }
   },
   "outputs": [],
   "source": [
    "data.to_sql(\"data\", con, index=False, if_exists=\"replace\")"
   ]
  },
  {
   "cell_type": "code",
   "execution_count": 7,
   "metadata": {
    "ExecuteTime": {
     "end_time": "2022-09-12T18:04:51.341350Z",
     "start_time": "2022-09-12T18:04:51.326157Z"
    }
   },
   "outputs": [
    {
     "data": {
      "text/html": [
       "<div>\n",
       "<style scoped>\n",
       "    .dataframe tbody tr th:only-of-type {\n",
       "        vertical-align: middle;\n",
       "    }\n",
       "\n",
       "    .dataframe tbody tr th {\n",
       "        vertical-align: top;\n",
       "    }\n",
       "\n",
       "    .dataframe thead th {\n",
       "        text-align: right;\n",
       "    }\n",
       "</style>\n",
       "<table border=\"1\" class=\"dataframe\">\n",
       "  <thead>\n",
       "    <tr style=\"text-align: right;\">\n",
       "      <th></th>\n",
       "      <th>Symbol</th>\n",
       "      <th>Date</th>\n",
       "      <th>Bid</th>\n",
       "      <th>Ask</th>\n",
       "    </tr>\n",
       "  </thead>\n",
       "  <tbody>\n",
       "    <tr>\n",
       "      <th>0</th>\n",
       "      <td>EURUSD</td>\n",
       "      <td>2016-01-04 18:00:40.420</td>\n",
       "      <td>1.08196</td>\n",
       "      <td>1.08200</td>\n",
       "    </tr>\n",
       "    <tr>\n",
       "      <th>1</th>\n",
       "      <td>EURUSD</td>\n",
       "      <td>2016-01-04 18:00:40.442</td>\n",
       "      <td>1.08194</td>\n",
       "      <td>1.08200</td>\n",
       "    </tr>\n",
       "    <tr>\n",
       "      <th>2</th>\n",
       "      <td>EURUSD</td>\n",
       "      <td>2016-01-04 18:00:40.528</td>\n",
       "      <td>1.08196</td>\n",
       "      <td>1.08200</td>\n",
       "    </tr>\n",
       "    <tr>\n",
       "      <th>3</th>\n",
       "      <td>EURUSD</td>\n",
       "      <td>2016-01-04 18:00:40.554</td>\n",
       "      <td>1.08194</td>\n",
       "      <td>1.08200</td>\n",
       "    </tr>\n",
       "    <tr>\n",
       "      <th>4</th>\n",
       "      <td>EURUSD</td>\n",
       "      <td>2016-01-04 18:00:40.651</td>\n",
       "      <td>1.08194</td>\n",
       "      <td>1.08198</td>\n",
       "    </tr>\n",
       "  </tbody>\n",
       "</table>\n",
       "</div>"
      ],
      "text/plain": [
       "   Symbol                     Date      Bid      Ask\n",
       "0  EURUSD  2016-01-04 18:00:40.420  1.08196  1.08200\n",
       "1  EURUSD  2016-01-04 18:00:40.442  1.08194  1.08200\n",
       "2  EURUSD  2016-01-04 18:00:40.528  1.08196  1.08200\n",
       "3  EURUSD  2016-01-04 18:00:40.554  1.08194  1.08200\n",
       "4  EURUSD  2016-01-04 18:00:40.651  1.08194  1.08198"
      ]
     },
     "execution_count": 7,
     "metadata": {},
     "output_type": "execute_result"
    }
   ],
   "source": [
    "pd.read_sql(\n",
    "    \"\"\"\n",
    "    SELECT * FROM data\n",
    "    limit 5\n",
    "    \"\"\",\n",
    "    con,\n",
    ")"
   ]
  },
  {
   "cell_type": "code",
   "execution_count": 15,
   "metadata": {
    "ExecuteTime": {
     "end_time": "2022-09-12T18:08:13.529265Z",
     "start_time": "2022-09-12T18:08:13.518910Z"
    }
   },
   "outputs": [
    {
     "data": {
      "text/html": [
       "<div>\n",
       "<style scoped>\n",
       "    .dataframe tbody tr th:only-of-type {\n",
       "        vertical-align: middle;\n",
       "    }\n",
       "\n",
       "    .dataframe tbody tr th {\n",
       "        vertical-align: top;\n",
       "    }\n",
       "\n",
       "    .dataframe thead th {\n",
       "        text-align: right;\n",
       "    }\n",
       "</style>\n",
       "<table border=\"1\" class=\"dataframe\">\n",
       "  <thead>\n",
       "    <tr style=\"text-align: right;\">\n",
       "      <th></th>\n",
       "      <th>count(1)</th>\n",
       "    </tr>\n",
       "  </thead>\n",
       "  <tbody>\n",
       "    <tr>\n",
       "      <th>0</th>\n",
       "      <td>205129</td>\n",
       "    </tr>\n",
       "  </tbody>\n",
       "</table>\n",
       "</div>"
      ],
      "text/plain": [
       "   count(1)\n",
       "0    205129"
      ]
     },
     "execution_count": 15,
     "metadata": {},
     "output_type": "execute_result"
    }
   ],
   "source": [
    "pd.read_sql(\n",
    "    \"\"\"\n",
    "    SELECT count(1) FROM data\n",
    "    \"\"\",\n",
    "    con,\n",
    ")"
   ]
  },
  {
   "cell_type": "code",
   "execution_count": 19,
   "metadata": {
    "ExecuteTime": {
     "end_time": "2022-09-12T18:09:40.073402Z",
     "start_time": "2022-09-12T18:09:40.045687Z"
    }
   },
   "outputs": [
    {
     "data": {
      "text/html": [
       "<div>\n",
       "<style scoped>\n",
       "    .dataframe tbody tr th:only-of-type {\n",
       "        vertical-align: middle;\n",
       "    }\n",
       "\n",
       "    .dataframe tbody tr th {\n",
       "        vertical-align: top;\n",
       "    }\n",
       "\n",
       "    .dataframe thead th {\n",
       "        text-align: right;\n",
       "    }\n",
       "</style>\n",
       "<table border=\"1\" class=\"dataframe\">\n",
       "  <thead>\n",
       "    <tr style=\"text-align: right;\">\n",
       "      <th></th>\n",
       "      <th>Symbol</th>\n",
       "    </tr>\n",
       "  </thead>\n",
       "  <tbody>\n",
       "    <tr>\n",
       "      <th>0</th>\n",
       "      <td>EURUSD</td>\n",
       "    </tr>\n",
       "  </tbody>\n",
       "</table>\n",
       "</div>"
      ],
      "text/plain": [
       "   Symbol\n",
       "0  EURUSD"
      ]
     },
     "execution_count": 19,
     "metadata": {},
     "output_type": "execute_result"
    }
   ],
   "source": [
    "pd.read_sql(\n",
    "    \"\"\"\n",
    "    SELECT distinct Symbol FROM data\n",
    "    \"\"\",\n",
    "    con,\n",
    ")"
   ]
  },
  {
   "cell_type": "code",
   "execution_count": 20,
   "metadata": {
    "ExecuteTime": {
     "end_time": "2022-09-12T18:10:36.782216Z",
     "start_time": "2022-09-12T18:10:36.744343Z"
    }
   },
   "outputs": [
    {
     "data": {
      "text/html": [
       "<div>\n",
       "<style scoped>\n",
       "    .dataframe tbody tr th:only-of-type {\n",
       "        vertical-align: middle;\n",
       "    }\n",
       "\n",
       "    .dataframe tbody tr th {\n",
       "        vertical-align: top;\n",
       "    }\n",
       "\n",
       "    .dataframe thead th {\n",
       "        text-align: right;\n",
       "    }\n",
       "</style>\n",
       "<table border=\"1\" class=\"dataframe\">\n",
       "  <thead>\n",
       "    <tr style=\"text-align: right;\">\n",
       "      <th></th>\n",
       "      <th>min(Date)</th>\n",
       "      <th>max(Date)</th>\n",
       "    </tr>\n",
       "  </thead>\n",
       "  <tbody>\n",
       "    <tr>\n",
       "      <th>0</th>\n",
       "      <td>2016-01-04 18:00:40.420</td>\n",
       "      <td>2016-01-05 23:59:55.625</td>\n",
       "    </tr>\n",
       "  </tbody>\n",
       "</table>\n",
       "</div>"
      ],
      "text/plain": [
       "                 min(Date)                max(Date)\n",
       "0  2016-01-04 18:00:40.420  2016-01-05 23:59:55.625"
      ]
     },
     "execution_count": 20,
     "metadata": {},
     "output_type": "execute_result"
    }
   ],
   "source": [
    "pd.read_sql(\n",
    "    \"\"\"\n",
    "    SELECT min(Date), max(Date) FROM data\n",
    "    \"\"\",\n",
    "    con,\n",
    ")"
   ]
  },
  {
   "cell_type": "code",
   "execution_count": 21,
   "metadata": {
    "ExecuteTime": {
     "end_time": "2022-09-12T18:11:47.806598Z",
     "start_time": "2022-09-12T18:11:47.789650Z"
    }
   },
   "outputs": [
    {
     "data": {
      "text/html": [
       "<div>\n",
       "<style scoped>\n",
       "    .dataframe tbody tr th:only-of-type {\n",
       "        vertical-align: middle;\n",
       "    }\n",
       "\n",
       "    .dataframe tbody tr th {\n",
       "        vertical-align: top;\n",
       "    }\n",
       "\n",
       "    .dataframe thead th {\n",
       "        text-align: right;\n",
       "    }\n",
       "</style>\n",
       "<table border=\"1\" class=\"dataframe\">\n",
       "  <thead>\n",
       "    <tr style=\"text-align: right;\">\n",
       "      <th></th>\n",
       "      <th>count(*)</th>\n",
       "    </tr>\n",
       "  </thead>\n",
       "  <tbody>\n",
       "    <tr>\n",
       "      <th>0</th>\n",
       "      <td>0</td>\n",
       "    </tr>\n",
       "  </tbody>\n",
       "</table>\n",
       "</div>"
      ],
      "text/plain": [
       "   count(*)\n",
       "0         0"
      ]
     },
     "execution_count": 21,
     "metadata": {},
     "output_type": "execute_result"
    }
   ],
   "source": [
    "pd.read_sql(\n",
    "    \"\"\"\n",
    "    SELECT count(*) FROM data\n",
    "    where Date is null\n",
    "    \"\"\",\n",
    "    con,\n",
    ")"
   ]
  },
  {
   "cell_type": "code",
   "execution_count": 43,
   "metadata": {
    "ExecuteTime": {
     "end_time": "2022-09-12T18:35:16.367002Z",
     "start_time": "2022-09-12T18:35:16.347305Z"
    }
   },
   "outputs": [
    {
     "data": {
      "text/html": [
       "<div>\n",
       "<style scoped>\n",
       "    .dataframe tbody tr th:only-of-type {\n",
       "        vertical-align: middle;\n",
       "    }\n",
       "\n",
       "    .dataframe tbody tr th {\n",
       "        vertical-align: top;\n",
       "    }\n",
       "\n",
       "    .dataframe thead th {\n",
       "        text-align: right;\n",
       "    }\n",
       "</style>\n",
       "<table border=\"1\" class=\"dataframe\">\n",
       "  <thead>\n",
       "    <tr style=\"text-align: right;\">\n",
       "      <th></th>\n",
       "      <th>Symbol</th>\n",
       "      <th>Date</th>\n",
       "      <th>ask-bid</th>\n",
       "      <th>Bid</th>\n",
       "      <th>prev_bid</th>\n",
       "      <th>prev_lag_bid</th>\n",
       "      <th>Ask</th>\n",
       "      <th>prev_bid</th>\n",
       "      <th>prev_lag_ask</th>\n",
       "    </tr>\n",
       "  </thead>\n",
       "  <tbody>\n",
       "    <tr>\n",
       "      <th>0</th>\n",
       "      <td>EURUSD</td>\n",
       "      <td>2016-01-04 18:00:40.420</td>\n",
       "      <td>0.00004</td>\n",
       "      <td>1.08196</td>\n",
       "      <td>NaN</td>\n",
       "      <td>NaN</td>\n",
       "      <td>1.08200</td>\n",
       "      <td>NaN</td>\n",
       "      <td>NaN</td>\n",
       "    </tr>\n",
       "    <tr>\n",
       "      <th>1</th>\n",
       "      <td>EURUSD</td>\n",
       "      <td>2016-01-04 18:00:40.442</td>\n",
       "      <td>0.00006</td>\n",
       "      <td>1.08194</td>\n",
       "      <td>1.08196</td>\n",
       "      <td>-0.00002</td>\n",
       "      <td>1.08200</td>\n",
       "      <td>1.08200</td>\n",
       "      <td>-0.00006</td>\n",
       "    </tr>\n",
       "    <tr>\n",
       "      <th>2</th>\n",
       "      <td>EURUSD</td>\n",
       "      <td>2016-01-04 18:00:40.528</td>\n",
       "      <td>0.00004</td>\n",
       "      <td>1.08196</td>\n",
       "      <td>1.08194</td>\n",
       "      <td>0.00002</td>\n",
       "      <td>1.08200</td>\n",
       "      <td>1.08200</td>\n",
       "      <td>-0.00004</td>\n",
       "    </tr>\n",
       "    <tr>\n",
       "      <th>3</th>\n",
       "      <td>EURUSD</td>\n",
       "      <td>2016-01-04 18:00:40.554</td>\n",
       "      <td>0.00006</td>\n",
       "      <td>1.08194</td>\n",
       "      <td>1.08196</td>\n",
       "      <td>-0.00002</td>\n",
       "      <td>1.08200</td>\n",
       "      <td>1.08200</td>\n",
       "      <td>-0.00006</td>\n",
       "    </tr>\n",
       "    <tr>\n",
       "      <th>4</th>\n",
       "      <td>EURUSD</td>\n",
       "      <td>2016-01-04 18:00:40.651</td>\n",
       "      <td>0.00004</td>\n",
       "      <td>1.08194</td>\n",
       "      <td>1.08194</td>\n",
       "      <td>0.00000</td>\n",
       "      <td>1.08198</td>\n",
       "      <td>1.08200</td>\n",
       "      <td>-0.00006</td>\n",
       "    </tr>\n",
       "    <tr>\n",
       "      <th>5</th>\n",
       "      <td>EURUSD</td>\n",
       "      <td>2016-01-04 18:00:40.683</td>\n",
       "      <td>0.00006</td>\n",
       "      <td>1.08194</td>\n",
       "      <td>1.08194</td>\n",
       "      <td>0.00000</td>\n",
       "      <td>1.08200</td>\n",
       "      <td>1.08198</td>\n",
       "      <td>-0.00004</td>\n",
       "    </tr>\n",
       "    <tr>\n",
       "      <th>6</th>\n",
       "      <td>EURUSD</td>\n",
       "      <td>2016-01-04 18:00:40.926</td>\n",
       "      <td>0.00004</td>\n",
       "      <td>1.08196</td>\n",
       "      <td>1.08194</td>\n",
       "      <td>0.00002</td>\n",
       "      <td>1.08200</td>\n",
       "      <td>1.08200</td>\n",
       "      <td>-0.00004</td>\n",
       "    </tr>\n",
       "    <tr>\n",
       "      <th>7</th>\n",
       "      <td>EURUSD</td>\n",
       "      <td>2016-01-04 18:00:41.068</td>\n",
       "      <td>0.00006</td>\n",
       "      <td>1.08194</td>\n",
       "      <td>1.08196</td>\n",
       "      <td>-0.00002</td>\n",
       "      <td>1.08200</td>\n",
       "      <td>1.08200</td>\n",
       "      <td>-0.00006</td>\n",
       "    </tr>\n",
       "    <tr>\n",
       "      <th>8</th>\n",
       "      <td>EURUSD</td>\n",
       "      <td>2016-01-04 18:00:43.988</td>\n",
       "      <td>0.00004</td>\n",
       "      <td>1.08194</td>\n",
       "      <td>1.08194</td>\n",
       "      <td>0.00000</td>\n",
       "      <td>1.08198</td>\n",
       "      <td>1.08200</td>\n",
       "      <td>-0.00006</td>\n",
       "    </tr>\n",
       "    <tr>\n",
       "      <th>9</th>\n",
       "      <td>EURUSD</td>\n",
       "      <td>2016-01-04 18:00:45.149</td>\n",
       "      <td>0.00006</td>\n",
       "      <td>1.08194</td>\n",
       "      <td>1.08194</td>\n",
       "      <td>0.00000</td>\n",
       "      <td>1.08200</td>\n",
       "      <td>1.08198</td>\n",
       "      <td>-0.00004</td>\n",
       "    </tr>\n",
       "  </tbody>\n",
       "</table>\n",
       "</div>"
      ],
      "text/plain": [
       "   Symbol                     Date  ask-bid      Bid  prev_bid  prev_lag_bid  \\\n",
       "0  EURUSD  2016-01-04 18:00:40.420  0.00004  1.08196       NaN           NaN   \n",
       "1  EURUSD  2016-01-04 18:00:40.442  0.00006  1.08194   1.08196      -0.00002   \n",
       "2  EURUSD  2016-01-04 18:00:40.528  0.00004  1.08196   1.08194       0.00002   \n",
       "3  EURUSD  2016-01-04 18:00:40.554  0.00006  1.08194   1.08196      -0.00002   \n",
       "4  EURUSD  2016-01-04 18:00:40.651  0.00004  1.08194   1.08194       0.00000   \n",
       "5  EURUSD  2016-01-04 18:00:40.683  0.00006  1.08194   1.08194       0.00000   \n",
       "6  EURUSD  2016-01-04 18:00:40.926  0.00004  1.08196   1.08194       0.00002   \n",
       "7  EURUSD  2016-01-04 18:00:41.068  0.00006  1.08194   1.08196      -0.00002   \n",
       "8  EURUSD  2016-01-04 18:00:43.988  0.00004  1.08194   1.08194       0.00000   \n",
       "9  EURUSD  2016-01-04 18:00:45.149  0.00006  1.08194   1.08194       0.00000   \n",
       "\n",
       "       Ask  prev_bid  prev_lag_ask  \n",
       "0  1.08200       NaN           NaN  \n",
       "1  1.08200   1.08200      -0.00006  \n",
       "2  1.08200   1.08200      -0.00004  \n",
       "3  1.08200   1.08200      -0.00006  \n",
       "4  1.08198   1.08200      -0.00006  \n",
       "5  1.08200   1.08198      -0.00004  \n",
       "6  1.08200   1.08200      -0.00004  \n",
       "7  1.08200   1.08200      -0.00006  \n",
       "8  1.08198   1.08200      -0.00006  \n",
       "9  1.08200   1.08198      -0.00004  "
      ]
     },
     "execution_count": 43,
     "metadata": {},
     "output_type": "execute_result"
    }
   ],
   "source": [
    "pd.read_sql(\n",
    "    \"\"\"\n",
    "    SELECT Symbol,Date,Ask-Bid as 'ask-bid',\n",
    "    Bid,lag(Bid) over() as 'prev_bid',\n",
    "    Bid-lag(Bid) over() as 'prev_lag_bid',\n",
    "    \n",
    "    Ask,lag(Ask) over() as 'prev_bid',\n",
    "    Bid-lag(Ask) over() as 'prev_lag_ask'\n",
    "    \n",
    "    FROM data\n",
    "    limit 10\n",
    "\n",
    "    \"\"\",\n",
    "    con,\n",
    ")"
   ]
  },
  {
   "cell_type": "raw",
   "metadata": {},
   "source": [
    "разность Ask - Bid\n",
    "предыдущие значения Ask, Bid\n",
    "падение или рост в предыдующий момент времени Ask, Bid\n",
    "количественное изменение\n",
    "отклонение от среднего за промежуток времени\n",
    "среднее за промежуток времени\n",
    "\n",
    "рабочее/нерабочее время\n",
    "время суток\n",
    "выходные и празники и рабочии дни\n",
    "промежуток в течение рабочего дня\n"
   ]
  }
 ],
 "metadata": {
  "kernelspec": {
   "display_name": "Python 3",
   "language": "python",
   "name": "python3"
  },
  "language_info": {
   "codemirror_mode": {
    "name": "ipython",
    "version": 3
   },
   "file_extension": ".py",
   "mimetype": "text/x-python",
   "name": "python",
   "nbconvert_exporter": "python",
   "pygments_lexer": "ipython3",
   "version": "3.8.5"
  }
 },
 "nbformat": 4,
 "nbformat_minor": 4
}
