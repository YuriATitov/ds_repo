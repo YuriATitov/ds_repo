{
 "cells": [
  {
   "cell_type": "markdown",
   "metadata": {},
   "source": [
    "# Обработка пропусков и выбросов в процессе первичного анализа статистики\n",
    "\n",
    "### Disclaimer: \n",
    "_Представленные ниже примеры предназначены исключительно для демонстрации подходов к устранению аномалий в данных. Выбор подхода в \"боевых условиях\" должен осуществляеться в соответсвии с решаемыми задачами и с учетом особенностей формирования данных в исследуемом процессе_"
   ]
  },
  {
   "cell_type": "code",
   "execution_count": 1,
   "metadata": {},
   "outputs": [],
   "source": [
    "import pandas as pd\n",
    "import numpy as np\n",
    "import matplotlib.pyplot as plt\n",
    "import warnings\n",
    "warnings.filterwarnings('ignore')"
   ]
  },
  {
   "cell_type": "markdown",
   "metadata": {},
   "source": [
    "## Загрузка датасета"
   ]
  },
  {
   "cell_type": "code",
   "execution_count": 2,
   "metadata": {},
   "outputs": [
    {
     "data": {
      "text/html": [
       "<div>\n",
       "<style scoped>\n",
       "    .dataframe tbody tr th:only-of-type {\n",
       "        vertical-align: middle;\n",
       "    }\n",
       "\n",
       "    .dataframe tbody tr th {\n",
       "        vertical-align: top;\n",
       "    }\n",
       "\n",
       "    .dataframe thead th {\n",
       "        text-align: right;\n",
       "    }\n",
       "</style>\n",
       "<table border=\"1\" class=\"dataframe\">\n",
       "  <thead>\n",
       "    <tr style=\"text-align: right;\">\n",
       "      <th></th>\n",
       "      <th>sepal.length</th>\n",
       "      <th>sepal.width</th>\n",
       "      <th>petal.length</th>\n",
       "      <th>petal.width</th>\n",
       "      <th>variety</th>\n",
       "    </tr>\n",
       "  </thead>\n",
       "  <tbody>\n",
       "    <tr>\n",
       "      <th>143</th>\n",
       "      <td>6.8</td>\n",
       "      <td>3.2</td>\n",
       "      <td>5.9</td>\n",
       "      <td>2.3</td>\n",
       "      <td>Virginica</td>\n",
       "    </tr>\n",
       "    <tr>\n",
       "      <th>144</th>\n",
       "      <td>6.7</td>\n",
       "      <td>3.3</td>\n",
       "      <td>5.7</td>\n",
       "      <td>2.5</td>\n",
       "      <td>Virginica</td>\n",
       "    </tr>\n",
       "    <tr>\n",
       "      <th>145</th>\n",
       "      <td>6.7</td>\n",
       "      <td>3.0</td>\n",
       "      <td>5.2</td>\n",
       "      <td>2.3</td>\n",
       "      <td>Virginica</td>\n",
       "    </tr>\n",
       "    <tr>\n",
       "      <th>146</th>\n",
       "      <td>6.3</td>\n",
       "      <td>2.5</td>\n",
       "      <td>5.0</td>\n",
       "      <td>1.9</td>\n",
       "      <td>Virginica</td>\n",
       "    </tr>\n",
       "    <tr>\n",
       "      <th>147</th>\n",
       "      <td>6.5</td>\n",
       "      <td>3.0</td>\n",
       "      <td>5.2</td>\n",
       "      <td>2.0</td>\n",
       "      <td>Virginica</td>\n",
       "    </tr>\n",
       "    <tr>\n",
       "      <th>148</th>\n",
       "      <td>6.2</td>\n",
       "      <td>3.4</td>\n",
       "      <td>5.4</td>\n",
       "      <td>2.3</td>\n",
       "      <td>Virginica</td>\n",
       "    </tr>\n",
       "    <tr>\n",
       "      <th>149</th>\n",
       "      <td>5.9</td>\n",
       "      <td>3.0</td>\n",
       "      <td>5.1</td>\n",
       "      <td>1.8</td>\n",
       "      <td>Virginica</td>\n",
       "    </tr>\n",
       "  </tbody>\n",
       "</table>\n",
       "</div>"
      ],
      "text/plain": [
       "     sepal.length  sepal.width  petal.length  petal.width    variety\n",
       "143           6.8          3.2           5.9          2.3  Virginica\n",
       "144           6.7          3.3           5.7          2.5  Virginica\n",
       "145           6.7          3.0           5.2          2.3  Virginica\n",
       "146           6.3          2.5           5.0          1.9  Virginica\n",
       "147           6.5          3.0           5.2          2.0  Virginica\n",
       "148           6.2          3.4           5.4          2.3  Virginica\n",
       "149           5.9          3.0           5.1          1.8  Virginica"
      ]
     },
     "execution_count": 2,
     "metadata": {},
     "output_type": "execute_result"
    }
   ],
   "source": [
    "data = pd.read_csv(\"iris.csv\")\n",
    "data.tail(7)"
   ]
  },
  {
   "cell_type": "markdown",
   "metadata": {},
   "source": [
    "### Добавляем немного NaN"
   ]
  },
  {
   "cell_type": "code",
   "execution_count": 3,
   "metadata": {},
   "outputs": [
    {
     "data": {
      "text/html": [
       "<div>\n",
       "<style scoped>\n",
       "    .dataframe tbody tr th:only-of-type {\n",
       "        vertical-align: middle;\n",
       "    }\n",
       "\n",
       "    .dataframe tbody tr th {\n",
       "        vertical-align: top;\n",
       "    }\n",
       "\n",
       "    .dataframe thead th {\n",
       "        text-align: right;\n",
       "    }\n",
       "</style>\n",
       "<table border=\"1\" class=\"dataframe\">\n",
       "  <thead>\n",
       "    <tr style=\"text-align: right;\">\n",
       "      <th></th>\n",
       "      <th>sepal.length</th>\n",
       "      <th>sepal.width</th>\n",
       "      <th>petal.length</th>\n",
       "      <th>petal.width</th>\n",
       "      <th>variety</th>\n",
       "    </tr>\n",
       "  </thead>\n",
       "  <tbody>\n",
       "    <tr>\n",
       "      <th>143</th>\n",
       "      <td>6.8</td>\n",
       "      <td>3.2</td>\n",
       "      <td>5.9</td>\n",
       "      <td>2.3</td>\n",
       "      <td>Virginica</td>\n",
       "    </tr>\n",
       "    <tr>\n",
       "      <th>144</th>\n",
       "      <td>6.7</td>\n",
       "      <td>3.3</td>\n",
       "      <td>5.7</td>\n",
       "      <td>2.5</td>\n",
       "      <td>Virginica</td>\n",
       "    </tr>\n",
       "    <tr>\n",
       "      <th>145</th>\n",
       "      <td>6.7</td>\n",
       "      <td>3.0</td>\n",
       "      <td>5.2</td>\n",
       "      <td>NaN</td>\n",
       "      <td>Virginica</td>\n",
       "    </tr>\n",
       "    <tr>\n",
       "      <th>146</th>\n",
       "      <td>6.3</td>\n",
       "      <td>2.5</td>\n",
       "      <td>5.0</td>\n",
       "      <td>NaN</td>\n",
       "      <td>Virginica</td>\n",
       "    </tr>\n",
       "    <tr>\n",
       "      <th>147</th>\n",
       "      <td>6.5</td>\n",
       "      <td>3.0</td>\n",
       "      <td>5.2</td>\n",
       "      <td>NaN</td>\n",
       "      <td>Virginica</td>\n",
       "    </tr>\n",
       "    <tr>\n",
       "      <th>148</th>\n",
       "      <td>6.2</td>\n",
       "      <td>3.4</td>\n",
       "      <td>5.4</td>\n",
       "      <td>NaN</td>\n",
       "      <td>Virginica</td>\n",
       "    </tr>\n",
       "    <tr>\n",
       "      <th>149</th>\n",
       "      <td>5.9</td>\n",
       "      <td>3.0</td>\n",
       "      <td>5.1</td>\n",
       "      <td>1.8</td>\n",
       "      <td>Virginica</td>\n",
       "    </tr>\n",
       "  </tbody>\n",
       "</table>\n",
       "</div>"
      ],
      "text/plain": [
       "     sepal.length  sepal.width  petal.length  petal.width    variety\n",
       "143           6.8          3.2           5.9          2.3  Virginica\n",
       "144           6.7          3.3           5.7          2.5  Virginica\n",
       "145           6.7          3.0           5.2          NaN  Virginica\n",
       "146           6.3          2.5           5.0          NaN  Virginica\n",
       "147           6.5          3.0           5.2          NaN  Virginica\n",
       "148           6.2          3.4           5.4          NaN  Virginica\n",
       "149           5.9          3.0           5.1          1.8  Virginica"
      ]
     },
     "execution_count": 3,
     "metadata": {},
     "output_type": "execute_result"
    }
   ],
   "source": [
    "data[\"petal.width\"].iloc[145:149] = None\n",
    "data.tail(7)"
   ]
  },
  {
   "cell_type": "markdown",
   "metadata": {},
   "source": [
    "## Построение гистограммы \"petal.length\""
   ]
  },
  {
   "cell_type": "code",
   "execution_count": 4,
   "metadata": {},
   "outputs": [
    {
     "data": {
      "image/png": "[encoded data removed]",
      "text/plain": [
       "<Figure size 720x360 with 1 Axes>"
      ]
     },
     "metadata": {
      "needs_background": "light"
     },
     "output_type": "display_data"
    }
   ],
   "source": [
    "data[\"petal.length\"].plot.hist( figsize=(10,5), \n",
    "                color='#21BA72', alpha=0.5, bins=20 );"
   ]
  },
  {
   "cell_type": "markdown",
   "metadata": {},
   "source": [
    "### Есть выброс \"petal.length\" в диапазоне примерно 1..1.9\n",
    "\n",
    "### Зафиксируем исходные данные до заполнения NaN "
   ]
  },
  {
   "cell_type": "code",
   "execution_count": 5,
   "metadata": {},
   "outputs": [],
   "source": [
    "with_outliers = data[\"petal.length\"].head(20).copy()\n",
    "before_NaN = data[\"petal.width\"].iloc[25:42].copy()"
   ]
  },
  {
   "cell_type": "markdown",
   "metadata": {},
   "source": [
    "### Заменяем  выброс \"petal.length\" расчетными данными\n",
    "\n",
    "#### длина лепестка не может быть отрицательной!"
   ]
  },
  {
   "cell_type": "code",
   "execution_count": 6,
   "metadata": {},
   "outputs": [
    {
     "data": {
      "image/png": "[encoded data removed]",
      "text/plain": [
       "<Figure size 720x360 with 1 Axes>"
      ]
     },
     "metadata": {
      "needs_background": "light"
     },
     "output_type": "display_data"
    }
   ],
   "source": [
    "data[\"petal.length\"][data[\"petal.length\"]<=2.8] = np.clip(np.random.normal(loc= data[\"petal.length\"][data[\"petal.length\"]>=2.8].median(),\n",
    "                                                        scale=data[\"petal.length\"].var(), \n",
    "                                                        size=len(data[\"petal.length\"][data[\"petal.length\"]<=2.8])), \n",
    "                                                          data[\"petal.length\"].min(),\n",
    "                                                          data[\"petal.length\"].max())\n",
    "data[\"petal.length\"].plot.hist( figsize=(10,5), \n",
    "                color='#21BA72', alpha=0.5, bins=20 );"
   ]
  },
  {
   "cell_type": "code",
   "execution_count": 7,
   "metadata": {},
   "outputs": [],
   "source": [
    "### снова выбросы :-(\n",
    "### убираем выброс минимумов ..."
   ]
  },
  {
   "cell_type": "code",
   "execution_count": 8,
   "metadata": {},
   "outputs": [
    {
     "data": {
      "image/png": "[encoded data removed]",
      "text/plain": [
       "<Figure size 720x360 with 1 Axes>"
      ]
     },
     "metadata": {
      "needs_background": "light"
     },
     "output_type": "display_data"
    }
   ],
   "source": [
    "data[\"petal.length\"][data[\"petal.length\"]==data[\"petal.length\"].min()] = np.clip(np.random.normal(loc= data[\"petal.length\"].median(),\n",
    "                                                        scale=data[\"petal.length\"].var(), \n",
    "                                                        size=len(data[\"petal.length\"][data[\"petal.length\"]==data[\"petal.length\"].min()]) ), \n",
    "                                                          data[\"petal.length\"].min(),\n",
    "                                                          data[\"petal.length\"].max())\n",
    "\n",
    "\n",
    "\n",
    "data[\"petal.length\"].plot.hist( figsize=(10,5), \n",
    "                color='#21BA72', alpha=0.5, bins=20 );"
   ]
  },
  {
   "cell_type": "markdown",
   "metadata": {},
   "source": [
    "### ... и убираем выброс максимумов "
   ]
  },
  {
   "cell_type": "code",
   "execution_count": 9,
   "metadata": {},
   "outputs": [
    {
     "data": {
      "image/png": "[encoded data removed]",
      "text/plain": [
       "<Figure size 720x360 with 1 Axes>"
      ]
     },
     "metadata": {
      "needs_background": "light"
     },
     "output_type": "display_data"
    }
   ],
   "source": [
    "data[\"petal.length\"][data[\"petal.length\"]==data[\"petal.length\"].max()] = np.clip(np.random.normal(loc= data[\"petal.length\"].median(),\n",
    "                                                        scale=data[\"petal.length\"].var(), \n",
    "                                                        size=len(data[\"petal.length\"][data[\"petal.length\"]==data[\"petal.length\"].max()]) ), \n",
    "                                                          data[\"petal.length\"].min(),\n",
    "                                                          data[\"petal.length\"].max())\n",
    "data[\"petal.length\"].plot.hist( figsize=(10,5), \n",
    "                color='#21BA72', alpha=0.5, bins=20 );"
   ]
  },
  {
   "cell_type": "code",
   "execution_count": 10,
   "metadata": {},
   "outputs": [
    {
     "data": {
      "text/html": [
       "<div>\n",
       "<style scoped>\n",
       "    .dataframe tbody tr th:only-of-type {\n",
       "        vertical-align: middle;\n",
       "    }\n",
       "\n",
       "    .dataframe tbody tr th {\n",
       "        vertical-align: top;\n",
       "    }\n",
       "\n",
       "    .dataframe thead th {\n",
       "        text-align: right;\n",
       "    }\n",
       "</style>\n",
       "<table border=\"1\" class=\"dataframe\">\n",
       "  <thead>\n",
       "    <tr style=\"text-align: right;\">\n",
       "      <th></th>\n",
       "      <th>With_outliers</th>\n",
       "      <th>After_norm</th>\n",
       "    </tr>\n",
       "  </thead>\n",
       "  <tbody>\n",
       "    <tr>\n",
       "      <th>0</th>\n",
       "      <td>1.4</td>\n",
       "      <td>1.871728</td>\n",
       "    </tr>\n",
       "    <tr>\n",
       "      <th>1</th>\n",
       "      <td>1.4</td>\n",
       "      <td>6.272126</td>\n",
       "    </tr>\n",
       "    <tr>\n",
       "      <th>2</th>\n",
       "      <td>1.3</td>\n",
       "      <td>2.870730</td>\n",
       "    </tr>\n",
       "    <tr>\n",
       "      <th>3</th>\n",
       "      <td>1.5</td>\n",
       "      <td>1.000000</td>\n",
       "    </tr>\n",
       "    <tr>\n",
       "      <th>4</th>\n",
       "      <td>1.4</td>\n",
       "      <td>4.947510</td>\n",
       "    </tr>\n",
       "    <tr>\n",
       "      <th>5</th>\n",
       "      <td>1.7</td>\n",
       "      <td>6.896265</td>\n",
       "    </tr>\n",
       "    <tr>\n",
       "      <th>6</th>\n",
       "      <td>1.4</td>\n",
       "      <td>6.625386</td>\n",
       "    </tr>\n",
       "    <tr>\n",
       "      <th>7</th>\n",
       "      <td>1.5</td>\n",
       "      <td>5.701014</td>\n",
       "    </tr>\n",
       "    <tr>\n",
       "      <th>8</th>\n",
       "      <td>1.4</td>\n",
       "      <td>2.534379</td>\n",
       "    </tr>\n",
       "    <tr>\n",
       "      <th>9</th>\n",
       "      <td>1.5</td>\n",
       "      <td>4.844766</td>\n",
       "    </tr>\n",
       "    <tr>\n",
       "      <th>10</th>\n",
       "      <td>1.5</td>\n",
       "      <td>6.900000</td>\n",
       "    </tr>\n",
       "    <tr>\n",
       "      <th>11</th>\n",
       "      <td>1.6</td>\n",
       "      <td>2.815048</td>\n",
       "    </tr>\n",
       "    <tr>\n",
       "      <th>12</th>\n",
       "      <td>1.4</td>\n",
       "      <td>4.658500</td>\n",
       "    </tr>\n",
       "    <tr>\n",
       "      <th>13</th>\n",
       "      <td>1.1</td>\n",
       "      <td>2.971246</td>\n",
       "    </tr>\n",
       "    <tr>\n",
       "      <th>14</th>\n",
       "      <td>1.2</td>\n",
       "      <td>6.900000</td>\n",
       "    </tr>\n",
       "    <tr>\n",
       "      <th>15</th>\n",
       "      <td>1.5</td>\n",
       "      <td>2.585075</td>\n",
       "    </tr>\n",
       "    <tr>\n",
       "      <th>16</th>\n",
       "      <td>1.3</td>\n",
       "      <td>2.992773</td>\n",
       "    </tr>\n",
       "    <tr>\n",
       "      <th>17</th>\n",
       "      <td>1.4</td>\n",
       "      <td>3.196698</td>\n",
       "    </tr>\n",
       "    <tr>\n",
       "      <th>18</th>\n",
       "      <td>1.7</td>\n",
       "      <td>2.824056</td>\n",
       "    </tr>\n",
       "    <tr>\n",
       "      <th>19</th>\n",
       "      <td>1.5</td>\n",
       "      <td>4.994304</td>\n",
       "    </tr>\n",
       "  </tbody>\n",
       "</table>\n",
       "</div>"
      ],
      "text/plain": [
       "    With_outliers  After_norm\n",
       "0             1.4    1.871728\n",
       "1             1.4    6.272126\n",
       "2             1.3    2.870730\n",
       "3             1.5    1.000000\n",
       "4             1.4    4.947510\n",
       "5             1.7    6.896265\n",
       "6             1.4    6.625386\n",
       "7             1.5    5.701014\n",
       "8             1.4    2.534379\n",
       "9             1.5    4.844766\n",
       "10            1.5    6.900000\n",
       "11            1.6    2.815048\n",
       "12            1.4    4.658500\n",
       "13            1.1    2.971246\n",
       "14            1.2    6.900000\n",
       "15            1.5    2.585075\n",
       "16            1.3    2.992773\n",
       "17            1.4    3.196698\n",
       "18            1.7    2.824056\n",
       "19            1.5    4.994304"
      ]
     },
     "metadata": {},
     "output_type": "display_data"
    }
   ],
   "source": [
    "display(pd.DataFrame(list(zip(with_outliers, data[\"petal.length\"].head(20))),\n",
    "                   columns=[\"With_outliers\", \"After_norm\"]))"
   ]
  },
  {
   "cell_type": "markdown",
   "metadata": {},
   "source": [
    "###### Выброс исчез"
   ]
  },
  {
   "cell_type": "markdown",
   "metadata": {},
   "source": [
    "## Построение гистограмы для \"petal.width\""
   ]
  },
  {
   "cell_type": "code",
   "execution_count": 11,
   "metadata": {},
   "outputs": [
    {
     "data": {
      "image/png": "[encoded data removed]",
      "text/plain": [
       "<Figure size 720x360 with 1 Axes>"
      ]
     },
     "metadata": {
      "needs_background": "light"
     },
     "output_type": "display_data"
    }
   ],
   "source": [
    "data[\"petal.width\"].plot.hist( figsize=(10,5), \n",
    "                color='#21BA72', alpha=0.5, bins=20 );"
   ]
  },
  {
   "cell_type": "markdown",
   "metadata": {},
   "source": [
    "### убеждаемся в наличии NaN"
   ]
  },
  {
   "cell_type": "code",
   "execution_count": 12,
   "metadata": {},
   "outputs": [
    {
     "data": {
      "text/plain": [
       "145   NaN\n",
       "146   NaN\n",
       "147   NaN\n",
       "148   NaN\n",
       "Name: petal.width, dtype: float64"
      ]
     },
     "execution_count": 12,
     "metadata": {},
     "output_type": "execute_result"
    }
   ],
   "source": [
    "data[\"petal.width\"][data[\"petal.width\"].isnull()]"
   ]
  },
  {
   "cell_type": "markdown",
   "metadata": {},
   "source": [
    "### Заполняем пропуски"
   ]
  },
  {
   "cell_type": "code",
   "execution_count": 13,
   "metadata": {},
   "outputs": [
    {
     "data": {
      "image/png": "[encoded data removed]",
      "text/plain": [
       "<Figure size 720x360 with 1 Axes>"
      ]
     },
     "metadata": {
      "needs_background": "light"
     },
     "output_type": "display_data"
    }
   ],
   "source": [
    "# используем std()\n",
    "data[\"petal.width\"].fillna(data[\"petal.width\"].mean() \n",
    "                           + data[\"petal.width\"].std()*np.random.randint(low=-1, high=2, size=1)[0], # ограничиваем отклонение\n",
    "                          inplace=True)\n",
    "data[\"petal.width\"].plot.hist( figsize=(10,5), \n",
    "                color='#21BA72', alpha=0.5, bins=20 );"
   ]
  },
  {
   "cell_type": "code",
   "execution_count": 14,
   "metadata": {},
   "outputs": [
    {
     "data": {
      "text/plain": [
       "143    2.300000\n",
       "144    2.500000\n",
       "145    1.173973\n",
       "146    1.173973\n",
       "147    1.173973\n",
       "148    1.173973\n",
       "149    1.800000\n",
       "Name: petal.width, dtype: float64"
      ]
     },
     "execution_count": 14,
     "metadata": {},
     "output_type": "execute_result"
    }
   ],
   "source": [
    "data[\"petal.width\"].tail(7)"
   ]
  },
  {
   "cell_type": "markdown",
   "metadata": {},
   "source": [
    "### добавим еще пропусков (примерно 1/6)\n",
    "### и проверим результаты по критерию $\\chi^2$"
   ]
  },
  {
   "cell_type": "code",
   "execution_count": 15,
   "metadata": {},
   "outputs": [
    {
     "data": {
      "text/plain": [
       "array([21.,  5.,  5.,  1.,  1.,  0.,  0.,  7.,  7.,  5., 20., 11.,  3.,\n",
       "        2.,  7.,  7.,  5.,  2.,  5.,  5.])"
      ]
     },
     "execution_count": 15,
     "metadata": {},
     "output_type": "execute_result"
    },
    {
     "data": {
      "image/png": "[encoded data removed]",
      "text/plain": [
       "<Figure size 720x360 with 1 Axes>"
      ]
     },
     "metadata": {
      "needs_background": "light"
     },
     "output_type": "display_data"
    }
   ],
   "source": [
    "data[\"petal.width\"].iloc[125:139] = None\n",
    "data[\"petal.width\"].iloc[25:42] = None\n",
    "data[\"petal.width\"].plot.hist( figsize=(10,5), \n",
    "                color='#21BA72', alpha=0.5, bins=20 );\n",
    "\n",
    "# фиксируем значения гистограммы (с разными BINS)\n",
    "b_before, n_before, _ = plt.hist(data[\"petal.width\"], bins=20, visible=False);\n",
    "b2 = 5\n",
    "b_before_2, n_before_2, _ = plt.hist(data[\"petal.width\"], bins=b2, visible=False);\n",
    "\n",
    "# значения столбиков гистограммы\n",
    "b_before"
   ]
  },
  {
   "cell_type": "code",
   "execution_count": 16,
   "metadata": {},
   "outputs": [
    {
     "data": {
      "text/plain": [
       "25   NaN\n",
       "26   NaN\n",
       "27   NaN\n",
       "28   NaN\n",
       "29   NaN\n",
       "30   NaN\n",
       "31   NaN\n",
       "32   NaN\n",
       "33   NaN\n",
       "34   NaN\n",
       "35   NaN\n",
       "36   NaN\n",
       "37   NaN\n",
       "38   NaN\n",
       "39   NaN\n",
       "40   NaN\n",
       "41   NaN\n",
       "Name: petal.width, dtype: float64"
      ]
     },
     "execution_count": 16,
     "metadata": {},
     "output_type": "execute_result"
    }
   ],
   "source": [
    "data[\"petal.width\"].iloc[25:42]"
   ]
  },
  {
   "cell_type": "markdown",
   "metadata": {},
   "source": [
    "### Подготовка корректирующих значений"
   ]
  },
  {
   "cell_type": "code",
   "execution_count": 17,
   "metadata": {},
   "outputs": [
    {
     "data": {
      "text/html": [
       "<div>\n",
       "<style scoped>\n",
       "    .dataframe tbody tr th:only-of-type {\n",
       "        vertical-align: middle;\n",
       "    }\n",
       "\n",
       "    .dataframe tbody tr th {\n",
       "        vertical-align: top;\n",
       "    }\n",
       "\n",
       "    .dataframe thead th {\n",
       "        text-align: right;\n",
       "    }\n",
       "</style>\n",
       "<table border=\"1\" class=\"dataframe\">\n",
       "  <thead>\n",
       "    <tr style=\"text-align: right;\">\n",
       "      <th></th>\n",
       "      <th>petal.width</th>\n",
       "    </tr>\n",
       "  </thead>\n",
       "  <tbody>\n",
       "    <tr>\n",
       "      <th>0</th>\n",
       "      <td>1.371639</td>\n",
       "    </tr>\n",
       "    <tr>\n",
       "      <th>1</th>\n",
       "      <td>1.569335</td>\n",
       "    </tr>\n",
       "    <tr>\n",
       "      <th>2</th>\n",
       "      <td>1.328768</td>\n",
       "    </tr>\n",
       "    <tr>\n",
       "      <th>3</th>\n",
       "      <td>0.882280</td>\n",
       "    </tr>\n",
       "    <tr>\n",
       "      <th>4</th>\n",
       "      <td>1.330694</td>\n",
       "    </tr>\n",
       "    <tr>\n",
       "      <th>...</th>\n",
       "      <td>...</td>\n",
       "    </tr>\n",
       "    <tr>\n",
       "      <th>145</th>\n",
       "      <td>-0.062309</td>\n",
       "    </tr>\n",
       "    <tr>\n",
       "      <th>146</th>\n",
       "      <td>0.810936</td>\n",
       "    </tr>\n",
       "    <tr>\n",
       "      <th>147</th>\n",
       "      <td>0.747112</td>\n",
       "    </tr>\n",
       "    <tr>\n",
       "      <th>148</th>\n",
       "      <td>1.416626</td>\n",
       "    </tr>\n",
       "    <tr>\n",
       "      <th>149</th>\n",
       "      <td>1.162294</td>\n",
       "    </tr>\n",
       "  </tbody>\n",
       "</table>\n",
       "<p>150 rows × 1 columns</p>\n",
       "</div>"
      ],
      "text/plain": [
       "     petal.width\n",
       "0       1.371639\n",
       "1       1.569335\n",
       "2       1.328768\n",
       "3       0.882280\n",
       "4       1.330694\n",
       "..           ...\n",
       "145    -0.062309\n",
       "146     0.810936\n",
       "147     0.747112\n",
       "148     1.416626\n",
       "149     1.162294\n",
       "\n",
       "[150 rows x 1 columns]"
      ]
     },
     "execution_count": 17,
     "metadata": {},
     "output_type": "execute_result"
    }
   ],
   "source": [
    "df_corr = pd.DataFrame(np.random.normal(loc=data[\"petal.width\"].mean(),\n",
    "                                scale=data[\"petal.width\"].var(), \n",
    "                                size=len(data[\"petal.width\"])),\n",
    "                      columns = [\"petal.width\"]) \n",
    "                                \n",
    "df_corr                      "
   ]
  },
  {
   "cell_type": "code",
   "execution_count": 18,
   "metadata": {},
   "outputs": [
    {
     "data": {
      "text/plain": [
       "petal.width   -0.062309\n",
       "dtype: float64"
      ]
     },
     "execution_count": 18,
     "metadata": {},
     "output_type": "execute_result"
    }
   ],
   "source": [
    "df_corr.min() # больше нуля :-)"
   ]
  },
  {
   "cell_type": "markdown",
   "metadata": {},
   "source": [
    "### Заполняем пропуски"
   ]
  },
  {
   "cell_type": "code",
   "execution_count": 19,
   "metadata": {},
   "outputs": [
    {
     "data": {
      "text/html": [
       "<div>\n",
       "<style scoped>\n",
       "    .dataframe tbody tr th:only-of-type {\n",
       "        vertical-align: middle;\n",
       "    }\n",
       "\n",
       "    .dataframe tbody tr th {\n",
       "        vertical-align: top;\n",
       "    }\n",
       "\n",
       "    .dataframe thead th {\n",
       "        text-align: right;\n",
       "    }\n",
       "</style>\n",
       "<table border=\"1\" class=\"dataframe\">\n",
       "  <thead>\n",
       "    <tr style=\"text-align: right;\">\n",
       "      <th></th>\n",
       "      <th>before_set_NaN</th>\n",
       "      <th>After_filling</th>\n",
       "    </tr>\n",
       "  </thead>\n",
       "  <tbody>\n",
       "    <tr>\n",
       "      <th>0</th>\n",
       "      <td>0.2</td>\n",
       "      <td>0.169595</td>\n",
       "    </tr>\n",
       "    <tr>\n",
       "      <th>1</th>\n",
       "      <td>0.4</td>\n",
       "      <td>1.939555</td>\n",
       "    </tr>\n",
       "    <tr>\n",
       "      <th>2</th>\n",
       "      <td>0.2</td>\n",
       "      <td>0.780740</td>\n",
       "    </tr>\n",
       "    <tr>\n",
       "      <th>3</th>\n",
       "      <td>0.2</td>\n",
       "      <td>0.938038</td>\n",
       "    </tr>\n",
       "    <tr>\n",
       "      <th>4</th>\n",
       "      <td>0.2</td>\n",
       "      <td>0.985608</td>\n",
       "    </tr>\n",
       "    <tr>\n",
       "      <th>5</th>\n",
       "      <td>0.2</td>\n",
       "      <td>0.726444</td>\n",
       "    </tr>\n",
       "    <tr>\n",
       "      <th>6</th>\n",
       "      <td>0.4</td>\n",
       "      <td>2.032924</td>\n",
       "    </tr>\n",
       "    <tr>\n",
       "      <th>7</th>\n",
       "      <td>0.1</td>\n",
       "      <td>1.960808</td>\n",
       "    </tr>\n",
       "    <tr>\n",
       "      <th>8</th>\n",
       "      <td>0.2</td>\n",
       "      <td>1.394276</td>\n",
       "    </tr>\n",
       "    <tr>\n",
       "      <th>9</th>\n",
       "      <td>0.2</td>\n",
       "      <td>0.879221</td>\n",
       "    </tr>\n",
       "    <tr>\n",
       "      <th>10</th>\n",
       "      <td>0.2</td>\n",
       "      <td>1.392358</td>\n",
       "    </tr>\n",
       "    <tr>\n",
       "      <th>11</th>\n",
       "      <td>0.2</td>\n",
       "      <td>0.291216</td>\n",
       "    </tr>\n",
       "    <tr>\n",
       "      <th>12</th>\n",
       "      <td>0.1</td>\n",
       "      <td>0.945699</td>\n",
       "    </tr>\n",
       "    <tr>\n",
       "      <th>13</th>\n",
       "      <td>0.2</td>\n",
       "      <td>0.926493</td>\n",
       "    </tr>\n",
       "    <tr>\n",
       "      <th>14</th>\n",
       "      <td>0.2</td>\n",
       "      <td>1.831869</td>\n",
       "    </tr>\n",
       "    <tr>\n",
       "      <th>15</th>\n",
       "      <td>0.3</td>\n",
       "      <td>1.968301</td>\n",
       "    </tr>\n",
       "    <tr>\n",
       "      <th>16</th>\n",
       "      <td>0.3</td>\n",
       "      <td>1.045466</td>\n",
       "    </tr>\n",
       "  </tbody>\n",
       "</table>\n",
       "</div>"
      ],
      "text/plain": [
       "    before_set_NaN  After_filling\n",
       "0              0.2       0.169595\n",
       "1              0.4       1.939555\n",
       "2              0.2       0.780740\n",
       "3              0.2       0.938038\n",
       "4              0.2       0.985608\n",
       "5              0.2       0.726444\n",
       "6              0.4       2.032924\n",
       "7              0.1       1.960808\n",
       "8              0.2       1.394276\n",
       "9              0.2       0.879221\n",
       "10             0.2       1.392358\n",
       "11             0.2       0.291216\n",
       "12             0.1       0.945699\n",
       "13             0.2       0.926493\n",
       "14             0.2       1.831869\n",
       "15             0.3       1.968301\n",
       "16             0.3       1.045466"
      ]
     },
     "metadata": {},
     "output_type": "display_data"
    }
   ],
   "source": [
    "data.fillna(value=df_corr, inplace=True)\n",
    "display(pd.DataFrame(list(zip(before_NaN, data[\"petal.width\"].iloc[25:42])),\n",
    "                   columns=[\"before_set_NaN\", \"After_filling\"]))"
   ]
  },
  {
   "cell_type": "code",
   "execution_count": 20,
   "metadata": {},
   "outputs": [
    {
     "data": {
      "image/png": "[encoded data removed]",
      "text/plain": [
       "<Figure size 720x360 with 1 Axes>"
      ]
     },
     "metadata": {
      "needs_background": "light"
     },
     "output_type": "display_data"
    }
   ],
   "source": [
    "data[\"petal.width\"].plot.hist( figsize=(10,5), \n",
    "                color='#21BA72', alpha=0.5, bins=20, );\n",
    "# получаем параметры гистограммы c bins = 20\n",
    "b_after, n_after, _ = plt.hist(data[\"petal.width\"], bins=20, visible=False);\n",
    "# и bins = b2\n",
    "b_after_2, n_after_2, _ = plt.hist(data[\"petal.width\"], bins=b2, visible=False);"
   ]
  },
  {
   "cell_type": "markdown",
   "metadata": {},
   "source": [
    "### Почти похоже на исходный :-)\n",
    "\n",
    "#### ... но так ли это\n",
    "#### используем критерий $\\chi^2$"
   ]
  },
  {
   "cell_type": "code",
   "execution_count": 21,
   "metadata": {},
   "outputs": [
    {
     "data": {
      "text/plain": [
       "'1.6.3'"
      ]
     },
     "execution_count": 21,
     "metadata": {},
     "output_type": "execute_result"
    }
   ],
   "source": [
    "import scipy\n",
    "scipy.__version__"
   ]
  },
  {
   "cell_type": "code",
   "execution_count": 22,
   "metadata": {},
   "outputs": [
    {
     "name": "stdout",
     "output_type": "stream",
     "text": [
      "ДО\n",
      " [21.  5.  5.  1.  1.  0.  0.  7.  7.  5. 20. 11.  3.  2.  7.  7.  5.  2.\n",
      "  5.  5.] \n",
      "ПОСЛЕ\n",
      " [23.  7.  5.  2.  1.  3.  3. 10.  8.  5. 25. 12.  3.  5.  8. 10.  6.  3.\n",
      "  6.  5.]\n",
      "p_value = nan\n"
     ]
    }
   ],
   "source": [
    "# сравниваем методом хи-квадрат\n",
    "from scipy.stats import chisquare, chi2_contingency\n",
    "print (f\"ДО\\n {b_before} \\nПОСЛЕ\\n {b_after}\")\n",
    "_, p_value = chisquare(chisquare(b_before, b_after, ddof=len(b_after)-1))\n",
    "\n",
    "print(f\"p_value = {p_value}\")"
   ]
  },
  {
   "cell_type": "markdown",
   "metadata": {},
   "source": [
    "#### меняем bins"
   ]
  },
  {
   "cell_type": "code",
   "execution_count": 23,
   "metadata": {},
   "outputs": [
    {
     "name": "stdout",
     "output_type": "stream",
     "text": [
      "ДО\n",
      " [32.  8. 43. 19. 17.] \n",
      "ПОСЛЕ\n",
      " [37. 17. 50. 26. 20.]\n",
      "p_value = nan\n"
     ]
    }
   ],
   "source": [
    "print (f\"ДО\\n {b_before_2} \\nПОСЛЕ\\n {b_after_2}\")\n",
    "#stat, p_value_2, dof, _= chi2_contingency([b_before_2, b_after_2])\n",
    "_, p_value_2 = chisquare(b_before_2, b_after_2, ddof=len(b_after_2)-1)\n",
    "\n",
    "print(f\"p_value = {p_value_2}\")"
   ]
  },
  {
   "cell_type": "markdown",
   "metadata": {},
   "source": [
    "#### _...нужен иной подход ?_\n",
    "\n",
    "\n",
    "### Снова генерируем пропуски, но в этот раз удаляем "
   ]
  },
  {
   "cell_type": "code",
   "execution_count": 24,
   "metadata": {},
   "outputs": [
    {
     "data": {
      "text/html": [
       "<div>\n",
       "<style scoped>\n",
       "    .dataframe tbody tr th:only-of-type {\n",
       "        vertical-align: middle;\n",
       "    }\n",
       "\n",
       "    .dataframe tbody tr th {\n",
       "        vertical-align: top;\n",
       "    }\n",
       "\n",
       "    .dataframe thead th {\n",
       "        text-align: right;\n",
       "    }\n",
       "</style>\n",
       "<table border=\"1\" class=\"dataframe\">\n",
       "  <thead>\n",
       "    <tr style=\"text-align: right;\">\n",
       "      <th></th>\n",
       "      <th>sepal.length</th>\n",
       "      <th>sepal.width</th>\n",
       "      <th>petal.length</th>\n",
       "      <th>petal.width</th>\n",
       "      <th>variety</th>\n",
       "    </tr>\n",
       "  </thead>\n",
       "  <tbody>\n",
       "    <tr>\n",
       "      <th>140</th>\n",
       "      <td>6.7</td>\n",
       "      <td>3.1</td>\n",
       "      <td>5.6</td>\n",
       "      <td>NaN</td>\n",
       "      <td>Virginica</td>\n",
       "    </tr>\n",
       "    <tr>\n",
       "      <th>141</th>\n",
       "      <td>6.9</td>\n",
       "      <td>3.1</td>\n",
       "      <td>5.1</td>\n",
       "      <td>NaN</td>\n",
       "      <td>Virginica</td>\n",
       "    </tr>\n",
       "    <tr>\n",
       "      <th>142</th>\n",
       "      <td>5.8</td>\n",
       "      <td>2.7</td>\n",
       "      <td>5.1</td>\n",
       "      <td>NaN</td>\n",
       "      <td>Virginica</td>\n",
       "    </tr>\n",
       "    <tr>\n",
       "      <th>143</th>\n",
       "      <td>6.8</td>\n",
       "      <td>3.2</td>\n",
       "      <td>5.9</td>\n",
       "      <td>NaN</td>\n",
       "      <td>Virginica</td>\n",
       "    </tr>\n",
       "    <tr>\n",
       "      <th>144</th>\n",
       "      <td>6.7</td>\n",
       "      <td>3.3</td>\n",
       "      <td>5.7</td>\n",
       "      <td>NaN</td>\n",
       "      <td>Virginica</td>\n",
       "    </tr>\n",
       "    <tr>\n",
       "      <th>145</th>\n",
       "      <td>6.7</td>\n",
       "      <td>3.0</td>\n",
       "      <td>5.2</td>\n",
       "      <td>NaN</td>\n",
       "      <td>Virginica</td>\n",
       "    </tr>\n",
       "    <tr>\n",
       "      <th>146</th>\n",
       "      <td>6.3</td>\n",
       "      <td>2.5</td>\n",
       "      <td>5.0</td>\n",
       "      <td>NaN</td>\n",
       "      <td>Virginica</td>\n",
       "    </tr>\n",
       "    <tr>\n",
       "      <th>147</th>\n",
       "      <td>6.5</td>\n",
       "      <td>3.0</td>\n",
       "      <td>5.2</td>\n",
       "      <td>1.173973</td>\n",
       "      <td>Virginica</td>\n",
       "    </tr>\n",
       "    <tr>\n",
       "      <th>148</th>\n",
       "      <td>6.2</td>\n",
       "      <td>3.4</td>\n",
       "      <td>5.4</td>\n",
       "      <td>1.173973</td>\n",
       "      <td>Virginica</td>\n",
       "    </tr>\n",
       "    <tr>\n",
       "      <th>149</th>\n",
       "      <td>5.9</td>\n",
       "      <td>3.0</td>\n",
       "      <td>5.1</td>\n",
       "      <td>1.800000</td>\n",
       "      <td>Virginica</td>\n",
       "    </tr>\n",
       "  </tbody>\n",
       "</table>\n",
       "</div>"
      ],
      "text/plain": [
       "     sepal.length  sepal.width  petal.length  petal.width    variety\n",
       "140           6.7          3.1           5.6          NaN  Virginica\n",
       "141           6.9          3.1           5.1          NaN  Virginica\n",
       "142           5.8          2.7           5.1          NaN  Virginica\n",
       "143           6.8          3.2           5.9          NaN  Virginica\n",
       "144           6.7          3.3           5.7          NaN  Virginica\n",
       "145           6.7          3.0           5.2          NaN  Virginica\n",
       "146           6.3          2.5           5.0          NaN  Virginica\n",
       "147           6.5          3.0           5.2     1.173973  Virginica\n",
       "148           6.2          3.4           5.4     1.173973  Virginica\n",
       "149           5.9          3.0           5.1     1.800000  Virginica"
      ]
     },
     "execution_count": 24,
     "metadata": {},
     "output_type": "execute_result"
    }
   ],
   "source": [
    "data[\"petal.width\"].iloc[125:147] = None\n",
    "data.tail(10)"
   ]
  },
  {
   "cell_type": "code",
   "execution_count": 25,
   "metadata": {},
   "outputs": [
    {
     "data": {
      "text/html": [
       "<div>\n",
       "<style scoped>\n",
       "    .dataframe tbody tr th:only-of-type {\n",
       "        vertical-align: middle;\n",
       "    }\n",
       "\n",
       "    .dataframe tbody tr th {\n",
       "        vertical-align: top;\n",
       "    }\n",
       "\n",
       "    .dataframe thead th {\n",
       "        text-align: right;\n",
       "    }\n",
       "</style>\n",
       "<table border=\"1\" class=\"dataframe\">\n",
       "  <thead>\n",
       "    <tr style=\"text-align: right;\">\n",
       "      <th></th>\n",
       "      <th>sepal.length</th>\n",
       "      <th>sepal.width</th>\n",
       "      <th>petal.length</th>\n",
       "      <th>petal.width</th>\n",
       "      <th>variety</th>\n",
       "    </tr>\n",
       "  </thead>\n",
       "  <tbody>\n",
       "    <tr>\n",
       "      <th>118</th>\n",
       "      <td>7.7</td>\n",
       "      <td>2.6</td>\n",
       "      <td>3.081171</td>\n",
       "      <td>2.300000</td>\n",
       "      <td>Virginica</td>\n",
       "    </tr>\n",
       "    <tr>\n",
       "      <th>119</th>\n",
       "      <td>6.0</td>\n",
       "      <td>2.2</td>\n",
       "      <td>5.000000</td>\n",
       "      <td>1.500000</td>\n",
       "      <td>Virginica</td>\n",
       "    </tr>\n",
       "    <tr>\n",
       "      <th>120</th>\n",
       "      <td>6.9</td>\n",
       "      <td>3.2</td>\n",
       "      <td>5.700000</td>\n",
       "      <td>2.300000</td>\n",
       "      <td>Virginica</td>\n",
       "    </tr>\n",
       "    <tr>\n",
       "      <th>121</th>\n",
       "      <td>5.6</td>\n",
       "      <td>2.8</td>\n",
       "      <td>4.900000</td>\n",
       "      <td>2.000000</td>\n",
       "      <td>Virginica</td>\n",
       "    </tr>\n",
       "    <tr>\n",
       "      <th>122</th>\n",
       "      <td>7.7</td>\n",
       "      <td>2.8</td>\n",
       "      <td>6.700000</td>\n",
       "      <td>2.000000</td>\n",
       "      <td>Virginica</td>\n",
       "    </tr>\n",
       "    <tr>\n",
       "      <th>123</th>\n",
       "      <td>6.3</td>\n",
       "      <td>2.7</td>\n",
       "      <td>4.900000</td>\n",
       "      <td>1.800000</td>\n",
       "      <td>Virginica</td>\n",
       "    </tr>\n",
       "    <tr>\n",
       "      <th>124</th>\n",
       "      <td>6.7</td>\n",
       "      <td>3.3</td>\n",
       "      <td>5.700000</td>\n",
       "      <td>2.100000</td>\n",
       "      <td>Virginica</td>\n",
       "    </tr>\n",
       "    <tr>\n",
       "      <th>147</th>\n",
       "      <td>6.5</td>\n",
       "      <td>3.0</td>\n",
       "      <td>5.200000</td>\n",
       "      <td>1.173973</td>\n",
       "      <td>Virginica</td>\n",
       "    </tr>\n",
       "    <tr>\n",
       "      <th>148</th>\n",
       "      <td>6.2</td>\n",
       "      <td>3.4</td>\n",
       "      <td>5.400000</td>\n",
       "      <td>1.173973</td>\n",
       "      <td>Virginica</td>\n",
       "    </tr>\n",
       "    <tr>\n",
       "      <th>149</th>\n",
       "      <td>5.9</td>\n",
       "      <td>3.0</td>\n",
       "      <td>5.100000</td>\n",
       "      <td>1.800000</td>\n",
       "      <td>Virginica</td>\n",
       "    </tr>\n",
       "  </tbody>\n",
       "</table>\n",
       "</div>"
      ],
      "text/plain": [
       "     sepal.length  sepal.width  petal.length  petal.width    variety\n",
       "118           7.7          2.6      3.081171     2.300000  Virginica\n",
       "119           6.0          2.2      5.000000     1.500000  Virginica\n",
       "120           6.9          3.2      5.700000     2.300000  Virginica\n",
       "121           5.6          2.8      4.900000     2.000000  Virginica\n",
       "122           7.7          2.8      6.700000     2.000000  Virginica\n",
       "123           6.3          2.7      4.900000     1.800000  Virginica\n",
       "124           6.7          3.3      5.700000     2.100000  Virginica\n",
       "147           6.5          3.0      5.200000     1.173973  Virginica\n",
       "148           6.2          3.4      5.400000     1.173973  Virginica\n",
       "149           5.9          3.0      5.100000     1.800000  Virginica"
      ]
     },
     "execution_count": 25,
     "metadata": {},
     "output_type": "execute_result"
    }
   ],
   "source": [
    "data.dropna(inplace=True)\n",
    "data.tail(10)"
   ]
  },
  {
   "cell_type": "markdown",
   "metadata": {},
   "source": [
    "### \"Пропали\" все строки с пропусками\n",
    "\n",
    "## Заполняем смешанные пропуски\n",
    "#### ...но сначала их создадим ))"
   ]
  },
  {
   "cell_type": "code",
   "execution_count": 26,
   "metadata": {},
   "outputs": [
    {
     "data": {
      "text/html": [
       "<div>\n",
       "<style scoped>\n",
       "    .dataframe tbody tr th:only-of-type {\n",
       "        vertical-align: middle;\n",
       "    }\n",
       "\n",
       "    .dataframe tbody tr th {\n",
       "        vertical-align: top;\n",
       "    }\n",
       "\n",
       "    .dataframe thead th {\n",
       "        text-align: right;\n",
       "    }\n",
       "</style>\n",
       "<table border=\"1\" class=\"dataframe\">\n",
       "  <thead>\n",
       "    <tr style=\"text-align: right;\">\n",
       "      <th></th>\n",
       "      <th>sepal.length</th>\n",
       "      <th>sepal.width</th>\n",
       "      <th>petal.length</th>\n",
       "      <th>petal.width</th>\n",
       "      <th>variety</th>\n",
       "    </tr>\n",
       "  </thead>\n",
       "  <tbody>\n",
       "    <tr>\n",
       "      <th>0</th>\n",
       "      <td>5.1</td>\n",
       "      <td>3.5</td>\n",
       "      <td>1.871728</td>\n",
       "      <td>0.2</td>\n",
       "      <td>Setosa</td>\n",
       "    </tr>\n",
       "    <tr>\n",
       "      <th>1</th>\n",
       "      <td>4.9</td>\n",
       "      <td>3.0</td>\n",
       "      <td>6.272126</td>\n",
       "      <td>0.2</td>\n",
       "      <td>Setosa</td>\n",
       "    </tr>\n",
       "    <tr>\n",
       "      <th>2</th>\n",
       "      <td>4.7</td>\n",
       "      <td>3.2</td>\n",
       "      <td>2.870730</td>\n",
       "      <td>0.2</td>\n",
       "      <td>Setosa</td>\n",
       "    </tr>\n",
       "    <tr>\n",
       "      <th>3</th>\n",
       "      <td>4.6</td>\n",
       "      <td>3.1</td>\n",
       "      <td>1.000000</td>\n",
       "      <td>0.2</td>\n",
       "      <td>Setosa</td>\n",
       "    </tr>\n",
       "    <tr>\n",
       "      <th>4</th>\n",
       "      <td>5.0</td>\n",
       "      <td>3.6</td>\n",
       "      <td>4.947510</td>\n",
       "      <td>0.2</td>\n",
       "      <td>Setosa</td>\n",
       "    </tr>\n",
       "  </tbody>\n",
       "</table>\n",
       "</div>"
      ],
      "text/plain": [
       "   sepal.length  sepal.width  petal.length  petal.width variety\n",
       "0           5.1          3.5      1.871728          0.2  Setosa\n",
       "1           4.9          3.0      6.272126          0.2  Setosa\n",
       "2           4.7          3.2      2.870730          0.2  Setosa\n",
       "3           4.6          3.1      1.000000          0.2  Setosa\n",
       "4           5.0          3.6      4.947510          0.2  Setosa"
      ]
     },
     "metadata": {},
     "output_type": "display_data"
    },
    {
     "data": {
      "text/html": [
       "<div>\n",
       "<style scoped>\n",
       "    .dataframe tbody tr th:only-of-type {\n",
       "        vertical-align: middle;\n",
       "    }\n",
       "\n",
       "    .dataframe tbody tr th {\n",
       "        vertical-align: top;\n",
       "    }\n",
       "\n",
       "    .dataframe thead th {\n",
       "        text-align: right;\n",
       "    }\n",
       "</style>\n",
       "<table border=\"1\" class=\"dataframe\">\n",
       "  <thead>\n",
       "    <tr style=\"text-align: right;\">\n",
       "      <th></th>\n",
       "      <th>sepal.length</th>\n",
       "      <th>sepal.width</th>\n",
       "      <th>petal.length</th>\n",
       "      <th>petal.width</th>\n",
       "      <th>variety</th>\n",
       "    </tr>\n",
       "  </thead>\n",
       "  <tbody>\n",
       "    <tr>\n",
       "      <th>0</th>\n",
       "      <td>NaN</td>\n",
       "      <td>NaN</td>\n",
       "      <td>NaN</td>\n",
       "      <td>NaN</td>\n",
       "      <td>None</td>\n",
       "    </tr>\n",
       "    <tr>\n",
       "      <th>1</th>\n",
       "      <td>NaN</td>\n",
       "      <td>NaN</td>\n",
       "      <td>NaN</td>\n",
       "      <td>NaN</td>\n",
       "      <td>None</td>\n",
       "    </tr>\n",
       "    <tr>\n",
       "      <th>2</th>\n",
       "      <td>NaN</td>\n",
       "      <td>NaN</td>\n",
       "      <td>NaN</td>\n",
       "      <td>NaN</td>\n",
       "      <td>None</td>\n",
       "    </tr>\n",
       "    <tr>\n",
       "      <th>3</th>\n",
       "      <td>4.6</td>\n",
       "      <td>3.1</td>\n",
       "      <td>1.00000</td>\n",
       "      <td>0.2</td>\n",
       "      <td>Setosa</td>\n",
       "    </tr>\n",
       "    <tr>\n",
       "      <th>4</th>\n",
       "      <td>5.0</td>\n",
       "      <td>3.6</td>\n",
       "      <td>4.94751</td>\n",
       "      <td>0.2</td>\n",
       "      <td>Setosa</td>\n",
       "    </tr>\n",
       "  </tbody>\n",
       "</table>\n",
       "</div>"
      ],
      "text/plain": [
       "   sepal.length  sepal.width  petal.length  petal.width variety\n",
       "0           NaN          NaN           NaN          NaN    None\n",
       "1           NaN          NaN           NaN          NaN    None\n",
       "2           NaN          NaN           NaN          NaN    None\n",
       "3           4.6          3.1       1.00000          0.2  Setosa\n",
       "4           5.0          3.6       4.94751          0.2  Setosa"
      ]
     },
     "metadata": {},
     "output_type": "display_data"
    }
   ],
   "source": [
    "display(data.head())\n",
    "data.iloc[0:3] = None\n",
    "display(data.head())"
   ]
  },
  {
   "cell_type": "code",
   "execution_count": 27,
   "metadata": {},
   "outputs": [
    {
     "data": {
      "text/html": [
       "<div>\n",
       "<style scoped>\n",
       "    .dataframe tbody tr th:only-of-type {\n",
       "        vertical-align: middle;\n",
       "    }\n",
       "\n",
       "    .dataframe tbody tr th {\n",
       "        vertical-align: top;\n",
       "    }\n",
       "\n",
       "    .dataframe thead th {\n",
       "        text-align: right;\n",
       "    }\n",
       "</style>\n",
       "<table border=\"1\" class=\"dataframe\">\n",
       "  <thead>\n",
       "    <tr style=\"text-align: right;\">\n",
       "      <th></th>\n",
       "      <th>sepal.length</th>\n",
       "      <th>sepal.width</th>\n",
       "      <th>petal.length</th>\n",
       "      <th>petal.width</th>\n",
       "      <th>variety</th>\n",
       "    </tr>\n",
       "  </thead>\n",
       "  <tbody>\n",
       "    <tr>\n",
       "      <th>0</th>\n",
       "      <td>5.012766</td>\n",
       "      <td>3.440426</td>\n",
       "      <td>4.65850</td>\n",
       "      <td>0.3</td>\n",
       "      <td>Setosa</td>\n",
       "    </tr>\n",
       "    <tr>\n",
       "      <th>1</th>\n",
       "      <td>5.012766</td>\n",
       "      <td>3.440426</td>\n",
       "      <td>4.65850</td>\n",
       "      <td>0.3</td>\n",
       "      <td>Setosa</td>\n",
       "    </tr>\n",
       "    <tr>\n",
       "      <th>2</th>\n",
       "      <td>5.012766</td>\n",
       "      <td>3.440426</td>\n",
       "      <td>4.65850</td>\n",
       "      <td>0.3</td>\n",
       "      <td>Setosa</td>\n",
       "    </tr>\n",
       "    <tr>\n",
       "      <th>3</th>\n",
       "      <td>4.600000</td>\n",
       "      <td>3.100000</td>\n",
       "      <td>1.00000</td>\n",
       "      <td>0.2</td>\n",
       "      <td>Setosa</td>\n",
       "    </tr>\n",
       "    <tr>\n",
       "      <th>4</th>\n",
       "      <td>5.000000</td>\n",
       "      <td>3.600000</td>\n",
       "      <td>4.94751</td>\n",
       "      <td>0.2</td>\n",
       "      <td>Setosa</td>\n",
       "    </tr>\n",
       "  </tbody>\n",
       "</table>\n",
       "</div>"
      ],
      "text/plain": [
       "   sepal.length  sepal.width  petal.length  petal.width variety\n",
       "0      5.012766     3.440426       4.65850          0.3  Setosa\n",
       "1      5.012766     3.440426       4.65850          0.3  Setosa\n",
       "2      5.012766     3.440426       4.65850          0.3  Setosa\n",
       "3      4.600000     3.100000       1.00000          0.2  Setosa\n",
       "4      5.000000     3.600000       4.94751          0.2  Setosa"
      ]
     },
     "metadata": {},
     "output_type": "display_data"
    }
   ],
   "source": [
    "values = {\"sepal.length\": data[\"sepal.length\"][data[\"variety\"]==\"Setosa\"].mean(),\n",
    "          \"sepal.width\": data[\"sepal.width\"][data[\"variety\"]==\"Setosa\"].mean(), \n",
    "          \"petal.length\": data[\"petal.length\"][data[\"variety\"]==\"Setosa\"].median(), \n",
    "          \"petal.width\": data[\"petal.width\"][data[\"variety\"]==\"Setosa\"].median(),\n",
    "          \"variety\": \"Setosa\"}\n",
    "data.fillna(value=values, inplace=True)\n",
    "display(data.head())"
   ]
  },
  {
   "cell_type": "markdown",
   "metadata": {},
   "source": [
    "## Extra case. Infinity"
   ]
  },
  {
   "cell_type": "code",
   "execution_count": 28,
   "metadata": {},
   "outputs": [
    {
     "data": {
      "text/html": [
       "<div>\n",
       "<style scoped>\n",
       "    .dataframe tbody tr th:only-of-type {\n",
       "        vertical-align: middle;\n",
       "    }\n",
       "\n",
       "    .dataframe tbody tr th {\n",
       "        vertical-align: top;\n",
       "    }\n",
       "\n",
       "    .dataframe thead th {\n",
       "        text-align: right;\n",
       "    }\n",
       "</style>\n",
       "<table border=\"1\" class=\"dataframe\">\n",
       "  <thead>\n",
       "    <tr style=\"text-align: right;\">\n",
       "      <th></th>\n",
       "      <th>sepal.length</th>\n",
       "      <th>sepal.width</th>\n",
       "      <th>petal.length</th>\n",
       "      <th>petal.width</th>\n",
       "      <th>variety</th>\n",
       "    </tr>\n",
       "  </thead>\n",
       "  <tbody>\n",
       "    <tr>\n",
       "      <th>15</th>\n",
       "      <td>5.7</td>\n",
       "      <td>4.4</td>\n",
       "      <td>2.585075</td>\n",
       "      <td>inf</td>\n",
       "      <td>Setosa</td>\n",
       "    </tr>\n",
       "    <tr>\n",
       "      <th>16</th>\n",
       "      <td>5.4</td>\n",
       "      <td>3.9</td>\n",
       "      <td>2.992773</td>\n",
       "      <td>-inf</td>\n",
       "      <td>Setosa</td>\n",
       "    </tr>\n",
       "    <tr>\n",
       "      <th>17</th>\n",
       "      <td>5.1</td>\n",
       "      <td>3.5</td>\n",
       "      <td>3.196698</td>\n",
       "      <td>inf</td>\n",
       "      <td>Setosa</td>\n",
       "    </tr>\n",
       "    <tr>\n",
       "      <th>18</th>\n",
       "      <td>5.7</td>\n",
       "      <td>3.8</td>\n",
       "      <td>2.824056</td>\n",
       "      <td>-inf</td>\n",
       "      <td>Setosa</td>\n",
       "    </tr>\n",
       "  </tbody>\n",
       "</table>\n",
       "</div>"
      ],
      "text/plain": [
       "    sepal.length  sepal.width  petal.length  petal.width variety\n",
       "15           5.7          4.4      2.585075          inf  Setosa\n",
       "16           5.4          3.9      2.992773         -inf  Setosa\n",
       "17           5.1          3.5      3.196698          inf  Setosa\n",
       "18           5.7          3.8      2.824056         -inf  Setosa"
      ]
     },
     "execution_count": 28,
     "metadata": {},
     "output_type": "execute_result"
    }
   ],
   "source": [
    "data[\"petal.width\"].iloc[15:19] = np.array((np.inf, -np.inf, np.inf, np.log(0)))\n",
    "data.iloc[15:19]"
   ]
  },
  {
   "cell_type": "markdown",
   "metadata": {},
   "source": [
    "### Гистограмма не строится при наличии inf"
   ]
  },
  {
   "cell_type": "code",
   "execution_count": 29,
   "metadata": {},
   "outputs": [
    {
     "data": {
      "text/plain": [
       "count    128.000\n",
       "mean         NaN\n",
       "std          NaN\n",
       "min         -inf\n",
       "25%        0.575\n",
       "50%        1.300\n",
       "75%        1.725\n",
       "max          inf\n",
       "Name: petal.width, dtype: float64"
      ]
     },
     "execution_count": 29,
     "metadata": {},
     "output_type": "execute_result"
    }
   ],
   "source": [
    "data[\"petal.width\"].describe()"
   ]
  },
  {
   "cell_type": "code",
   "execution_count": 30,
   "metadata": {},
   "outputs": [
    {
     "ename": "ValueError",
     "evalue": "autodetected range of [-inf, inf] is not finite",
     "output_type": "error",
     "traceback": [
      "\u001b[0;31m---------------------------------------------------------------------------\u001b[0m",
      "\u001b[0;31mValueError\u001b[0m                                Traceback (most recent call last)",
      "Input \u001b[0;32mIn [30]\u001b[0m, in \u001b[0;36m<cell line: 1>\u001b[0;34m()\u001b[0m\n\u001b[0;32m----> 1\u001b[0m \u001b[43mdata\u001b[49m\u001b[43m[\u001b[49m\u001b[38;5;124;43m\"\u001b[39;49m\u001b[38;5;124;43mpetal.width\u001b[39;49m\u001b[38;5;124;43m\"\u001b[39;49m\u001b[43m]\u001b[49m\u001b[38;5;241;43m.\u001b[39;49m\u001b[43mplot\u001b[49m\u001b[38;5;241;43m.\u001b[39;49m\u001b[43mhist\u001b[49m\u001b[43m(\u001b[49m\u001b[43m \u001b[49m\u001b[43mfigsize\u001b[49m\u001b[38;5;241;43m=\u001b[39;49m\u001b[43m(\u001b[49m\u001b[38;5;241;43m10\u001b[39;49m\u001b[43m,\u001b[49m\u001b[38;5;241;43m5\u001b[39;49m\u001b[43m)\u001b[49m\u001b[43m,\u001b[49m\u001b[43m \u001b[49m\n\u001b[1;32m      2\u001b[0m \u001b[43m                \u001b[49m\u001b[43mcolor\u001b[49m\u001b[38;5;241;43m=\u001b[39;49m\u001b[38;5;124;43m'\u001b[39;49m\u001b[38;5;124;43m#21BA72\u001b[39;49m\u001b[38;5;124;43m'\u001b[39;49m\u001b[43m,\u001b[49m\u001b[43m \u001b[49m\u001b[43malpha\u001b[49m\u001b[38;5;241;43m=\u001b[39;49m\u001b[38;5;241;43m0.5\u001b[39;49m\u001b[43m,\u001b[49m\u001b[43m \u001b[49m\u001b[43mbins\u001b[49m\u001b[38;5;241;43m=\u001b[39;49m\u001b[38;5;241;43m20\u001b[39;49m\u001b[43m \u001b[49m\u001b[43m)\u001b[49m\n",
      "File \u001b[0;32m~/opt/anaconda3/lib/python3.9/site-packages/pandas/plotting/_core.py:1346\u001b[0m, in \u001b[0;36mPlotAccessor.hist\u001b[0;34m(self, by, bins, **kwargs)\u001b[0m\n\u001b[1;32m   1286\u001b[0m \u001b[38;5;28;01mdef\u001b[39;00m \u001b[38;5;21mhist\u001b[39m(\u001b[38;5;28mself\u001b[39m, by\u001b[38;5;241m=\u001b[39m\u001b[38;5;28;01mNone\u001b[39;00m, bins\u001b[38;5;241m=\u001b[39m\u001b[38;5;241m10\u001b[39m, \u001b[38;5;241m*\u001b[39m\u001b[38;5;241m*\u001b[39mkwargs):\n\u001b[1;32m   1287\u001b[0m     \u001b[38;5;124;03m\"\"\"\u001b[39;00m\n\u001b[1;32m   1288\u001b[0m \u001b[38;5;124;03m    Draw one histogram of the DataFrame's columns.\u001b[39;00m\n\u001b[1;32m   1289\u001b[0m \n\u001b[0;32m   (...)\u001b[0m\n\u001b[1;32m   1344\u001b[0m \u001b[38;5;124;03m        >>> ax = df.plot.hist(column=[\"age\"], by=\"gender\", figsize=(10, 8))\u001b[39;00m\n\u001b[1;32m   1345\u001b[0m \u001b[38;5;124;03m    \"\"\"\u001b[39;00m\n\u001b[0;32m-> 1346\u001b[0m     \u001b[38;5;28;01mreturn\u001b[39;00m \u001b[38;5;28;43mself\u001b[39;49m\u001b[43m(\u001b[49m\u001b[43mkind\u001b[49m\u001b[38;5;241;43m=\u001b[39;49m\u001b[38;5;124;43m\"\u001b[39;49m\u001b[38;5;124;43mhist\u001b[39;49m\u001b[38;5;124;43m\"\u001b[39;49m\u001b[43m,\u001b[49m\u001b[43m \u001b[49m\u001b[43mby\u001b[49m\u001b[38;5;241;43m=\u001b[39;49m\u001b[43mby\u001b[49m\u001b[43m,\u001b[49m\u001b[43m \u001b[49m\u001b[43mbins\u001b[49m\u001b[38;5;241;43m=\u001b[39;49m\u001b[43mbins\u001b[49m\u001b[43m,\u001b[49m\u001b[43m \u001b[49m\u001b[38;5;241;43m*\u001b[39;49m\u001b[38;5;241;43m*\u001b[39;49m\u001b[43mkwargs\u001b[49m\u001b[43m)\u001b[49m\n",
      "File \u001b[0;32m~/opt/anaconda3/lib/python3.9/site-packages/pandas/plotting/_core.py:972\u001b[0m, in \u001b[0;36mPlotAccessor.__call__\u001b[0;34m(self, *args, **kwargs)\u001b[0m\n\u001b[1;32m    969\u001b[0m             label_name \u001b[38;5;241m=\u001b[39m label_kw \u001b[38;5;129;01mor\u001b[39;00m data\u001b[38;5;241m.\u001b[39mcolumns\n\u001b[1;32m    970\u001b[0m             data\u001b[38;5;241m.\u001b[39mcolumns \u001b[38;5;241m=\u001b[39m label_name\n\u001b[0;32m--> 972\u001b[0m \u001b[38;5;28;01mreturn\u001b[39;00m \u001b[43mplot_backend\u001b[49m\u001b[38;5;241;43m.\u001b[39;49m\u001b[43mplot\u001b[49m\u001b[43m(\u001b[49m\u001b[43mdata\u001b[49m\u001b[43m,\u001b[49m\u001b[43m \u001b[49m\u001b[43mkind\u001b[49m\u001b[38;5;241;43m=\u001b[39;49m\u001b[43mkind\u001b[49m\u001b[43m,\u001b[49m\u001b[43m \u001b[49m\u001b[38;5;241;43m*\u001b[39;49m\u001b[38;5;241;43m*\u001b[39;49m\u001b[43mkwargs\u001b[49m\u001b[43m)\u001b[49m\n",
      "File \u001b[0;32m~/opt/anaconda3/lib/python3.9/site-packages/pandas/plotting/_matplotlib/__init__.py:71\u001b[0m, in \u001b[0;36mplot\u001b[0;34m(data, kind, **kwargs)\u001b[0m\n\u001b[1;32m     69\u001b[0m         kwargs[\u001b[38;5;124m\"\u001b[39m\u001b[38;5;124max\u001b[39m\u001b[38;5;124m\"\u001b[39m] \u001b[38;5;241m=\u001b[39m \u001b[38;5;28mgetattr\u001b[39m(ax, \u001b[38;5;124m\"\u001b[39m\u001b[38;5;124mleft_ax\u001b[39m\u001b[38;5;124m\"\u001b[39m, ax)\n\u001b[1;32m     70\u001b[0m plot_obj \u001b[38;5;241m=\u001b[39m PLOT_CLASSES[kind](data, \u001b[38;5;241m*\u001b[39m\u001b[38;5;241m*\u001b[39mkwargs)\n\u001b[0;32m---> 71\u001b[0m \u001b[43mplot_obj\u001b[49m\u001b[38;5;241;43m.\u001b[39;49m\u001b[43mgenerate\u001b[49m\u001b[43m(\u001b[49m\u001b[43m)\u001b[49m\n\u001b[1;32m     72\u001b[0m plot_obj\u001b[38;5;241m.\u001b[39mdraw()\n\u001b[1;32m     73\u001b[0m \u001b[38;5;28;01mreturn\u001b[39;00m plot_obj\u001b[38;5;241m.\u001b[39mresult\n",
      "File \u001b[0;32m~/opt/anaconda3/lib/python3.9/site-packages/pandas/plotting/_matplotlib/core.py:326\u001b[0m, in \u001b[0;36mMPLPlot.generate\u001b[0;34m(self)\u001b[0m\n\u001b[1;32m    325\u001b[0m \u001b[38;5;28;01mdef\u001b[39;00m \u001b[38;5;21mgenerate\u001b[39m(\u001b[38;5;28mself\u001b[39m):\n\u001b[0;32m--> 326\u001b[0m     \u001b[38;5;28;43mself\u001b[39;49m\u001b[38;5;241;43m.\u001b[39;49m\u001b[43m_args_adjust\u001b[49m\u001b[43m(\u001b[49m\u001b[43m)\u001b[49m\n\u001b[1;32m    327\u001b[0m     \u001b[38;5;28mself\u001b[39m\u001b[38;5;241m.\u001b[39m_compute_plot_data()\n\u001b[1;32m    328\u001b[0m     \u001b[38;5;28mself\u001b[39m\u001b[38;5;241m.\u001b[39m_setup_subplots()\n",
      "File \u001b[0;32m~/opt/anaconda3/lib/python3.9/site-packages/pandas/plotting/_matplotlib/hist.py:60\u001b[0m, in \u001b[0;36mHistPlot._args_adjust\u001b[0;34m(self)\u001b[0m\n\u001b[1;32m     58\u001b[0m         \u001b[38;5;28mself\u001b[39m\u001b[38;5;241m.\u001b[39mbins \u001b[38;5;241m=\u001b[39m [\u001b[38;5;28mself\u001b[39m\u001b[38;5;241m.\u001b[39m_calculate_bins(group) \u001b[38;5;28;01mfor\u001b[39;00m key, group \u001b[38;5;129;01min\u001b[39;00m grouped]\n\u001b[1;32m     59\u001b[0m     \u001b[38;5;28;01melse\u001b[39;00m:\n\u001b[0;32m---> 60\u001b[0m         \u001b[38;5;28mself\u001b[39m\u001b[38;5;241m.\u001b[39mbins \u001b[38;5;241m=\u001b[39m \u001b[38;5;28;43mself\u001b[39;49m\u001b[38;5;241;43m.\u001b[39;49m\u001b[43m_calculate_bins\u001b[49m\u001b[43m(\u001b[49m\u001b[38;5;28;43mself\u001b[39;49m\u001b[38;5;241;43m.\u001b[39;49m\u001b[43mdata\u001b[49m\u001b[43m)\u001b[49m\n\u001b[1;32m     62\u001b[0m \u001b[38;5;28;01mif\u001b[39;00m is_list_like(\u001b[38;5;28mself\u001b[39m\u001b[38;5;241m.\u001b[39mbottom):\n\u001b[1;32m     63\u001b[0m     \u001b[38;5;28mself\u001b[39m\u001b[38;5;241m.\u001b[39mbottom \u001b[38;5;241m=\u001b[39m np\u001b[38;5;241m.\u001b[39marray(\u001b[38;5;28mself\u001b[39m\u001b[38;5;241m.\u001b[39mbottom)\n",
      "File \u001b[0;32m~/opt/anaconda3/lib/python3.9/site-packages/pandas/plotting/_matplotlib/hist.py:71\u001b[0m, in \u001b[0;36mHistPlot._calculate_bins\u001b[0;34m(self, data)\u001b[0m\n\u001b[1;32m     68\u001b[0m values \u001b[38;5;241m=\u001b[39m np\u001b[38;5;241m.\u001b[39mravel(values)\n\u001b[1;32m     69\u001b[0m values \u001b[38;5;241m=\u001b[39m values[\u001b[38;5;241m~\u001b[39misna(values)]\n\u001b[0;32m---> 71\u001b[0m hist, bins \u001b[38;5;241m=\u001b[39m \u001b[43mnp\u001b[49m\u001b[38;5;241;43m.\u001b[39;49m\u001b[43mhistogram\u001b[49m\u001b[43m(\u001b[49m\n\u001b[1;32m     72\u001b[0m \u001b[43m    \u001b[49m\u001b[43mvalues\u001b[49m\u001b[43m,\u001b[49m\u001b[43m \u001b[49m\u001b[43mbins\u001b[49m\u001b[38;5;241;43m=\u001b[39;49m\u001b[38;5;28;43mself\u001b[39;49m\u001b[38;5;241;43m.\u001b[39;49m\u001b[43mbins\u001b[49m\u001b[43m,\u001b[49m\u001b[43m \u001b[49m\u001b[38;5;28;43mrange\u001b[39;49m\u001b[38;5;241;43m=\u001b[39;49m\u001b[38;5;28;43mself\u001b[39;49m\u001b[38;5;241;43m.\u001b[39;49m\u001b[43mkwds\u001b[49m\u001b[38;5;241;43m.\u001b[39;49m\u001b[43mget\u001b[49m\u001b[43m(\u001b[49m\u001b[38;5;124;43m\"\u001b[39;49m\u001b[38;5;124;43mrange\u001b[39;49m\u001b[38;5;124;43m\"\u001b[39;49m\u001b[43m,\u001b[49m\u001b[43m \u001b[49m\u001b[38;5;28;43;01mNone\u001b[39;49;00m\u001b[43m)\u001b[49m\n\u001b[1;32m     73\u001b[0m \u001b[43m\u001b[49m\u001b[43m)\u001b[49m\n\u001b[1;32m     74\u001b[0m \u001b[38;5;28;01mreturn\u001b[39;00m bins\n",
      "File \u001b[0;32m<__array_function__ internals>:5\u001b[0m, in \u001b[0;36mhistogram\u001b[0;34m(*args, **kwargs)\u001b[0m\n",
      "File \u001b[0;32m~/opt/anaconda3/lib/python3.9/site-packages/numpy/lib/histograms.py:793\u001b[0m, in \u001b[0;36mhistogram\u001b[0;34m(a, bins, range, normed, weights, density)\u001b[0m\n\u001b[1;32m    681\u001b[0m \u001b[38;5;124mr\u001b[39m\u001b[38;5;124;03m\"\"\"\u001b[39;00m\n\u001b[1;32m    682\u001b[0m \u001b[38;5;124;03mCompute the histogram of a dataset.\u001b[39;00m\n\u001b[1;32m    683\u001b[0m \n\u001b[0;32m   (...)\u001b[0m\n\u001b[1;32m    789\u001b[0m \n\u001b[1;32m    790\u001b[0m \u001b[38;5;124;03m\"\"\"\u001b[39;00m\n\u001b[1;32m    791\u001b[0m a, weights \u001b[38;5;241m=\u001b[39m _ravel_and_check_weights(a, weights)\n\u001b[0;32m--> 793\u001b[0m bin_edges, uniform_bins \u001b[38;5;241m=\u001b[39m \u001b[43m_get_bin_edges\u001b[49m\u001b[43m(\u001b[49m\u001b[43ma\u001b[49m\u001b[43m,\u001b[49m\u001b[43m \u001b[49m\u001b[43mbins\u001b[49m\u001b[43m,\u001b[49m\u001b[43m \u001b[49m\u001b[38;5;28;43mrange\u001b[39;49m\u001b[43m,\u001b[49m\u001b[43m \u001b[49m\u001b[43mweights\u001b[49m\u001b[43m)\u001b[49m\n\u001b[1;32m    795\u001b[0m \u001b[38;5;66;03m# Histogram is an integer or a float array depending on the weights.\u001b[39;00m\n\u001b[1;32m    796\u001b[0m \u001b[38;5;28;01mif\u001b[39;00m weights \u001b[38;5;129;01mis\u001b[39;00m \u001b[38;5;28;01mNone\u001b[39;00m:\n",
      "File \u001b[0;32m~/opt/anaconda3/lib/python3.9/site-packages/numpy/lib/histograms.py:426\u001b[0m, in \u001b[0;36m_get_bin_edges\u001b[0;34m(a, bins, range, weights)\u001b[0m\n\u001b[1;32m    423\u001b[0m     \u001b[38;5;28;01mif\u001b[39;00m n_equal_bins \u001b[38;5;241m<\u001b[39m \u001b[38;5;241m1\u001b[39m:\n\u001b[1;32m    424\u001b[0m         \u001b[38;5;28;01mraise\u001b[39;00m \u001b[38;5;167;01mValueError\u001b[39;00m(\u001b[38;5;124m'\u001b[39m\u001b[38;5;124m`bins` must be positive, when an integer\u001b[39m\u001b[38;5;124m'\u001b[39m)\n\u001b[0;32m--> 426\u001b[0m     first_edge, last_edge \u001b[38;5;241m=\u001b[39m \u001b[43m_get_outer_edges\u001b[49m\u001b[43m(\u001b[49m\u001b[43ma\u001b[49m\u001b[43m,\u001b[49m\u001b[43m \u001b[49m\u001b[38;5;28;43mrange\u001b[39;49m\u001b[43m)\u001b[49m\n\u001b[1;32m    428\u001b[0m \u001b[38;5;28;01melif\u001b[39;00m np\u001b[38;5;241m.\u001b[39mndim(bins) \u001b[38;5;241m==\u001b[39m \u001b[38;5;241m1\u001b[39m:\n\u001b[1;32m    429\u001b[0m     bin_edges \u001b[38;5;241m=\u001b[39m np\u001b[38;5;241m.\u001b[39masarray(bins)\n",
      "File \u001b[0;32m~/opt/anaconda3/lib/python3.9/site-packages/numpy/lib/histograms.py:323\u001b[0m, in \u001b[0;36m_get_outer_edges\u001b[0;34m(a, range)\u001b[0m\n\u001b[1;32m    321\u001b[0m     first_edge, last_edge \u001b[38;5;241m=\u001b[39m a\u001b[38;5;241m.\u001b[39mmin(), a\u001b[38;5;241m.\u001b[39mmax()\n\u001b[1;32m    322\u001b[0m     \u001b[38;5;28;01mif\u001b[39;00m \u001b[38;5;129;01mnot\u001b[39;00m (np\u001b[38;5;241m.\u001b[39misfinite(first_edge) \u001b[38;5;129;01mand\u001b[39;00m np\u001b[38;5;241m.\u001b[39misfinite(last_edge)):\n\u001b[0;32m--> 323\u001b[0m         \u001b[38;5;28;01mraise\u001b[39;00m \u001b[38;5;167;01mValueError\u001b[39;00m(\n\u001b[1;32m    324\u001b[0m             \u001b[38;5;124m\"\u001b[39m\u001b[38;5;124mautodetected range of [\u001b[39m\u001b[38;5;132;01m{}\u001b[39;00m\u001b[38;5;124m, \u001b[39m\u001b[38;5;132;01m{}\u001b[39;00m\u001b[38;5;124m] is not finite\u001b[39m\u001b[38;5;124m\"\u001b[39m\u001b[38;5;241m.\u001b[39mformat(first_edge, last_edge))\n\u001b[1;32m    326\u001b[0m \u001b[38;5;66;03m# expand empty range to avoid divide by zero\u001b[39;00m\n\u001b[1;32m    327\u001b[0m \u001b[38;5;28;01mif\u001b[39;00m first_edge \u001b[38;5;241m==\u001b[39m last_edge:\n",
      "\u001b[0;31mValueError\u001b[0m: autodetected range of [-inf, inf] is not finite"
     ]
    }
   ],
   "source": [
    "data[\"petal.width\"].plot.hist( figsize=(10,5), \n",
    "                color='#21BA72', alpha=0.5, bins=20 );\n",
    "# Ой! Что-то пойшло не так!"
   ]
  },
  {
   "cell_type": "markdown",
   "metadata": {},
   "source": [
    "## Заменяем inf и -inf на NaN"
   ]
  },
  {
   "cell_type": "code",
   "execution_count": 31,
   "metadata": {},
   "outputs": [
    {
     "data": {
      "text/html": [
       "<div>\n",
       "<style scoped>\n",
       "    .dataframe tbody tr th:only-of-type {\n",
       "        vertical-align: middle;\n",
       "    }\n",
       "\n",
       "    .dataframe tbody tr th {\n",
       "        vertical-align: top;\n",
       "    }\n",
       "\n",
       "    .dataframe thead th {\n",
       "        text-align: right;\n",
       "    }\n",
       "</style>\n",
       "<table border=\"1\" class=\"dataframe\">\n",
       "  <thead>\n",
       "    <tr style=\"text-align: right;\">\n",
       "      <th></th>\n",
       "      <th>sepal.length</th>\n",
       "      <th>sepal.width</th>\n",
       "      <th>petal.length</th>\n",
       "      <th>petal.width</th>\n",
       "      <th>variety</th>\n",
       "    </tr>\n",
       "  </thead>\n",
       "  <tbody>\n",
       "    <tr>\n",
       "      <th>14</th>\n",
       "      <td>5.8</td>\n",
       "      <td>4.0</td>\n",
       "      <td>6.900000</td>\n",
       "      <td>0.2</td>\n",
       "      <td>Setosa</td>\n",
       "    </tr>\n",
       "    <tr>\n",
       "      <th>15</th>\n",
       "      <td>5.7</td>\n",
       "      <td>4.4</td>\n",
       "      <td>2.585075</td>\n",
       "      <td>NaN</td>\n",
       "      <td>Setosa</td>\n",
       "    </tr>\n",
       "    <tr>\n",
       "      <th>16</th>\n",
       "      <td>5.4</td>\n",
       "      <td>3.9</td>\n",
       "      <td>2.992773</td>\n",
       "      <td>NaN</td>\n",
       "      <td>Setosa</td>\n",
       "    </tr>\n",
       "    <tr>\n",
       "      <th>17</th>\n",
       "      <td>5.1</td>\n",
       "      <td>3.5</td>\n",
       "      <td>3.196698</td>\n",
       "      <td>NaN</td>\n",
       "      <td>Setosa</td>\n",
       "    </tr>\n",
       "    <tr>\n",
       "      <th>18</th>\n",
       "      <td>5.7</td>\n",
       "      <td>3.8</td>\n",
       "      <td>2.824056</td>\n",
       "      <td>NaN</td>\n",
       "      <td>Setosa</td>\n",
       "    </tr>\n",
       "    <tr>\n",
       "      <th>19</th>\n",
       "      <td>5.1</td>\n",
       "      <td>3.8</td>\n",
       "      <td>4.994304</td>\n",
       "      <td>0.3</td>\n",
       "      <td>Setosa</td>\n",
       "    </tr>\n",
       "  </tbody>\n",
       "</table>\n",
       "</div>"
      ],
      "text/plain": [
       "    sepal.length  sepal.width  petal.length  petal.width variety\n",
       "14           5.8          4.0      6.900000          0.2  Setosa\n",
       "15           5.7          4.4      2.585075          NaN  Setosa\n",
       "16           5.4          3.9      2.992773          NaN  Setosa\n",
       "17           5.1          3.5      3.196698          NaN  Setosa\n",
       "18           5.7          3.8      2.824056          NaN  Setosa\n",
       "19           5.1          3.8      4.994304          0.3  Setosa"
      ]
     },
     "execution_count": 31,
     "metadata": {},
     "output_type": "execute_result"
    }
   ],
   "source": [
    "data.replace([np.inf, -np.inf], np.nan, inplace=True)\n",
    "data.iloc[14:20]"
   ]
  },
  {
   "cell_type": "markdown",
   "metadata": {},
   "source": [
    "### а дальше дело техники..."
   ]
  },
  {
   "cell_type": "markdown",
   "metadata": {},
   "source": [
    "# Устранение пропусков в линиях/рядах"
   ]
  },
  {
   "cell_type": "code",
   "execution_count": 32,
   "metadata": {},
   "outputs": [
    {
     "data": {
      "image/png": "[encoded data removed]",
      "text/plain": [
       "<Figure size 720x360 with 1 Axes>"
      ]
     },
     "metadata": {
      "needs_background": "light"
     },
     "output_type": "display_data"
    },
    {
     "data": {
      "image/png": "[encoded data removed]",
      "text/plain": [
       "<Figure size 720x360 with 1 Axes>"
      ]
     },
     "metadata": {
      "needs_background": "light"
     },
     "output_type": "display_data"
    }
   ],
   "source": [
    "sbercolors = ['#21A038','#0087CD','#00D900', '#FAED00',  '#42E3B4','#21BA72'] \n",
    "image_params = dict(figsize=(10,5), \n",
    "                color=sbercolors)\n",
    "samples = np.random.randn(1000, 5)\n",
    "\n",
    "df = pd.DataFrame(samples, \n",
    "                   index=pd.date_range(\"1/1/2015\", periods=1000),\n",
    "                   columns=list(\"ABCDE\"))\n",
    "df = df.cumsum()\n",
    "df.plot(**image_params);    \n",
    "before = df.iloc[400:420].copy()        \n",
    "df.iloc[390:450] = None\n",
    "\n",
    "df.plot(**image_params);\n",
    "  "
   ]
  },
  {
   "cell_type": "code",
   "execution_count": 33,
   "metadata": {},
   "outputs": [
    {
     "data": {
      "image/png": "[encoded data removed]",
      "text/plain": [
       "<Figure size 720x360 with 1 Axes>"
      ]
     },
     "metadata": {
      "needs_background": "light"
     },
     "output_type": "display_data"
    }
   ],
   "source": [
    "to_fill = {\"A\": df[\"A\"].interpolate(method='linear'),\n",
    "           \"B\": df[\"B\"].interpolate(method='time'),\n",
    "           \"C\": df[\"C\"].interpolate(method='pad'),\n",
    "           \"D\": df[\"D\"].interpolate(method='nearest'),\n",
    "           \"E\": df[\"E\"].interpolate(method='akima'),}\n",
    "df.fillna(value=to_fill, inplace=True)\n",
    "df.plot(**image_params);\n"
   ]
  },
  {
   "cell_type": "code",
   "execution_count": 34,
   "metadata": {},
   "outputs": [
    {
     "data": {
      "text/html": [
       "<div>\n",
       "<style scoped>\n",
       "    .dataframe tbody tr th:only-of-type {\n",
       "        vertical-align: middle;\n",
       "    }\n",
       "\n",
       "    .dataframe tbody tr th {\n",
       "        vertical-align: top;\n",
       "    }\n",
       "\n",
       "    .dataframe thead tr th {\n",
       "        text-align: left;\n",
       "    }\n",
       "</style>\n",
       "<table border=\"1\" class=\"dataframe\">\n",
       "  <thead>\n",
       "    <tr>\n",
       "      <th>subject</th>\n",
       "      <th colspan=\"5\" halign=\"left\">Before</th>\n",
       "      <th colspan=\"5\" halign=\"left\">Recycled</th>\n",
       "    </tr>\n",
       "    <tr>\n",
       "      <th>type</th>\n",
       "      <th>A</th>\n",
       "      <th>B</th>\n",
       "      <th>C</th>\n",
       "      <th>D</th>\n",
       "      <th>E</th>\n",
       "      <th>A</th>\n",
       "      <th>B</th>\n",
       "      <th>C</th>\n",
       "      <th>D</th>\n",
       "      <th>E</th>\n",
       "    </tr>\n",
       "  </thead>\n",
       "  <tbody>\n",
       "    <tr>\n",
       "      <th>2016-02-05</th>\n",
       "      <td>17.105977</td>\n",
       "      <td>32.010580</td>\n",
       "      <td>-26.804569</td>\n",
       "      <td>-7.735545</td>\n",
       "      <td>5.453295</td>\n",
       "      <td>18.184046</td>\n",
       "      <td>31.307813</td>\n",
       "      <td>-22.518197</td>\n",
       "      <td>-7.327716</td>\n",
       "      <td>7.548242</td>\n",
       "    </tr>\n",
       "    <tr>\n",
       "      <th>2016-02-06</th>\n",
       "      <td>15.453139</td>\n",
       "      <td>32.716246</td>\n",
       "      <td>-27.375467</td>\n",
       "      <td>-6.505845</td>\n",
       "      <td>4.198479</td>\n",
       "      <td>18.141666</td>\n",
       "      <td>31.191943</td>\n",
       "      <td>-22.518197</td>\n",
       "      <td>-7.327716</td>\n",
       "      <td>7.716812</td>\n",
       "    </tr>\n",
       "    <tr>\n",
       "      <th>2016-02-07</th>\n",
       "      <td>14.081562</td>\n",
       "      <td>31.684979</td>\n",
       "      <td>-27.350703</td>\n",
       "      <td>-5.984098</td>\n",
       "      <td>3.344913</td>\n",
       "      <td>18.099286</td>\n",
       "      <td>31.076072</td>\n",
       "      <td>-22.518197</td>\n",
       "      <td>-7.327716</td>\n",
       "      <td>7.883478</td>\n",
       "    </tr>\n",
       "    <tr>\n",
       "      <th>2016-02-08</th>\n",
       "      <td>12.350574</td>\n",
       "      <td>30.554951</td>\n",
       "      <td>-26.860155</td>\n",
       "      <td>-6.704818</td>\n",
       "      <td>2.371942</td>\n",
       "      <td>18.056907</td>\n",
       "      <td>30.960202</td>\n",
       "      <td>-22.518197</td>\n",
       "      <td>-7.327716</td>\n",
       "      <td>8.048348</td>\n",
       "    </tr>\n",
       "    <tr>\n",
       "      <th>2016-02-09</th>\n",
       "      <td>12.365011</td>\n",
       "      <td>29.509069</td>\n",
       "      <td>-28.365860</td>\n",
       "      <td>-5.904961</td>\n",
       "      <td>2.124525</td>\n",
       "      <td>18.014527</td>\n",
       "      <td>30.844332</td>\n",
       "      <td>-22.518197</td>\n",
       "      <td>-7.327716</td>\n",
       "      <td>8.211525</td>\n",
       "    </tr>\n",
       "    <tr>\n",
       "      <th>2016-02-10</th>\n",
       "      <td>12.355101</td>\n",
       "      <td>29.404460</td>\n",
       "      <td>-28.666476</td>\n",
       "      <td>-6.407138</td>\n",
       "      <td>2.309518</td>\n",
       "      <td>17.972147</td>\n",
       "      <td>30.728462</td>\n",
       "      <td>-22.518197</td>\n",
       "      <td>-7.327716</td>\n",
       "      <td>8.373115</td>\n",
       "    </tr>\n",
       "    <tr>\n",
       "      <th>2016-02-11</th>\n",
       "      <td>12.726120</td>\n",
       "      <td>29.971671</td>\n",
       "      <td>-29.218129</td>\n",
       "      <td>-6.681768</td>\n",
       "      <td>1.143903</td>\n",
       "      <td>17.929768</td>\n",
       "      <td>30.612592</td>\n",
       "      <td>-22.518197</td>\n",
       "      <td>-7.327716</td>\n",
       "      <td>8.533224</td>\n",
       "    </tr>\n",
       "    <tr>\n",
       "      <th>2016-02-12</th>\n",
       "      <td>12.492835</td>\n",
       "      <td>30.461473</td>\n",
       "      <td>-27.898503</td>\n",
       "      <td>-6.329226</td>\n",
       "      <td>2.942598</td>\n",
       "      <td>17.887388</td>\n",
       "      <td>30.496721</td>\n",
       "      <td>-22.518197</td>\n",
       "      <td>-7.327716</td>\n",
       "      <td>8.691956</td>\n",
       "    </tr>\n",
       "    <tr>\n",
       "      <th>2016-02-13</th>\n",
       "      <td>11.665553</td>\n",
       "      <td>30.593479</td>\n",
       "      <td>-28.190413</td>\n",
       "      <td>-6.628508</td>\n",
       "      <td>3.783371</td>\n",
       "      <td>17.845008</td>\n",
       "      <td>30.380851</td>\n",
       "      <td>-22.518197</td>\n",
       "      <td>-7.327716</td>\n",
       "      <td>8.849418</td>\n",
       "    </tr>\n",
       "    <tr>\n",
       "      <th>2016-02-14</th>\n",
       "      <td>9.931811</td>\n",
       "      <td>29.784172</td>\n",
       "      <td>-30.479837</td>\n",
       "      <td>-6.094357</td>\n",
       "      <td>5.247566</td>\n",
       "      <td>17.802629</td>\n",
       "      <td>30.264981</td>\n",
       "      <td>-22.518197</td>\n",
       "      <td>-7.327716</td>\n",
       "      <td>9.005714</td>\n",
       "    </tr>\n",
       "    <tr>\n",
       "      <th>2016-02-15</th>\n",
       "      <td>10.473589</td>\n",
       "      <td>31.262473</td>\n",
       "      <td>-31.917403</td>\n",
       "      <td>-6.031808</td>\n",
       "      <td>5.969272</td>\n",
       "      <td>17.760249</td>\n",
       "      <td>30.149111</td>\n",
       "      <td>-22.518197</td>\n",
       "      <td>-7.327716</td>\n",
       "      <td>9.160951</td>\n",
       "    </tr>\n",
       "    <tr>\n",
       "      <th>2016-02-16</th>\n",
       "      <td>10.801221</td>\n",
       "      <td>30.904545</td>\n",
       "      <td>-32.870063</td>\n",
       "      <td>-6.889739</td>\n",
       "      <td>5.235813</td>\n",
       "      <td>17.717869</td>\n",
       "      <td>30.033241</td>\n",
       "      <td>-22.518197</td>\n",
       "      <td>-7.327716</td>\n",
       "      <td>9.315232</td>\n",
       "    </tr>\n",
       "    <tr>\n",
       "      <th>2016-02-17</th>\n",
       "      <td>9.829133</td>\n",
       "      <td>30.818530</td>\n",
       "      <td>-32.804295</td>\n",
       "      <td>-6.949351</td>\n",
       "      <td>7.454890</td>\n",
       "      <td>17.675490</td>\n",
       "      <td>29.917370</td>\n",
       "      <td>-22.518197</td>\n",
       "      <td>-7.327716</td>\n",
       "      <td>9.468664</td>\n",
       "    </tr>\n",
       "    <tr>\n",
       "      <th>2016-02-18</th>\n",
       "      <td>12.107448</td>\n",
       "      <td>30.513967</td>\n",
       "      <td>-32.342671</td>\n",
       "      <td>-6.432569</td>\n",
       "      <td>8.147285</td>\n",
       "      <td>17.633110</td>\n",
       "      <td>29.801500</td>\n",
       "      <td>-22.518197</td>\n",
       "      <td>-7.327716</td>\n",
       "      <td>9.621352</td>\n",
       "    </tr>\n",
       "    <tr>\n",
       "      <th>2016-02-19</th>\n",
       "      <td>11.814419</td>\n",
       "      <td>29.126924</td>\n",
       "      <td>-34.169875</td>\n",
       "      <td>-7.389027</td>\n",
       "      <td>8.215210</td>\n",
       "      <td>17.590730</td>\n",
       "      <td>29.685630</td>\n",
       "      <td>-22.518197</td>\n",
       "      <td>-7.327716</td>\n",
       "      <td>9.773401</td>\n",
       "    </tr>\n",
       "    <tr>\n",
       "      <th>2016-02-20</th>\n",
       "      <td>11.941967</td>\n",
       "      <td>27.647741</td>\n",
       "      <td>-33.402169</td>\n",
       "      <td>-8.059054</td>\n",
       "      <td>8.448980</td>\n",
       "      <td>17.548351</td>\n",
       "      <td>29.569760</td>\n",
       "      <td>-22.518197</td>\n",
       "      <td>-7.327716</td>\n",
       "      <td>9.924917</td>\n",
       "    </tr>\n",
       "    <tr>\n",
       "      <th>2016-02-21</th>\n",
       "      <td>11.699291</td>\n",
       "      <td>25.813873</td>\n",
       "      <td>-34.122462</td>\n",
       "      <td>-6.980371</td>\n",
       "      <td>8.167338</td>\n",
       "      <td>17.505971</td>\n",
       "      <td>29.453890</td>\n",
       "      <td>-22.518197</td>\n",
       "      <td>-7.327716</td>\n",
       "      <td>10.076005</td>\n",
       "    </tr>\n",
       "    <tr>\n",
       "      <th>2016-02-22</th>\n",
       "      <td>13.082269</td>\n",
       "      <td>25.489868</td>\n",
       "      <td>-34.913117</td>\n",
       "      <td>-7.268341</td>\n",
       "      <td>8.138952</td>\n",
       "      <td>17.463592</td>\n",
       "      <td>29.338019</td>\n",
       "      <td>-22.518197</td>\n",
       "      <td>-7.327716</td>\n",
       "      <td>10.226769</td>\n",
       "    </tr>\n",
       "    <tr>\n",
       "      <th>2016-02-23</th>\n",
       "      <td>13.524691</td>\n",
       "      <td>25.702218</td>\n",
       "      <td>-33.692719</td>\n",
       "      <td>-6.416939</td>\n",
       "      <td>6.893974</td>\n",
       "      <td>17.421212</td>\n",
       "      <td>29.222149</td>\n",
       "      <td>-22.518197</td>\n",
       "      <td>-7.327716</td>\n",
       "      <td>10.377317</td>\n",
       "    </tr>\n",
       "    <tr>\n",
       "      <th>2016-02-24</th>\n",
       "      <td>11.941634</td>\n",
       "      <td>25.524422</td>\n",
       "      <td>-34.170100</td>\n",
       "      <td>-5.205622</td>\n",
       "      <td>7.343663</td>\n",
       "      <td>17.378832</td>\n",
       "      <td>29.106279</td>\n",
       "      <td>-22.518197</td>\n",
       "      <td>-7.327716</td>\n",
       "      <td>10.527752</td>\n",
       "    </tr>\n",
       "  </tbody>\n",
       "</table>\n",
       "</div>"
      ],
      "text/plain": [
       "subject        Before                                             Recycled  \\\n",
       "type                A          B          C         D         E          A   \n",
       "2016-02-05  17.105977  32.010580 -26.804569 -7.735545  5.453295  18.184046   \n",
       "2016-02-06  15.453139  32.716246 -27.375467 -6.505845  4.198479  18.141666   \n",
       "2016-02-07  14.081562  31.684979 -27.350703 -5.984098  3.344913  18.099286   \n",
       "2016-02-08  12.350574  30.554951 -26.860155 -6.704818  2.371942  18.056907   \n",
       "2016-02-09  12.365011  29.509069 -28.365860 -5.904961  2.124525  18.014527   \n",
       "2016-02-10  12.355101  29.404460 -28.666476 -6.407138  2.309518  17.972147   \n",
       "2016-02-11  12.726120  29.971671 -29.218129 -6.681768  1.143903  17.929768   \n",
       "2016-02-12  12.492835  30.461473 -27.898503 -6.329226  2.942598  17.887388   \n",
       "2016-02-13  11.665553  30.593479 -28.190413 -6.628508  3.783371  17.845008   \n",
       "2016-02-14   9.931811  29.784172 -30.479837 -6.094357  5.247566  17.802629   \n",
       "2016-02-15  10.473589  31.262473 -31.917403 -6.031808  5.969272  17.760249   \n",
       "2016-02-16  10.801221  30.904545 -32.870063 -6.889739  5.235813  17.717869   \n",
       "2016-02-17   9.829133  30.818530 -32.804295 -6.949351  7.454890  17.675490   \n",
       "2016-02-18  12.107448  30.513967 -32.342671 -6.432569  8.147285  17.633110   \n",
       "2016-02-19  11.814419  29.126924 -34.169875 -7.389027  8.215210  17.590730   \n",
       "2016-02-20  11.941967  27.647741 -33.402169 -8.059054  8.448980  17.548351   \n",
       "2016-02-21  11.699291  25.813873 -34.122462 -6.980371  8.167338  17.505971   \n",
       "2016-02-22  13.082269  25.489868 -34.913117 -7.268341  8.138952  17.463592   \n",
       "2016-02-23  13.524691  25.702218 -33.692719 -6.416939  6.893974  17.421212   \n",
       "2016-02-24  11.941634  25.524422 -34.170100 -5.205622  7.343663  17.378832   \n",
       "\n",
       "subject                                                \n",
       "type                B          C         D          E  \n",
       "2016-02-05  31.307813 -22.518197 -7.327716   7.548242  \n",
       "2016-02-06  31.191943 -22.518197 -7.327716   7.716812  \n",
       "2016-02-07  31.076072 -22.518197 -7.327716   7.883478  \n",
       "2016-02-08  30.960202 -22.518197 -7.327716   8.048348  \n",
       "2016-02-09  30.844332 -22.518197 -7.327716   8.211525  \n",
       "2016-02-10  30.728462 -22.518197 -7.327716   8.373115  \n",
       "2016-02-11  30.612592 -22.518197 -7.327716   8.533224  \n",
       "2016-02-12  30.496721 -22.518197 -7.327716   8.691956  \n",
       "2016-02-13  30.380851 -22.518197 -7.327716   8.849418  \n",
       "2016-02-14  30.264981 -22.518197 -7.327716   9.005714  \n",
       "2016-02-15  30.149111 -22.518197 -7.327716   9.160951  \n",
       "2016-02-16  30.033241 -22.518197 -7.327716   9.315232  \n",
       "2016-02-17  29.917370 -22.518197 -7.327716   9.468664  \n",
       "2016-02-18  29.801500 -22.518197 -7.327716   9.621352  \n",
       "2016-02-19  29.685630 -22.518197 -7.327716   9.773401  \n",
       "2016-02-20  29.569760 -22.518197 -7.327716   9.924917  \n",
       "2016-02-21  29.453890 -22.518197 -7.327716  10.076005  \n",
       "2016-02-22  29.338019 -22.518197 -7.327716  10.226769  \n",
       "2016-02-23  29.222149 -22.518197 -7.327716  10.377317  \n",
       "2016-02-24  29.106279 -22.518197 -7.327716  10.527752  "
      ]
     },
     "metadata": {},
     "output_type": "display_data"
    }
   ],
   "source": [
    "to_check = pd.concat((before,df.iloc[400:420]), axis=1)\n",
    "to_check.columns = pd.MultiIndex.from_product([['Before', 'Recycled'], df.columns,],\n",
    "                                     names=['subject', 'type'])\n",
    "\n",
    "display(to_check) "
   ]
  },
  {
   "cell_type": "markdown",
   "metadata": {},
   "source": [
    "#### Проверим точность восстановления по критерию $\\chi^2$"
   ]
  },
  {
   "cell_type": "code",
   "execution_count": 35,
   "metadata": {},
   "outputs": [
    {
     "data": {
      "text/plain": [
       "'A: 0.34330215535495484'"
      ]
     },
     "metadata": {},
     "output_type": "display_data"
    },
    {
     "data": {
      "text/plain": [
       "'B: 0.8564130341831158'"
      ]
     },
     "metadata": {},
     "output_type": "display_data"
    },
    {
     "data": {
      "text/plain": [
       "'C: 0.2917350937933485'"
      ]
     },
     "metadata": {},
     "output_type": "display_data"
    },
    {
     "data": {
      "text/plain": [
       "'D: 0.8264053343766404'"
      ]
     },
     "metadata": {},
     "output_type": "display_data"
    },
    {
     "data": {
      "text/plain": [
       "'E: 0.3727298326133487'"
      ]
     },
     "metadata": {},
     "output_type": "display_data"
    }
   ],
   "source": [
    "for litera in \"ABCDE\":\n",
    "    stat, p_value = chisquare([to_check[\"Before\", litera].abs(),  ## Только положительные заначения!!!\n",
    "                               to_check[\"Recycled\",litera].abs()])\n",
    "    display(f\"{litera}: {np.mean(p_value)}\") "
   ]
  },
  {
   "cell_type": "markdown",
   "metadata": {},
   "source": [
    "#### или просто посчитаем погрешность"
   ]
  },
  {
   "cell_type": "code",
   "execution_count": 36,
   "metadata": {},
   "outputs": [
    {
     "data": {
      "text/html": [
       "<style type=\"text/css\">\n",
       "#T_d0115_row0_col0 {\n",
       "  background-color: #42E3B4;\n",
       "}\n",
       "#T_d0115_row1_col0 {\n",
       "  background-color: #0087CD;\n",
       "}\n",
       "#T_d0115_row2_col0 {\n",
       "  background-color: #FAED00;\n",
       "}\n",
       "</style>\n",
       "<table id=\"T_d0115\">\n",
       "  <thead>\n",
       "    <tr>\n",
       "      <th class=\"blank level0\" >&nbsp;</th>\n",
       "      <th id=\"T_d0115_level0_col0\" class=\"col_heading level0 col0\" >Colors</th>\n",
       "    </tr>\n",
       "  </thead>\n",
       "  <tbody>\n",
       "    <tr>\n",
       "      <th id=\"T_d0115_level0_row0\" class=\"row_heading level0 row0\" >0</th>\n",
       "      <td id=\"T_d0115_row0_col0\" class=\"data row0 col0\" >MAX</td>\n",
       "    </tr>\n",
       "    <tr>\n",
       "      <th id=\"T_d0115_level0_row1\" class=\"row_heading level0 row1\" >1</th>\n",
       "      <td id=\"T_d0115_row1_col0\" class=\"data row1 col0\" >MIN</td>\n",
       "    </tr>\n",
       "    <tr>\n",
       "      <th id=\"T_d0115_level0_row2\" class=\"row_heading level0 row2\" >2</th>\n",
       "      <td id=\"T_d0115_row2_col0\" class=\"data row2 col0\" >AVERAGE</td>\n",
       "    </tr>\n",
       "  </tbody>\n",
       "</table>\n"
      ],
      "text/plain": [
       "<pandas.io.formats.style.Styler at 0x7ff46c9046a0>"
      ]
     },
     "metadata": {},
     "output_type": "display_data"
    },
    {
     "data": {
      "text/html": [
       "<style type=\"text/css\">\n",
       "#T_68de3_row0_col0, #T_68de3_row0_col2, #T_68de3_row1_col1, #T_68de3_row6_col9, #T_68de3_row9_col5, #T_68de3_row13_col4, #T_68de3_row17_col6, #T_68de3_row17_col7, #T_68de3_row19_col3, #T_68de3_row19_col8 {\n",
       "  background-color: #42E3B4;\n",
       "}\n",
       "#T_68de3_row0_col5, #T_68de3_row6_col4, #T_68de3_row7_col6, #T_68de3_row9_col0, #T_68de3_row13_col9, #T_68de3_row15_col3, #T_68de3_row17_col1, #T_68de3_row17_col2, #T_68de3_row17_col8 {\n",
       "  background-color: #0087CD;\n",
       "}\n",
       "#T_68de3_row20_col0, #T_68de3_row20_col1, #T_68de3_row20_col2, #T_68de3_row20_col3, #T_68de3_row20_col4, #T_68de3_row20_col5, #T_68de3_row20_col6, #T_68de3_row20_col8, #T_68de3_row20_col9 {\n",
       "  background-color: #FAED00;\n",
       "}\n",
       "#T_68de3_row20_col7 {\n",
       "  background-color: #FAED00;\n",
       "  background-color: #0087CD;\n",
       "}\n",
       "</style>\n",
       "<table id=\"T_68de3\">\n",
       "  <thead>\n",
       "    <tr>\n",
       "      <th class=\"index_name level0\" >subject</th>\n",
       "      <th id=\"T_68de3_level0_col0\" class=\"col_heading level0 col0\" colspan=\"5\">ABS</th>\n",
       "      <th id=\"T_68de3_level0_col5\" class=\"col_heading level0 col5\" colspan=\"5\">SQR</th>\n",
       "    </tr>\n",
       "    <tr>\n",
       "      <th class=\"index_name level1\" >type</th>\n",
       "      <th id=\"T_68de3_level1_col0\" class=\"col_heading level1 col0\" >A</th>\n",
       "      <th id=\"T_68de3_level1_col1\" class=\"col_heading level1 col1\" >B</th>\n",
       "      <th id=\"T_68de3_level1_col2\" class=\"col_heading level1 col2\" >C</th>\n",
       "      <th id=\"T_68de3_level1_col3\" class=\"col_heading level1 col3\" >D</th>\n",
       "      <th id=\"T_68de3_level1_col4\" class=\"col_heading level1 col4\" >E</th>\n",
       "      <th id=\"T_68de3_level1_col5\" class=\"col_heading level1 col5\" >A</th>\n",
       "      <th id=\"T_68de3_level1_col6\" class=\"col_heading level1 col6\" >B</th>\n",
       "      <th id=\"T_68de3_level1_col7\" class=\"col_heading level1 col7\" >C</th>\n",
       "      <th id=\"T_68de3_level1_col8\" class=\"col_heading level1 col8\" >D</th>\n",
       "      <th id=\"T_68de3_level1_col9\" class=\"col_heading level1 col9\" >E</th>\n",
       "    </tr>\n",
       "  </thead>\n",
       "  <tbody>\n",
       "    <tr>\n",
       "      <th id=\"T_68de3_level0_row0\" class=\"row_heading level0 row0\" >2016-02-05 00:00:00</th>\n",
       "      <td id=\"T_68de3_row0_col0\" class=\"data row0 col0\" >-1.078069</td>\n",
       "      <td id=\"T_68de3_row0_col1\" class=\"data row0 col1\" >0.702767</td>\n",
       "      <td id=\"T_68de3_row0_col2\" class=\"data row0 col2\" >-4.286373</td>\n",
       "      <td id=\"T_68de3_row0_col3\" class=\"data row0 col3\" >-0.407830</td>\n",
       "      <td id=\"T_68de3_row0_col4\" class=\"data row0 col4\" >-2.094948</td>\n",
       "      <td id=\"T_68de3_row0_col5\" class=\"data row0 col5\" >1.162232</td>\n",
       "      <td id=\"T_68de3_row0_col6\" class=\"data row0 col6\" >0.493881</td>\n",
       "      <td id=\"T_68de3_row0_col7\" class=\"data row0 col7\" >18.372990</td>\n",
       "      <td id=\"T_68de3_row0_col8\" class=\"data row0 col8\" >0.166325</td>\n",
       "      <td id=\"T_68de3_row0_col9\" class=\"data row0 col9\" >4.388806</td>\n",
       "    </tr>\n",
       "    <tr>\n",
       "      <th id=\"T_68de3_level0_row1\" class=\"row_heading level0 row1\" >2016-02-06 00:00:00</th>\n",
       "      <td id=\"T_68de3_row1_col0\" class=\"data row1 col0\" >-2.688527</td>\n",
       "      <td id=\"T_68de3_row1_col1\" class=\"data row1 col1\" >1.524303</td>\n",
       "      <td id=\"T_68de3_row1_col2\" class=\"data row1 col2\" >-4.857270</td>\n",
       "      <td id=\"T_68de3_row1_col3\" class=\"data row1 col3\" >0.821871</td>\n",
       "      <td id=\"T_68de3_row1_col4\" class=\"data row1 col4\" >-3.518333</td>\n",
       "      <td id=\"T_68de3_row1_col5\" class=\"data row1 col5\" >7.228179</td>\n",
       "      <td id=\"T_68de3_row1_col6\" class=\"data row1 col6\" >2.323500</td>\n",
       "      <td id=\"T_68de3_row1_col7\" class=\"data row1 col7\" >23.593075</td>\n",
       "      <td id=\"T_68de3_row1_col8\" class=\"data row1 col8\" >0.675472</td>\n",
       "      <td id=\"T_68de3_row1_col9\" class=\"data row1 col9\" >12.378665</td>\n",
       "    </tr>\n",
       "    <tr>\n",
       "      <th id=\"T_68de3_level0_row2\" class=\"row_heading level0 row2\" >2016-02-07 00:00:00</th>\n",
       "      <td id=\"T_68de3_row2_col0\" class=\"data row2 col0\" >-4.017724</td>\n",
       "      <td id=\"T_68de3_row2_col1\" class=\"data row2 col1\" >0.608906</td>\n",
       "      <td id=\"T_68de3_row2_col2\" class=\"data row2 col2\" >-4.832506</td>\n",
       "      <td id=\"T_68de3_row2_col3\" class=\"data row2 col3\" >1.343618</td>\n",
       "      <td id=\"T_68de3_row2_col4\" class=\"data row2 col4\" >-4.538565</td>\n",
       "      <td id=\"T_68de3_row2_col5\" class=\"data row2 col5\" >16.142110</td>\n",
       "      <td id=\"T_68de3_row2_col6\" class=\"data row2 col6\" >0.370767</td>\n",
       "      <td id=\"T_68de3_row2_col7\" class=\"data row2 col7\" >23.353114</td>\n",
       "      <td id=\"T_68de3_row2_col8\" class=\"data row2 col8\" >1.805309</td>\n",
       "      <td id=\"T_68de3_row2_col9\" class=\"data row2 col9\" >20.598576</td>\n",
       "    </tr>\n",
       "    <tr>\n",
       "      <th id=\"T_68de3_level0_row3\" class=\"row_heading level0 row3\" >2016-02-08 00:00:00</th>\n",
       "      <td id=\"T_68de3_row3_col0\" class=\"data row3 col0\" >-5.706333</td>\n",
       "      <td id=\"T_68de3_row3_col1\" class=\"data row3 col1\" >-0.405251</td>\n",
       "      <td id=\"T_68de3_row3_col2\" class=\"data row3 col2\" >-4.341958</td>\n",
       "      <td id=\"T_68de3_row3_col3\" class=\"data row3 col3\" >0.622898</td>\n",
       "      <td id=\"T_68de3_row3_col4\" class=\"data row3 col4\" >-5.676405</td>\n",
       "      <td id=\"T_68de3_row3_col5\" class=\"data row3 col5\" >32.562232</td>\n",
       "      <td id=\"T_68de3_row3_col6\" class=\"data row3 col6\" >0.164228</td>\n",
       "      <td id=\"T_68de3_row3_col7\" class=\"data row3 col7\" >18.852600</td>\n",
       "      <td id=\"T_68de3_row3_col8\" class=\"data row3 col8\" >0.388002</td>\n",
       "      <td id=\"T_68de3_row3_col9\" class=\"data row3 col9\" >32.221576</td>\n",
       "    </tr>\n",
       "    <tr>\n",
       "      <th id=\"T_68de3_level0_row4\" class=\"row_heading level0 row4\" >2016-02-09 00:00:00</th>\n",
       "      <td id=\"T_68de3_row4_col0\" class=\"data row4 col0\" >-5.649516</td>\n",
       "      <td id=\"T_68de3_row4_col1\" class=\"data row4 col1\" >-1.335263</td>\n",
       "      <td id=\"T_68de3_row4_col2\" class=\"data row4 col2\" >-5.847663</td>\n",
       "      <td id=\"T_68de3_row4_col3\" class=\"data row4 col3\" >1.422755</td>\n",
       "      <td id=\"T_68de3_row4_col4\" class=\"data row4 col4\" >-6.086999</td>\n",
       "      <td id=\"T_68de3_row4_col5\" class=\"data row4 col5\" >31.917034</td>\n",
       "      <td id=\"T_68de3_row4_col6\" class=\"data row4 col6\" >1.782927</td>\n",
       "      <td id=\"T_68de3_row4_col7\" class=\"data row4 col7\" >34.195163</td>\n",
       "      <td id=\"T_68de3_row4_col8\" class=\"data row4 col8\" >2.024232</td>\n",
       "      <td id=\"T_68de3_row4_col9\" class=\"data row4 col9\" >37.051558</td>\n",
       "    </tr>\n",
       "    <tr>\n",
       "      <th id=\"T_68de3_level0_row5\" class=\"row_heading level0 row5\" >2016-02-10 00:00:00</th>\n",
       "      <td id=\"T_68de3_row5_col0\" class=\"data row5 col0\" >-5.617046</td>\n",
       "      <td id=\"T_68de3_row5_col1\" class=\"data row5 col1\" >-1.324002</td>\n",
       "      <td id=\"T_68de3_row5_col2\" class=\"data row5 col2\" >-6.148279</td>\n",
       "      <td id=\"T_68de3_row5_col3\" class=\"data row5 col3\" >0.920578</td>\n",
       "      <td id=\"T_68de3_row5_col4\" class=\"data row5 col4\" >-6.063597</td>\n",
       "      <td id=\"T_68de3_row5_col5\" class=\"data row5 col5\" >31.551205</td>\n",
       "      <td id=\"T_68de3_row5_col6\" class=\"data row5 col6\" >1.752981</td>\n",
       "      <td id=\"T_68de3_row5_col7\" class=\"data row5 col7\" >37.801340</td>\n",
       "      <td id=\"T_68de3_row5_col8\" class=\"data row5 col8\" >0.847463</td>\n",
       "      <td id=\"T_68de3_row5_col9\" class=\"data row5 col9\" >36.767208</td>\n",
       "    </tr>\n",
       "    <tr>\n",
       "      <th id=\"T_68de3_level0_row6\" class=\"row_heading level0 row6\" >2016-02-11 00:00:00</th>\n",
       "      <td id=\"T_68de3_row6_col0\" class=\"data row6 col0\" >-5.203648</td>\n",
       "      <td id=\"T_68de3_row6_col1\" class=\"data row6 col1\" >-0.640921</td>\n",
       "      <td id=\"T_68de3_row6_col2\" class=\"data row6 col2\" >-6.699932</td>\n",
       "      <td id=\"T_68de3_row6_col3\" class=\"data row6 col3\" >0.645948</td>\n",
       "      <td id=\"T_68de3_row6_col4\" class=\"data row6 col4\" >-7.389320</td>\n",
       "      <td id=\"T_68de3_row6_col5\" class=\"data row6 col5\" >27.077948</td>\n",
       "      <td id=\"T_68de3_row6_col6\" class=\"data row6 col6\" >0.410779</td>\n",
       "      <td id=\"T_68de3_row6_col7\" class=\"data row6 col7\" >44.889092</td>\n",
       "      <td id=\"T_68de3_row6_col8\" class=\"data row6 col8\" >0.417248</td>\n",
       "      <td id=\"T_68de3_row6_col9\" class=\"data row6 col9\" >54.602054</td>\n",
       "    </tr>\n",
       "    <tr>\n",
       "      <th id=\"T_68de3_level0_row7\" class=\"row_heading level0 row7\" >2016-02-12 00:00:00</th>\n",
       "      <td id=\"T_68de3_row7_col0\" class=\"data row7 col0\" >-5.394553</td>\n",
       "      <td id=\"T_68de3_row7_col1\" class=\"data row7 col1\" >-0.035249</td>\n",
       "      <td id=\"T_68de3_row7_col2\" class=\"data row7 col2\" >-5.380306</td>\n",
       "      <td id=\"T_68de3_row7_col3\" class=\"data row7 col3\" >0.998490</td>\n",
       "      <td id=\"T_68de3_row7_col4\" class=\"data row7 col4\" >-5.749358</td>\n",
       "      <td id=\"T_68de3_row7_col5\" class=\"data row7 col5\" >29.101205</td>\n",
       "      <td id=\"T_68de3_row7_col6\" class=\"data row7 col6\" >0.001242</td>\n",
       "      <td id=\"T_68de3_row7_col7\" class=\"data row7 col7\" >28.947694</td>\n",
       "      <td id=\"T_68de3_row7_col8\" class=\"data row7 col8\" >0.996982</td>\n",
       "      <td id=\"T_68de3_row7_col9\" class=\"data row7 col9\" >33.055115</td>\n",
       "    </tr>\n",
       "    <tr>\n",
       "      <th id=\"T_68de3_level0_row8\" class=\"row_heading level0 row8\" >2016-02-13 00:00:00</th>\n",
       "      <td id=\"T_68de3_row8_col0\" class=\"data row8 col0\" >-6.179455</td>\n",
       "      <td id=\"T_68de3_row8_col1\" class=\"data row8 col1\" >0.212628</td>\n",
       "      <td id=\"T_68de3_row8_col2\" class=\"data row8 col2\" >-5.672216</td>\n",
       "      <td id=\"T_68de3_row8_col3\" class=\"data row8 col3\" >0.699208</td>\n",
       "      <td id=\"T_68de3_row8_col4\" class=\"data row8 col4\" >-5.066047</td>\n",
       "      <td id=\"T_68de3_row8_col5\" class=\"data row8 col5\" >38.185670</td>\n",
       "      <td id=\"T_68de3_row8_col6\" class=\"data row8 col6\" >0.045211</td>\n",
       "      <td id=\"T_68de3_row8_col7\" class=\"data row8 col7\" >32.174032</td>\n",
       "      <td id=\"T_68de3_row8_col8\" class=\"data row8 col8\" >0.488892</td>\n",
       "      <td id=\"T_68de3_row8_col9\" class=\"data row8 col9\" >25.664832</td>\n",
       "    </tr>\n",
       "    <tr>\n",
       "      <th id=\"T_68de3_level0_row9\" class=\"row_heading level0 row9\" >2016-02-14 00:00:00</th>\n",
       "      <td id=\"T_68de3_row9_col0\" class=\"data row9 col0\" >-7.870818</td>\n",
       "      <td id=\"T_68de3_row9_col1\" class=\"data row9 col1\" >-0.480809</td>\n",
       "      <td id=\"T_68de3_row9_col2\" class=\"data row9 col2\" >-7.961640</td>\n",
       "      <td id=\"T_68de3_row9_col3\" class=\"data row9 col3\" >1.233358</td>\n",
       "      <td id=\"T_68de3_row9_col4\" class=\"data row9 col4\" >-3.758148</td>\n",
       "      <td id=\"T_68de3_row9_col5\" class=\"data row9 col5\" >61.949777</td>\n",
       "      <td id=\"T_68de3_row9_col6\" class=\"data row9 col6\" >0.231178</td>\n",
       "      <td id=\"T_68de3_row9_col7\" class=\"data row9 col7\" >63.387706</td>\n",
       "      <td id=\"T_68de3_row9_col8\" class=\"data row9 col8\" >1.521173</td>\n",
       "      <td id=\"T_68de3_row9_col9\" class=\"data row9 col9\" >14.123678</td>\n",
       "    </tr>\n",
       "    <tr>\n",
       "      <th id=\"T_68de3_level0_row10\" class=\"row_heading level0 row10\" >2016-02-15 00:00:00</th>\n",
       "      <td id=\"T_68de3_row10_col0\" class=\"data row10 col0\" >-7.286660</td>\n",
       "      <td id=\"T_68de3_row10_col1\" class=\"data row10 col1\" >1.113362</td>\n",
       "      <td id=\"T_68de3_row10_col2\" class=\"data row10 col2\" >-9.399206</td>\n",
       "      <td id=\"T_68de3_row10_col3\" class=\"data row10 col3\" >1.295908</td>\n",
       "      <td id=\"T_68de3_row10_col4\" class=\"data row10 col4\" >-3.191678</td>\n",
       "      <td id=\"T_68de3_row10_col5\" class=\"data row10 col5\" >53.095410</td>\n",
       "      <td id=\"T_68de3_row10_col6\" class=\"data row10 col6\" >1.239575</td>\n",
       "      <td id=\"T_68de3_row10_col7\" class=\"data row10 col7\" >88.345077</td>\n",
       "      <td id=\"T_68de3_row10_col8\" class=\"data row10 col8\" >1.679378</td>\n",
       "      <td id=\"T_68de3_row10_col9\" class=\"data row10 col9\" >10.186810</td>\n",
       "    </tr>\n",
       "    <tr>\n",
       "      <th id=\"T_68de3_level0_row11\" class=\"row_heading level0 row11\" >2016-02-16 00:00:00</th>\n",
       "      <td id=\"T_68de3_row11_col0\" class=\"data row11 col0\" >-6.916648</td>\n",
       "      <td id=\"T_68de3_row11_col1\" class=\"data row11 col1\" >0.871305</td>\n",
       "      <td id=\"T_68de3_row11_col2\" class=\"data row11 col2\" >-10.351866</td>\n",
       "      <td id=\"T_68de3_row11_col3\" class=\"data row11 col3\" >0.437977</td>\n",
       "      <td id=\"T_68de3_row11_col4\" class=\"data row11 col4\" >-4.079419</td>\n",
       "      <td id=\"T_68de3_row11_col5\" class=\"data row11 col5\" >47.840025</td>\n",
       "      <td id=\"T_68de3_row11_col6\" class=\"data row11 col6\" >0.759172</td>\n",
       "      <td id=\"T_68de3_row11_col7\" class=\"data row11 col7\" >107.161130</td>\n",
       "      <td id=\"T_68de3_row11_col8\" class=\"data row11 col8\" >0.191824</td>\n",
       "      <td id=\"T_68de3_row11_col9\" class=\"data row11 col9\" >16.641659</td>\n",
       "    </tr>\n",
       "    <tr>\n",
       "      <th id=\"T_68de3_level0_row12\" class=\"row_heading level0 row12\" >2016-02-17 00:00:00</th>\n",
       "      <td id=\"T_68de3_row12_col0\" class=\"data row12 col0\" >-7.846357</td>\n",
       "      <td id=\"T_68de3_row12_col1\" class=\"data row12 col1\" >0.901160</td>\n",
       "      <td id=\"T_68de3_row12_col2\" class=\"data row12 col2\" >-10.286099</td>\n",
       "      <td id=\"T_68de3_row12_col3\" class=\"data row12 col3\" >0.378365</td>\n",
       "      <td id=\"T_68de3_row12_col4\" class=\"data row12 col4\" >-2.013774</td>\n",
       "      <td id=\"T_68de3_row12_col5\" class=\"data row12 col5\" >61.565322</td>\n",
       "      <td id=\"T_68de3_row12_col6\" class=\"data row12 col6\" >0.812089</td>\n",
       "      <td id=\"T_68de3_row12_col7\" class=\"data row12 col7\" >105.803824</td>\n",
       "      <td id=\"T_68de3_row12_col8\" class=\"data row12 col8\" >0.143160</td>\n",
       "      <td id=\"T_68de3_row12_col9\" class=\"data row12 col9\" >4.055285</td>\n",
       "    </tr>\n",
       "    <tr>\n",
       "      <th id=\"T_68de3_level0_row13\" class=\"row_heading level0 row13\" >2016-02-18 00:00:00</th>\n",
       "      <td id=\"T_68de3_row13_col0\" class=\"data row13 col0\" >-5.525662</td>\n",
       "      <td id=\"T_68de3_row13_col1\" class=\"data row13 col1\" >0.712467</td>\n",
       "      <td id=\"T_68de3_row13_col2\" class=\"data row13 col2\" >-9.824474</td>\n",
       "      <td id=\"T_68de3_row13_col3\" class=\"data row13 col3\" >0.895147</td>\n",
       "      <td id=\"T_68de3_row13_col4\" class=\"data row13 col4\" >-1.474067</td>\n",
       "      <td id=\"T_68de3_row13_col5\" class=\"data row13 col5\" >30.532944</td>\n",
       "      <td id=\"T_68de3_row13_col6\" class=\"data row13 col6\" >0.507609</td>\n",
       "      <td id=\"T_68de3_row13_col7\" class=\"data row13 col7\" >96.520290</td>\n",
       "      <td id=\"T_68de3_row13_col8\" class=\"data row13 col8\" >0.801288</td>\n",
       "      <td id=\"T_68de3_row13_col9\" class=\"data row13 col9\" >2.172873</td>\n",
       "    </tr>\n",
       "    <tr>\n",
       "      <th id=\"T_68de3_level0_row14\" class=\"row_heading level0 row14\" >2016-02-19 00:00:00</th>\n",
       "      <td id=\"T_68de3_row14_col0\" class=\"data row14 col0\" >-5.776311</td>\n",
       "      <td id=\"T_68de3_row14_col1\" class=\"data row14 col1\" >-0.558706</td>\n",
       "      <td id=\"T_68de3_row14_col2\" class=\"data row14 col2\" >-11.651678</td>\n",
       "      <td id=\"T_68de3_row14_col3\" class=\"data row14 col3\" >-0.061311</td>\n",
       "      <td id=\"T_68de3_row14_col4\" class=\"data row14 col4\" >-1.558192</td>\n",
       "      <td id=\"T_68de3_row14_col5\" class=\"data row14 col5\" >33.365772</td>\n",
       "      <td id=\"T_68de3_row14_col6\" class=\"data row14 col6\" >0.312152</td>\n",
       "      <td id=\"T_68de3_row14_col7\" class=\"data row14 col7\" >135.761599</td>\n",
       "      <td id=\"T_68de3_row14_col8\" class=\"data row14 col8\" >0.003759</td>\n",
       "      <td id=\"T_68de3_row14_col9\" class=\"data row14 col9\" >2.427961</td>\n",
       "    </tr>\n",
       "    <tr>\n",
       "      <th id=\"T_68de3_level0_row15\" class=\"row_heading level0 row15\" >2016-02-20 00:00:00</th>\n",
       "      <td id=\"T_68de3_row15_col0\" class=\"data row15 col0\" >-5.606384</td>\n",
       "      <td id=\"T_68de3_row15_col1\" class=\"data row15 col1\" >-1.922018</td>\n",
       "      <td id=\"T_68de3_row15_col2\" class=\"data row15 col2\" >-10.883972</td>\n",
       "      <td id=\"T_68de3_row15_col3\" class=\"data row15 col3\" >-0.731338</td>\n",
       "      <td id=\"T_68de3_row15_col4\" class=\"data row15 col4\" >-1.475937</td>\n",
       "      <td id=\"T_68de3_row15_col5\" class=\"data row15 col5\" >31.431540</td>\n",
       "      <td id=\"T_68de3_row15_col6\" class=\"data row15 col6\" >3.694155</td>\n",
       "      <td id=\"T_68de3_row15_col7\" class=\"data row15 col7\" >118.460842</td>\n",
       "      <td id=\"T_68de3_row15_col8\" class=\"data row15 col8\" >0.534855</td>\n",
       "      <td id=\"T_68de3_row15_col9\" class=\"data row15 col9\" >2.178389</td>\n",
       "    </tr>\n",
       "    <tr>\n",
       "      <th id=\"T_68de3_level0_row16\" class=\"row_heading level0 row16\" >2016-02-21 00:00:00</th>\n",
       "      <td id=\"T_68de3_row16_col0\" class=\"data row16 col0\" >-5.806680</td>\n",
       "      <td id=\"T_68de3_row16_col1\" class=\"data row16 col1\" >-3.640017</td>\n",
       "      <td id=\"T_68de3_row16_col2\" class=\"data row16 col2\" >-11.604265</td>\n",
       "      <td id=\"T_68de3_row16_col3\" class=\"data row16 col3\" >0.347344</td>\n",
       "      <td id=\"T_68de3_row16_col4\" class=\"data row16 col4\" >-1.908667</td>\n",
       "      <td id=\"T_68de3_row16_col5\" class=\"data row16 col5\" >33.717535</td>\n",
       "      <td id=\"T_68de3_row16_col6\" class=\"data row16 col6\" >13.249722</td>\n",
       "      <td id=\"T_68de3_row16_col7\" class=\"data row16 col7\" >134.658973</td>\n",
       "      <td id=\"T_68de3_row16_col8\" class=\"data row16 col8\" >0.120648</td>\n",
       "      <td id=\"T_68de3_row16_col9\" class=\"data row16 col9\" >3.643008</td>\n",
       "    </tr>\n",
       "    <tr>\n",
       "      <th id=\"T_68de3_level0_row17\" class=\"row_heading level0 row17\" >2016-02-22 00:00:00</th>\n",
       "      <td id=\"T_68de3_row17_col0\" class=\"data row17 col0\" >-4.381322</td>\n",
       "      <td id=\"T_68de3_row17_col1\" class=\"data row17 col1\" >-3.848151</td>\n",
       "      <td id=\"T_68de3_row17_col2\" class=\"data row17 col2\" >-12.394920</td>\n",
       "      <td id=\"T_68de3_row17_col3\" class=\"data row17 col3\" >0.059375</td>\n",
       "      <td id=\"T_68de3_row17_col4\" class=\"data row17 col4\" >-2.087818</td>\n",
       "      <td id=\"T_68de3_row17_col5\" class=\"data row17 col5\" >19.195985</td>\n",
       "      <td id=\"T_68de3_row17_col6\" class=\"data row17 col6\" >14.808266</td>\n",
       "      <td id=\"T_68de3_row17_col7\" class=\"data row17 col7\" >153.634043</td>\n",
       "      <td id=\"T_68de3_row17_col8\" class=\"data row17 col8\" >0.003525</td>\n",
       "      <td id=\"T_68de3_row17_col9\" class=\"data row17 col9\" >4.358982</td>\n",
       "    </tr>\n",
       "    <tr>\n",
       "      <th id=\"T_68de3_level0_row18\" class=\"row_heading level0 row18\" >2016-02-23 00:00:00</th>\n",
       "      <td id=\"T_68de3_row18_col0\" class=\"data row18 col0\" >-3.896521</td>\n",
       "      <td id=\"T_68de3_row18_col1\" class=\"data row18 col1\" >-3.519931</td>\n",
       "      <td id=\"T_68de3_row18_col2\" class=\"data row18 col2\" >-11.174522</td>\n",
       "      <td id=\"T_68de3_row18_col3\" class=\"data row18 col3\" >0.910777</td>\n",
       "      <td id=\"T_68de3_row18_col4\" class=\"data row18 col4\" >-3.483343</td>\n",
       "      <td id=\"T_68de3_row18_col5\" class=\"data row18 col5\" >15.182878</td>\n",
       "      <td id=\"T_68de3_row18_col6\" class=\"data row18 col6\" >12.389915</td>\n",
       "      <td id=\"T_68de3_row18_col7\" class=\"data row18 col7\" >124.869934</td>\n",
       "      <td id=\"T_68de3_row18_col8\" class=\"data row18 col8\" >0.829514</td>\n",
       "      <td id=\"T_68de3_row18_col9\" class=\"data row18 col9\" >12.133680</td>\n",
       "    </tr>\n",
       "    <tr>\n",
       "      <th id=\"T_68de3_level0_row19\" class=\"row_heading level0 row19\" >2016-02-24 00:00:00</th>\n",
       "      <td id=\"T_68de3_row19_col0\" class=\"data row19 col0\" >-5.437198</td>\n",
       "      <td id=\"T_68de3_row19_col1\" class=\"data row19 col1\" >-3.581857</td>\n",
       "      <td id=\"T_68de3_row19_col2\" class=\"data row19 col2\" >-11.651904</td>\n",
       "      <td id=\"T_68de3_row19_col3\" class=\"data row19 col3\" >2.122093</td>\n",
       "      <td id=\"T_68de3_row19_col4\" class=\"data row19 col4\" >-3.184089</td>\n",
       "      <td id=\"T_68de3_row19_col5\" class=\"data row19 col5\" >29.563121</td>\n",
       "      <td id=\"T_68de3_row19_col6\" class=\"data row19 col6\" >12.829701</td>\n",
       "      <td id=\"T_68de3_row19_col7\" class=\"data row19 col7\" >135.766857</td>\n",
       "      <td id=\"T_68de3_row19_col8\" class=\"data row19 col8\" >4.503281</td>\n",
       "      <td id=\"T_68de3_row19_col9\" class=\"data row19 col9\" >10.138423</td>\n",
       "    </tr>\n",
       "    <tr>\n",
       "      <th id=\"T_68de3_level0_row20\" class=\"row_heading level0 row20\" >-1</th>\n",
       "      <td id=\"T_68de3_row20_col0\" class=\"data row20 col0\" >-5.394272</td>\n",
       "      <td id=\"T_68de3_row20_col1\" class=\"data row20 col1\" >-0.732264</td>\n",
       "      <td id=\"T_68de3_row20_col2\" class=\"data row20 col2\" >-8.262552</td>\n",
       "      <td id=\"T_68de3_row20_col3\" class=\"data row20 col3\" >0.697762</td>\n",
       "      <td id=\"T_68de3_row20_col4\" class=\"data row20 col4\" >-3.719935</td>\n",
       "      <td id=\"T_68de3_row20_col5\" class=\"data row20 col5\" >5.769102</td>\n",
       "      <td id=\"T_68de3_row20_col6\" class=\"data row20 col6\" >1.894300</td>\n",
       "      <td id=\"T_68de3_row20_col7\" class=\"data row20 col7\" >8.963521</td>\n",
       "      <td id=\"T_68de3_row20_col8\" class=\"data row20 col8\" >0.977169</td>\n",
       "      <td id=\"T_68de3_row20_col9\" class=\"data row20 col9\" >4.222678</td>\n",
       "    </tr>\n",
       "  </tbody>\n",
       "</table>\n"
      ],
      "text/plain": [
       "<pandas.io.formats.style.Styler at 0x7ff46c8eacd0>"
      ]
     },
     "execution_count": 36,
     "metadata": {},
     "output_type": "execute_result"
    }
   ],
   "source": [
    "# set colors for min, max. average values\n",
    "color_set = pd.DataFrame({\"Colors\":(\"MAX\", \"MIN\", \"AVERAGE\")})\n",
    "\n",
    "def highlight_fill(s):\n",
    "    colors =  ['background-color: #42E3B4',\n",
    "            'background-color: #0087CD',\n",
    "             'background-color: #FAED00']\n",
    "    return [colors[0] if i==0 else  colors[1] if i==1 else colors[2] for i in range(len(s))]\n",
    "\n",
    "\n",
    "color_set = color_set.style.apply(highlight_fill)\n",
    "display(color_set)\n",
    "\n",
    "# count accurancy values\n",
    "\n",
    "accurancy = pd.concat( (before-df.iloc[400:420],\n",
    "                       pow((before-df.iloc[400:420]),2)), axis=1) \n",
    "accurancy.columns = pd.MultiIndex.from_product([['ABS', 'SQR'], df.columns,],\n",
    "                                     names=['subject', 'type'])\n",
    "# adding a row\n",
    "accurancy.loc[-1] = [accurancy[a_s].mean() for a_s in accurancy.columns[:5].tolist()] +\\\n",
    "                    [np.sqrt(accurancy[a_s].sum()/(len(accurancy)-1)) for a_s in accurancy.columns[5:].tolist()]  \n",
    "\n",
    "def highlight_diff_max(s):\n",
    "    if max(abs(s))==max(s): \n",
    "        idx = s.tolist().index(max(abs(s)))\n",
    "    elif max(abs(s))!=max(s):\n",
    "        idx = s.tolist().index(max(s))\n",
    "    return ['background-color: #42E3B4' if i==idx else '' for i in range(len(s))]\n",
    "\n",
    "def highlight_diff_min(s):\n",
    "    if min(abs(s))==min(s): \n",
    "        idx = s.tolist().index(min(abs(s)))\n",
    "    elif min(abs(s))!=min(s):\n",
    "        idx = s.tolist().index(min(s))\n",
    "    return ['background-color: #0087CD' if i==idx else '' for i in range(len(s))]\n",
    "\n",
    "def highlight_last_row(s):\n",
    "    return ['background-color: #FAED00' if i==len(s)-1 else '' for i in range(len(s))]\n",
    "\n",
    "accurancy = accurancy.style.apply(highlight_last_row).apply(highlight_diff_max).apply(highlight_diff_min)\n",
    "accurancy\n"
   ]
  },
  {
   "cell_type": "markdown",
   "metadata": {},
   "source": [
    "### Красиво сохраняем..."
   ]
  },
  {
   "cell_type": "code",
   "execution_count": 37,
   "metadata": {},
   "outputs": [
    {
     "data": {
      "text/plain": [
       "pandas.io.formats.style.Styler"
      ]
     },
     "execution_count": 37,
     "metadata": {},
     "output_type": "execute_result"
    }
   ],
   "source": [
    "type(accurancy)"
   ]
  },
  {
   "cell_type": "code",
   "execution_count": 38,
   "metadata": {},
   "outputs": [],
   "source": [
    "accurancy.to_excel(\"accurancy.xlsx\") # xlsx only !!!!!!!!"
   ]
  }
 ],
 "metadata": {
  "kernelspec": {
   "display_name": "Python 3 (ipykernel)",
   "language": "python",
   "name": "python3"
  },
  "language_info": {
   "codemirror_mode": {
    "name": "ipython",
    "version": 3
   },
   "file_extension": ".py",
   "mimetype": "text/x-python",
   "name": "python",
   "nbconvert_exporter": "python",
   "pygments_lexer": "ipython3",
   "version": "3.9.12"
  }
 },
 "nbformat": 4,
 "nbformat_minor": 4
}
