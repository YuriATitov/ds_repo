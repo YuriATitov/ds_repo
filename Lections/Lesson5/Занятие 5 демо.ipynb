{
 "cells": [
  {
   "cell_type": "markdown",
   "metadata": {
    "id": "pLTUNG4IDm2R"
   },
   "source": [
    "# Занятие 5"
   ]
  },
  {
   "cell_type": "code",
   "execution_count": 2,
   "metadata": {
    "id": "-bcV0a2zDLtb"
   },
   "outputs": [],
   "source": [
    "import pandas as pd\n",
    "import numpy as np\n",
    "import matplotlib.pyplot as plt\n",
    "import scipy.stats as sts\n",
    "%matplotlib inline\n",
    "import statsmodels.stats.weightstats as ssw"
   ]
  },
  {
   "cell_type": "markdown",
   "metadata": {
    "id": "m6IF_67zDqCi"
   },
   "source": [
    "## Оценка распределений"
   ]
  },
  {
   "cell_type": "markdown",
   "metadata": {
    "id": "axbYHglJDtqG"
   },
   "source": [
    "### Дискретное"
   ]
  },
  {
   "cell_type": "code",
   "execution_count": 2,
   "metadata": {
    "colab": {
     "base_uri": "https://localhost:8080/"
    },
    "id": "-2fAgE4xDL7Z",
    "outputId": "45ee12ca-734c-41fa-9c79-f9f2ea38adb3"
   },
   "outputs": [
    {
     "data": {
      "text/plain": [
       "array([4, 1, 1, ..., 5, 4, 2])"
      ]
     },
     "execution_count": 2,
     "metadata": {},
     "output_type": "execute_result"
    }
   ],
   "source": [
    "N = 10000\n",
    "sample = np.random.choice([1,2,3,4,5,6], N)\n",
    "sample"
   ]
  },
  {
   "cell_type": "code",
   "execution_count": 3,
   "metadata": {
    "colab": {
     "base_uri": "https://localhost:8080/"
    },
    "id": "WimoFRQKD1sB",
    "outputId": "c506e3ca-002e-4731-b776-4e1ccf172b76"
   },
   "outputs": [
    {
     "name": "stdout",
     "output_type": "stream",
     "text": [
      "[1714 1673 1716 1665 1609 1623]\n",
      "[0.1714 0.1673 0.1716 0.1665 0.1609 0.1623]\n",
      "[1 2 3 4 5 6]\n",
      "0.9999999999999999\n"
     ]
    }
   ],
   "source": [
    "# оценим функцию вероятности частотами\n",
    "unique_value, counts = np.unique(sample, return_counts=True)\n",
    "\n",
    "print(counts)\n",
    "print(counts / N)\n",
    "print(unique_value)\n",
    "print (np.sum(counts / N))"
   ]
  },
  {
   "cell_type": "code",
   "execution_count": 4,
   "metadata": {
    "colab": {
     "base_uri": "https://localhost:8080/"
    },
    "id": "RLyrVaq8jsQ7",
    "outputId": "94b52b5a-a239-4b2c-8001-b9e4b940e6eb"
   },
   "outputs": [
    {
     "name": "stdout",
     "output_type": "stream",
     "text": [
      "[1 2 3 4 5 6]\n",
      "10: [0.1 0.1 0.1 0.4 0.2 0.1] 1.0000000000000002\n",
      "[1 2 3 4 5 6]\n",
      "100: [0.19 0.2  0.21 0.18 0.14 0.08] 1.0\n",
      "[1 2 3 4 5 6]\n",
      "1000: [0.194 0.149 0.154 0.168 0.168 0.167] 1.0\n",
      "[1 2 3 4 5 6]\n",
      "10000: [0.1685 0.1668 0.1631 0.1679 0.1687 0.165 ] 1.0\n",
      "[1 2 3 4 5 6]\n",
      "100000: [0.16707 0.1687  0.1683  0.16544 0.16396 0.16653] 1.0\n"
     ]
    }
   ],
   "source": [
    "for N in [10, 100, 1000, 10000, 100000]:\n",
    "    sample = np.random.choice([1,2,3,4,5,6], N)\n",
    "    unique_value, counts = np.unique(sample, return_counts=True)\n",
    "    print(unique_value)\n",
    "    print(\"{}: {} {}\".format(N, counts/N, np.sum(counts/N)))"
   ]
  },
  {
   "cell_type": "code",
   "execution_count": 5,
   "metadata": {
    "colab": {
     "base_uri": "https://localhost:8080/"
    },
    "id": "IDRfewmokN09",
    "outputId": "a2d050cf-ece8-4a75-e2ef-4885ba19938f"
   },
   "outputs": [
    {
     "data": {
      "text/plain": [
       "0.16666666666666666"
      ]
     },
     "execution_count": 5,
     "metadata": {},
     "output_type": "execute_result"
    }
   ],
   "source": [
    "1/6"
   ]
  },
  {
   "cell_type": "markdown",
   "metadata": {
    "id": "FTC7rHEYDvmz"
   },
   "source": [
    "### Непрерывное"
   ]
  },
  {
   "cell_type": "code",
   "execution_count": 6,
   "metadata": {
    "id": "k4pQRYwjDLnz"
   },
   "outputs": [],
   "source": [
    "# возьмём выборку из нормального распределения\n",
    "norm_rv = sts.norm(0, 1)\n",
    "sample = norm_rv.rvs(100)\n",
    "#sample"
   ]
  },
  {
   "cell_type": "code",
   "execution_count": 7,
   "metadata": {
    "colab": {
     "base_uri": "https://localhost:8080/",
     "height": 316
    },
    "id": "aF6nrO0lEbYB",
    "outputId": "bbc3d760-7b46-4074-ef0f-6ede2278a237"
   },
   "outputs": [
    {
     "data": {
      "text/plain": [
       "[<matplotlib.lines.Line2D at 0x7fcddc676400>]"
      ]
     },
     "execution_count": 7,
     "metadata": {},
     "output_type": "execute_result"
    },
    {
     "data": {
      "image/png": "[encoded data removed]",
      "text/plain": [
       "<Figure size 432x288 with 1 Axes>"
      ]
     },
     "metadata": {
      "needs_background": "light"
     },
     "output_type": "display_data"
    }
   ],
   "source": [
    "x = np.linspace(-4,4,100)\n",
    "cdf = norm_rv.cdf(x)\n",
    "plt.plot(x, cdf, label='Теоретическая функция распределения')\n",
    "\n",
    "# Воспользуемся библиотекой для оценки (спасибо питон!)\n",
    "from statsmodels.distributions.empirical_distribution import ECDF\n",
    "ecdf = ECDF(sample)\n",
    "plt.step(ecdf.x, ecdf.y, label='Оценка функции распределения')\n"
   ]
  },
  {
   "cell_type": "code",
   "execution_count": 8,
   "metadata": {
    "colab": {
     "base_uri": "https://localhost:8080/",
     "height": 282
    },
    "id": "OdIcVbG_E_1k",
    "outputId": "3187a035-9b4a-4080-95c0-b49a7fb77548"
   },
   "outputs": [
    {
     "name": "stdout",
     "output_type": "stream",
     "text": [
      "[ 1.  0.  9. 10. 17. 27. 17. 11.  7.  1.]\n"
     ]
    },
    {
     "data": {
      "image/png": "[encoded data removed]",
      "text/plain": [
       "<Figure size 432x288 with 1 Axes>"
      ]
     },
     "metadata": {
      "needs_background": "light"
     },
     "output_type": "display_data"
    }
   ],
   "source": [
    "# теперь посмотрим на функцию плотности\n",
    "b, n, _ = plt.hist(sample)\n",
    "print(b)"
   ]
  },
  {
   "cell_type": "code",
   "execution_count": 9,
   "metadata": {
    "colab": {
     "base_uri": "https://localhost:8080/"
    },
    "id": "wlutQ9DTevwQ",
    "outputId": "9db02c3f-5b9f-4429-c408-a46491b2e6ad"
   },
   "outputs": [
    {
     "data": {
      "text/plain": [
       "11"
      ]
     },
     "execution_count": 9,
     "metadata": {},
     "output_type": "execute_result"
    }
   ],
   "source": [
    "len(n)"
   ]
  },
  {
   "cell_type": "code",
   "execution_count": 10,
   "metadata": {
    "colab": {
     "base_uri": "https://localhost:8080/",
     "height": 282
    },
    "id": "DYFrqDsqFQrO",
    "outputId": "78b1f110-235c-4af9-806e-b2ddbeea3184"
   },
   "outputs": [
    {
     "data": {
      "text/plain": [
       "<matplotlib.legend.Legend at 0x7fcddc8326a0>"
      ]
     },
     "execution_count": 10,
     "metadata": {},
     "output_type": "execute_result"
    },
    {
     "data": {
      "image/png": "[encoded data removed]",
      "text/plain": [
       "<Figure size 432x288 with 1 Axes>"
      ]
     },
     "metadata": {
      "needs_background": "light"
     },
     "output_type": "display_data"
    }
   ],
   "source": [
    "# ядерное сглаживание\n",
    "# можно сделать в pandas\n",
    "df = pd.DataFrame(sample, columns=['KDE'])\n",
    "ax = df.plot(kind='density')\n",
    "\n",
    "# строим теоретическую плотность\n",
    "x = np.linspace(-4,4,100)\n",
    "pdf = norm_rv.pdf(x)\n",
    "plt.plot(x, pdf, label='теоретическая плотность', alpha=0.5)\n",
    "plt.legend()"
   ]
  },
  {
   "cell_type": "markdown",
   "metadata": {
    "id": "VOFaXjx4PnqZ"
   },
   "source": [
    "### Предсказательный интервал\n",
    "Имеем $X \\sim N(\\mu, \\sigma^2)$. Согласно правилу [2-х сигм](https://ru.wikipedia.org/wiki/%D0%A1%D1%80%D0%B5%D0%B4%D0%BD%D0%B5%D0%BA%D0%B2%D0%B0%D0%B4%D1%80%D0%B0%D1%82%D0%B8%D1%87%D0%B5%D1%81%D0%BA%D0%BE%D0%B5_%D0%BE%D1%82%D0%BA%D0%BB%D0%BE%D0%BD%D0%B5%D0%BD%D0%B8%D0%B5#%D0%9F%D1%80%D0%B0%D0%B2%D0%B8%D0%BB%D0%BE_%D1%82%D1%80%D1%91%D1%85_%D1%81%D0%B8%D0%B3%D0%BC) имеем $$\\mathbf{P}(\\mu - 2 \\sigma \\leq X \\leq \\mu + 2 \\sigma) \\approx 0.95$$\n",
    "\n",
    "\n",
    "\n",
    "Если мы применим данное правило к стандартному нормальному распределению $X \\sim N(0,1)$, то получим\n",
    "$$\\mathbf{P}(0 - 2 \\cdot 1 \\leq X \\leq 0 + 2 \\cdot 1) \\approx 0.95$$\n",
    "\n",
    "Проиллюстрируем это визуально"
   ]
  },
  {
   "cell_type": "code",
   "execution_count": 11,
   "metadata": {
    "colab": {
     "base_uri": "https://localhost:8080/"
    },
    "id": "gmMy5mFYQJ13",
    "outputId": "1f7f1883-f94a-4d56-8173-8a029b4b675d"
   },
   "outputs": [
    {
     "data": {
      "text/plain": [
       "array([ 1.71666262, -0.58078551, -0.88420797,  0.32926543, -0.59979614,\n",
       "        1.60149323, -0.05021761, -0.33977323, -0.68310984,  0.23494006,\n",
       "       -1.26697374,  1.79502063,  0.42208901, -0.06804012,  0.25333871,\n",
       "       -0.88764778,  0.92783116, -0.30258982,  0.16065243,  0.58111466,\n",
       "        0.40159345, -0.58860555, -1.55311803, -0.33843654, -0.70556316,\n",
       "       -0.60541716, -0.02994132, -0.05145628,  0.02947647, -0.4912074 ,\n",
       "        0.78969646,  0.25660403,  0.71784736,  1.52553544, -0.17919346,\n",
       "       -1.35906186, -0.26042749,  0.4677378 ,  0.52936764,  0.36583091,\n",
       "        1.41597338,  1.90421822, -1.45822333, -0.77342646, -0.68591891,\n",
       "       -1.22863361, -1.42798248,  0.83513771, -1.27873454, -1.46922135,\n",
       "        0.48816708, -1.8171741 , -0.65660227,  0.58002243,  1.40824185,\n",
       "        0.67982669, -0.08522733,  0.46002772,  0.03260375, -0.62019569,\n",
       "        2.00158459, -0.46413218,  1.0526473 ,  0.59185039,  0.42923712,\n",
       "        0.28770523,  0.61272305, -0.59039165,  0.39070625, -0.42252863,\n",
       "       -0.74753371, -0.50659648,  0.03863636,  0.95972054,  0.32970605,\n",
       "        0.24450795,  0.48083893, -0.26397355, -1.31524412,  0.79950564,\n",
       "       -0.2276383 ,  1.2564721 ,  0.99317432,  0.73246075,  0.24207682,\n",
       "        0.04781343, -1.25500386, -1.87273361,  2.78972226, -0.72701459,\n",
       "        0.3508203 , -0.03476992, -0.26007297, -2.21043848,  1.33168021,\n",
       "        0.18229546, -0.52766517, -0.37251105,  0.74951194,  0.33623877])"
      ]
     },
     "execution_count": 11,
     "metadata": {},
     "output_type": "execute_result"
    }
   ],
   "source": [
    "# возьмём выборку из стандартного нормального распределения\n",
    "norm_rv = sts.norm(0, 1)\n",
    "sample = norm_rv.rvs(100)\n",
    "sample"
   ]
  },
  {
   "cell_type": "code",
   "execution_count": 12,
   "metadata": {
    "colab": {
     "base_uri": "https://localhost:8080/",
     "height": 282
    },
    "id": "9UHr_jUQQ5ym",
    "outputId": "1e3ec0c4-9b14-42ac-9727-b65e6d23c2a5"
   },
   "outputs": [
    {
     "data": {
      "text/plain": [
       "<matplotlib.collections.PolyCollection at 0x7fcddc9e5af0>"
      ]
     },
     "execution_count": 12,
     "metadata": {},
     "output_type": "execute_result"
    },
    {
     "data": {
      "image/png": "[encoded data removed]",
      "text/plain": [
       "<Figure size 432x288 with 1 Axes>"
      ]
     },
     "metadata": {
      "needs_background": "light"
     },
     "output_type": "display_data"
    }
   ],
   "source": [
    "x = np.linspace(-5,5,10000)\n",
    "pdf = norm_rv.pdf(x)\n",
    "plt.plot(x, pdf, label='теоретическая плотность', alpha=0.5)\n",
    "to_fill = np.linspace(-1.96, 1.96, 100)\n",
    "plt.fill_between(to_fill, norm_rv.pdf(to_fill), alpha=0.5, color='green')"
   ]
  },
  {
   "cell_type": "code",
   "execution_count": 13,
   "metadata": {
    "colab": {
     "base_uri": "https://localhost:8080/"
    },
    "id": "9q0058LcsFKz",
    "outputId": "01127550-2619-4228-8225-b9c51dc361c6"
   },
   "outputs": [
    {
     "data": {
      "text/plain": [
       "0.058440944333451476"
      ]
     },
     "execution_count": 13,
     "metadata": {},
     "output_type": "execute_result"
    }
   ],
   "source": [
    "norm_rv.pdf(-1.96)"
   ]
  },
  {
   "cell_type": "markdown",
   "metadata": {
    "id": "FyryheNiUpkq"
   },
   "source": [
    "Оценка эта неточная, и не всегда нам нужно именно 0.95 вероятностной массы. \n",
    "\n",
    "В общем случае работают с квантилями"
   ]
  },
  {
   "cell_type": "code",
   "execution_count": 14,
   "metadata": {
    "colab": {
     "base_uri": "https://localhost:8080/"
    },
    "id": "6BVgAyBYVAba",
    "outputId": "6bf3c9df-1b9d-4ff1-fbd8-843e9bc8e238"
   },
   "outputs": [
    {
     "data": {
      "text/plain": [
       "-0.6744897501960817"
      ]
     },
     "execution_count": 14,
     "metadata": {},
     "output_type": "execute_result"
    }
   ],
   "source": [
    "norm_rv.ppf(0.25)"
   ]
  },
  {
   "cell_type": "code",
   "execution_count": 15,
   "metadata": {
    "colab": {
     "base_uri": "https://localhost:8080/",
     "height": 282
    },
    "id": "7lDzZnecU0AA",
    "outputId": "84be47d9-723a-49fc-cc4f-90877781eeb6"
   },
   "outputs": [
    {
     "data": {
      "text/plain": [
       "<matplotlib.collections.PolyCollection at 0x7fcddccaf700>"
      ]
     },
     "execution_count": 15,
     "metadata": {},
     "output_type": "execute_result"
    },
    {
     "data": {
      "image/png": "[encoded data removed]",
      "text/plain": [
       "<Figure size 432x288 with 1 Axes>"
      ]
     },
     "metadata": {
      "needs_background": "light"
     },
     "output_type": "display_data"
    }
   ],
   "source": [
    "alpha = 0.05\n",
    "pdf = norm_rv.pdf(x)\n",
    "plt.plot(x, pdf, label='теоретическая плотность', alpha=0.5)\n",
    "q_a = norm_rv.ppf(alpha/2)\n",
    "q_b = norm_rv.ppf(1-alpha/2)\n",
    "to_fill = np.linspace(q_a, q_b, 100)\n",
    "plt.fill_between(to_fill, norm_rv.pdf(to_fill), alpha=0.5, color='green')"
   ]
  },
  {
   "cell_type": "markdown",
   "metadata": {
    "id": "e1ffy4vDV2TW"
   },
   "source": [
    "Теперь, если мы хотим найти такой интервал в котором с вероятностью 95% окажется реализация нашей случайной величины, нам лишь нужно найти соответствующие квантили $X_{\\frac{\\alpha}{2}}$ и $X_{1-\\frac{\\alpha}{2}}$."
   ]
  },
  {
   "cell_type": "markdown",
   "metadata": {
    "id": "cs5LfPUKW_8y"
   },
   "source": [
    "Такой интервал можем найти для произвольно распределенной случайной величины\n",
    "\n",
    "В частности, для нормально распределенной случайной величины\n",
    "$$\\mathbf{P}(\\mu - \\zeta_{1-\\frac{\\alpha}{2}} \\sigma \\leq X \\leq \\mu + \\zeta_{1-\\frac{\\alpha}{2}} \\sigma) = 1-\\alpha$$\n",
    "\n",
    "$\\zeta_{\\alpha}$ будем обозначать квантиль порядка $\\alpha$ стандартного нормального распределения (то-есть распределения $N(0,1)$). Тут мы воспользовались тем, что $\\zeta_{\\frac{\\alpha}{2}} = - \\zeta_{1-\\frac{\\alpha}{2}}$\n",
    "\n",
    "$ \\zeta_{0.975} \\approx 1.95996 \\approx 2$\n",
    "\n"
   ]
  },
  {
   "cell_type": "markdown",
   "metadata": {
    "id": "vAH-RrbsaHUU"
   },
   "source": [
    "**Предсказательный интервал оценивает диапазон значений**"
   ]
  },
  {
   "cell_type": "markdown",
   "metadata": {
    "id": "e1BULYLpPq5R"
   },
   "source": [
    "### Доверительный интервал\n",
    "Точечные оценки параметров это уже что-то, но также представляет интерес и то, в каком диапазоне изменяются оцениваемые параметры, например, средние значения.\n",
    "\n",
    "Отвечают на вопрос **в каком диапазоне скорее всего лежит оцениваемый параметр**\n",
    "\n"
   ]
  },
  {
   "cell_type": "markdown",
   "metadata": {
    "id": "OLQI3Rpqboj6"
   },
   "source": [
    "Например, снова возьмем выборку из нормального распределения $X^n = (X_1, \\dotso, X_n),\\ X \\sim \\mathbf{N}(\\mu, \\sigma^2)$\n",
    "\n",
    "Пусть нам известна дисперсия, т.е $\\sigma^2$. Тогда по [свойствам](http://www.machinelearning.ru/wiki/index.php?title=%D0%9D%D0%BE%D1%80%D0%BC%D0%B0%D0%BB%D1%8C%D0%BD%D0%BE%D0%B5_%D1%80%D0%B0%D1%81%D0%BF%D1%80%D0%B5%D0%B4%D0%B5%D0%BB%D0%B5%D0%BD%D0%B8%D0%B5) нормального распределения получаем $\\sum_{i=1}^{n} X_i \\sim \\mathbf{N}(n\\mu, n\\sigma^2) \\rightarrow \\frac{\\sum_{i=1}^{n} X_i}{n} = \\overline{X_n} \\sim \\mathbf{N}(\\mu, \\frac{\\sigma^2}{n})$\n",
    "\n",
    "По формуле для предсказательного интервала получаем $$\\mathbf{P}(\\mu - \\zeta_{1-\\frac{\\alpha}{2}} \\frac{\\sigma}{\\sqrt{n}} \\leq \\overline{X_n} \\leq \\mu + \\zeta_{1-\\frac{\\alpha}{2}} \\frac{\\sigma}{\\sqrt{n}}) = 1-\\alpha$$\n",
    "\n",
    "Теперь, переносим $\\overline{X_n}$ и $\\mu$ в неравенствах, и получаем доверительный интервал для $\\mu$\n",
    "\n",
    "$$\\mathbf{P}(\\overline{X_n} - \\zeta_{1-\\frac{\\alpha}{2}} \\frac{\\sigma}{\\sqrt{n}} \\leq \\mu \\leq \\overline{X_n} + \\zeta_{1-\\frac{\\alpha}{2}} \\frac{\\sigma}{\\sqrt{n}}) = 1-\\alpha$$"
   ]
  },
  {
   "cell_type": "code",
   "execution_count": 3,
   "metadata": {
    "colab": {
     "base_uri": "https://localhost:8080/"
    },
    "id": "5wbYENCRsZXM",
    "outputId": "45a4ced4-06f2-4dae-fdfa-71c9ac60c1df"
   },
   "outputs": [
    {
     "name": "stdout",
     "output_type": "stream",
     "text": [
      "Интервал для N 10 13.407 ... 21.773\n",
      "Интервал для N 50 8.426 ... 12.168\n",
      "Интервал для N 100 7.267 ... 9.912\n",
      "Интервал для N 100000 5.073 ... 5.157\n"
     ]
    },
    {
     "data": {
      "image/png": "[encoded data removed]",
      "text/plain": [
       "<Figure size 432x288 with 1 Axes>"
      ]
     },
     "metadata": {
      "needs_background": "light"
     },
     "output_type": "display_data"
    }
   ],
   "source": [
    "# Задание, \n",
    "# 1) сгенерируйте 10, 50, 100 примеров из нормального распределения с произвольными мат ожиданием и дисперсией\n",
    "# 2) Постройте по формуле интервал с alpha = 0.05\n",
    "# ваш код тут\n",
    "mu = 5\n",
    "sigma = 7\n",
    "norm_rv = sts.norm(mu, sigma)\n",
    "alpha = 0.05\n",
    "N = [10, 50, 100, 100000]\n",
    "#colors = ['cyan', \"purple\", \"orange\", \"yellow\"]\n",
    "for n in N:\n",
    "    sample = np.linspace(-15, 23, n)\n",
    "    pdf = norm_rv.pdf(sample)\n",
    "    plt.plot(sample, pdf, alpha = .6)\n",
    "    q_a_m = norm_rv.ppf(alpha/2)\n",
    "    q_a_p = norm_rv.ppf(1 - alpha/2)\n",
    "    to_fill = np.linspace(q_a_m, q_a_p, 100)\n",
    "    plt.fill_between(to_fill, norm_rv.pdf(to_fill), alpha = 1/n)\n",
    "    plt.legend([\" \".join((\"N=\", str(n))) for n in N])\n",
    "    print (\"Интервал для N %.f %.3f ... %.3f\" % (n, sample[np.argmax(pdf)] - q_a_m * np.sqrt(sigma/n) ,\n",
    "                                                sample[np.argmax(pdf)] + q_a_p * np.sqrt(sigma/n)))"
   ]
  },
  {
   "cell_type": "markdown",
   "metadata": {
    "id": "iOIhq23ksa_x"
   },
   "source": [
    "Случай известной дисперсии как правило встречается для измерительных приборов, когда нам известная его погрешность.\n",
    "\n",
    "Есть метод, позволяющий построить доверительный интервал и для такого случая. Разница будет лишь в том, что вместо выборочной дисперсии будет взята выборочная дисперсия, а вместо квантилей стандартного нормального распределения используют квантили распределения Стьюдента (согласно которой распределена так называемая t-статистика)"
   ]
  },
  {
   "cell_type": "markdown",
   "metadata": {
    "id": "OmAyt9Q1bzh5"
   },
   "source": [
    "Но что делать, если распределение отлично от нормального или это доподлино неизвестно?\n",
    "\n",
    "\n",
    "К счастью...\n"
   ]
  },
  {
   "cell_type": "markdown",
   "metadata": {
    "id": "LOh4CdTWF3vs"
   },
   "source": [
    "## Центральная предельная теорема"
   ]
  },
  {
   "cell_type": "code",
   "execution_count": 17,
   "metadata": {},
   "outputs": [
    {
     "data": {
      "image/png": "[encoded data removed]",
      "text/plain": [
       "<Figure size 432x288 with 1 Axes>"
      ]
     },
     "metadata": {
      "needs_background": "light"
     },
     "output_type": "display_data"
    }
   ],
   "source": [
    "p=.23\n",
    "ber_rv = sts.bernoulli(p)\n",
    "ber_rv.rvs(20)\n",
    "N = 50\n",
    "NN = 100000\n",
    "# сгенерируем много выборочных средних\n",
    "means = []\n",
    "for i in range(NN):\n",
    "    means.append(np.mean(ber_rv.rvs(N)))\n",
    "plt.hist(means, density=True, bins='auto');"
   ]
  },
  {
   "cell_type": "code",
   "execution_count": 18,
   "metadata": {
    "colab": {
     "base_uri": "https://localhost:8080/"
    },
    "id": "_HWg2Ul-F7jk",
    "outputId": "057636cc-873f-4d68-f158-9a0071be6ac5"
   },
   "outputs": [
    {
     "data": {
      "text/plain": [
       "array([2.2054241 , 1.6691493 , 3.4749784 , 2.77872414, 2.43390916,\n",
       "       2.84039908, 2.62505029, 2.12084977, 2.15453019, 1.62600558])"
      ]
     },
     "execution_count": 18,
     "metadata": {},
     "output_type": "execute_result"
    }
   ],
   "source": [
    "a = 1\n",
    "b = 4\n",
    "\n",
    "# обратите внимание, что в этой функции задается левая граница и масштаб, а не левая и правая границы:\n",
    "uniform_rv = sts.uniform(a, b-a)\n",
    "\n",
    "uniform_rv.rvs(10)"
   ]
  },
  {
   "cell_type": "code",
   "execution_count": 19,
   "metadata": {
    "id": "pvuyXniYGMeE"
   },
   "outputs": [],
   "source": [
    "N = 222\n",
    "# сгенерируем много выборочных средних\n",
    "means = []\n",
    "for i in range(1000):\n",
    "    means.append(np.mean(uniform_rv.rvs(N)))"
   ]
  },
  {
   "cell_type": "code",
   "execution_count": 20,
   "metadata": {
    "colab": {
     "base_uri": "https://localhost:8080/",
     "height": 726
    },
    "id": "aU_S5A5VqnpL",
    "outputId": "8a8e7d78-7f4e-4c5c-9610-5a18639033f9"
   },
   "outputs": [
    {
     "data": {
      "text/plain": [
       "(array([0.06530342, 0.06530342, 0.3265171 , 0.71833762, 1.11015814,\n",
       "        1.82849577, 3.06926075, 3.65699153, 5.55079072, 6.00791466,\n",
       "        6.00791466, 7.37928649, 6.33443176, 5.94261124, 5.61609414,\n",
       "        3.65699153, 3.13456417, 1.63258551, 1.37137182, 0.71833762,\n",
       "        0.58773078, 0.13060684, 0.13060684, 0.06530342, 0.13060684,\n",
       "        0.06530342]),\n",
       " array([2.31972107, 2.3350342 , 2.35034734, 2.36566047, 2.3809736 ,\n",
       "        2.39628674, 2.41159987, 2.426913  , 2.44222614, 2.45753927,\n",
       "        2.47285241, 2.48816554, 2.50347867, 2.51879181, 2.53410494,\n",
       "        2.54941807, 2.56473121, 2.58004434, 2.59535747, 2.61067061,\n",
       "        2.62598374, 2.64129688, 2.65661001, 2.67192314, 2.68723628,\n",
       "        2.70254941, 2.71786254]),\n",
       " <BarContainer object of 26 artists>)"
      ]
     },
     "execution_count": 20,
     "metadata": {},
     "output_type": "execute_result"
    },
    {
     "data": {
      "image/png": "[encoded data removed]",
      "text/plain": [
       "<Figure size 432x288 with 1 Axes>"
      ]
     },
     "metadata": {
      "needs_background": "light"
     },
     "output_type": "display_data"
    }
   ],
   "source": [
    "plt.hist(means, density=True, bins='auto')"
   ]
  },
  {
   "cell_type": "code",
   "execution_count": 21,
   "metadata": {
    "colab": {
     "base_uri": "https://localhost:8080/",
     "height": 537
    },
    "id": "cj7esASVr_ok",
    "outputId": "bdd73248-603b-4d80-9924-2fd5f84ed6ba"
   },
   "outputs": [
    {
     "data": {
      "image/png": "[encoded data removed]",
      "text/plain": [
       "<Figure size 1152x648 with 1 Axes>"
      ]
     },
     "metadata": {
      "needs_background": "light"
     },
     "output_type": "display_data"
    }
   ],
   "source": [
    "plt.figure(figsize=(16,9))\n",
    "# сгенерируем много выборочных средних\n",
    "for N in [10, 100, 1000, 10000]:\n",
    "    means = []\n",
    "    for i in range(1000):\n",
    "         means.append(np.mean(uniform_rv.rvs(N)))\n",
    "    plt.hist(means, alpha=0.5)\n",
    "\n",
    "plt.legend(['10', '100', '1000', '10000'])\n",
    "plt.show()"
   ]
  },
  {
   "cell_type": "code",
   "execution_count": null,
   "metadata": {
    "id": "Cz3Dp2SEy1L_"
   },
   "outputs": [],
   "source": []
  },
  {
   "cell_type": "code",
   "execution_count": 22,
   "metadata": {
    "id": "rfCJy33ZUYoy"
   },
   "outputs": [],
   "source": [
    "N = 30\n",
    "# сгенерируем много выборочных средних\n",
    "means = []\n",
    "for i in range(1000):\n",
    "    means.append(np.mean(uniform_rv.rvs(N)))\n",
    "\n",
    "means = np.array(means).astype(np.float32)"
   ]
  },
  {
   "cell_type": "code",
   "execution_count": 23,
   "metadata": {
    "colab": {
     "base_uri": "https://localhost:8080/"
    },
    "id": "Z4NWkc2QUYmA",
    "outputId": "480f76f4-4e2e-46cb-b4f5-e704b0d3e9c9"
   },
   "outputs": [
    {
     "data": {
      "text/plain": [
       "2.5"
      ]
     },
     "execution_count": 23,
     "metadata": {},
     "output_type": "execute_result"
    }
   ],
   "source": [
    "uniform_rv.mean()"
   ]
  },
  {
   "cell_type": "code",
   "execution_count": 24,
   "metadata": {
    "colab": {
     "base_uri": "https://localhost:8080/"
    },
    "id": "pxwM0gmUAwnP",
    "outputId": "0077225a-9e9d-41b2-cc20-44e2d1c6534a"
   },
   "outputs": [
    {
     "data": {
      "text/plain": [
       "0.75"
      ]
     },
     "execution_count": 24,
     "metadata": {},
     "output_type": "execute_result"
    }
   ],
   "source": [
    "uniform_rv.var()"
   ]
  },
  {
   "cell_type": "code",
   "execution_count": 25,
   "metadata": {
    "colab": {
     "base_uri": "https://localhost:8080/"
    },
    "id": "oeJqs2HAUx_V",
    "outputId": "5282eae5-3883-421c-9753-3e54cf8a3e2d"
   },
   "outputs": [
    {
     "data": {
      "text/plain": [
       "0.8660254037844386"
      ]
     },
     "execution_count": 25,
     "metadata": {},
     "output_type": "execute_result"
    }
   ],
   "source": [
    "uniform_rv.std()"
   ]
  },
  {
   "cell_type": "code",
   "execution_count": 34,
   "metadata": {
    "colab": {
     "base_uri": "https://localhost:8080/",
     "height": 283
    },
    "id": "ebIBQt20Uoq9",
    "outputId": "028fc9cb-aecc-4636-f970-21c450621274"
   },
   "outputs": [
    {
     "data": {
      "text/plain": [
       "[]"
      ]
     },
     "execution_count": 34,
     "metadata": {},
     "output_type": "execute_result"
    },
    {
     "data": {
      "image/png": "[encoded data removed]",
      "text/plain": [
       "<Figure size 432x288 with 1 Axes>"
      ]
     },
     "metadata": {
      "needs_background": "light"
     },
     "output_type": "display_data"
    }
   ],
   "source": [
    "norm_rv = sts.norm(loc=uniform_rv.mean(), scale=uniform_rv.std() / np.sqrt(N))\n",
    "plt.hist(means, density=True, bins=40)\n",
    "x = np.linspace(1,4, 100)\n",
    "pdf = norm_rv.pdf(x)\n",
    "plt.plot(x, pdf, label='Теоретическая плотность', alpha=0.5)\n",
    "plt.legend()\n",
    "plt.plot()"
   ]
  },
  {
   "cell_type": "code",
   "execution_count": 37,
   "metadata": {
    "colab": {
     "base_uri": "https://localhost:8080/"
    },
    "id": "ccKqRmK1gsKN",
    "outputId": "2ce29162-4501-496f-f0ad-6e7eb5da1b11"
   },
   "outputs": [
    {
     "name": "stdout",
     "output_type": "stream",
     "text": [
      "Доверительный интервал для среднего по цпт, если нам известна дисперсия: [2.0511470529454687, 2.6709534743384706] \n",
      "Доверительный интервал для среднего по цпт интервальная оценка: (2.0250221982661434, 2.697078329017796) \n",
      "Доверительный интервал для среднего по цпт методом _zconfint_generic: (2.30216554911224, 2.4199349781716992) \n"
     ]
    }
   ],
   "source": [
    "data = uniform_rv.rvs(N)\n",
    "print(\"Доверительный интервал для среднего по цпт, если нам известна дисперсия: [{}, {}] \".format(\n",
    "    np.mean(data) - 1.96 * uniform_rv.std() / np.sqrt(N), np.mean(data) + 1.96 * uniform_rv.std() / np.sqrt(N) \n",
    "))\n",
    "print(\"Доверительный интервал для среднего по цпт интервальная оценка: {} \".format(\n",
    "    sts.norm.interval(alpha=0.95, loc=np.mean(data), \n",
    "                      scale=np.std(data, ddof=1)/np.sqrt(N)) # alternative 'two-sided' only\n",
    "))\n",
    "\n",
    "print(\"Доверительный интервал для среднего по цпт методом _zconfint_generic: {} \".format(\n",
    "    ssw._zconfint_generic(np.mean(data),  np.std(data, ddof=1), alpha=0.95, alternative='two-sided')\n",
    "))"
   ]
  },
  {
   "cell_type": "markdown",
   "metadata": {
    "id": "JxyEqHudzTvz"
   },
   "source": [
    "#### То же и для дискретных, посмотрим на примере биномиального распределения"
   ]
  },
  {
   "cell_type": "code",
   "execution_count": 66,
   "metadata": {
    "colab": {
     "base_uri": "https://localhost:8080/"
    },
    "id": "ibwXLXINzYo2",
    "outputId": "757290d6-7829-45a9-bc73-7e461da83d78"
   },
   "outputs": [
    {
     "data": {
      "text/plain": [
       "array([ 8, 12,  8,  8,  6,  7,  8,  6,  8,  9])"
      ]
     },
     "execution_count": 66,
     "metadata": {},
     "output_type": "execute_result"
    }
   ],
   "source": [
    "binomial_rv = sts.binom(20, 0.4)\n",
    "binomial_rv.rvs(10)\n",
    "\n",
    "# мат ожидание np = 20*0.4 = 8\n",
    "# дисперсия npq = np(1-p) = 20*0.4*0.6 = 8 * 0.6 = 4.8"
   ]
  },
  {
   "cell_type": "code",
   "execution_count": 67,
   "metadata": {
    "colab": {
     "base_uri": "https://localhost:8080/",
     "height": 296
    },
    "id": "CoYZ7SDDzorr",
    "outputId": "2d2c3757-cce2-45e2-eb56-bcb08b2b06d6"
   },
   "outputs": [
    {
     "data": {
      "text/plain": [
       "Text(0.5, 0, '$x$')"
      ]
     },
     "execution_count": 67,
     "metadata": {},
     "output_type": "execute_result"
    },
    {
     "data": {
      "image/png": "[encoded data removed]",
      "text/plain": [
       "<Figure size 432x288 with 1 Axes>"
      ]
     },
     "metadata": {
      "needs_background": "light"
     },
     "output_type": "display_data"
    }
   ],
   "source": [
    "x = np.linspace(0,20,21)\n",
    "pmf = binomial_rv.pmf(x)\n",
    "plt.plot(x, pmf, 'o')\n",
    "\n",
    "plt.ylabel('$P(X=x)$')\n",
    "plt.xlabel('$x$')"
   ]
  },
  {
   "cell_type": "code",
   "execution_count": 68,
   "metadata": {
    "colab": {
     "base_uri": "https://localhost:8080/",
     "height": 537
    },
    "id": "wDRJyTaEzxvt",
    "outputId": "045ae779-01a3-4f38-be6d-128c263f411a"
   },
   "outputs": [
    {
     "data": {
      "image/png": "[encoded data removed]",
      "text/plain": [
       "<Figure size 1152x648 with 1 Axes>"
      ]
     },
     "metadata": {
      "needs_background": "light"
     },
     "output_type": "display_data"
    }
   ],
   "source": [
    "plt.figure(figsize=(16,9))\n",
    "# сгенерируем много выборочных средних\n",
    "for N in [10, 20, 50, 100]:\n",
    "    means = []\n",
    "    for i in range(1000):\n",
    "         means.append(np.mean(binomial_rv.rvs(N)))\n",
    "    plt.hist(means, alpha=0.5)\n",
    "\n",
    "plt.legend(['10', '100', '1000', '10000'])\n",
    "plt.show()"
   ]
  },
  {
   "cell_type": "markdown",
   "metadata": {
    "id": "ACZdnVgnvph3"
   },
   "source": [
    "### Всегда ли ЦПТ хорошо работает?\n",
    "Вообще в полной формулировке есть формальные требования, определяющие границы применимости данной теоремы. Но пока что, будем говорить, что применять ЦПТ можно, если кол-во примеров по крайней мере пара десятков (30-50), и само распределение случайно величины $X$ не является явно ассимметричным (\"скошенным\")"
   ]
  },
  {
   "cell_type": "markdown",
   "metadata": {
    "id": "Uzode7W90b1Y"
   },
   "source": [
    "#### Попробуем уменьшить вероятность успеха в серии n независимых испытаний, тем самым, сделаем наше распределение успехов несколько более ассиметричным"
   ]
  },
  {
   "cell_type": "code",
   "execution_count": 69,
   "metadata": {
    "colab": {
     "base_uri": "https://localhost:8080/"
    },
    "id": "RJ9S7Zlx0hUB",
    "outputId": "407d4eab-e296-43e2-c466-cf010841b091"
   },
   "outputs": [
    {
     "data": {
      "text/plain": [
       "array([0, 0, 1, 0, 0, 0, 0, 0, 0, 0])"
      ]
     },
     "execution_count": 69,
     "metadata": {},
     "output_type": "execute_result"
    }
   ],
   "source": [
    "binomial_rv = sts.binom(20, 0.01)\n",
    "binomial_rv.rvs(10)"
   ]
  },
  {
   "cell_type": "code",
   "execution_count": 70,
   "metadata": {
    "colab": {
     "base_uri": "https://localhost:8080/",
     "height": 296
    },
    "id": "tbc3AuNx0mYO",
    "outputId": "2928d61e-8bd6-4a42-a1aa-67a38bc1a4fc"
   },
   "outputs": [
    {
     "data": {
      "text/plain": [
       "Text(0.5, 0, '$x$')"
      ]
     },
     "execution_count": 70,
     "metadata": {},
     "output_type": "execute_result"
    },
    {
     "data": {
      "image/png": "[encoded data removed]",
      "text/plain": [
       "<Figure size 432x288 with 1 Axes>"
      ]
     },
     "metadata": {
      "needs_background": "light"
     },
     "output_type": "display_data"
    }
   ],
   "source": [
    "x = np.linspace(0,20,21)\n",
    "pmf = binomial_rv.pmf(x)\n",
    "plt.plot(x, pmf, 'o')\n",
    "plt.ylabel('$P(X=x)$')\n",
    "plt.xlabel('$x$')"
   ]
  },
  {
   "cell_type": "code",
   "execution_count": 71,
   "metadata": {
    "colab": {
     "base_uri": "https://localhost:8080/",
     "height": 537
    },
    "id": "q7vvun5W0tw2",
    "outputId": "19635b92-844a-4669-a3b0-d258c6d499d1"
   },
   "outputs": [
    {
     "data": {
      "image/png": "[encoded data removed]",
      "text/plain": [
       "<Figure size 1152x648 with 1 Axes>"
      ]
     },
     "metadata": {
      "needs_background": "light"
     },
     "output_type": "display_data"
    }
   ],
   "source": [
    "plt.figure(figsize=(16,9))\n",
    "# сгенерируем много выборочных средних\n",
    "for N in [10, 20, 50, 100]:\n",
    "    means = []\n",
    "    for i in range(1000):\n",
    "        means.append(np.mean(binomial_rv.rvs(N)))\n",
    "    plt.hist(means, alpha=0.5)\n",
    "\n",
    "plt.legend(['10', '100', '1000', '10000'])\n",
    "plt.show()"
   ]
  },
  {
   "cell_type": "code",
   "execution_count": null,
   "metadata": {
    "id": "Sdjwf7cqeo3m"
   },
   "outputs": [],
   "source": []
  },
  {
   "cell_type": "code",
   "execution_count": null,
   "metadata": {
    "id": "bD_bDQNQnhhJ"
   },
   "outputs": [],
   "source": []
  }
 ],
 "metadata": {
  "colab": {
   "collapsed_sections": [],
   "name": "master.ipynb",
   "provenance": []
  },
  "kernelspec": {
   "display_name": "Python 3",
   "language": "python",
   "name": "python3"
  },
  "language_info": {
   "codemirror_mode": {
    "name": "ipython",
    "version": 3
   },
   "file_extension": ".py",
   "mimetype": "text/x-python",
   "name": "python",
   "nbconvert_exporter": "python",
   "pygments_lexer": "ipython3",
   "version": "3.8.5"
  }
 },
 "nbformat": 4,
 "nbformat_minor": 4
}
